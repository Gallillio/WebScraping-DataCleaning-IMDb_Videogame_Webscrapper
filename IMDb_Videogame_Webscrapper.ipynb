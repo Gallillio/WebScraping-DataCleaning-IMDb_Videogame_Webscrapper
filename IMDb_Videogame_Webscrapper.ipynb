{
 "cells": [
  {
   "cell_type": "code",
   "execution_count": 1,
   "id": "ea76f513",
   "metadata": {},
   "outputs": [],
   "source": [
    "import numpy as np\n",
    "import pandas as pd\n",
    "# pd.options.mode.chained_assignment = None  # default='warn'\n",
    "import re\n",
    "\n",
    "from bs4 import BeautifulSoup\n",
    "import requests\n",
    "import time\n",
    "from selenium import webdriver\n",
    "from selenium.webdriver.common.by import By\n",
    "from selenium.webdriver.common.keys import Keys\n",
    "from urllib import request,response"
   ]
  },
  {
   "cell_type": "markdown",
   "id": "b964d731",
   "metadata": {},
   "source": [
    "# ***********************************PLEASE READ***********************************\n",
    "#### This will open an extra chrome tab just used to parse some of the data that I couldnt get normally from the website directly because it parsed back \"None\" Values for some elements even though it existed, therefor I couldn't get all the data I wanted to collect for this project. the chrome tab allows me read those without restrictions and it solves the \"None\" Value problem\n",
    "\n",
    "## IMPORTANT: \n",
    "### 1) Please dont close the tab or the project will break, you can close the tab when you stop running the code.\n",
    "### 2) If you wish, you can rerun the code and it will go scrap the website again and update the dataframe incase new games have been added since the creation of this project."
   ]
  },
  {
   "cell_type": "markdown",
   "id": "4086f986",
   "metadata": {},
   "source": [
    "--------------------------------------------------------------------------\n",
    "<h3> 1. Web scrapping to collect the Data"
   ]
  },
  {
   "cell_type": "code",
   "execution_count": 51,
   "id": "e53f2dc2",
   "metadata": {
    "scrolled": true
   },
   "outputs": [
    {
     "name": "stderr",
     "output_type": "stream",
     "text": [
      "D:\\Anaconda\\lib\\site-packages\\pandas\\core\\dtypes\\cast.py:948: VisibleDeprecationWarning: Creating an ndarray from ragged nested sequences (which is a list-or-tuple of lists-or-tuples-or ndarrays with different lengths or shapes) is deprecated. If you meant to do this, you must specify 'dtype=object' when creating the ndarray.\n",
      "  element = np.asarray(element)\n"
     ]
    },
    {
     "name": "stdout",
     "output_type": "stream",
     "text": [
      "https://www.imdb.com//search/title/?title_type=video_game&sort=user_rating,desc&start=51&ref_=adv_nxt\n",
      "https://www.imdb.com//search/title/?title_type=video_game&sort=user_rating,desc&start=101&ref_=adv_nxt\n",
      "https://www.imdb.com//search/title/?title_type=video_game&sort=user_rating,desc&start=151&ref_=adv_nxt\n",
      "https://www.imdb.com//search/title/?title_type=video_game&sort=user_rating,desc&start=201&ref_=adv_nxt\n",
      "https://www.imdb.com//search/title/?title_type=video_game&sort=user_rating,desc&start=251&ref_=adv_nxt\n",
      "https://www.imdb.com//search/title/?title_type=video_game&sort=user_rating,desc&start=301&ref_=adv_nxt\n",
      "https://www.imdb.com//search/title/?title_type=video_game&sort=user_rating,desc&start=351&ref_=adv_nxt\n",
      "https://www.imdb.com//search/title/?title_type=video_game&sort=user_rating,desc&start=401&ref_=adv_nxt\n",
      "https://www.imdb.com//search/title/?title_type=video_game&sort=user_rating,desc&start=451&ref_=adv_nxt\n",
      "https://www.imdb.com//search/title/?title_type=video_game&sort=user_rating,desc&start=501&ref_=adv_nxt\n"
     ]
    },
    {
     "ename": "KeyboardInterrupt",
     "evalue": "",
     "output_type": "error",
     "traceback": [
      "\u001b[1;31m---------------------------------------------------------------------------\u001b[0m",
      "\u001b[1;31mKeyboardInterrupt\u001b[0m                         Traceback (most recent call last)",
      "\u001b[1;32m~\\AppData\\Local\\Temp/ipykernel_10188/1040790090.py\u001b[0m in \u001b[0;36m<module>\u001b[1;34m\u001b[0m\n\u001b[0;32m    168\u001b[0m         \u001b[1;31m#replaces old url to completed_next_page_url\u001b[0m\u001b[1;33m\u001b[0m\u001b[1;33m\u001b[0m\u001b[0m\n\u001b[0;32m    169\u001b[0m         \u001b[0murl\u001b[0m \u001b[1;33m=\u001b[0m \u001b[0mcompleted_next_page_url\u001b[0m\u001b[1;33m\u001b[0m\u001b[1;33m\u001b[0m\u001b[0m\n\u001b[1;32m--> 170\u001b[1;33m         \u001b[0mdriver\u001b[0m\u001b[1;33m.\u001b[0m\u001b[0mget\u001b[0m\u001b[1;33m(\u001b[0m\u001b[0murl\u001b[0m\u001b[1;33m)\u001b[0m\u001b[1;33m\u001b[0m\u001b[1;33m\u001b[0m\u001b[0m\n\u001b[0m\u001b[0;32m    171\u001b[0m         \u001b[0mcontent\u001b[0m \u001b[1;33m=\u001b[0m \u001b[0mdriver\u001b[0m\u001b[1;33m.\u001b[0m\u001b[0mpage_source\u001b[0m\u001b[1;33m.\u001b[0m\u001b[0mencode\u001b[0m\u001b[1;33m(\u001b[0m\u001b[1;34m'utf-8'\u001b[0m\u001b[1;33m)\u001b[0m\u001b[1;33m.\u001b[0m\u001b[0mstrip\u001b[0m\u001b[1;33m(\u001b[0m\u001b[1;33m)\u001b[0m\u001b[1;33m\u001b[0m\u001b[1;33m\u001b[0m\u001b[0m\n\u001b[0;32m    172\u001b[0m \u001b[1;33m\u001b[0m\u001b[0m\n",
      "\u001b[1;32mD:\\Anaconda\\lib\\site-packages\\selenium\\webdriver\\remote\\webdriver.py\u001b[0m in \u001b[0;36mget\u001b[1;34m(self, url)\u001b[0m\n\u001b[0;32m    447\u001b[0m     \u001b[1;32mdef\u001b[0m \u001b[0mget\u001b[0m\u001b[1;33m(\u001b[0m\u001b[0mself\u001b[0m\u001b[1;33m,\u001b[0m \u001b[0murl\u001b[0m\u001b[1;33m:\u001b[0m \u001b[0mstr\u001b[0m\u001b[1;33m)\u001b[0m \u001b[1;33m->\u001b[0m \u001b[1;32mNone\u001b[0m\u001b[1;33m:\u001b[0m\u001b[1;33m\u001b[0m\u001b[1;33m\u001b[0m\u001b[0m\n\u001b[0;32m    448\u001b[0m         \u001b[1;34m\"\"\"Loads a web page in the current browser session.\"\"\"\u001b[0m\u001b[1;33m\u001b[0m\u001b[1;33m\u001b[0m\u001b[0m\n\u001b[1;32m--> 449\u001b[1;33m         \u001b[0mself\u001b[0m\u001b[1;33m.\u001b[0m\u001b[0mexecute\u001b[0m\u001b[1;33m(\u001b[0m\u001b[0mCommand\u001b[0m\u001b[1;33m.\u001b[0m\u001b[0mGET\u001b[0m\u001b[1;33m,\u001b[0m \u001b[1;33m{\u001b[0m\u001b[1;34m\"url\"\u001b[0m\u001b[1;33m:\u001b[0m \u001b[0murl\u001b[0m\u001b[1;33m}\u001b[0m\u001b[1;33m)\u001b[0m\u001b[1;33m\u001b[0m\u001b[1;33m\u001b[0m\u001b[0m\n\u001b[0m\u001b[0;32m    450\u001b[0m \u001b[1;33m\u001b[0m\u001b[0m\n\u001b[0;32m    451\u001b[0m     \u001b[1;33m@\u001b[0m\u001b[0mproperty\u001b[0m\u001b[1;33m\u001b[0m\u001b[1;33m\u001b[0m\u001b[0m\n",
      "\u001b[1;32mD:\\Anaconda\\lib\\site-packages\\selenium\\webdriver\\remote\\webdriver.py\u001b[0m in \u001b[0;36mexecute\u001b[1;34m(self, driver_command, params)\u001b[0m\n\u001b[0;32m    436\u001b[0m                 \u001b[0mparams\u001b[0m\u001b[1;33m[\u001b[0m\u001b[1;34m\"sessionId\"\u001b[0m\u001b[1;33m]\u001b[0m \u001b[1;33m=\u001b[0m \u001b[0mself\u001b[0m\u001b[1;33m.\u001b[0m\u001b[0msession_id\u001b[0m\u001b[1;33m\u001b[0m\u001b[1;33m\u001b[0m\u001b[0m\n\u001b[0;32m    437\u001b[0m \u001b[1;33m\u001b[0m\u001b[0m\n\u001b[1;32m--> 438\u001b[1;33m         \u001b[0mresponse\u001b[0m \u001b[1;33m=\u001b[0m \u001b[0mself\u001b[0m\u001b[1;33m.\u001b[0m\u001b[0mcommand_executor\u001b[0m\u001b[1;33m.\u001b[0m\u001b[0mexecute\u001b[0m\u001b[1;33m(\u001b[0m\u001b[0mdriver_command\u001b[0m\u001b[1;33m,\u001b[0m \u001b[0mparams\u001b[0m\u001b[1;33m)\u001b[0m\u001b[1;33m\u001b[0m\u001b[1;33m\u001b[0m\u001b[0m\n\u001b[0m\u001b[0;32m    439\u001b[0m         \u001b[1;32mif\u001b[0m \u001b[0mresponse\u001b[0m\u001b[1;33m:\u001b[0m\u001b[1;33m\u001b[0m\u001b[1;33m\u001b[0m\u001b[0m\n\u001b[0;32m    440\u001b[0m             \u001b[0mself\u001b[0m\u001b[1;33m.\u001b[0m\u001b[0merror_handler\u001b[0m\u001b[1;33m.\u001b[0m\u001b[0mcheck_response\u001b[0m\u001b[1;33m(\u001b[0m\u001b[0mresponse\u001b[0m\u001b[1;33m)\u001b[0m\u001b[1;33m\u001b[0m\u001b[1;33m\u001b[0m\u001b[0m\n",
      "\u001b[1;32mD:\\Anaconda\\lib\\site-packages\\selenium\\webdriver\\remote\\remote_connection.py\u001b[0m in \u001b[0;36mexecute\u001b[1;34m(self, command, params)\u001b[0m\n\u001b[0;32m    288\u001b[0m         \u001b[0mdata\u001b[0m \u001b[1;33m=\u001b[0m \u001b[0mutils\u001b[0m\u001b[1;33m.\u001b[0m\u001b[0mdump_json\u001b[0m\u001b[1;33m(\u001b[0m\u001b[0mparams\u001b[0m\u001b[1;33m)\u001b[0m\u001b[1;33m\u001b[0m\u001b[1;33m\u001b[0m\u001b[0m\n\u001b[0;32m    289\u001b[0m         \u001b[0murl\u001b[0m \u001b[1;33m=\u001b[0m \u001b[1;34mf\"{self._url}{path}\"\u001b[0m\u001b[1;33m\u001b[0m\u001b[1;33m\u001b[0m\u001b[0m\n\u001b[1;32m--> 290\u001b[1;33m         \u001b[1;32mreturn\u001b[0m \u001b[0mself\u001b[0m\u001b[1;33m.\u001b[0m\u001b[0m_request\u001b[0m\u001b[1;33m(\u001b[0m\u001b[0mcommand_info\u001b[0m\u001b[1;33m[\u001b[0m\u001b[1;36m0\u001b[0m\u001b[1;33m]\u001b[0m\u001b[1;33m,\u001b[0m \u001b[0murl\u001b[0m\u001b[1;33m,\u001b[0m \u001b[0mbody\u001b[0m\u001b[1;33m=\u001b[0m\u001b[0mdata\u001b[0m\u001b[1;33m)\u001b[0m\u001b[1;33m\u001b[0m\u001b[1;33m\u001b[0m\u001b[0m\n\u001b[0m\u001b[0;32m    291\u001b[0m \u001b[1;33m\u001b[0m\u001b[0m\n\u001b[0;32m    292\u001b[0m     \u001b[1;32mdef\u001b[0m \u001b[0m_request\u001b[0m\u001b[1;33m(\u001b[0m\u001b[0mself\u001b[0m\u001b[1;33m,\u001b[0m \u001b[0mmethod\u001b[0m\u001b[1;33m,\u001b[0m \u001b[0murl\u001b[0m\u001b[1;33m,\u001b[0m \u001b[0mbody\u001b[0m\u001b[1;33m=\u001b[0m\u001b[1;32mNone\u001b[0m\u001b[1;33m)\u001b[0m\u001b[1;33m:\u001b[0m\u001b[1;33m\u001b[0m\u001b[1;33m\u001b[0m\u001b[0m\n",
      "\u001b[1;32mD:\\Anaconda\\lib\\site-packages\\selenium\\webdriver\\remote\\remote_connection.py\u001b[0m in \u001b[0;36m_request\u001b[1;34m(self, method, url, body)\u001b[0m\n\u001b[0;32m    309\u001b[0m \u001b[1;33m\u001b[0m\u001b[0m\n\u001b[0;32m    310\u001b[0m         \u001b[1;32mif\u001b[0m \u001b[0mself\u001b[0m\u001b[1;33m.\u001b[0m\u001b[0mkeep_alive\u001b[0m\u001b[1;33m:\u001b[0m\u001b[1;33m\u001b[0m\u001b[1;33m\u001b[0m\u001b[0m\n\u001b[1;32m--> 311\u001b[1;33m             \u001b[0mresponse\u001b[0m \u001b[1;33m=\u001b[0m \u001b[0mself\u001b[0m\u001b[1;33m.\u001b[0m\u001b[0m_conn\u001b[0m\u001b[1;33m.\u001b[0m\u001b[0mrequest\u001b[0m\u001b[1;33m(\u001b[0m\u001b[0mmethod\u001b[0m\u001b[1;33m,\u001b[0m \u001b[0murl\u001b[0m\u001b[1;33m,\u001b[0m \u001b[0mbody\u001b[0m\u001b[1;33m=\u001b[0m\u001b[0mbody\u001b[0m\u001b[1;33m,\u001b[0m \u001b[0mheaders\u001b[0m\u001b[1;33m=\u001b[0m\u001b[0mheaders\u001b[0m\u001b[1;33m)\u001b[0m\u001b[1;33m\u001b[0m\u001b[1;33m\u001b[0m\u001b[0m\n\u001b[0m\u001b[0;32m    312\u001b[0m             \u001b[0mstatuscode\u001b[0m \u001b[1;33m=\u001b[0m \u001b[0mresponse\u001b[0m\u001b[1;33m.\u001b[0m\u001b[0mstatus\u001b[0m\u001b[1;33m\u001b[0m\u001b[1;33m\u001b[0m\u001b[0m\n\u001b[0;32m    313\u001b[0m         \u001b[1;32melse\u001b[0m\u001b[1;33m:\u001b[0m\u001b[1;33m\u001b[0m\u001b[1;33m\u001b[0m\u001b[0m\n",
      "\u001b[1;32mD:\\Anaconda\\lib\\site-packages\\urllib3\\request.py\u001b[0m in \u001b[0;36mrequest\u001b[1;34m(self, method, url, fields, headers, **urlopen_kw)\u001b[0m\n\u001b[0;32m     76\u001b[0m             )\n\u001b[0;32m     77\u001b[0m         \u001b[1;32melse\u001b[0m\u001b[1;33m:\u001b[0m\u001b[1;33m\u001b[0m\u001b[1;33m\u001b[0m\u001b[0m\n\u001b[1;32m---> 78\u001b[1;33m             return self.request_encode_body(\n\u001b[0m\u001b[0;32m     79\u001b[0m                 \u001b[0mmethod\u001b[0m\u001b[1;33m,\u001b[0m \u001b[0murl\u001b[0m\u001b[1;33m,\u001b[0m \u001b[0mfields\u001b[0m\u001b[1;33m=\u001b[0m\u001b[0mfields\u001b[0m\u001b[1;33m,\u001b[0m \u001b[0mheaders\u001b[0m\u001b[1;33m=\u001b[0m\u001b[0mheaders\u001b[0m\u001b[1;33m,\u001b[0m \u001b[1;33m**\u001b[0m\u001b[0murlopen_kw\u001b[0m\u001b[1;33m\u001b[0m\u001b[1;33m\u001b[0m\u001b[0m\n\u001b[0;32m     80\u001b[0m             )\n",
      "\u001b[1;32mD:\\Anaconda\\lib\\site-packages\\urllib3\\request.py\u001b[0m in \u001b[0;36mrequest_encode_body\u001b[1;34m(self, method, url, fields, headers, encode_multipart, multipart_boundary, **urlopen_kw)\u001b[0m\n\u001b[0;32m    168\u001b[0m         \u001b[0mextra_kw\u001b[0m\u001b[1;33m.\u001b[0m\u001b[0mupdate\u001b[0m\u001b[1;33m(\u001b[0m\u001b[0murlopen_kw\u001b[0m\u001b[1;33m)\u001b[0m\u001b[1;33m\u001b[0m\u001b[1;33m\u001b[0m\u001b[0m\n\u001b[0;32m    169\u001b[0m \u001b[1;33m\u001b[0m\u001b[0m\n\u001b[1;32m--> 170\u001b[1;33m         \u001b[1;32mreturn\u001b[0m \u001b[0mself\u001b[0m\u001b[1;33m.\u001b[0m\u001b[0murlopen\u001b[0m\u001b[1;33m(\u001b[0m\u001b[0mmethod\u001b[0m\u001b[1;33m,\u001b[0m \u001b[0murl\u001b[0m\u001b[1;33m,\u001b[0m \u001b[1;33m**\u001b[0m\u001b[0mextra_kw\u001b[0m\u001b[1;33m)\u001b[0m\u001b[1;33m\u001b[0m\u001b[1;33m\u001b[0m\u001b[0m\n\u001b[0m",
      "\u001b[1;32mD:\\Anaconda\\lib\\site-packages\\urllib3\\poolmanager.py\u001b[0m in \u001b[0;36murlopen\u001b[1;34m(self, method, url, redirect, **kw)\u001b[0m\n\u001b[0;32m    374\u001b[0m             \u001b[0mresponse\u001b[0m \u001b[1;33m=\u001b[0m \u001b[0mconn\u001b[0m\u001b[1;33m.\u001b[0m\u001b[0murlopen\u001b[0m\u001b[1;33m(\u001b[0m\u001b[0mmethod\u001b[0m\u001b[1;33m,\u001b[0m \u001b[0murl\u001b[0m\u001b[1;33m,\u001b[0m \u001b[1;33m**\u001b[0m\u001b[0mkw\u001b[0m\u001b[1;33m)\u001b[0m\u001b[1;33m\u001b[0m\u001b[1;33m\u001b[0m\u001b[0m\n\u001b[0;32m    375\u001b[0m         \u001b[1;32melse\u001b[0m\u001b[1;33m:\u001b[0m\u001b[1;33m\u001b[0m\u001b[1;33m\u001b[0m\u001b[0m\n\u001b[1;32m--> 376\u001b[1;33m             \u001b[0mresponse\u001b[0m \u001b[1;33m=\u001b[0m \u001b[0mconn\u001b[0m\u001b[1;33m.\u001b[0m\u001b[0murlopen\u001b[0m\u001b[1;33m(\u001b[0m\u001b[0mmethod\u001b[0m\u001b[1;33m,\u001b[0m \u001b[0mu\u001b[0m\u001b[1;33m.\u001b[0m\u001b[0mrequest_uri\u001b[0m\u001b[1;33m,\u001b[0m \u001b[1;33m**\u001b[0m\u001b[0mkw\u001b[0m\u001b[1;33m)\u001b[0m\u001b[1;33m\u001b[0m\u001b[1;33m\u001b[0m\u001b[0m\n\u001b[0m\u001b[0;32m    377\u001b[0m \u001b[1;33m\u001b[0m\u001b[0m\n\u001b[0;32m    378\u001b[0m         \u001b[0mredirect_location\u001b[0m \u001b[1;33m=\u001b[0m \u001b[0mredirect\u001b[0m \u001b[1;32mand\u001b[0m \u001b[0mresponse\u001b[0m\u001b[1;33m.\u001b[0m\u001b[0mget_redirect_location\u001b[0m\u001b[1;33m(\u001b[0m\u001b[1;33m)\u001b[0m\u001b[1;33m\u001b[0m\u001b[1;33m\u001b[0m\u001b[0m\n",
      "\u001b[1;32mD:\\Anaconda\\lib\\site-packages\\urllib3\\connectionpool.py\u001b[0m in \u001b[0;36murlopen\u001b[1;34m(self, method, url, body, headers, retries, redirect, assert_same_host, timeout, pool_timeout, release_conn, chunked, body_pos, **response_kw)\u001b[0m\n\u001b[0;32m    701\u001b[0m \u001b[1;33m\u001b[0m\u001b[0m\n\u001b[0;32m    702\u001b[0m             \u001b[1;31m# Make the request on the httplib connection object.\u001b[0m\u001b[1;33m\u001b[0m\u001b[1;33m\u001b[0m\u001b[0m\n\u001b[1;32m--> 703\u001b[1;33m             httplib_response = self._make_request(\n\u001b[0m\u001b[0;32m    704\u001b[0m                 \u001b[0mconn\u001b[0m\u001b[1;33m,\u001b[0m\u001b[1;33m\u001b[0m\u001b[1;33m\u001b[0m\u001b[0m\n\u001b[0;32m    705\u001b[0m                 \u001b[0mmethod\u001b[0m\u001b[1;33m,\u001b[0m\u001b[1;33m\u001b[0m\u001b[1;33m\u001b[0m\u001b[0m\n",
      "\u001b[1;32mD:\\Anaconda\\lib\\site-packages\\urllib3\\connectionpool.py\u001b[0m in \u001b[0;36m_make_request\u001b[1;34m(self, conn, method, url, timeout, chunked, **httplib_request_kw)\u001b[0m\n\u001b[0;32m    447\u001b[0m                     \u001b[1;31m# Python 3 (including for exceptions like SystemExit).\u001b[0m\u001b[1;33m\u001b[0m\u001b[1;33m\u001b[0m\u001b[0m\n\u001b[0;32m    448\u001b[0m                     \u001b[1;31m# Otherwise it looks like a bug in the code.\u001b[0m\u001b[1;33m\u001b[0m\u001b[1;33m\u001b[0m\u001b[0m\n\u001b[1;32m--> 449\u001b[1;33m                     \u001b[0msix\u001b[0m\u001b[1;33m.\u001b[0m\u001b[0mraise_from\u001b[0m\u001b[1;33m(\u001b[0m\u001b[0me\u001b[0m\u001b[1;33m,\u001b[0m \u001b[1;32mNone\u001b[0m\u001b[1;33m)\u001b[0m\u001b[1;33m\u001b[0m\u001b[1;33m\u001b[0m\u001b[0m\n\u001b[0m\u001b[0;32m    450\u001b[0m         \u001b[1;32mexcept\u001b[0m \u001b[1;33m(\u001b[0m\u001b[0mSocketTimeout\u001b[0m\u001b[1;33m,\u001b[0m \u001b[0mBaseSSLError\u001b[0m\u001b[1;33m,\u001b[0m \u001b[0mSocketError\u001b[0m\u001b[1;33m)\u001b[0m \u001b[1;32mas\u001b[0m \u001b[0me\u001b[0m\u001b[1;33m:\u001b[0m\u001b[1;33m\u001b[0m\u001b[1;33m\u001b[0m\u001b[0m\n\u001b[0;32m    451\u001b[0m             \u001b[0mself\u001b[0m\u001b[1;33m.\u001b[0m\u001b[0m_raise_timeout\u001b[0m\u001b[1;33m(\u001b[0m\u001b[0merr\u001b[0m\u001b[1;33m=\u001b[0m\u001b[0me\u001b[0m\u001b[1;33m,\u001b[0m \u001b[0murl\u001b[0m\u001b[1;33m=\u001b[0m\u001b[0murl\u001b[0m\u001b[1;33m,\u001b[0m \u001b[0mtimeout_value\u001b[0m\u001b[1;33m=\u001b[0m\u001b[0mread_timeout\u001b[0m\u001b[1;33m)\u001b[0m\u001b[1;33m\u001b[0m\u001b[1;33m\u001b[0m\u001b[0m\n",
      "\u001b[1;32mD:\\Anaconda\\lib\\site-packages\\urllib3\\packages\\six.py\u001b[0m in \u001b[0;36mraise_from\u001b[1;34m(value, from_value)\u001b[0m\n",
      "\u001b[1;32mD:\\Anaconda\\lib\\site-packages\\urllib3\\connectionpool.py\u001b[0m in \u001b[0;36m_make_request\u001b[1;34m(self, conn, method, url, timeout, chunked, **httplib_request_kw)\u001b[0m\n\u001b[0;32m    442\u001b[0m                 \u001b[1;31m# Python 3\u001b[0m\u001b[1;33m\u001b[0m\u001b[1;33m\u001b[0m\u001b[0m\n\u001b[0;32m    443\u001b[0m                 \u001b[1;32mtry\u001b[0m\u001b[1;33m:\u001b[0m\u001b[1;33m\u001b[0m\u001b[1;33m\u001b[0m\u001b[0m\n\u001b[1;32m--> 444\u001b[1;33m                     \u001b[0mhttplib_response\u001b[0m \u001b[1;33m=\u001b[0m \u001b[0mconn\u001b[0m\u001b[1;33m.\u001b[0m\u001b[0mgetresponse\u001b[0m\u001b[1;33m(\u001b[0m\u001b[1;33m)\u001b[0m\u001b[1;33m\u001b[0m\u001b[1;33m\u001b[0m\u001b[0m\n\u001b[0m\u001b[0;32m    445\u001b[0m                 \u001b[1;32mexcept\u001b[0m \u001b[0mBaseException\u001b[0m \u001b[1;32mas\u001b[0m \u001b[0me\u001b[0m\u001b[1;33m:\u001b[0m\u001b[1;33m\u001b[0m\u001b[1;33m\u001b[0m\u001b[0m\n\u001b[0;32m    446\u001b[0m                     \u001b[1;31m# Remove the TypeError from the exception chain in\u001b[0m\u001b[1;33m\u001b[0m\u001b[1;33m\u001b[0m\u001b[0m\n",
      "\u001b[1;32mD:\\Anaconda\\lib\\http\\client.py\u001b[0m in \u001b[0;36mgetresponse\u001b[1;34m(self)\u001b[0m\n\u001b[0;32m   1369\u001b[0m         \u001b[1;32mtry\u001b[0m\u001b[1;33m:\u001b[0m\u001b[1;33m\u001b[0m\u001b[1;33m\u001b[0m\u001b[0m\n\u001b[0;32m   1370\u001b[0m             \u001b[1;32mtry\u001b[0m\u001b[1;33m:\u001b[0m\u001b[1;33m\u001b[0m\u001b[1;33m\u001b[0m\u001b[0m\n\u001b[1;32m-> 1371\u001b[1;33m                 \u001b[0mresponse\u001b[0m\u001b[1;33m.\u001b[0m\u001b[0mbegin\u001b[0m\u001b[1;33m(\u001b[0m\u001b[1;33m)\u001b[0m\u001b[1;33m\u001b[0m\u001b[1;33m\u001b[0m\u001b[0m\n\u001b[0m\u001b[0;32m   1372\u001b[0m             \u001b[1;32mexcept\u001b[0m \u001b[0mConnectionError\u001b[0m\u001b[1;33m:\u001b[0m\u001b[1;33m\u001b[0m\u001b[1;33m\u001b[0m\u001b[0m\n\u001b[0;32m   1373\u001b[0m                 \u001b[0mself\u001b[0m\u001b[1;33m.\u001b[0m\u001b[0mclose\u001b[0m\u001b[1;33m(\u001b[0m\u001b[1;33m)\u001b[0m\u001b[1;33m\u001b[0m\u001b[1;33m\u001b[0m\u001b[0m\n",
      "\u001b[1;32mD:\\Anaconda\\lib\\http\\client.py\u001b[0m in \u001b[0;36mbegin\u001b[1;34m(self)\u001b[0m\n\u001b[0;32m    317\u001b[0m         \u001b[1;31m# read until we get a non-100 response\u001b[0m\u001b[1;33m\u001b[0m\u001b[1;33m\u001b[0m\u001b[0m\n\u001b[0;32m    318\u001b[0m         \u001b[1;32mwhile\u001b[0m \u001b[1;32mTrue\u001b[0m\u001b[1;33m:\u001b[0m\u001b[1;33m\u001b[0m\u001b[1;33m\u001b[0m\u001b[0m\n\u001b[1;32m--> 319\u001b[1;33m             \u001b[0mversion\u001b[0m\u001b[1;33m,\u001b[0m \u001b[0mstatus\u001b[0m\u001b[1;33m,\u001b[0m \u001b[0mreason\u001b[0m \u001b[1;33m=\u001b[0m \u001b[0mself\u001b[0m\u001b[1;33m.\u001b[0m\u001b[0m_read_status\u001b[0m\u001b[1;33m(\u001b[0m\u001b[1;33m)\u001b[0m\u001b[1;33m\u001b[0m\u001b[1;33m\u001b[0m\u001b[0m\n\u001b[0m\u001b[0;32m    320\u001b[0m             \u001b[1;32mif\u001b[0m \u001b[0mstatus\u001b[0m \u001b[1;33m!=\u001b[0m \u001b[0mCONTINUE\u001b[0m\u001b[1;33m:\u001b[0m\u001b[1;33m\u001b[0m\u001b[1;33m\u001b[0m\u001b[0m\n\u001b[0;32m    321\u001b[0m                 \u001b[1;32mbreak\u001b[0m\u001b[1;33m\u001b[0m\u001b[1;33m\u001b[0m\u001b[0m\n",
      "\u001b[1;32mD:\\Anaconda\\lib\\http\\client.py\u001b[0m in \u001b[0;36m_read_status\u001b[1;34m(self)\u001b[0m\n\u001b[0;32m    278\u001b[0m \u001b[1;33m\u001b[0m\u001b[0m\n\u001b[0;32m    279\u001b[0m     \u001b[1;32mdef\u001b[0m \u001b[0m_read_status\u001b[0m\u001b[1;33m(\u001b[0m\u001b[0mself\u001b[0m\u001b[1;33m)\u001b[0m\u001b[1;33m:\u001b[0m\u001b[1;33m\u001b[0m\u001b[1;33m\u001b[0m\u001b[0m\n\u001b[1;32m--> 280\u001b[1;33m         \u001b[0mline\u001b[0m \u001b[1;33m=\u001b[0m \u001b[0mstr\u001b[0m\u001b[1;33m(\u001b[0m\u001b[0mself\u001b[0m\u001b[1;33m.\u001b[0m\u001b[0mfp\u001b[0m\u001b[1;33m.\u001b[0m\u001b[0mreadline\u001b[0m\u001b[1;33m(\u001b[0m\u001b[0m_MAXLINE\u001b[0m \u001b[1;33m+\u001b[0m \u001b[1;36m1\u001b[0m\u001b[1;33m)\u001b[0m\u001b[1;33m,\u001b[0m \u001b[1;34m\"iso-8859-1\"\u001b[0m\u001b[1;33m)\u001b[0m\u001b[1;33m\u001b[0m\u001b[1;33m\u001b[0m\u001b[0m\n\u001b[0m\u001b[0;32m    281\u001b[0m         \u001b[1;32mif\u001b[0m \u001b[0mlen\u001b[0m\u001b[1;33m(\u001b[0m\u001b[0mline\u001b[0m\u001b[1;33m)\u001b[0m \u001b[1;33m>\u001b[0m \u001b[0m_MAXLINE\u001b[0m\u001b[1;33m:\u001b[0m\u001b[1;33m\u001b[0m\u001b[1;33m\u001b[0m\u001b[0m\n\u001b[0;32m    282\u001b[0m             \u001b[1;32mraise\u001b[0m \u001b[0mLineTooLong\u001b[0m\u001b[1;33m(\u001b[0m\u001b[1;34m\"status line\"\u001b[0m\u001b[1;33m)\u001b[0m\u001b[1;33m\u001b[0m\u001b[1;33m\u001b[0m\u001b[0m\n",
      "\u001b[1;32mD:\\Anaconda\\lib\\socket.py\u001b[0m in \u001b[0;36mreadinto\u001b[1;34m(self, b)\u001b[0m\n\u001b[0;32m    702\u001b[0m         \u001b[1;32mwhile\u001b[0m \u001b[1;32mTrue\u001b[0m\u001b[1;33m:\u001b[0m\u001b[1;33m\u001b[0m\u001b[1;33m\u001b[0m\u001b[0m\n\u001b[0;32m    703\u001b[0m             \u001b[1;32mtry\u001b[0m\u001b[1;33m:\u001b[0m\u001b[1;33m\u001b[0m\u001b[1;33m\u001b[0m\u001b[0m\n\u001b[1;32m--> 704\u001b[1;33m                 \u001b[1;32mreturn\u001b[0m \u001b[0mself\u001b[0m\u001b[1;33m.\u001b[0m\u001b[0m_sock\u001b[0m\u001b[1;33m.\u001b[0m\u001b[0mrecv_into\u001b[0m\u001b[1;33m(\u001b[0m\u001b[0mb\u001b[0m\u001b[1;33m)\u001b[0m\u001b[1;33m\u001b[0m\u001b[1;33m\u001b[0m\u001b[0m\n\u001b[0m\u001b[0;32m    705\u001b[0m             \u001b[1;32mexcept\u001b[0m \u001b[0mtimeout\u001b[0m\u001b[1;33m:\u001b[0m\u001b[1;33m\u001b[0m\u001b[1;33m\u001b[0m\u001b[0m\n\u001b[0;32m    706\u001b[0m                 \u001b[0mself\u001b[0m\u001b[1;33m.\u001b[0m\u001b[0m_timeout_occurred\u001b[0m \u001b[1;33m=\u001b[0m \u001b[1;32mTrue\u001b[0m\u001b[1;33m\u001b[0m\u001b[1;33m\u001b[0m\u001b[0m\n",
      "\u001b[1;31mKeyboardInterrupt\u001b[0m: "
     ]
    }
   ],
   "source": [
    "\"\"\"\n",
    "*****************************************************INSTRUCTIONS*****************************************************\n",
    "This will open an extra chrome tab just used to parse some of the data that I couldnt get normally from the website \n",
    "directly because it parsed back \"None\" Values for some elements even though it existed, therefor I couldn't get all the data \n",
    "I wanted to collect for this project. the chrome tab allows me read those without restrictions and it solves \n",
    "the \"None\" Value problem\n",
    "\n",
    "IMPORTANT: Please dont close the tab or the project will break, you can close the tab when the console displays \n",
    "\"Scrapping Complete.\".\n",
    "\"\"\"\n",
    "driver = webdriver.Chrome()\n",
    "url = 'https://www.imdb.com/search/title/?title_type=video_game&sort=user_rating,desc'\n",
    "# driver.maximize_window()\n",
    "driver.get(url)\n",
    "content = driver.page_source.encode('utf-8').strip()\n",
    "\"\"\"\"\"\"\n",
    "soup = BeautifulSoup(content,\"html.parser\")\n",
    "#creates pandas dataframe \n",
    "def data_create():\n",
    "    data = {\n",
    "        'title': [],\n",
    "        'release_date': [],\n",
    "        'maturity_rating': [],\n",
    "        'genre': [],\n",
    "        'rating': [],\n",
    "        'directors': [],\n",
    "        'stars': [],\n",
    "        'votes': []\n",
    "    }\n",
    "    global df\n",
    "    df = pd.DataFrame(data= data)\n",
    "data_create()\n",
    "\n",
    "\n",
    "#func used to extract data by inputting the soup, the thing you want to find => \"selector\", and class => \"class_selector\"\n",
    "def extract_data(soup, selector, class_selector):\n",
    "    try:\n",
    "        return soup.find(selector, class_= class_selector).text.strip()\n",
    "    except AttributeError:\n",
    "        return None\n",
    "\n",
    "#continues looping till its done with finding a \"next\" link\n",
    "try: \n",
    "    while True:\n",
    "        #a big section that contains all the data of the videogame title\n",
    "        game_info = soup.find_all(\"div\", class_=\"lister-item-content\")\n",
    "\n",
    "        for i in game_info:\n",
    "            #gets game name\n",
    "            try:\n",
    "                game_name = (i.find(\"h3\", class_=\"lister-item-header\")).a.text.strip()\n",
    "            except AttributeError:\n",
    "                game_name = None\n",
    "\n",
    "            #gets release date\n",
    "            try:\n",
    "                game_release_date = extract_data(i, \"span\", \"lister-item-year text-muted unbold\")\n",
    "                game_release_date = game_release_date.replace(\"(\", \"\")\n",
    "                game_release_date = game_release_date.replace(\")\", \"\")\n",
    "                game_release_date = game_release_date.replace(\"I\", \"\")\n",
    "                game_release_date = int(game_release_date.replace(\"Video Game\", \"\").strip())\n",
    "            except:\n",
    "                game_release_date = 0\n",
    "            \n",
    "            #gets maturity rating\n",
    "            game_maturity = extract_data(i, \"span\", \"certificate\")\n",
    "\n",
    "            #gets genre and split it into an array\n",
    "            try:\n",
    "                game_genre = extract_data(i, \"span\", \"genre\")\n",
    "                if game_genre.find(\",\")!=-1:\n",
    "                    game_genre = np.array(list(game_genre.split(\",\")))\n",
    "                else:\n",
    "                    game_genre = np.array(game_genre)\n",
    "            except AttributeError:\n",
    "                game_genre = None\n",
    "\n",
    "            #get rating\n",
    "            try:\n",
    "                game_rating = float(i.find(\"div\", class_=\"inline-block ratings-imdb-rating\").strong.text.strip())\n",
    "            except AttributeError:\n",
    "                game_rating = 0\n",
    "\n",
    "            #get Director & Stars and will split them, and will put \"None\" in values that dont exist\n",
    "            #get both\n",
    "            game_director_and_stars = extract_data(i, \"p\", \"\")\n",
    "            game_director = None\n",
    "            game_stars = None\n",
    "            #if both director and star data exist for the title\n",
    "            if game_director_and_stars.find(\"|\")!=-1:\n",
    "                game_director_full_text, separator, game_stars_full_text = game_director_and_stars.partition(\"|\")\n",
    "\n",
    "                game_director_full_text = game_director_full_text.strip()\n",
    "                game_director_full_text = ''.join(game_director_full_text.splitlines())\n",
    "                game_stars_full_text = game_stars_full_text.strip()\n",
    "                game_stars_full_text = ''.join(game_stars_full_text.splitlines())\n",
    "\n",
    "                director_text, separator, game_director = game_director_full_text.partition(\":\")\n",
    "                star_text, separator, game_stars = game_stars_full_text.partition(\":\")\n",
    "\n",
    "                #finds if there are many Directors/Stars or just one\n",
    "                #there are multiple Directors\n",
    "                if game_director.find(\",\")!=1:\n",
    "                    game_director = np.array(list(game_director.split(\",\")))\n",
    "                #there is only 1 Director\n",
    "                else:\n",
    "                    game_director = np.array(list(game_director))\n",
    "                #there are multiple Stars\n",
    "                if game_stars.find(\",\")!=1:\n",
    "                    game_stars = np.array(list(game_stars.split(\",\")))\n",
    "                #there is only 1 Star\n",
    "                else:\n",
    "                    game_stars = np.array(list(game_stars))\n",
    "\n",
    "            #didnt both Director and Star together, will try to find if only one of them exists        \n",
    "            #if found Director\n",
    "            elif game_director_and_stars.find(\"Director\")!=-1:\n",
    "                game_director_and_stars = ''.join(game_director_and_stars.splitlines())\n",
    "                director_text, separator, game_director = game_director_and_stars.partition(\":\")\n",
    "                game_director = game_director.replace(\"\\n\", \"\")\n",
    "                #finds if there are many Directors or just one\n",
    "                #there are multiple Directors\n",
    "                if game_director.find(\",\")!=1:\n",
    "                    game_director = np.array(list(game_director.split(\",\")))\n",
    "                #there is only 1 Director\n",
    "                else:\n",
    "                    game_director = np.array(list(game_director))\n",
    "                game_stars = None\n",
    "\n",
    "            #if found Star\n",
    "            elif game_director_and_stars.find(\"Star\")!=-1:\n",
    "                star_text, separator, game_stars = game_director_and_stars.partition(\":\")\n",
    "                game_stars = game_stars.replace(\"\\n\", \"\")\n",
    "                #finds if there are many Stars or just one\n",
    "                #there are multiple Stars\n",
    "                if game_stars.find(\",\")!=1:\n",
    "                    game_stars = np.array(list(game_stars.split(\",\")))\n",
    "                #there is only 1 Star\n",
    "                else:\n",
    "                    game_stars = np.array(list(game_stars))\n",
    "                game_director = None\n",
    "            else:\n",
    "                game_director = None\n",
    "                game_stars = None\n",
    "\n",
    "\n",
    "            #get votes\n",
    "            try: \n",
    "                game_votes = extract_data(i, \"p\", \"sort-num_votes-visible\")\n",
    "                game_votes = ''.join(game_votes.splitlines())\n",
    "                deleted_text, separator, game_votes = game_votes.partition(\":\")\n",
    "                game_votes = game_votes.replace(\",\", \"\").strip()\n",
    "                game_votes = int(game_votes)\n",
    "            except:\n",
    "                game_votes = 0\n",
    "\n",
    "            #adds game details to dataframe\n",
    "            df.loc[len(df.index)] = [game_name, game_release_date, game_maturity, game_genre, game_rating, game_director, game_stars, game_votes]\n",
    "    #         display(df)\n",
    "\n",
    "\n",
    "        #find button to click on next page \n",
    "        uncompleted_next_page_url = soup.find(\"a\", class_=\"lister-page-next next-page\").get(\"href\")\n",
    "        completed_next_page_url = \"https://www.imdb.com/\" + uncompleted_next_page_url\n",
    "\n",
    "        print(completed_next_page_url)\n",
    "\n",
    "        #replaces old url to completed_next_page_url\n",
    "        url = completed_next_page_url\n",
    "        driver.get(url)\n",
    "        content = driver.page_source.encode('utf-8').strip()\n",
    "\n",
    "        soup = BeautifulSoup(content, \"html.parser\")\n",
    "\n",
    "    driver.quit()\n",
    "except Exception as e:\n",
    "    print(e)\n",
    "    print(\"Scrapping Complete.\")"
   ]
  },
  {
   "cell_type": "code",
   "execution_count": 98,
   "id": "623277f1",
   "metadata": {
    "scrolled": true
   },
   "outputs": [
    {
     "data": {
      "text/html": [
       "<div>\n",
       "<style scoped>\n",
       "    .dataframe tbody tr th:only-of-type {\n",
       "        vertical-align: middle;\n",
       "    }\n",
       "\n",
       "    .dataframe tbody tr th {\n",
       "        vertical-align: top;\n",
       "    }\n",
       "\n",
       "    .dataframe thead th {\n",
       "        text-align: right;\n",
       "    }\n",
       "</style>\n",
       "<table border=\"1\" class=\"dataframe\">\n",
       "  <thead>\n",
       "    <tr style=\"text-align: right;\">\n",
       "      <th></th>\n",
       "      <th>title</th>\n",
       "      <th>release_date</th>\n",
       "      <th>maturity_rating</th>\n",
       "      <th>genre</th>\n",
       "      <th>rating</th>\n",
       "      <th>directors</th>\n",
       "      <th>stars</th>\n",
       "      <th>votes</th>\n",
       "    </tr>\n",
       "  </thead>\n",
       "  <tbody>\n",
       "    <tr>\n",
       "      <th>0</th>\n",
       "      <td>The Last of Us: Part I</td>\n",
       "      <td>2022</td>\n",
       "      <td>M</td>\n",
       "      <td>['Action' ' Adventure' ' Drama']</td>\n",
       "      <td>9.8</td>\n",
       "      <td>['Matthew Gallant' ' Bruce Straley']</td>\n",
       "      <td>['Ashley Johnson' ' Troy Baker' ' Hana Hayes' ...</td>\n",
       "      <td>3525</td>\n",
       "    </tr>\n",
       "    <tr>\n",
       "      <th>1</th>\n",
       "      <td>The Witcher 3: Wild Hunt - Blood and Wine</td>\n",
       "      <td>2016</td>\n",
       "      <td>M</td>\n",
       "      <td>['Action' ' Adventure' ' Drama']</td>\n",
       "      <td>9.8</td>\n",
       "      <td>['Konrad Tomaszkiewicz']</td>\n",
       "      <td>['Doug Cockle' ' MyAnna Buring' ' Antonia Bern...</td>\n",
       "      <td>8795</td>\n",
       "    </tr>\n",
       "    <tr>\n",
       "      <th>2</th>\n",
       "      <td>The Last of Us</td>\n",
       "      <td>2013</td>\n",
       "      <td>M</td>\n",
       "      <td>['Action' ' Adventure' ' Drama']</td>\n",
       "      <td>9.7</td>\n",
       "      <td>['Neil Druckmann' ' Bruce Straley']</td>\n",
       "      <td>['Troy Baker' ' Ashley Johnson' ' Hana Hayes' ...</td>\n",
       "      <td>69017</td>\n",
       "    </tr>\n",
       "    <tr>\n",
       "      <th>3</th>\n",
       "      <td>God of War: Ragnarök</td>\n",
       "      <td>2022</td>\n",
       "      <td>M</td>\n",
       "      <td>['Action' ' Adventure' ' Drama']</td>\n",
       "      <td>9.7</td>\n",
       "      <td>['Eric Williams']</td>\n",
       "      <td>['Christopher Judge' ' Sunny Suljic' ' Daniell...</td>\n",
       "      <td>11569</td>\n",
       "    </tr>\n",
       "    <tr>\n",
       "      <th>4</th>\n",
       "      <td>Red Dead Redemption II</td>\n",
       "      <td>2018</td>\n",
       "      <td>M</td>\n",
       "      <td>['Action' ' Adventure' ' Crime']</td>\n",
       "      <td>9.7</td>\n",
       "      <td>NaN</td>\n",
       "      <td>['Benjamin Byron Davis' ' Roger Clark' ' Rob W...</td>\n",
       "      <td>42853</td>\n",
       "    </tr>\n",
       "    <tr>\n",
       "      <th>...</th>\n",
       "      <td>...</td>\n",
       "      <td>...</td>\n",
       "      <td>...</td>\n",
       "      <td>...</td>\n",
       "      <td>...</td>\n",
       "      <td>...</td>\n",
       "      <td>...</td>\n",
       "      <td>...</td>\n",
       "    </tr>\n",
       "    <tr>\n",
       "      <th>33519</th>\n",
       "      <td>Through the Winter</td>\n",
       "      <td>2023</td>\n",
       "      <td>NaN</td>\n",
       "      <td>NaN</td>\n",
       "      <td>0.0</td>\n",
       "      <td>['Michael Smith']</td>\n",
       "      <td>['Rita Amparita' ' Hannah Beard' ' Xander M Gr...</td>\n",
       "      <td>0</td>\n",
       "    </tr>\n",
       "    <tr>\n",
       "      <th>33520</th>\n",
       "      <td>Atari 50: The Anniversary Celebration</td>\n",
       "      <td>2022</td>\n",
       "      <td>NaN</td>\n",
       "      <td>['Documentary' ' Action' ' Adventure']</td>\n",
       "      <td>0.0</td>\n",
       "      <td>NaN</td>\n",
       "      <td>['Al Alcorn' ' Nolan Bushnell' ' David Crane']</td>\n",
       "      <td>0</td>\n",
       "    </tr>\n",
       "    <tr>\n",
       "      <th>33521</th>\n",
       "      <td>Yars Revenge Enhanced</td>\n",
       "      <td>2022</td>\n",
       "      <td>NaN</td>\n",
       "      <td>['Action' ' Fantasy' ' Sci-Fi']</td>\n",
       "      <td>0.0</td>\n",
       "      <td>NaN</td>\n",
       "      <td>NaN</td>\n",
       "      <td>0</td>\n",
       "    </tr>\n",
       "    <tr>\n",
       "      <th>33522</th>\n",
       "      <td>Our Summers</td>\n",
       "      <td>2022</td>\n",
       "      <td>NaN</td>\n",
       "      <td>Romance</td>\n",
       "      <td>0.0</td>\n",
       "      <td>['Wavi']</td>\n",
       "      <td>['Reece Bridger']</td>\n",
       "      <td>0</td>\n",
       "    </tr>\n",
       "    <tr>\n",
       "      <th>33523</th>\n",
       "      <td>The Banana Splits: Serial Silliness</td>\n",
       "      <td>2021</td>\n",
       "      <td>NaN</td>\n",
       "      <td>Horror</td>\n",
       "      <td>0.0</td>\n",
       "      <td>['Fazie Funbear']</td>\n",
       "      <td>['Addy T. Baddy' ' Ross K. Foad' ' Peachy Prin...</td>\n",
       "      <td>0</td>\n",
       "    </tr>\n",
       "  </tbody>\n",
       "</table>\n",
       "<p>33524 rows × 8 columns</p>\n",
       "</div>"
      ],
      "text/plain": [
       "                                           title  release_date  \\\n",
       "0                         The Last of Us: Part I          2022   \n",
       "1      The Witcher 3: Wild Hunt - Blood and Wine          2016   \n",
       "2                                 The Last of Us          2013   \n",
       "3                           God of War: Ragnarök          2022   \n",
       "4                         Red Dead Redemption II          2018   \n",
       "...                                          ...           ...   \n",
       "33519                         Through the Winter          2023   \n",
       "33520      Atari 50: The Anniversary Celebration          2022   \n",
       "33521                      Yars Revenge Enhanced          2022   \n",
       "33522                                Our Summers          2022   \n",
       "33523        The Banana Splits: Serial Silliness          2021   \n",
       "\n",
       "      maturity_rating                                   genre  rating  \\\n",
       "0                   M        ['Action' ' Adventure' ' Drama']     9.8   \n",
       "1                   M        ['Action' ' Adventure' ' Drama']     9.8   \n",
       "2                   M        ['Action' ' Adventure' ' Drama']     9.7   \n",
       "3                   M        ['Action' ' Adventure' ' Drama']     9.7   \n",
       "4                   M        ['Action' ' Adventure' ' Crime']     9.7   \n",
       "...               ...                                     ...     ...   \n",
       "33519             NaN                                     NaN     0.0   \n",
       "33520             NaN  ['Documentary' ' Action' ' Adventure']     0.0   \n",
       "33521             NaN         ['Action' ' Fantasy' ' Sci-Fi']     0.0   \n",
       "33522             NaN                                 Romance     0.0   \n",
       "33523             NaN                                  Horror     0.0   \n",
       "\n",
       "                                  directors  \\\n",
       "0      ['Matthew Gallant' ' Bruce Straley']   \n",
       "1                  ['Konrad Tomaszkiewicz']   \n",
       "2       ['Neil Druckmann' ' Bruce Straley']   \n",
       "3                         ['Eric Williams']   \n",
       "4                                       NaN   \n",
       "...                                     ...   \n",
       "33519                     ['Michael Smith']   \n",
       "33520                                   NaN   \n",
       "33521                                   NaN   \n",
       "33522                              ['Wavi']   \n",
       "33523                     ['Fazie Funbear']   \n",
       "\n",
       "                                                   stars  votes  \n",
       "0      ['Ashley Johnson' ' Troy Baker' ' Hana Hayes' ...   3525  \n",
       "1      ['Doug Cockle' ' MyAnna Buring' ' Antonia Bern...   8795  \n",
       "2      ['Troy Baker' ' Ashley Johnson' ' Hana Hayes' ...  69017  \n",
       "3      ['Christopher Judge' ' Sunny Suljic' ' Daniell...  11569  \n",
       "4      ['Benjamin Byron Davis' ' Roger Clark' ' Rob W...  42853  \n",
       "...                                                  ...    ...  \n",
       "33519  ['Rita Amparita' ' Hannah Beard' ' Xander M Gr...      0  \n",
       "33520     ['Al Alcorn' ' Nolan Bushnell' ' David Crane']      0  \n",
       "33521                                                NaN      0  \n",
       "33522                                  ['Reece Bridger']      0  \n",
       "33523  ['Addy T. Baddy' ' Ross K. Foad' ' Peachy Prin...      0  \n",
       "\n",
       "[33524 rows x 8 columns]"
      ]
     },
     "execution_count": 98,
     "metadata": {},
     "output_type": "execute_result"
    }
   ],
   "source": [
    "df"
   ]
  },
  {
   "cell_type": "code",
   "execution_count": 2,
   "id": "fd1c2536",
   "metadata": {},
   "outputs": [
    {
     "ename": "NameError",
     "evalue": "name 'df' is not defined",
     "output_type": "error",
     "traceback": [
      "\u001b[1;31m---------------------------------------------------------------------------\u001b[0m",
      "\u001b[1;31mNameError\u001b[0m                                 Traceback (most recent call last)",
      "\u001b[1;32m~\\AppData\\Local\\Temp/ipykernel_7392/404022420.py\u001b[0m in \u001b[0;36m<module>\u001b[1;34m\u001b[0m\n\u001b[0;32m      1\u001b[0m \u001b[1;31m#Save CSV\u001b[0m\u001b[1;33m\u001b[0m\u001b[1;33m\u001b[0m\u001b[0m\n\u001b[1;32m----> 2\u001b[1;33m \u001b[0mdf\u001b[0m\u001b[1;33m.\u001b[0m\u001b[0mto_csv\u001b[0m\u001b[1;33m(\u001b[0m\u001b[1;34m'ToCSV.csv'\u001b[0m\u001b[1;33m,\u001b[0m \u001b[0mindex\u001b[0m\u001b[1;33m=\u001b[0m\u001b[1;32mFalse\u001b[0m\u001b[1;33m)\u001b[0m\u001b[1;33m\u001b[0m\u001b[1;33m\u001b[0m\u001b[0m\n\u001b[0m",
      "\u001b[1;31mNameError\u001b[0m: name 'df' is not defined"
     ]
    }
   ],
   "source": [
    "#Save CSV (still has errors)\n",
    "df.to_csv('CSVs/1) beforeCleaningCSV.csv', index=False)"
   ]
  },
  {
   "cell_type": "markdown",
   "id": "39d7143c",
   "metadata": {},
   "source": [
    "<b>---------------------------------------------------------------------------------------------------------------------------------------------------------------------------------------------------------<b>"
   ]
  },
  {
   "cell_type": "markdown",
   "id": "aa16dffb",
   "metadata": {},
   "source": [
    "<h3> 2. Analysis and Data Cleaning"
   ]
  },
  {
   "cell_type": "code",
   "execution_count": 88,
   "id": "3f7df06e",
   "metadata": {},
   "outputs": [
    {
     "data": {
      "text/html": [
       "<div>\n",
       "<style scoped>\n",
       "    .dataframe tbody tr th:only-of-type {\n",
       "        vertical-align: middle;\n",
       "    }\n",
       "\n",
       "    .dataframe tbody tr th {\n",
       "        vertical-align: top;\n",
       "    }\n",
       "\n",
       "    .dataframe thead th {\n",
       "        text-align: right;\n",
       "    }\n",
       "</style>\n",
       "<table border=\"1\" class=\"dataframe\">\n",
       "  <thead>\n",
       "    <tr style=\"text-align: right;\">\n",
       "      <th></th>\n",
       "      <th>title</th>\n",
       "      <th>release_date</th>\n",
       "      <th>maturity_rating</th>\n",
       "      <th>genre</th>\n",
       "      <th>rating</th>\n",
       "      <th>directors</th>\n",
       "      <th>stars</th>\n",
       "      <th>votes</th>\n",
       "    </tr>\n",
       "  </thead>\n",
       "  <tbody>\n",
       "    <tr>\n",
       "      <th>0</th>\n",
       "      <td>The Witcher 3: Wild Hunt - Blood and Wine</td>\n",
       "      <td>2016</td>\n",
       "      <td>M</td>\n",
       "      <td>['Action' ' Adventure' ' Drama']</td>\n",
       "      <td>9.8</td>\n",
       "      <td>['Konrad Tomaszkiewicz']</td>\n",
       "      <td>['Doug Cockle' ' MyAnna Buring' ' Antonia Bern...</td>\n",
       "      <td>8795</td>\n",
       "    </tr>\n",
       "    <tr>\n",
       "      <th>1</th>\n",
       "      <td>The Last of Us</td>\n",
       "      <td>2013</td>\n",
       "      <td>M</td>\n",
       "      <td>['Action' ' Adventure' ' Drama']</td>\n",
       "      <td>9.7</td>\n",
       "      <td>['Neil Druckmann' ' Bruce Straley']</td>\n",
       "      <td>['Troy Baker' ' Ashley Johnson' ' Hana Hayes' ...</td>\n",
       "      <td>69017</td>\n",
       "    </tr>\n",
       "    <tr>\n",
       "      <th>2</th>\n",
       "      <td>God of War: Ragnarök</td>\n",
       "      <td>2022</td>\n",
       "      <td>M</td>\n",
       "      <td>['Action' ' Adventure' ' Drama']</td>\n",
       "      <td>9.7</td>\n",
       "      <td>['Eric Williams']</td>\n",
       "      <td>['Christopher Judge' ' Sunny Suljic' ' Daniell...</td>\n",
       "      <td>11569</td>\n",
       "    </tr>\n",
       "    <tr>\n",
       "      <th>3</th>\n",
       "      <td>Red Dead Redemption II</td>\n",
       "      <td>2018</td>\n",
       "      <td>M</td>\n",
       "      <td>['Action' ' Adventure' ' Crime']</td>\n",
       "      <td>9.7</td>\n",
       "      <td>NaN</td>\n",
       "      <td>['Benjamin Byron Davis' ' Roger Clark' ' Rob W...</td>\n",
       "      <td>42853</td>\n",
       "    </tr>\n",
       "    <tr>\n",
       "      <th>4</th>\n",
       "      <td>The Witcher 3: Wild Hunt</td>\n",
       "      <td>2015</td>\n",
       "      <td>M</td>\n",
       "      <td>['Action' ' Adventure' ' Drama']</td>\n",
       "      <td>9.7</td>\n",
       "      <td>['Konrad Tomaszkiewicz']</td>\n",
       "      <td>['Doug Cockle' ' Denise Gough' ' Jo Wyatt' ' J...</td>\n",
       "      <td>29120</td>\n",
       "    </tr>\n",
       "    <tr>\n",
       "      <th>...</th>\n",
       "      <td>...</td>\n",
       "      <td>...</td>\n",
       "      <td>...</td>\n",
       "      <td>...</td>\n",
       "      <td>...</td>\n",
       "      <td>...</td>\n",
       "      <td>...</td>\n",
       "      <td>...</td>\n",
       "    </tr>\n",
       "    <tr>\n",
       "      <th>33518</th>\n",
       "      <td>Through the Winter</td>\n",
       "      <td>2023</td>\n",
       "      <td>NaN</td>\n",
       "      <td>NaN</td>\n",
       "      <td>0.0</td>\n",
       "      <td>['Michael Smith']</td>\n",
       "      <td>['Rita Amparita' ' Hannah Beard' ' Xander M Gr...</td>\n",
       "      <td>0</td>\n",
       "    </tr>\n",
       "    <tr>\n",
       "      <th>33519</th>\n",
       "      <td>Atari 50: The Anniversary Celebration</td>\n",
       "      <td>2022</td>\n",
       "      <td>NaN</td>\n",
       "      <td>['Documentary' ' Action' ' Adventure']</td>\n",
       "      <td>0.0</td>\n",
       "      <td>NaN</td>\n",
       "      <td>['Al Alcorn' ' Nolan Bushnell' ' David Crane']</td>\n",
       "      <td>0</td>\n",
       "    </tr>\n",
       "    <tr>\n",
       "      <th>33520</th>\n",
       "      <td>Yars Revenge Enhanced</td>\n",
       "      <td>2022</td>\n",
       "      <td>NaN</td>\n",
       "      <td>['Action' ' Fantasy' ' Sci-Fi']</td>\n",
       "      <td>0.0</td>\n",
       "      <td>NaN</td>\n",
       "      <td>NaN</td>\n",
       "      <td>0</td>\n",
       "    </tr>\n",
       "    <tr>\n",
       "      <th>33521</th>\n",
       "      <td>Our Summers</td>\n",
       "      <td>2022</td>\n",
       "      <td>NaN</td>\n",
       "      <td>Romance</td>\n",
       "      <td>0.0</td>\n",
       "      <td>['Wavi']</td>\n",
       "      <td>['Reece Bridger']</td>\n",
       "      <td>0</td>\n",
       "    </tr>\n",
       "    <tr>\n",
       "      <th>33522</th>\n",
       "      <td>The Banana Splits: Serial Silliness</td>\n",
       "      <td>2021</td>\n",
       "      <td>NaN</td>\n",
       "      <td>Horror</td>\n",
       "      <td>0.0</td>\n",
       "      <td>['Fazie Funbear']</td>\n",
       "      <td>['Addy T. Baddy' ' Ross K. Foad' ' Peachy Prin...</td>\n",
       "      <td>0</td>\n",
       "    </tr>\n",
       "  </tbody>\n",
       "</table>\n",
       "<p>33523 rows × 8 columns</p>\n",
       "</div>"
      ],
      "text/plain": [
       "                                           title  release_date  \\\n",
       "0      The Witcher 3: Wild Hunt - Blood and Wine          2016   \n",
       "1                                 The Last of Us          2013   \n",
       "2                           God of War: Ragnarök          2022   \n",
       "3                         Red Dead Redemption II          2018   \n",
       "4                       The Witcher 3: Wild Hunt          2015   \n",
       "...                                          ...           ...   \n",
       "33518                         Through the Winter          2023   \n",
       "33519      Atari 50: The Anniversary Celebration          2022   \n",
       "33520                      Yars Revenge Enhanced          2022   \n",
       "33521                                Our Summers          2022   \n",
       "33522        The Banana Splits: Serial Silliness          2021   \n",
       "\n",
       "      maturity_rating                                   genre  rating  \\\n",
       "0                   M        ['Action' ' Adventure' ' Drama']     9.8   \n",
       "1                   M        ['Action' ' Adventure' ' Drama']     9.7   \n",
       "2                   M        ['Action' ' Adventure' ' Drama']     9.7   \n",
       "3                   M        ['Action' ' Adventure' ' Crime']     9.7   \n",
       "4                   M        ['Action' ' Adventure' ' Drama']     9.7   \n",
       "...               ...                                     ...     ...   \n",
       "33518             NaN                                     NaN     0.0   \n",
       "33519             NaN  ['Documentary' ' Action' ' Adventure']     0.0   \n",
       "33520             NaN         ['Action' ' Fantasy' ' Sci-Fi']     0.0   \n",
       "33521             NaN                                 Romance     0.0   \n",
       "33522             NaN                                  Horror     0.0   \n",
       "\n",
       "                                 directors  \\\n",
       "0                 ['Konrad Tomaszkiewicz']   \n",
       "1      ['Neil Druckmann' ' Bruce Straley']   \n",
       "2                        ['Eric Williams']   \n",
       "3                                      NaN   \n",
       "4                 ['Konrad Tomaszkiewicz']   \n",
       "...                                    ...   \n",
       "33518                    ['Michael Smith']   \n",
       "33519                                  NaN   \n",
       "33520                                  NaN   \n",
       "33521                             ['Wavi']   \n",
       "33522                    ['Fazie Funbear']   \n",
       "\n",
       "                                                   stars  votes  \n",
       "0      ['Doug Cockle' ' MyAnna Buring' ' Antonia Bern...   8795  \n",
       "1      ['Troy Baker' ' Ashley Johnson' ' Hana Hayes' ...  69017  \n",
       "2      ['Christopher Judge' ' Sunny Suljic' ' Daniell...  11569  \n",
       "3      ['Benjamin Byron Davis' ' Roger Clark' ' Rob W...  42853  \n",
       "4      ['Doug Cockle' ' Denise Gough' ' Jo Wyatt' ' J...  29120  \n",
       "...                                                  ...    ...  \n",
       "33518  ['Rita Amparita' ' Hannah Beard' ' Xander M Gr...      0  \n",
       "33519     ['Al Alcorn' ' Nolan Bushnell' ' David Crane']      0  \n",
       "33520                                                NaN      0  \n",
       "33521                                  ['Reece Bridger']      0  \n",
       "33522  ['Addy T. Baddy' ' Ross K. Foad' ' Peachy Prin...      0  \n",
       "\n",
       "[33523 rows x 8 columns]"
      ]
     },
     "execution_count": 88,
     "metadata": {},
     "output_type": "execute_result"
    }
   ],
   "source": [
    "#Import the CSV with errors still\n",
    "df1 = pd.read_csv(\"CSVs/1) beforeCleaningCSV.csv\")\n",
    "df1"
   ]
  },
  {
   "cell_type": "code",
   "execution_count": 82,
   "id": "5fb549c5",
   "metadata": {},
   "outputs": [
    {
     "data": {
      "text/plain": [
       "Index(['title', 'release_date', 'maturity_rating', 'genre', 'rating',\n",
       "       'directors', 'stars', 'votes'],\n",
       "      dtype='object')"
      ]
     },
     "execution_count": 82,
     "metadata": {},
     "output_type": "execute_result"
    }
   ],
   "source": [
    "df1.columns"
   ]
  },
  {
   "cell_type": "code",
   "execution_count": 83,
   "id": "4cca1f1a",
   "metadata": {},
   "outputs": [
    {
     "data": {
      "text/plain": [
       "title               object\n",
       "release_date         int64\n",
       "maturity_rating     object\n",
       "genre               object\n",
       "rating             float64\n",
       "directors           object\n",
       "stars               object\n",
       "votes                int64\n",
       "dtype: object"
      ]
     },
     "execution_count": 83,
     "metadata": {},
     "output_type": "execute_result"
    }
   ],
   "source": [
    "df1.dtypes"
   ]
  },
  {
   "cell_type": "markdown",
   "id": "bd969e7a",
   "metadata": {},
   "source": [
    "<b> Looking for Wrong Data<br>\n",
    "    a: remove untitled upcoming games"
   ]
  },
  {
   "cell_type": "code",
   "execution_count": 89,
   "id": "bf9f158c",
   "metadata": {
    "scrolled": true
   },
   "outputs": [
    {
     "name": "stdout",
     "output_type": "stream",
     "text": [
      "[4639] Untitled Goose Game\n",
      "The goose lives forever.\n",
      "[14542] Untitled Iron Man game\n",
      "removed\n",
      "[15205] Untitled Indiana Jones Video Game\n",
      "removed\n",
      "[15614] Untitled Yakuza: Like A Dragon Sequel\n",
      "removed\n",
      "[17646] Untitled Haven PlayStation Game\n",
      "removed\n",
      "[19431] Untitled Pokèmon Videogame\n",
      "removed\n",
      "[19818] Untitled Tintin game\n",
      "removed\n",
      "[20618] Untitled Kaikan Phrase Game App\n",
      "removed\n",
      "[20811] Untitled Microsoft IP\n",
      "removed\n",
      "[23040] Untitled Mistwalker-Silicion Studio Game\n",
      "removed\n",
      "[24352] Untitled Hangman Game\n",
      "removed\n",
      "[24646] Untitled the X Collective Project\n",
      "removed\n",
      "[25042] Untitled Gaint Camel Game\n",
      "removed\n",
      "[28258] Untitled Clam Game\n",
      "removed\n",
      "[31458] Untitled Gun Game\n",
      "removed\n",
      "Done\n"
     ]
    }
   ],
   "source": [
    "for i in df1[\"title\"]:\n",
    "    get_letter_index = i.find(\"Untitled\")\n",
    "    if get_letter_index != -1:\n",
    "        untitled_game_to_be_deleted = i\n",
    "        \n",
    "        #gets index of games with \"untitled\" in them\n",
    "        get_title_index = df1.index[df1['title']== untitled_game_to_be_deleted].tolist()\n",
    "        print(get_title_index, i)\n",
    "        \n",
    "        #if the game is not called Untitled Goose Game, delete it (we wont delete this one because its the name of an actual game)\n",
    "        if i != \"Untitled Goose Game\":\n",
    "            df1 = df1.drop(get_title_index)\n",
    "            print(\"removed\")\n",
    "        else:\n",
    "            print(\"The goose lives forever.\")\n",
    "print(\"Done\")"
   ]
  },
  {
   "cell_type": "code",
   "execution_count": 90,
   "id": "da02d389",
   "metadata": {},
   "outputs": [
    {
     "name": "stdout",
     "output_type": "stream",
     "text": [
      "Untitled Goose Game\n"
     ]
    }
   ],
   "source": [
    "#checks that the games are indeed deleted (only Untitled Goose Game will be there)\n",
    "for i in df1[\"title\"]:\n",
    "    title_index = i.find(\"Untitled\")\n",
    "    if title_index != -1:\n",
    "        untitled_game_to_be_deleted = i\n",
    "        print(untitled_game_to_be_deleted)\n",
    "        "
   ]
  },
  {
   "cell_type": "code",
   "execution_count": 95,
   "id": "11d0ffe6",
   "metadata": {},
   "outputs": [],
   "source": [
    "#Save CSV after Title date cleaning \n",
    "df1.to_csv('CSVs/2) titleCleaned.csv', index=False)"
   ]
  },
  {
   "cell_type": "markdown",
   "id": "dc5921f1",
   "metadata": {},
   "source": [
    "<b> b: replace release_date that is 0 with the actual date from google"
   ]
  },
  {
   "cell_type": "code",
   "execution_count": 96,
   "id": "f7060534",
   "metadata": {},
   "outputs": [
    {
     "data": {
      "text/plain": [
       "array([2016, 2013, 2022, 2018, 2015, 2021, 1998, 2023, 2010, 2019, 2004,\n",
       "       2003, 1997, 1995, 2005, 2011, 2009, 2017, 2001, 2008, 2020, 2000,\n",
       "       1999, 2002, 2014, 1991, 2007, 1990, 2012, 1988, 1994, 1996, 2006,\n",
       "       1993, 1992, 1985, 1980, 1989, 1987, 1986, 1984, 1969, 1974, 1982,\n",
       "       1983, 1975, 1981, 1971, 1972,    0, 1978, 1973, 1948, 1968, 1977,\n",
       "       1979, 1976, 1952, 1958, 1962, 1970, 2024, 2027, 1950, 2030, 1964,\n",
       "       1967, 2025, 2026], dtype=int64)"
      ]
     },
     "execution_count": 96,
     "metadata": {},
     "output_type": "execute_result"
    }
   ],
   "source": [
    "df1[\"release_date\"].unique()"
   ]
  },
  {
   "cell_type": "code",
   "execution_count": 98,
   "id": "a01e6c21",
   "metadata": {},
   "outputs": [
    {
     "name": "stdout",
     "output_type": "stream",
     "text": [
      "Length: 612\n",
      "\n",
      "[['4169' 'Total War: Three Kingdoms']\n",
      " ['5151' 'Deliver Us the Moon']\n",
      " ['5638' 'Super Street Fighter IV: 3D Edition']\n",
      " ...\n",
      " ['33419' 'Ion']\n",
      " ['33437' 'Never Say Die']\n",
      " ['33498' \"Devil's Liminal\"]]\n"
     ]
    }
   ],
   "source": [
    "#gets index of wrong date data\n",
    "wrong_date_index = np.array(list(df1.index[df1[\"release_date\"] == 0]))\n",
    "#gets title of wrong date data\n",
    "wrong_date_title = np.array(list(df1[\"title\"].loc[df1[\"release_date\"] == 0]))\n",
    "\n",
    "#puts index besides the name of game\n",
    "wrong_data_combined = np.stack((wrong_date_index, wrong_date_title), axis=1)\n",
    "\n",
    "print(f\"Length: {len(wrong_data_combined)}\")\n",
    "print()\n",
    "print(wrong_data_combined)"
   ]
  },
  {
   "cell_type": "markdown",
   "id": "7e1baa19",
   "metadata": {},
   "source": [
    "<b> Cleans the release_date data using Google Search"
   ]
  },
  {
   "cell_type": "code",
   "execution_count": 99,
   "id": "24a33448",
   "metadata": {
    "scrolled": true
   },
   "outputs": [
    {
     "name": "stderr",
     "output_type": "stream",
     "text": [
      "C:\\Users\\Ahmed\\AppData\\Local\\Temp/ipykernel_14584/1763191433.py:43: SettingWithCopyWarning: \n",
      "A value is trying to be set on a copy of a slice from a DataFrame\n",
      "\n",
      "See the caveats in the documentation: https://pandas.pydata.org/pandas-docs/stable/user_guide/indexing.html#returning-a-view-versus-a-copy\n",
      "  df1[\"release_date\"][game_index] = game_year\n"
     ]
    },
    {
     "name": "stdout",
     "output_type": "stream",
     "text": [
      "https://www.google.com/search?q=video game Total War: Three Kingdoms release date\n",
      "2019\n",
      "https://www.google.com/search?q=video game Deliver Us the Moon release date\n",
      "2018\n",
      "https://www.google.com/search?q=video game Super Street Fighter IV: 3D Edition release date\n",
      "2010\n",
      "https://www.google.com/search?q=video game Jurassic Park release date\n",
      "2011\n"
     ]
    },
    {
     "name": "stderr",
     "output_type": "stream",
     "text": [
      "C:\\Users\\Ahmed\\AppData\\Local\\Temp/ipykernel_14584/1763191433.py:74: SettingWithCopyWarning: \n",
      "A value is trying to be set on a copy of a slice from a DataFrame\n",
      "\n",
      "See the caveats in the documentation: https://pandas.pydata.org/pandas-docs/stable/user_guide/indexing.html#returning-a-view-versus-a-copy\n",
      "  df1[\"release_date\"][game_index] = game_year\n"
     ]
    },
    {
     "name": "stdout",
     "output_type": "stream",
     "text": [
      "https://www.google.com/search?q=video game Squadron 42 release date\n",
      "2022\n",
      "https://www.google.com/search?q=video game Cyberpunk 2077 - Phantom Liberty release date\n",
      "2023\n",
      "https://www.google.com/search?q=video game The Lord of the Rings: Gollum release date\n",
      "2023\n",
      "https://www.google.com/search?q=video game Star Citizen release date\n",
      "2014\n",
      "https://www.google.com/search?q=video game Off the Grid release date\n",
      "2023\n",
      "https://www.google.com/search?q=video game Joyride Universe release date\n",
      "2022\n",
      "https://www.google.com/search?q=video game Silent Hill 2 release date\n",
      "2001\n",
      "https://www.google.com/search?q=video game Kingdom Hearts IV release date\n",
      "2024\n",
      "https://www.google.com/search?q=video game Star Wars: Eclipse release date\n",
      "2024\n"
     ]
    },
    {
     "name": "stderr",
     "output_type": "stream",
     "text": [
      "C:\\Users\\Ahmed\\AppData\\Local\\Temp/ipykernel_14584/1763191433.py:137: SettingWithCopyWarning: \n",
      "A value is trying to be set on a copy of a slice from a DataFrame\n",
      "\n",
      "See the caveats in the documentation: https://pandas.pydata.org/pandas-docs/stable/user_guide/indexing.html#returning-a-view-versus-a-copy\n",
      "  df1[\"release_date\"][wrong_data_combined[i][0]] = 0\n"
     ]
    },
    {
     "name": "stdout",
     "output_type": "stream",
     "text": [
      "https://www.google.com/search?q=video game Beyond Good & Evil 2 release date\n",
      "couldnt find it loser\n"
     ]
    },
    {
     "name": "stderr",
     "output_type": "stream",
     "text": [
      "C:\\Users\\Ahmed\\AppData\\Local\\Temp/ipykernel_14584/1763191433.py:74: SettingWithCopyWarning: \n",
      "A value is trying to be set on a copy of a slice from a DataFrame\n",
      "\n",
      "See the caveats in the documentation: https://pandas.pydata.org/pandas-docs/stable/user_guide/indexing.html#returning-a-view-versus-a-copy\n",
      "  df1[\"release_date\"][game_index] = game_year\n"
     ]
    },
    {
     "name": "stdout",
     "output_type": "stream",
     "text": [
      "https://www.google.com/search?q=video game Godkiller release date\n",
      "2022\n",
      "https://www.google.com/search?q=video game Star Wars: Knights of the Old Republic Remake release date\n",
      "2023\n",
      "https://www.google.com/search?q=video game Hellblade 2: Senua's Saga release date\n",
      "2023\n",
      "https://www.google.com/search?q=video game Sugary Spire release date\n",
      "2023\n",
      "https://www.google.com/search?q=video game Wonder Woman release date\n",
      "2022\n",
      "https://www.google.com/search?q=video game My Friendly Neighborhood release date\n",
      "2023\n"
     ]
    },
    {
     "name": "stderr",
     "output_type": "stream",
     "text": [
      "C:\\Users\\Ahmed\\AppData\\Local\\Temp/ipykernel_14584/1763191433.py:137: SettingWithCopyWarning: \n",
      "A value is trying to be set on a copy of a slice from a DataFrame\n",
      "\n",
      "See the caveats in the documentation: https://pandas.pydata.org/pandas-docs/stable/user_guide/indexing.html#returning-a-view-versus-a-copy\n",
      "  df1[\"release_date\"][wrong_data_combined[i][0]] = 0\n"
     ]
    },
    {
     "name": "stdout",
     "output_type": "stream",
     "text": [
      "https://www.google.com/search?q=video game Hellraid release date\n",
      "couldnt find it loser\n"
     ]
    },
    {
     "name": "stderr",
     "output_type": "stream",
     "text": [
      "C:\\Users\\Ahmed\\AppData\\Local\\Temp/ipykernel_14584/1763191433.py:74: SettingWithCopyWarning: \n",
      "A value is trying to be set on a copy of a slice from a DataFrame\n",
      "\n",
      "See the caveats in the documentation: https://pandas.pydata.org/pandas-docs/stable/user_guide/indexing.html#returning-a-view-versus-a-copy\n",
      "  df1[\"release_date\"][game_index] = game_year\n"
     ]
    },
    {
     "name": "stdout",
     "output_type": "stream",
     "text": [
      "https://www.google.com/search?q=video game Stray Gods release date\n",
      "2023\n"
     ]
    },
    {
     "name": "stderr",
     "output_type": "stream",
     "text": [
      "C:\\Users\\Ahmed\\AppData\\Local\\Temp/ipykernel_14584/1763191433.py:137: SettingWithCopyWarning: \n",
      "A value is trying to be set on a copy of a slice from a DataFrame\n",
      "\n",
      "See the caveats in the documentation: https://pandas.pydata.org/pandas-docs/stable/user_guide/indexing.html#returning-a-view-versus-a-copy\n",
      "  df1[\"release_date\"][wrong_data_combined[i][0]] = 0\n"
     ]
    },
    {
     "name": "stdout",
     "output_type": "stream",
     "text": [
      "https://www.google.com/search?q=video game Prince of Persia: The Sands of Time Remake release date\n",
      "couldnt find it loser\n"
     ]
    },
    {
     "name": "stderr",
     "output_type": "stream",
     "text": [
      "C:\\Users\\Ahmed\\AppData\\Local\\Temp/ipykernel_14584/1763191433.py:74: SettingWithCopyWarning: \n",
      "A value is trying to be set on a copy of a slice from a DataFrame\n",
      "\n",
      "See the caveats in the documentation: https://pandas.pydata.org/pandas-docs/stable/user_guide/indexing.html#returning-a-view-versus-a-copy\n",
      "  df1[\"release_date\"][game_index] = game_year\n"
     ]
    },
    {
     "name": "stdout",
     "output_type": "stream",
     "text": [
      "https://www.google.com/search?q=video game Billie Bust Up release date\n",
      "2024\n"
     ]
    },
    {
     "name": "stderr",
     "output_type": "stream",
     "text": [
      "C:\\Users\\Ahmed\\AppData\\Local\\Temp/ipykernel_14584/1763191433.py:137: SettingWithCopyWarning: \n",
      "A value is trying to be set on a copy of a slice from a DataFrame\n",
      "\n",
      "See the caveats in the documentation: https://pandas.pydata.org/pandas-docs/stable/user_guide/indexing.html#returning-a-view-versus-a-copy\n",
      "  df1[\"release_date\"][wrong_data_combined[i][0]] = 0\n"
     ]
    },
    {
     "name": "stdout",
     "output_type": "stream",
     "text": [
      "https://www.google.com/search?q=video game Judas release date\n",
      "couldnt find it loser\n"
     ]
    },
    {
     "name": "stderr",
     "output_type": "stream",
     "text": [
      "C:\\Users\\Ahmed\\AppData\\Local\\Temp/ipykernel_14584/1763191433.py:43: SettingWithCopyWarning: \n",
      "A value is trying to be set on a copy of a slice from a DataFrame\n",
      "\n",
      "See the caveats in the documentation: https://pandas.pydata.org/pandas-docs/stable/user_guide/indexing.html#returning-a-view-versus-a-copy\n",
      "  df1[\"release_date\"][game_index] = game_year\n"
     ]
    },
    {
     "name": "stdout",
     "output_type": "stream",
     "text": [
      "https://www.google.com/search?q=video game Metroid Prime 4 release date\n",
      "2022\n",
      "https://www.google.com/search?q=video game Shadow Stalkers release date\n",
      "2007\n"
     ]
    },
    {
     "name": "stderr",
     "output_type": "stream",
     "text": [
      "C:\\Users\\Ahmed\\AppData\\Local\\Temp/ipykernel_14584/1763191433.py:74: SettingWithCopyWarning: \n",
      "A value is trying to be set on a copy of a slice from a DataFrame\n",
      "\n",
      "See the caveats in the documentation: https://pandas.pydata.org/pandas-docs/stable/user_guide/indexing.html#returning-a-view-versus-a-copy\n",
      "  df1[\"release_date\"][game_index] = game_year\n"
     ]
    },
    {
     "name": "stdout",
     "output_type": "stream",
     "text": [
      "https://www.google.com/search?q=video game Max Payne Remake release date\n",
      "2022\n",
      "https://www.google.com/search?q=video game Project 007 release date\n",
      "2021\n"
     ]
    },
    {
     "name": "stderr",
     "output_type": "stream",
     "text": [
      "C:\\Users\\Ahmed\\AppData\\Local\\Temp/ipykernel_14584/1763191433.py:137: SettingWithCopyWarning: \n",
      "A value is trying to be set on a copy of a slice from a DataFrame\n",
      "\n",
      "See the caveats in the documentation: https://pandas.pydata.org/pandas-docs/stable/user_guide/indexing.html#returning-a-view-versus-a-copy\n",
      "  df1[\"release_date\"][wrong_data_combined[i][0]] = 0\n"
     ]
    },
    {
     "name": "stdout",
     "output_type": "stream",
     "text": [
      "https://www.google.com/search?q=video game Ascension Chronicles: Spheres of Influence release date\n",
      "couldnt find it loser\n"
     ]
    },
    {
     "name": "stderr",
     "output_type": "stream",
     "text": [
      "C:\\Users\\Ahmed\\AppData\\Local\\Temp/ipykernel_14584/1763191433.py:74: SettingWithCopyWarning: \n",
      "A value is trying to be set on a copy of a slice from a DataFrame\n",
      "\n",
      "See the caveats in the documentation: https://pandas.pydata.org/pandas-docs/stable/user_guide/indexing.html#returning-a-view-versus-a-copy\n",
      "  df1[\"release_date\"][game_index] = game_year\n"
     ]
    },
    {
     "name": "stdout",
     "output_type": "stream",
     "text": [
      "https://www.google.com/search?q=video game BioShock 4 release date\n",
      "2023\n",
      "https://www.google.com/search?q=video game ENA: Dream BBQ release date\n",
      "2023\n"
     ]
    },
    {
     "name": "stderr",
     "output_type": "stream",
     "text": [
      "C:\\Users\\Ahmed\\AppData\\Local\\Temp/ipykernel_14584/1763191433.py:137: SettingWithCopyWarning: \n",
      "A value is trying to be set on a copy of a slice from a DataFrame\n",
      "\n",
      "See the caveats in the documentation: https://pandas.pydata.org/pandas-docs/stable/user_guide/indexing.html#returning-a-view-versus-a-copy\n",
      "  df1[\"release_date\"][wrong_data_combined[i][0]] = 0\n"
     ]
    },
    {
     "name": "stdout",
     "output_type": "stream",
     "text": [
      "https://www.google.com/search?q=video game MegaRace: DeathMatch release date\n",
      "couldnt find it loser\n"
     ]
    },
    {
     "name": "stderr",
     "output_type": "stream",
     "text": [
      "C:\\Users\\Ahmed\\AppData\\Local\\Temp/ipykernel_14584/1763191433.py:43: SettingWithCopyWarning: \n",
      "A value is trying to be set on a copy of a slice from a DataFrame\n",
      "\n",
      "See the caveats in the documentation: https://pandas.pydata.org/pandas-docs/stable/user_guide/indexing.html#returning-a-view-versus-a-copy\n",
      "  df1[\"release_date\"][game_index] = game_year\n"
     ]
    },
    {
     "name": "stdout",
     "output_type": "stream",
     "text": [
      "https://www.google.com/search?q=video game Hades II release date\n",
      "2018\n"
     ]
    },
    {
     "name": "stderr",
     "output_type": "stream",
     "text": [
      "C:\\Users\\Ahmed\\AppData\\Local\\Temp/ipykernel_14584/1763191433.py:74: SettingWithCopyWarning: \n",
      "A value is trying to be set on a copy of a slice from a DataFrame\n",
      "\n",
      "See the caveats in the documentation: https://pandas.pydata.org/pandas-docs/stable/user_guide/indexing.html#returning-a-view-versus-a-copy\n",
      "  df1[\"release_date\"][game_index] = game_year\n"
     ]
    },
    {
     "name": "stdout",
     "output_type": "stream",
     "text": [
      "https://www.google.com/search?q=video game Polladha Ulagil Bayangara Game release date\n",
      "2020\n",
      "https://www.google.com/search?q=video game Captain America and Black Panther release date\n",
      "2022\n",
      "https://www.google.com/search?q=video game Cities: Skylines 2 release date\n",
      "2015\n",
      "https://www.google.com/search?q=video game DokeV release date\n",
      "2023\n",
      "https://www.google.com/search?q=video game Fallout 4: Capital Wasteland release date\n",
      "2018\n",
      "https://www.google.com/search?q=video game Hellboy: Web of Wyrd release date\n",
      "2023\n",
      "https://www.google.com/search?q=video game Black Mesa: Blue Shift release date\n",
      "2001\n"
     ]
    },
    {
     "name": "stderr",
     "output_type": "stream",
     "text": [
      "C:\\Users\\Ahmed\\AppData\\Local\\Temp/ipykernel_14584/1763191433.py:130: SettingWithCopyWarning: \n",
      "A value is trying to be set on a copy of a slice from a DataFrame\n",
      "\n",
      "See the caveats in the documentation: https://pandas.pydata.org/pandas-docs/stable/user_guide/indexing.html#returning-a-view-versus-a-copy\n",
      "  df1[\"release_date\"][game_index] = game_year\n"
     ]
    },
    {
     "name": "stdout",
     "output_type": "stream",
     "text": [
      "https://www.google.com/search?q=video game Fable release date\n",
      "2017\n",
      "https://www.google.com/search?q=video game Silent Hill f release date\n",
      "2022\n",
      "https://www.google.com/search?q=video game Domi Online release date\n",
      "2022\n",
      "https://www.google.com/search?q=video game Star Guardians release date\n",
      "2015\n",
      "https://www.google.com/search?q=video game Ratten Reich release date\n",
      "2023\n",
      "https://www.google.com/search?q=video game Scalebound release date\n",
      "2017\n",
      "https://www.google.com/search?q=video game DNF2001 Restoration Project release date\n",
      "2001\n"
     ]
    },
    {
     "name": "stderr",
     "output_type": "stream",
     "text": [
      "C:\\Users\\Ahmed\\AppData\\Local\\Temp/ipykernel_14584/1763191433.py:137: SettingWithCopyWarning: \n",
      "A value is trying to be set on a copy of a slice from a DataFrame\n",
      "\n",
      "See the caveats in the documentation: https://pandas.pydata.org/pandas-docs/stable/user_guide/indexing.html#returning-a-view-versus-a-copy\n",
      "  df1[\"release_date\"][wrong_data_combined[i][0]] = 0\n"
     ]
    },
    {
     "name": "stdout",
     "output_type": "stream",
     "text": [
      "https://www.google.com/search?q=video game I Married a Monster on a Hill release date\n",
      "couldnt find it loser\n"
     ]
    },
    {
     "name": "stderr",
     "output_type": "stream",
     "text": [
      "C:\\Users\\Ahmed\\AppData\\Local\\Temp/ipykernel_14584/1763191433.py:137: SettingWithCopyWarning: \n",
      "A value is trying to be set on a copy of a slice from a DataFrame\n",
      "\n",
      "See the caveats in the documentation: https://pandas.pydata.org/pandas-docs/stable/user_guide/indexing.html#returning-a-view-versus-a-copy\n",
      "  df1[\"release_date\"][wrong_data_combined[i][0]] = 0\n"
     ]
    },
    {
     "name": "stdout",
     "output_type": "stream",
     "text": [
      "https://www.google.com/search?q=video game Assassin's Creed: Codename Red release date\n",
      "couldnt find it loser\n"
     ]
    },
    {
     "name": "stderr",
     "output_type": "stream",
     "text": [
      "C:\\Users\\Ahmed\\AppData\\Local\\Temp/ipykernel_14584/1763191433.py:137: SettingWithCopyWarning: \n",
      "A value is trying to be set on a copy of a slice from a DataFrame\n",
      "\n",
      "See the caveats in the documentation: https://pandas.pydata.org/pandas-docs/stable/user_guide/indexing.html#returning-a-view-versus-a-copy\n",
      "  df1[\"release_date\"][wrong_data_combined[i][0]] = 0\n"
     ]
    },
    {
     "name": "stdout",
     "output_type": "stream",
     "text": [
      "https://www.google.com/search?q=video game EXP: War Trauma release date\n",
      "couldnt find it loser\n"
     ]
    },
    {
     "name": "stderr",
     "output_type": "stream",
     "text": [
      "C:\\Users\\Ahmed\\AppData\\Local\\Temp/ipykernel_14584/1763191433.py:137: SettingWithCopyWarning: \n",
      "A value is trying to be set on a copy of a slice from a DataFrame\n",
      "\n",
      "See the caveats in the documentation: https://pandas.pydata.org/pandas-docs/stable/user_guide/indexing.html#returning-a-view-versus-a-copy\n",
      "  df1[\"release_date\"][wrong_data_combined[i][0]] = 0\n"
     ]
    },
    {
     "name": "stdout",
     "output_type": "stream",
     "text": [
      "https://www.google.com/search?q=video game Camp's Not Dead release date\n",
      "couldnt find it loser\n"
     ]
    },
    {
     "name": "stderr",
     "output_type": "stream",
     "text": [
      "C:\\Users\\Ahmed\\AppData\\Local\\Temp/ipykernel_14584/1763191433.py:74: SettingWithCopyWarning: \n",
      "A value is trying to be set on a copy of a slice from a DataFrame\n",
      "\n",
      "See the caveats in the documentation: https://pandas.pydata.org/pandas-docs/stable/user_guide/indexing.html#returning-a-view-versus-a-copy\n",
      "  df1[\"release_date\"][game_index] = game_year\n"
     ]
    },
    {
     "name": "stdout",
     "output_type": "stream",
     "text": [
      "https://www.google.com/search?q=video game Project: Eden's Garden release date\n",
      "2022\n"
     ]
    },
    {
     "name": "stderr",
     "output_type": "stream",
     "text": [
      "C:\\Users\\Ahmed\\AppData\\Local\\Temp/ipykernel_14584/1763191433.py:137: SettingWithCopyWarning: \n",
      "A value is trying to be set on a copy of a slice from a DataFrame\n",
      "\n",
      "See the caveats in the documentation: https://pandas.pydata.org/pandas-docs/stable/user_guide/indexing.html#returning-a-view-versus-a-copy\n",
      "  df1[\"release_date\"][wrong_data_combined[i][0]] = 0\n"
     ]
    },
    {
     "name": "stdout",
     "output_type": "stream",
     "text": [
      "https://www.google.com/search?q=video game The Witcher Remake release date\n",
      "couldnt find it loser\n"
     ]
    },
    {
     "name": "stderr",
     "output_type": "stream",
     "text": [
      "C:\\Users\\Ahmed\\AppData\\Local\\Temp/ipykernel_14584/1763191433.py:74: SettingWithCopyWarning: \n",
      "A value is trying to be set on a copy of a slice from a DataFrame\n",
      "\n",
      "See the caveats in the documentation: https://pandas.pydata.org/pandas-docs/stable/user_guide/indexing.html#returning-a-view-versus-a-copy\n",
      "  df1[\"release_date\"][game_index] = game_year\n"
     ]
    },
    {
     "name": "stdout",
     "output_type": "stream",
     "text": [
      "https://www.google.com/search?q=video game Horror Seducer release date\n",
      "2021\n"
     ]
    },
    {
     "name": "stderr",
     "output_type": "stream",
     "text": [
      "C:\\Users\\Ahmed\\AppData\\Local\\Temp/ipykernel_14584/1763191433.py:43: SettingWithCopyWarning: \n",
      "A value is trying to be set on a copy of a slice from a DataFrame\n",
      "\n",
      "See the caveats in the documentation: https://pandas.pydata.org/pandas-docs/stable/user_guide/indexing.html#returning-a-view-versus-a-copy\n",
      "  df1[\"release_date\"][game_index] = game_year\n"
     ]
    },
    {
     "name": "stdout",
     "output_type": "stream",
     "text": [
      "https://www.google.com/search?q=video game Fallout 4: London release date\n",
      "2023\n",
      "https://www.google.com/search?q=video game Transformers: Reactivate release date\n",
      "2023\n"
     ]
    },
    {
     "name": "stderr",
     "output_type": "stream",
     "text": [
      "C:\\Users\\Ahmed\\AppData\\Local\\Temp/ipykernel_14584/1763191433.py:137: SettingWithCopyWarning: \n",
      "A value is trying to be set on a copy of a slice from a DataFrame\n",
      "\n",
      "See the caveats in the documentation: https://pandas.pydata.org/pandas-docs/stable/user_guide/indexing.html#returning-a-view-versus-a-copy\n",
      "  df1[\"release_date\"][wrong_data_combined[i][0]] = 0\n"
     ]
    },
    {
     "name": "stdout",
     "output_type": "stream",
     "text": [
      "https://www.google.com/search?q=video game Little Devil Inside release date\n",
      "couldnt find it loser\n"
     ]
    },
    {
     "name": "stderr",
     "output_type": "stream",
     "text": [
      "C:\\Users\\Ahmed\\AppData\\Local\\Temp/ipykernel_14584/1763191433.py:74: SettingWithCopyWarning: \n",
      "A value is trying to be set on a copy of a slice from a DataFrame\n",
      "\n",
      "See the caveats in the documentation: https://pandas.pydata.org/pandas-docs/stable/user_guide/indexing.html#returning-a-view-versus-a-copy\n",
      "  df1[\"release_date\"][game_index] = game_year\n"
     ]
    },
    {
     "name": "stdout",
     "output_type": "stream",
     "text": [
      "https://www.google.com/search?q=video game Black Sands: Legends of the Rift release date\n",
      "2016\n",
      "https://www.google.com/search?q=video game John Carter, Warlord of Mars release date\n",
      "1979\n"
     ]
    },
    {
     "name": "stderr",
     "output_type": "stream",
     "text": [
      "C:\\Users\\Ahmed\\AppData\\Local\\Temp/ipykernel_14584/1763191433.py:43: SettingWithCopyWarning: \n",
      "A value is trying to be set on a copy of a slice from a DataFrame\n",
      "\n",
      "See the caveats in the documentation: https://pandas.pydata.org/pandas-docs/stable/user_guide/indexing.html#returning-a-view-versus-a-copy\n",
      "  df1[\"release_date\"][game_index] = game_year\n"
     ]
    },
    {
     "name": "stdout",
     "output_type": "stream",
     "text": [
      "https://www.google.com/search?q=video game Edge of Twilight release date\n",
      "2016\n",
      "https://www.google.com/search?q=video game Vertigo 2 release date\n",
      "2023\n"
     ]
    },
    {
     "name": "stderr",
     "output_type": "stream",
     "text": [
      "C:\\Users\\Ahmed\\AppData\\Local\\Temp/ipykernel_14584/1763191433.py:137: SettingWithCopyWarning: \n",
      "A value is trying to be set on a copy of a slice from a DataFrame\n",
      "\n",
      "See the caveats in the documentation: https://pandas.pydata.org/pandas-docs/stable/user_guide/indexing.html#returning-a-view-versus-a-copy\n",
      "  df1[\"release_date\"][wrong_data_combined[i][0]] = 0\n"
     ]
    },
    {
     "name": "stdout",
     "output_type": "stream",
     "text": [
      "https://www.google.com/search?q=video game EyesOnly - TopSecret release date\n",
      "couldnt find it loser\n"
     ]
    },
    {
     "name": "stderr",
     "output_type": "stream",
     "text": [
      "C:\\Users\\Ahmed\\AppData\\Local\\Temp/ipykernel_14584/1763191433.py:74: SettingWithCopyWarning: \n",
      "A value is trying to be set on a copy of a slice from a DataFrame\n",
      "\n",
      "See the caveats in the documentation: https://pandas.pydata.org/pandas-docs/stable/user_guide/indexing.html#returning-a-view-versus-a-copy\n",
      "  df1[\"release_date\"][game_index] = game_year\n"
     ]
    },
    {
     "name": "stdout",
     "output_type": "stream",
     "text": [
      "https://www.google.com/search?q=video game Demon Slayer: Blood-Stench Blade Royale release date\n",
      "2020\n",
      "https://www.google.com/search?q=video game Project Borealis release date\n",
      "2020\n"
     ]
    },
    {
     "name": "stderr",
     "output_type": "stream",
     "text": [
      "C:\\Users\\Ahmed\\AppData\\Local\\Temp/ipykernel_14584/1763191433.py:43: SettingWithCopyWarning: \n",
      "A value is trying to be set on a copy of a slice from a DataFrame\n",
      "\n",
      "See the caveats in the documentation: https://pandas.pydata.org/pandas-docs/stable/user_guide/indexing.html#returning-a-view-versus-a-copy\n",
      "  df1[\"release_date\"][game_index] = game_year\n"
     ]
    },
    {
     "name": "stdout",
     "output_type": "stream",
     "text": [
      "https://www.google.com/search?q=video game Fallen Tear: The Ascension release date\n",
      "2021\n",
      "https://www.google.com/search?q=video game Shattered Heaven release date\n",
      "2023\n",
      "https://www.google.com/search?q=video game Assassin's Creed Codename Hexe release date\n",
      "2023\n"
     ]
    },
    {
     "name": "stderr",
     "output_type": "stream",
     "text": [
      "C:\\Users\\Ahmed\\AppData\\Local\\Temp/ipykernel_14584/1763191433.py:137: SettingWithCopyWarning: \n",
      "A value is trying to be set on a copy of a slice from a DataFrame\n",
      "\n",
      "See the caveats in the documentation: https://pandas.pydata.org/pandas-docs/stable/user_guide/indexing.html#returning-a-view-versus-a-copy\n",
      "  df1[\"release_date\"][wrong_data_combined[i][0]] = 0\n"
     ]
    },
    {
     "name": "stdout",
     "output_type": "stream",
     "text": [
      "https://www.google.com/search?q=video game Doragonbôru Z: Sparking! 4 release date\n",
      "couldnt find it loser\n"
     ]
    },
    {
     "name": "stderr",
     "output_type": "stream",
     "text": [
      "C:\\Users\\Ahmed\\AppData\\Local\\Temp/ipykernel_14584/1763191433.py:74: SettingWithCopyWarning: \n",
      "A value is trying to be set on a copy of a slice from a DataFrame\n",
      "\n",
      "See the caveats in the documentation: https://pandas.pydata.org/pandas-docs/stable/user_guide/indexing.html#returning-a-view-versus-a-copy\n",
      "  df1[\"release_date\"][game_index] = game_year\n"
     ]
    },
    {
     "name": "stdout",
     "output_type": "stream",
     "text": [
      "https://www.google.com/search?q=video game Kingsblood release date\n",
      "2023\n"
     ]
    },
    {
     "name": "stderr",
     "output_type": "stream",
     "text": [
      "C:\\Users\\Ahmed\\AppData\\Local\\Temp/ipykernel_14584/1763191433.py:137: SettingWithCopyWarning: \n",
      "A value is trying to be set on a copy of a slice from a DataFrame\n",
      "\n",
      "See the caveats in the documentation: https://pandas.pydata.org/pandas-docs/stable/user_guide/indexing.html#returning-a-view-versus-a-copy\n",
      "  df1[\"release_date\"][wrong_data_combined[i][0]] = 0\n"
     ]
    },
    {
     "name": "stdout",
     "output_type": "stream",
     "text": [
      "https://www.google.com/search?q=video game Avowed release date\n",
      "couldnt find it loser\n"
     ]
    },
    {
     "name": "stderr",
     "output_type": "stream",
     "text": [
      "C:\\Users\\Ahmed\\AppData\\Local\\Temp/ipykernel_14584/1763191433.py:74: SettingWithCopyWarning: \n",
      "A value is trying to be set on a copy of a slice from a DataFrame\n",
      "\n",
      "See the caveats in the documentation: https://pandas.pydata.org/pandas-docs/stable/user_guide/indexing.html#returning-a-view-versus-a-copy\n",
      "  df1[\"release_date\"][game_index] = game_year\n"
     ]
    },
    {
     "name": "stdout",
     "output_type": "stream",
     "text": [
      "https://www.google.com/search?q=video game Bye Sweet Carole 2 release date\n",
      "2023\n"
     ]
    },
    {
     "name": "stderr",
     "output_type": "stream",
     "text": [
      "C:\\Users\\Ahmed\\AppData\\Local\\Temp/ipykernel_14584/1763191433.py:43: SettingWithCopyWarning: \n",
      "A value is trying to be set on a copy of a slice from a DataFrame\n",
      "\n",
      "See the caveats in the documentation: https://pandas.pydata.org/pandas-docs/stable/user_guide/indexing.html#returning-a-view-versus-a-copy\n",
      "  df1[\"release_date\"][game_index] = game_year\n"
     ]
    },
    {
     "name": "stdout",
     "output_type": "stream",
     "text": [
      "https://www.google.com/search?q=video game Granblue Fantasy: Relink release date\n",
      "2023\n"
     ]
    },
    {
     "name": "stderr",
     "output_type": "stream",
     "text": [
      "C:\\Users\\Ahmed\\AppData\\Local\\Temp/ipykernel_14584/1763191433.py:137: SettingWithCopyWarning: \n",
      "A value is trying to be set on a copy of a slice from a DataFrame\n",
      "\n",
      "See the caveats in the documentation: https://pandas.pydata.org/pandas-docs/stable/user_guide/indexing.html#returning-a-view-versus-a-copy\n",
      "  df1[\"release_date\"][wrong_data_combined[i][0]] = 0\n"
     ]
    },
    {
     "name": "stdout",
     "output_type": "stream",
     "text": [
      "https://www.google.com/search?q=video game Text Me Back release date\n",
      "couldnt find it loser\n"
     ]
    },
    {
     "name": "stderr",
     "output_type": "stream",
     "text": [
      "C:\\Users\\Ahmed\\AppData\\Local\\Temp/ipykernel_14584/1763191433.py:137: SettingWithCopyWarning: \n",
      "A value is trying to be set on a copy of a slice from a DataFrame\n",
      "\n",
      "See the caveats in the documentation: https://pandas.pydata.org/pandas-docs/stable/user_guide/indexing.html#returning-a-view-versus-a-copy\n",
      "  df1[\"release_date\"][wrong_data_combined[i][0]] = 0\n"
     ]
    },
    {
     "name": "stdout",
     "output_type": "stream",
     "text": [
      "https://www.google.com/search?q=video game Echoes of the End release date\n",
      "couldnt find it loser\n"
     ]
    },
    {
     "name": "stderr",
     "output_type": "stream",
     "text": [
      "C:\\Users\\Ahmed\\AppData\\Local\\Temp/ipykernel_14584/1763191433.py:74: SettingWithCopyWarning: \n",
      "A value is trying to be set on a copy of a slice from a DataFrame\n",
      "\n",
      "See the caveats in the documentation: https://pandas.pydata.org/pandas-docs/stable/user_guide/indexing.html#returning-a-view-versus-a-copy\n",
      "  df1[\"release_date\"][game_index] = game_year\n"
     ]
    },
    {
     "name": "stdout",
     "output_type": "stream",
     "text": [
      "https://www.google.com/search?q=video game Ember Sword release date\n",
      "2023\n",
      "https://www.google.com/search?q=video game A life of consequence release date\n",
      "2022\n"
     ]
    },
    {
     "name": "stderr",
     "output_type": "stream",
     "text": [
      "C:\\Users\\Ahmed\\AppData\\Local\\Temp/ipykernel_14584/1763191433.py:137: SettingWithCopyWarning: \n",
      "A value is trying to be set on a copy of a slice from a DataFrame\n",
      "\n",
      "See the caveats in the documentation: https://pandas.pydata.org/pandas-docs/stable/user_guide/indexing.html#returning-a-view-versus-a-copy\n",
      "  df1[\"release_date\"][wrong_data_combined[i][0]] = 0\n"
     ]
    },
    {
     "name": "stdout",
     "output_type": "stream",
     "text": [
      "https://www.google.com/search?q=video game Doomsday Paradise release date\n",
      "couldnt find it loser\n"
     ]
    },
    {
     "name": "stderr",
     "output_type": "stream",
     "text": [
      "C:\\Users\\Ahmed\\AppData\\Local\\Temp/ipykernel_14584/1763191433.py:137: SettingWithCopyWarning: \n",
      "A value is trying to be set on a copy of a slice from a DataFrame\n",
      "\n",
      "See the caveats in the documentation: https://pandas.pydata.org/pandas-docs/stable/user_guide/indexing.html#returning-a-view-versus-a-copy\n",
      "  df1[\"release_date\"][wrong_data_combined[i][0]] = 0\n"
     ]
    },
    {
     "name": "stdout",
     "output_type": "stream",
     "text": [
      "https://www.google.com/search?q=video game Fiona Frightening and the Wicked Wardrobe release date\n",
      "couldnt find it loser\n"
     ]
    },
    {
     "name": "stderr",
     "output_type": "stream",
     "text": [
      "C:\\Users\\Ahmed\\AppData\\Local\\Temp/ipykernel_14584/1763191433.py:137: SettingWithCopyWarning: \n",
      "A value is trying to be set on a copy of a slice from a DataFrame\n",
      "\n",
      "See the caveats in the documentation: https://pandas.pydata.org/pandas-docs/stable/user_guide/indexing.html#returning-a-view-versus-a-copy\n",
      "  df1[\"release_date\"][wrong_data_combined[i][0]] = 0\n"
     ]
    },
    {
     "name": "stdout",
     "output_type": "stream",
     "text": [
      "https://www.google.com/search?q=video game Fuzzy Gets a House release date\n",
      "couldnt find it loser\n"
     ]
    },
    {
     "name": "stderr",
     "output_type": "stream",
     "text": [
      "C:\\Users\\Ahmed\\AppData\\Local\\Temp/ipykernel_14584/1763191433.py:43: SettingWithCopyWarning: \n",
      "A value is trying to be set on a copy of a slice from a DataFrame\n",
      "\n",
      "See the caveats in the documentation: https://pandas.pydata.org/pandas-docs/stable/user_guide/indexing.html#returning-a-view-versus-a-copy\n",
      "  df1[\"release_date\"][game_index] = game_year\n"
     ]
    },
    {
     "name": "stdout",
     "output_type": "stream",
     "text": [
      "https://www.google.com/search?q=video game The Lords of the Fallen release date\n",
      "2014\n"
     ]
    },
    {
     "name": "stderr",
     "output_type": "stream",
     "text": [
      "C:\\Users\\Ahmed\\AppData\\Local\\Temp/ipykernel_14584/1763191433.py:137: SettingWithCopyWarning: \n",
      "A value is trying to be set on a copy of a slice from a DataFrame\n",
      "\n",
      "See the caveats in the documentation: https://pandas.pydata.org/pandas-docs/stable/user_guide/indexing.html#returning-a-view-versus-a-copy\n",
      "  df1[\"release_date\"][wrong_data_combined[i][0]] = 0\n"
     ]
    },
    {
     "name": "stdout",
     "output_type": "stream",
     "text": [
      "https://www.google.com/search?q=video game Enenra release date\n",
      "couldnt find it loser\n"
     ]
    },
    {
     "name": "stderr",
     "output_type": "stream",
     "text": [
      "C:\\Users\\Ahmed\\AppData\\Local\\Temp/ipykernel_14584/1763191433.py:137: SettingWithCopyWarning: \n",
      "A value is trying to be set on a copy of a slice from a DataFrame\n",
      "\n",
      "See the caveats in the documentation: https://pandas.pydata.org/pandas-docs/stable/user_guide/indexing.html#returning-a-view-versus-a-copy\n",
      "  df1[\"release_date\"][wrong_data_combined[i][0]] = 0\n"
     ]
    },
    {
     "name": "stdout",
     "output_type": "stream",
     "text": [
      "https://www.google.com/search?q=video game Where Winds Meet release date\n",
      "couldnt find it loser\n"
     ]
    },
    {
     "name": "stderr",
     "output_type": "stream",
     "text": [
      "C:\\Users\\Ahmed\\AppData\\Local\\Temp/ipykernel_14584/1763191433.py:43: SettingWithCopyWarning: \n",
      "A value is trying to be set on a copy of a slice from a DataFrame\n",
      "\n",
      "See the caveats in the documentation: https://pandas.pydata.org/pandas-docs/stable/user_guide/indexing.html#returning-a-view-versus-a-copy\n",
      "  df1[\"release_date\"][game_index] = game_year\n"
     ]
    },
    {
     "name": "stdout",
     "output_type": "stream",
     "text": [
      "https://www.google.com/search?q=video game Slave Zero X release date\n",
      "2023\n"
     ]
    },
    {
     "name": "stderr",
     "output_type": "stream",
     "text": [
      "C:\\Users\\Ahmed\\AppData\\Local\\Temp/ipykernel_14584/1763191433.py:74: SettingWithCopyWarning: \n",
      "A value is trying to be set on a copy of a slice from a DataFrame\n",
      "\n",
      "See the caveats in the documentation: https://pandas.pydata.org/pandas-docs/stable/user_guide/indexing.html#returning-a-view-versus-a-copy\n",
      "  df1[\"release_date\"][game_index] = game_year\n"
     ]
    },
    {
     "name": "stdout",
     "output_type": "stream",
     "text": [
      "https://www.google.com/search?q=video game Is it to late? release date\n",
      "2023\n"
     ]
    },
    {
     "name": "stderr",
     "output_type": "stream",
     "text": [
      "C:\\Users\\Ahmed\\AppData\\Local\\Temp/ipykernel_14584/1763191433.py:137: SettingWithCopyWarning: \n",
      "A value is trying to be set on a copy of a slice from a DataFrame\n",
      "\n",
      "See the caveats in the documentation: https://pandas.pydata.org/pandas-docs/stable/user_guide/indexing.html#returning-a-view-versus-a-copy\n",
      "  df1[\"release_date\"][wrong_data_combined[i][0]] = 0\n"
     ]
    },
    {
     "name": "stdout",
     "output_type": "stream",
     "text": [
      "https://www.google.com/search?q=video game PixelWave Island release date\n",
      "couldnt find it loser\n"
     ]
    },
    {
     "name": "stderr",
     "output_type": "stream",
     "text": [
      "C:\\Users\\Ahmed\\AppData\\Local\\Temp/ipykernel_14584/1763191433.py:43: SettingWithCopyWarning: \n",
      "A value is trying to be set on a copy of a slice from a DataFrame\n",
      "\n",
      "See the caveats in the documentation: https://pandas.pydata.org/pandas-docs/stable/user_guide/indexing.html#returning-a-view-versus-a-copy\n",
      "  df1[\"release_date\"][game_index] = game_year\n"
     ]
    },
    {
     "name": "stdout",
     "output_type": "stream",
     "text": [
      "https://www.google.com/search?q=video game Rush Attack release date\n",
      "1985\n"
     ]
    },
    {
     "name": "stderr",
     "output_type": "stream",
     "text": [
      "C:\\Users\\Ahmed\\AppData\\Local\\Temp/ipykernel_14584/1763191433.py:74: SettingWithCopyWarning: \n",
      "A value is trying to be set on a copy of a slice from a DataFrame\n",
      "\n",
      "See the caveats in the documentation: https://pandas.pydata.org/pandas-docs/stable/user_guide/indexing.html#returning-a-view-versus-a-copy\n",
      "  df1[\"release_date\"][game_index] = game_year\n"
     ]
    },
    {
     "name": "stdout",
     "output_type": "stream",
     "text": [
      "https://www.google.com/search?q=video game Watch the Hell release date\n",
      "2023\n"
     ]
    },
    {
     "name": "stderr",
     "output_type": "stream",
     "text": [
      "C:\\Users\\Ahmed\\AppData\\Local\\Temp/ipykernel_14584/1763191433.py:137: SettingWithCopyWarning: \n",
      "A value is trying to be set on a copy of a slice from a DataFrame\n",
      "\n",
      "See the caveats in the documentation: https://pandas.pydata.org/pandas-docs/stable/user_guide/indexing.html#returning-a-view-versus-a-copy\n",
      "  df1[\"release_date\"][wrong_data_combined[i][0]] = 0\n"
     ]
    },
    {
     "name": "stdout",
     "output_type": "stream",
     "text": [
      "https://www.google.com/search?q=video game Quest Failed - Chapter Two release date\n",
      "couldnt find it loser\n"
     ]
    },
    {
     "name": "stderr",
     "output_type": "stream",
     "text": [
      "C:\\Users\\Ahmed\\AppData\\Local\\Temp/ipykernel_14584/1763191433.py:137: SettingWithCopyWarning: \n",
      "A value is trying to be set on a copy of a slice from a DataFrame\n",
      "\n",
      "See the caveats in the documentation: https://pandas.pydata.org/pandas-docs/stable/user_guide/indexing.html#returning-a-view-versus-a-copy\n",
      "  df1[\"release_date\"][wrong_data_combined[i][0]] = 0\n"
     ]
    },
    {
     "name": "stdout",
     "output_type": "stream",
     "text": [
      "https://www.google.com/search?q=video game Midautumn release date\n",
      "couldnt find it loser\n"
     ]
    },
    {
     "name": "stderr",
     "output_type": "stream",
     "text": [
      "C:\\Users\\Ahmed\\AppData\\Local\\Temp/ipykernel_14584/1763191433.py:43: SettingWithCopyWarning: \n",
      "A value is trying to be set on a copy of a slice from a DataFrame\n",
      "\n",
      "See the caveats in the documentation: https://pandas.pydata.org/pandas-docs/stable/user_guide/indexing.html#returning-a-view-versus-a-copy\n",
      "  df1[\"release_date\"][game_index] = game_year\n"
     ]
    },
    {
     "name": "stdout",
     "output_type": "stream",
     "text": [
      "https://www.google.com/search?q=video game Sands of Aura release date\n",
      "2021\n"
     ]
    },
    {
     "name": "stderr",
     "output_type": "stream",
     "text": [
      "C:\\Users\\Ahmed\\AppData\\Local\\Temp/ipykernel_14584/1763191433.py:137: SettingWithCopyWarning: \n",
      "A value is trying to be set on a copy of a slice from a DataFrame\n",
      "\n",
      "See the caveats in the documentation: https://pandas.pydata.org/pandas-docs/stable/user_guide/indexing.html#returning-a-view-versus-a-copy\n",
      "  df1[\"release_date\"][wrong_data_combined[i][0]] = 0\n"
     ]
    },
    {
     "name": "stdout",
     "output_type": "stream",
     "text": [
      "https://www.google.com/search?q=video game My Eyes on You release date\n",
      "couldnt find it loser\n"
     ]
    },
    {
     "name": "stderr",
     "output_type": "stream",
     "text": [
      "C:\\Users\\Ahmed\\AppData\\Local\\Temp/ipykernel_14584/1763191433.py:137: SettingWithCopyWarning: \n",
      "A value is trying to be set on a copy of a slice from a DataFrame\n",
      "\n",
      "See the caveats in the documentation: https://pandas.pydata.org/pandas-docs/stable/user_guide/indexing.html#returning-a-view-versus-a-copy\n",
      "  df1[\"release_date\"][wrong_data_combined[i][0]] = 0\n"
     ]
    },
    {
     "name": "stdout",
     "output_type": "stream",
     "text": [
      "https://www.google.com/search?q=video game Rat Race release date\n",
      "couldnt find it loser\n"
     ]
    },
    {
     "name": "stderr",
     "output_type": "stream",
     "text": [
      "C:\\Users\\Ahmed\\AppData\\Local\\Temp/ipykernel_14584/1763191433.py:137: SettingWithCopyWarning: \n",
      "A value is trying to be set on a copy of a slice from a DataFrame\n",
      "\n",
      "See the caveats in the documentation: https://pandas.pydata.org/pandas-docs/stable/user_guide/indexing.html#returning-a-view-versus-a-copy\n",
      "  df1[\"release_date\"][wrong_data_combined[i][0]] = 0\n"
     ]
    },
    {
     "name": "stdout",
     "output_type": "stream",
     "text": [
      "https://www.google.com/search?q=video game Last Days of Snow release date\n",
      "couldnt find it loser\n"
     ]
    },
    {
     "name": "stderr",
     "output_type": "stream",
     "text": [
      "C:\\Users\\Ahmed\\AppData\\Local\\Temp/ipykernel_14584/1763191433.py:74: SettingWithCopyWarning: \n",
      "A value is trying to be set on a copy of a slice from a DataFrame\n",
      "\n",
      "See the caveats in the documentation: https://pandas.pydata.org/pandas-docs/stable/user_guide/indexing.html#returning-a-view-versus-a-copy\n",
      "  df1[\"release_date\"][game_index] = game_year\n"
     ]
    },
    {
     "name": "stdout",
     "output_type": "stream",
     "text": [
      "https://www.google.com/search?q=video game Remothered: Chapter 3 release date\n",
      "2022\n"
     ]
    },
    {
     "name": "stderr",
     "output_type": "stream",
     "text": [
      "C:\\Users\\Ahmed\\AppData\\Local\\Temp/ipykernel_14584/1763191433.py:43: SettingWithCopyWarning: \n",
      "A value is trying to be set on a copy of a slice from a DataFrame\n",
      "\n",
      "See the caveats in the documentation: https://pandas.pydata.org/pandas-docs/stable/user_guide/indexing.html#returning-a-view-versus-a-copy\n",
      "  df1[\"release_date\"][game_index] = game_year\n"
     ]
    },
    {
     "name": "stdout",
     "output_type": "stream",
     "text": [
      "https://www.google.com/search?q=video game Crimson Keep release date\n",
      "2018\n",
      "https://www.google.com/search?q=video game Eternights release date\n",
      "2023\n",
      "https://www.google.com/search?q=video game Syndicate of Souls release date\n",
      "2012\n",
      "https://www.google.com/search?q=video game Assault Knights 2: Fallen Knight release date\n",
      "2022\n",
      "https://www.google.com/search?q=video game Last Action Hero release date\n",
      "1993\n",
      "https://www.google.com/search?q=video game Fortnite: Chapter 4 Season 1 release date\n",
      "2023\n",
      "https://www.google.com/search?q=video game The Haunting of Flavel House release date\n",
      "2023\n",
      "https://www.google.com/search?q=video game Apocalyptic Dream release date\n",
      "2022\n"
     ]
    },
    {
     "name": "stderr",
     "output_type": "stream",
     "text": [
      "C:\\Users\\Ahmed\\AppData\\Local\\Temp/ipykernel_14584/1763191433.py:137: SettingWithCopyWarning: \n",
      "A value is trying to be set on a copy of a slice from a DataFrame\n",
      "\n",
      "See the caveats in the documentation: https://pandas.pydata.org/pandas-docs/stable/user_guide/indexing.html#returning-a-view-versus-a-copy\n",
      "  df1[\"release_date\"][wrong_data_combined[i][0]] = 0\n"
     ]
    },
    {
     "name": "stdout",
     "output_type": "stream",
     "text": [
      "https://www.google.com/search?q=video game Brassheart release date\n",
      "couldnt find it loser\n"
     ]
    },
    {
     "name": "stderr",
     "output_type": "stream",
     "text": [
      "C:\\Users\\Ahmed\\AppData\\Local\\Temp/ipykernel_14584/1763191433.py:74: SettingWithCopyWarning: \n",
      "A value is trying to be set on a copy of a slice from a DataFrame\n",
      "\n",
      "See the caveats in the documentation: https://pandas.pydata.org/pandas-docs/stable/user_guide/indexing.html#returning-a-view-versus-a-copy\n",
      "  df1[\"release_date\"][game_index] = game_year\n"
     ]
    },
    {
     "name": "stdout",
     "output_type": "stream",
     "text": [
      "https://www.google.com/search?q=video game Routine release date\n",
      "2023\n",
      "https://www.google.com/search?q=video game Legends Never Die release date\n",
      "2017\n"
     ]
    },
    {
     "name": "stderr",
     "output_type": "stream",
     "text": [
      "C:\\Users\\Ahmed\\AppData\\Local\\Temp/ipykernel_14584/1763191433.py:137: SettingWithCopyWarning: \n",
      "A value is trying to be set on a copy of a slice from a DataFrame\n",
      "\n",
      "See the caveats in the documentation: https://pandas.pydata.org/pandas-docs/stable/user_guide/indexing.html#returning-a-view-versus-a-copy\n",
      "  df1[\"release_date\"][wrong_data_combined[i][0]] = 0\n"
     ]
    },
    {
     "name": "stdout",
     "output_type": "stream",
     "text": [
      "https://www.google.com/search?q=video game Jamjam'n Jelly - The nonsensical, high tactical, 110% cute em up. release date\n",
      "couldnt find it loser\n"
     ]
    },
    {
     "name": "stderr",
     "output_type": "stream",
     "text": [
      "C:\\Users\\Ahmed\\AppData\\Local\\Temp/ipykernel_14584/1763191433.py:43: SettingWithCopyWarning: \n",
      "A value is trying to be set on a copy of a slice from a DataFrame\n",
      "\n",
      "See the caveats in the documentation: https://pandas.pydata.org/pandas-docs/stable/user_guide/indexing.html#returning-a-view-versus-a-copy\n",
      "  df1[\"release_date\"][game_index] = game_year\n"
     ]
    },
    {
     "name": "stdout",
     "output_type": "stream",
     "text": [
      "https://www.google.com/search?q=video game Ryû ga gotoku 8 release date\n",
      "2024\n"
     ]
    },
    {
     "name": "stderr",
     "output_type": "stream",
     "text": [
      "C:\\Users\\Ahmed\\AppData\\Local\\Temp/ipykernel_14584/1763191433.py:74: SettingWithCopyWarning: \n",
      "A value is trying to be set on a copy of a slice from a DataFrame\n",
      "\n",
      "See the caveats in the documentation: https://pandas.pydata.org/pandas-docs/stable/user_guide/indexing.html#returning-a-view-versus-a-copy\n",
      "  df1[\"release_date\"][game_index] = game_year\n"
     ]
    },
    {
     "name": "stdout",
     "output_type": "stream",
     "text": [
      "https://www.google.com/search?q=video game I Just Want to be Single!! release date\n",
      "2024\n"
     ]
    },
    {
     "name": "stderr",
     "output_type": "stream",
     "text": [
      "C:\\Users\\Ahmed\\AppData\\Local\\Temp/ipykernel_14584/1763191433.py:103: SettingWithCopyWarning: \n",
      "A value is trying to be set on a copy of a slice from a DataFrame\n",
      "\n",
      "See the caveats in the documentation: https://pandas.pydata.org/pandas-docs/stable/user_guide/indexing.html#returning-a-view-versus-a-copy\n",
      "  df1[\"release_date\"][game_index] = game_year\n"
     ]
    },
    {
     "name": "stdout",
     "output_type": "stream",
     "text": [
      "https://www.google.com/search?q=video game The Shelter: A Survival Story release date\n",
      "2018\n",
      "https://www.google.com/search?q=video game Infinity Nikki release date\n",
      "2023\n",
      "https://www.google.com/search?q=video game Silent Hill: Townfall release date\n",
      "2022\n"
     ]
    },
    {
     "name": "stderr",
     "output_type": "stream",
     "text": [
      "C:\\Users\\Ahmed\\AppData\\Local\\Temp/ipykernel_14584/1763191433.py:137: SettingWithCopyWarning: \n",
      "A value is trying to be set on a copy of a slice from a DataFrame\n",
      "\n",
      "See the caveats in the documentation: https://pandas.pydata.org/pandas-docs/stable/user_guide/indexing.html#returning-a-view-versus-a-copy\n",
      "  df1[\"release_date\"][wrong_data_combined[i][0]] = 0\n"
     ]
    },
    {
     "name": "stdout",
     "output_type": "stream",
     "text": [
      "https://www.google.com/search?q=video game Liquidation - Echoes of the Past release date\n",
      "couldnt find it loser\n"
     ]
    },
    {
     "name": "stderr",
     "output_type": "stream",
     "text": [
      "C:\\Users\\Ahmed\\AppData\\Local\\Temp/ipykernel_14584/1763191433.py:137: SettingWithCopyWarning: \n",
      "A value is trying to be set on a copy of a slice from a DataFrame\n",
      "\n",
      "See the caveats in the documentation: https://pandas.pydata.org/pandas-docs/stable/user_guide/indexing.html#returning-a-view-versus-a-copy\n",
      "  df1[\"release_date\"][wrong_data_combined[i][0]] = 0\n"
     ]
    },
    {
     "name": "stdout",
     "output_type": "stream",
     "text": [
      "https://www.google.com/search?q=video game LunHour release date\n",
      "couldnt find it loser\n"
     ]
    },
    {
     "name": "stderr",
     "output_type": "stream",
     "text": [
      "C:\\Users\\Ahmed\\AppData\\Local\\Temp/ipykernel_14584/1763191433.py:43: SettingWithCopyWarning: \n",
      "A value is trying to be set on a copy of a slice from a DataFrame\n",
      "\n",
      "See the caveats in the documentation: https://pandas.pydata.org/pandas-docs/stable/user_guide/indexing.html#returning-a-view-versus-a-copy\n",
      "  df1[\"release_date\"][game_index] = game_year\n"
     ]
    },
    {
     "name": "stdout",
     "output_type": "stream",
     "text": [
      "https://www.google.com/search?q=video game Detour Bus release date\n",
      "2021\n"
     ]
    },
    {
     "name": "stderr",
     "output_type": "stream",
     "text": [
      "C:\\Users\\Ahmed\\AppData\\Local\\Temp/ipykernel_14584/1763191433.py:74: SettingWithCopyWarning: \n",
      "A value is trying to be set on a copy of a slice from a DataFrame\n",
      "\n",
      "See the caveats in the documentation: https://pandas.pydata.org/pandas-docs/stable/user_guide/indexing.html#returning-a-view-versus-a-copy\n",
      "  df1[\"release_date\"][game_index] = game_year\n"
     ]
    },
    {
     "name": "stdout",
     "output_type": "stream",
     "text": [
      "https://www.google.com/search?q=video game Tales of the Rays: Recollection release date\n",
      "2023\n",
      "https://www.google.com/search?q=video game Solomon's Demons release date\n",
      "2023\n"
     ]
    },
    {
     "name": "stderr",
     "output_type": "stream",
     "text": [
      "C:\\Users\\Ahmed\\AppData\\Local\\Temp/ipykernel_14584/1763191433.py:137: SettingWithCopyWarning: \n",
      "A value is trying to be set on a copy of a slice from a DataFrame\n",
      "\n",
      "See the caveats in the documentation: https://pandas.pydata.org/pandas-docs/stable/user_guide/indexing.html#returning-a-view-versus-a-copy\n",
      "  df1[\"release_date\"][wrong_data_combined[i][0]] = 0\n"
     ]
    },
    {
     "name": "stdout",
     "output_type": "stream",
     "text": [
      "https://www.google.com/search?q=video game Off the Grid: Bad Dream release date\n",
      "couldnt find it loser\n"
     ]
    },
    {
     "name": "stderr",
     "output_type": "stream",
     "text": [
      "C:\\Users\\Ahmed\\AppData\\Local\\Temp/ipykernel_14584/1763191433.py:137: SettingWithCopyWarning: \n",
      "A value is trying to be set on a copy of a slice from a DataFrame\n",
      "\n",
      "See the caveats in the documentation: https://pandas.pydata.org/pandas-docs/stable/user_guide/indexing.html#returning-a-view-versus-a-copy\n",
      "  df1[\"release_date\"][wrong_data_combined[i][0]] = 0\n"
     ]
    },
    {
     "name": "stdout",
     "output_type": "stream",
     "text": [
      "https://www.google.com/search?q=video game Faceless release date\n",
      "couldnt find it loser\n"
     ]
    },
    {
     "name": "stderr",
     "output_type": "stream",
     "text": [
      "C:\\Users\\Ahmed\\AppData\\Local\\Temp/ipykernel_14584/1763191433.py:74: SettingWithCopyWarning: \n",
      "A value is trying to be set on a copy of a slice from a DataFrame\n",
      "\n",
      "See the caveats in the documentation: https://pandas.pydata.org/pandas-docs/stable/user_guide/indexing.html#returning-a-view-versus-a-copy\n",
      "  df1[\"release_date\"][game_index] = game_year\n"
     ]
    },
    {
     "name": "stdout",
     "output_type": "stream",
     "text": [
      "https://www.google.com/search?q=video game Replaced release date\n",
      "2023\n"
     ]
    },
    {
     "name": "stderr",
     "output_type": "stream",
     "text": [
      "C:\\Users\\Ahmed\\AppData\\Local\\Temp/ipykernel_14584/1763191433.py:137: SettingWithCopyWarning: \n",
      "A value is trying to be set on a copy of a slice from a DataFrame\n",
      "\n",
      "See the caveats in the documentation: https://pandas.pydata.org/pandas-docs/stable/user_guide/indexing.html#returning-a-view-versus-a-copy\n",
      "  df1[\"release_date\"][wrong_data_combined[i][0]] = 0\n"
     ]
    },
    {
     "name": "stdout",
     "output_type": "stream",
     "text": [
      "https://www.google.com/search?q=video game Synduality release date\n",
      "couldnt find it loser\n"
     ]
    },
    {
     "name": "stderr",
     "output_type": "stream",
     "text": [
      "C:\\Users\\Ahmed\\AppData\\Local\\Temp/ipykernel_14584/1763191433.py:43: SettingWithCopyWarning: \n",
      "A value is trying to be set on a copy of a slice from a DataFrame\n",
      "\n",
      "See the caveats in the documentation: https://pandas.pydata.org/pandas-docs/stable/user_guide/indexing.html#returning-a-view-versus-a-copy\n",
      "  df1[\"release_date\"][game_index] = game_year\n"
     ]
    },
    {
     "name": "stdout",
     "output_type": "stream",
     "text": [
      "https://www.google.com/search?q=video game Firestorm release date\n",
      "2000\n"
     ]
    },
    {
     "name": "stderr",
     "output_type": "stream",
     "text": [
      "C:\\Users\\Ahmed\\AppData\\Local\\Temp/ipykernel_14584/1763191433.py:74: SettingWithCopyWarning: \n",
      "A value is trying to be set on a copy of a slice from a DataFrame\n",
      "\n",
      "See the caveats in the documentation: https://pandas.pydata.org/pandas-docs/stable/user_guide/indexing.html#returning-a-view-versus-a-copy\n",
      "  df1[\"release_date\"][game_index] = game_year\n"
     ]
    },
    {
     "name": "stdout",
     "output_type": "stream",
     "text": [
      "https://www.google.com/search?q=video game Dracula release date\n",
      "1994\n",
      "https://www.google.com/search?q=video game NeuroNet: Mendax Proxy release date\n",
      "2021\n",
      "https://www.google.com/search?q=video game Fear Effect Reinvented release date\n",
      "2017\n",
      "https://www.google.com/search?q=video game Skate release date\n",
      "2007\n"
     ]
    },
    {
     "name": "stderr",
     "output_type": "stream",
     "text": [
      "C:\\Users\\Ahmed\\AppData\\Local\\Temp/ipykernel_14584/1763191433.py:137: SettingWithCopyWarning: \n",
      "A value is trying to be set on a copy of a slice from a DataFrame\n",
      "\n",
      "See the caveats in the documentation: https://pandas.pydata.org/pandas-docs/stable/user_guide/indexing.html#returning-a-view-versus-a-copy\n",
      "  df1[\"release_date\"][wrong_data_combined[i][0]] = 0\n"
     ]
    },
    {
     "name": "stdout",
     "output_type": "stream",
     "text": [
      "https://www.google.com/search?q=video game Crimson Sunrise release date\n",
      "couldnt find it loser\n"
     ]
    },
    {
     "name": "stderr",
     "output_type": "stream",
     "text": [
      "C:\\Users\\Ahmed\\AppData\\Local\\Temp/ipykernel_14584/1763191433.py:74: SettingWithCopyWarning: \n",
      "A value is trying to be set on a copy of a slice from a DataFrame\n",
      "\n",
      "See the caveats in the documentation: https://pandas.pydata.org/pandas-docs/stable/user_guide/indexing.html#returning-a-view-versus-a-copy\n",
      "  df1[\"release_date\"][game_index] = game_year\n"
     ]
    },
    {
     "name": "stdout",
     "output_type": "stream",
     "text": [
      "https://www.google.com/search?q=video game Primordials Legends: Hollow Hero release date\n",
      "2023\n",
      "https://www.google.com/search?q=video game Antonblast release date\n",
      "2023\n",
      "https://www.google.com/search?q=video game Allison Road release date\n",
      "2016\n"
     ]
    },
    {
     "name": "stderr",
     "output_type": "stream",
     "text": [
      "C:\\Users\\Ahmed\\AppData\\Local\\Temp/ipykernel_14584/1763191433.py:137: SettingWithCopyWarning: \n",
      "A value is trying to be set on a copy of a slice from a DataFrame\n",
      "\n",
      "See the caveats in the documentation: https://pandas.pydata.org/pandas-docs/stable/user_guide/indexing.html#returning-a-view-versus-a-copy\n",
      "  df1[\"release_date\"][wrong_data_combined[i][0]] = 0\n"
     ]
    },
    {
     "name": "stdout",
     "output_type": "stream",
     "text": [
      "https://www.google.com/search?q=video game Thirsty Suitors release date\n",
      "couldnt find it loser\n"
     ]
    },
    {
     "name": "stderr",
     "output_type": "stream",
     "text": [
      "C:\\Users\\Ahmed\\AppData\\Local\\Temp/ipykernel_14584/1763191433.py:43: SettingWithCopyWarning: \n",
      "A value is trying to be set on a copy of a slice from a DataFrame\n",
      "\n",
      "See the caveats in the documentation: https://pandas.pydata.org/pandas-docs/stable/user_guide/indexing.html#returning-a-view-versus-a-copy\n",
      "  df1[\"release_date\"][game_index] = game_year\n"
     ]
    },
    {
     "name": "stdout",
     "output_type": "stream",
     "text": [
      "https://www.google.com/search?q=video game Wonderbox: The Adventure Maker release date\n",
      "2021\n",
      "https://www.google.com/search?q=video game Level Zero release date\n",
      "2023\n"
     ]
    },
    {
     "name": "stderr",
     "output_type": "stream",
     "text": [
      "C:\\Users\\Ahmed\\AppData\\Local\\Temp/ipykernel_14584/1763191433.py:137: SettingWithCopyWarning: \n",
      "A value is trying to be set on a copy of a slice from a DataFrame\n",
      "\n",
      "See the caveats in the documentation: https://pandas.pydata.org/pandas-docs/stable/user_guide/indexing.html#returning-a-view-versus-a-copy\n",
      "  df1[\"release_date\"][wrong_data_combined[i][0]] = 0\n"
     ]
    },
    {
     "name": "stdout",
     "output_type": "stream",
     "text": [
      "https://www.google.com/search?q=video game Sky of Tides release date\n",
      "couldnt find it loser\n"
     ]
    },
    {
     "name": "stderr",
     "output_type": "stream",
     "text": [
      "C:\\Users\\Ahmed\\AppData\\Local\\Temp/ipykernel_14584/1763191433.py:137: SettingWithCopyWarning: \n",
      "A value is trying to be set on a copy of a slice from a DataFrame\n",
      "\n",
      "See the caveats in the documentation: https://pandas.pydata.org/pandas-docs/stable/user_guide/indexing.html#returning-a-view-versus-a-copy\n",
      "  df1[\"release_date\"][wrong_data_combined[i][0]] = 0\n"
     ]
    },
    {
     "name": "stdout",
     "output_type": "stream",
     "text": [
      "https://www.google.com/search?q=video game VanillaBeast: Retro Knock-Out! release date\n",
      "couldnt find it loser\n"
     ]
    },
    {
     "name": "stderr",
     "output_type": "stream",
     "text": [
      "C:\\Users\\Ahmed\\AppData\\Local\\Temp/ipykernel_14584/1763191433.py:74: SettingWithCopyWarning: \n",
      "A value is trying to be set on a copy of a slice from a DataFrame\n",
      "\n",
      "See the caveats in the documentation: https://pandas.pydata.org/pandas-docs/stable/user_guide/indexing.html#returning-a-view-versus-a-copy\n",
      "  df1[\"release_date\"][game_index] = game_year\n"
     ]
    },
    {
     "name": "stdout",
     "output_type": "stream",
     "text": [
      "https://www.google.com/search?q=video game Giants Uprising release date\n",
      "2021\n",
      "https://www.google.com/search?q=video game Deep Down release date\n",
      "2013\n",
      "https://www.google.com/search?q=video game Hades 9 release date\n",
      "2021\n",
      "https://www.google.com/search?q=video game Stormrite release date\n",
      "2022\n"
     ]
    },
    {
     "name": "stderr",
     "output_type": "stream",
     "text": [
      "C:\\Users\\Ahmed\\AppData\\Local\\Temp/ipykernel_14584/1763191433.py:137: SettingWithCopyWarning: \n",
      "A value is trying to be set on a copy of a slice from a DataFrame\n",
      "\n",
      "See the caveats in the documentation: https://pandas.pydata.org/pandas-docs/stable/user_guide/indexing.html#returning-a-view-versus-a-copy\n",
      "  df1[\"release_date\"][wrong_data_combined[i][0]] = 0\n"
     ]
    },
    {
     "name": "stdout",
     "output_type": "stream",
     "text": [
      "https://www.google.com/search?q=video game Atrocity: Field of Hands release date\n",
      "couldnt find it loser\n"
     ]
    },
    {
     "name": "stderr",
     "output_type": "stream",
     "text": [
      "C:\\Users\\Ahmed\\AppData\\Local\\Temp/ipykernel_14584/1763191433.py:74: SettingWithCopyWarning: \n",
      "A value is trying to be set on a copy of a slice from a DataFrame\n",
      "\n",
      "See the caveats in the documentation: https://pandas.pydata.org/pandas-docs/stable/user_guide/indexing.html#returning-a-view-versus-a-copy\n",
      "  df1[\"release_date\"][game_index] = game_year\n"
     ]
    },
    {
     "name": "stdout",
     "output_type": "stream",
     "text": [
      "https://www.google.com/search?q=video game Shot One release date\n",
      "2022\n"
     ]
    },
    {
     "name": "stderr",
     "output_type": "stream",
     "text": [
      "C:\\Users\\Ahmed\\AppData\\Local\\Temp/ipykernel_14584/1763191433.py:137: SettingWithCopyWarning: \n",
      "A value is trying to be set on a copy of a slice from a DataFrame\n",
      "\n",
      "See the caveats in the documentation: https://pandas.pydata.org/pandas-docs/stable/user_guide/indexing.html#returning-a-view-versus-a-copy\n",
      "  df1[\"release_date\"][wrong_data_combined[i][0]] = 0\n"
     ]
    },
    {
     "name": "stdout",
     "output_type": "stream",
     "text": [
      "https://www.google.com/search?q=video game Norse Noir: Loki's Exile, Chapter I release date\n",
      "couldnt find it loser\n"
     ]
    },
    {
     "name": "stderr",
     "output_type": "stream",
     "text": [
      "C:\\Users\\Ahmed\\AppData\\Local\\Temp/ipykernel_14584/1763191433.py:137: SettingWithCopyWarning: \n",
      "A value is trying to be set on a copy of a slice from a DataFrame\n",
      "\n",
      "See the caveats in the documentation: https://pandas.pydata.org/pandas-docs/stable/user_guide/indexing.html#returning-a-view-versus-a-copy\n",
      "  df1[\"release_date\"][wrong_data_combined[i][0]] = 0\n"
     ]
    },
    {
     "name": "stdout",
     "output_type": "stream",
     "text": [
      "https://www.google.com/search?q=video game Fable Hills: Guardian Adventures release date\n",
      "couldnt find it loser\n"
     ]
    },
    {
     "name": "stderr",
     "output_type": "stream",
     "text": [
      "C:\\Users\\Ahmed\\AppData\\Local\\Temp/ipykernel_14584/1763191433.py:43: SettingWithCopyWarning: \n",
      "A value is trying to be set on a copy of a slice from a DataFrame\n",
      "\n",
      "See the caveats in the documentation: https://pandas.pydata.org/pandas-docs/stable/user_guide/indexing.html#returning-a-view-versus-a-copy\n",
      "  df1[\"release_date\"][game_index] = game_year\n"
     ]
    },
    {
     "name": "stdout",
     "output_type": "stream",
     "text": [
      "https://www.google.com/search?q=video game Hauntswitch release date\n",
      "2020\n"
     ]
    },
    {
     "name": "stderr",
     "output_type": "stream",
     "text": [
      "C:\\Users\\Ahmed\\AppData\\Local\\Temp/ipykernel_14584/1763191433.py:74: SettingWithCopyWarning: \n",
      "A value is trying to be set on a copy of a slice from a DataFrame\n",
      "\n",
      "See the caveats in the documentation: https://pandas.pydata.org/pandas-docs/stable/user_guide/indexing.html#returning-a-view-versus-a-copy\n",
      "  df1[\"release_date\"][game_index] = game_year\n"
     ]
    },
    {
     "name": "stdout",
     "output_type": "stream",
     "text": [
      "https://www.google.com/search?q=video game Wild release date\n",
      "2023\n"
     ]
    },
    {
     "name": "stderr",
     "output_type": "stream",
     "text": [
      "C:\\Users\\Ahmed\\AppData\\Local\\Temp/ipykernel_14584/1763191433.py:137: SettingWithCopyWarning: \n",
      "A value is trying to be set on a copy of a slice from a DataFrame\n",
      "\n",
      "See the caveats in the documentation: https://pandas.pydata.org/pandas-docs/stable/user_guide/indexing.html#returning-a-view-versus-a-copy\n",
      "  df1[\"release_date\"][wrong_data_combined[i][0]] = 0\n"
     ]
    },
    {
     "name": "stdout",
     "output_type": "stream",
     "text": [
      "https://www.google.com/search?q=video game WinterOver release date\n",
      "couldnt find it loser\n"
     ]
    },
    {
     "name": "stderr",
     "output_type": "stream",
     "text": [
      "C:\\Users\\Ahmed\\AppData\\Local\\Temp/ipykernel_14584/1763191433.py:74: SettingWithCopyWarning: \n",
      "A value is trying to be set on a copy of a slice from a DataFrame\n",
      "\n",
      "See the caveats in the documentation: https://pandas.pydata.org/pandas-docs/stable/user_guide/indexing.html#returning-a-view-versus-a-copy\n",
      "  df1[\"release_date\"][game_index] = game_year\n"
     ]
    },
    {
     "name": "stdout",
     "output_type": "stream",
     "text": [
      "https://www.google.com/search?q=video game Exogenesis: Perils of Rebirth release date\n",
      "2019\n",
      "https://www.google.com/search?q=video game Annie and the AI release date\n",
      "2023\n",
      "https://www.google.com/search?q=video game SNAGGEMON - A Grunt Dating Sim release date\n",
      "2023\n"
     ]
    },
    {
     "name": "stderr",
     "output_type": "stream",
     "text": [
      "C:\\Users\\Ahmed\\AppData\\Local\\Temp/ipykernel_14584/1763191433.py:43: SettingWithCopyWarning: \n",
      "A value is trying to be set on a copy of a slice from a DataFrame\n",
      "\n",
      "See the caveats in the documentation: https://pandas.pydata.org/pandas-docs/stable/user_guide/indexing.html#returning-a-view-versus-a-copy\n",
      "  df1[\"release_date\"][game_index] = game_year\n"
     ]
    },
    {
     "name": "stdout",
     "output_type": "stream",
     "text": [
      "https://www.google.com/search?q=video game Nimloth release date\n",
      "2022\n"
     ]
    },
    {
     "name": "stderr",
     "output_type": "stream",
     "text": [
      "C:\\Users\\Ahmed\\AppData\\Local\\Temp/ipykernel_14584/1763191433.py:130: SettingWithCopyWarning: \n",
      "A value is trying to be set on a copy of a slice from a DataFrame\n",
      "\n",
      "See the caveats in the documentation: https://pandas.pydata.org/pandas-docs/stable/user_guide/indexing.html#returning-a-view-versus-a-copy\n",
      "  df1[\"release_date\"][game_index] = game_year\n"
     ]
    },
    {
     "name": "stdout",
     "output_type": "stream",
     "text": [
      "https://www.google.com/search?q=video game Project Re Fantasy release date\n",
      "2022\n",
      "https://www.google.com/search?q=video game World Turtles release date\n",
      "2023\n"
     ]
    },
    {
     "name": "stderr",
     "output_type": "stream",
     "text": [
      "C:\\Users\\Ahmed\\AppData\\Local\\Temp/ipykernel_14584/1763191433.py:137: SettingWithCopyWarning: \n",
      "A value is trying to be set on a copy of a slice from a DataFrame\n",
      "\n",
      "See the caveats in the documentation: https://pandas.pydata.org/pandas-docs/stable/user_guide/indexing.html#returning-a-view-versus-a-copy\n",
      "  df1[\"release_date\"][wrong_data_combined[i][0]] = 0\n"
     ]
    },
    {
     "name": "stdout",
     "output_type": "stream",
     "text": [
      "https://www.google.com/search?q=video game Spring Breeze release date\n",
      "couldnt find it loser\n"
     ]
    },
    {
     "name": "stderr",
     "output_type": "stream",
     "text": [
      "C:\\Users\\Ahmed\\AppData\\Local\\Temp/ipykernel_14584/1763191433.py:137: SettingWithCopyWarning: \n",
      "A value is trying to be set on a copy of a slice from a DataFrame\n",
      "\n",
      "See the caveats in the documentation: https://pandas.pydata.org/pandas-docs/stable/user_guide/indexing.html#returning-a-view-versus-a-copy\n",
      "  df1[\"release_date\"][wrong_data_combined[i][0]] = 0\n"
     ]
    },
    {
     "name": "stdout",
     "output_type": "stream",
     "text": [
      "https://www.google.com/search?q=video game Different Galaxy release date\n",
      "couldnt find it loser\n"
     ]
    },
    {
     "name": "stderr",
     "output_type": "stream",
     "text": [
      "C:\\Users\\Ahmed\\AppData\\Local\\Temp/ipykernel_14584/1763191433.py:74: SettingWithCopyWarning: \n",
      "A value is trying to be set on a copy of a slice from a DataFrame\n",
      "\n",
      "See the caveats in the documentation: https://pandas.pydata.org/pandas-docs/stable/user_guide/indexing.html#returning-a-view-versus-a-copy\n",
      "  df1[\"release_date\"][game_index] = game_year\n"
     ]
    },
    {
     "name": "stdout",
     "output_type": "stream",
     "text": [
      "https://www.google.com/search?q=video game Last Christmas release date\n",
      "2023\n"
     ]
    },
    {
     "name": "stderr",
     "output_type": "stream",
     "text": [
      "C:\\Users\\Ahmed\\AppData\\Local\\Temp/ipykernel_14584/1763191433.py:137: SettingWithCopyWarning: \n",
      "A value is trying to be set on a copy of a slice from a DataFrame\n",
      "\n",
      "See the caveats in the documentation: https://pandas.pydata.org/pandas-docs/stable/user_guide/indexing.html#returning-a-view-versus-a-copy\n",
      "  df1[\"release_date\"][wrong_data_combined[i][0]] = 0\n"
     ]
    },
    {
     "name": "stdout",
     "output_type": "stream",
     "text": [
      "https://www.google.com/search?q=video game Midli release date\n",
      "couldnt find it loser\n"
     ]
    },
    {
     "name": "stderr",
     "output_type": "stream",
     "text": [
      "C:\\Users\\Ahmed\\AppData\\Local\\Temp/ipykernel_14584/1763191433.py:43: SettingWithCopyWarning: \n",
      "A value is trying to be set on a copy of a slice from a DataFrame\n",
      "\n",
      "See the caveats in the documentation: https://pandas.pydata.org/pandas-docs/stable/user_guide/indexing.html#returning-a-view-versus-a-copy\n",
      "  df1[\"release_date\"][game_index] = game_year\n"
     ]
    },
    {
     "name": "stdout",
     "output_type": "stream",
     "text": [
      "https://www.google.com/search?q=video game 4 Square release date\n",
      "1986\n"
     ]
    },
    {
     "name": "stderr",
     "output_type": "stream",
     "text": [
      "C:\\Users\\Ahmed\\AppData\\Local\\Temp/ipykernel_14584/1763191433.py:74: SettingWithCopyWarning: \n",
      "A value is trying to be set on a copy of a slice from a DataFrame\n",
      "\n",
      "See the caveats in the documentation: https://pandas.pydata.org/pandas-docs/stable/user_guide/indexing.html#returning-a-view-versus-a-copy\n",
      "  df1[\"release_date\"][game_index] = game_year\n"
     ]
    },
    {
     "name": "stdout",
     "output_type": "stream",
     "text": [
      "https://www.google.com/search?q=video game Assassin's Creed Codename Jade release date\n",
      "2023\n",
      "https://www.google.com/search?q=video game Beyond Skyrim: The New North release date\n",
      "2022\n",
      "https://www.google.com/search?q=video game Everwild release date\n",
      "2024\n",
      "https://www.google.com/search?q=video game Just Cause: Mobile release date\n",
      "2022\n",
      "https://www.google.com/search?q=video game Kingdom Hearts Missing-Link release date\n",
      "2023\n"
     ]
    },
    {
     "name": "stderr",
     "output_type": "stream",
     "text": [
      "C:\\Users\\Ahmed\\AppData\\Local\\Temp/ipykernel_14584/1763191433.py:137: SettingWithCopyWarning: \n",
      "A value is trying to be set on a copy of a slice from a DataFrame\n",
      "\n",
      "See the caveats in the documentation: https://pandas.pydata.org/pandas-docs/stable/user_guide/indexing.html#returning-a-view-versus-a-copy\n",
      "  df1[\"release_date\"][wrong_data_combined[i][0]] = 0\n"
     ]
    },
    {
     "name": "stdout",
     "output_type": "stream",
     "text": [
      "https://www.google.com/search?q=video game Danger Track release date\n",
      "couldnt find it loser\n"
     ]
    },
    {
     "name": "stderr",
     "output_type": "stream",
     "text": [
      "C:\\Users\\Ahmed\\AppData\\Local\\Temp/ipykernel_14584/1763191433.py:74: SettingWithCopyWarning: \n",
      "A value is trying to be set on a copy of a slice from a DataFrame\n",
      "\n",
      "See the caveats in the documentation: https://pandas.pydata.org/pandas-docs/stable/user_guide/indexing.html#returning-a-view-versus-a-copy\n",
      "  df1[\"release_date\"][game_index] = game_year\n"
     ]
    },
    {
     "name": "stdout",
     "output_type": "stream",
     "text": [
      "https://www.google.com/search?q=video game Keep Out: Black Protein release date\n",
      "2023\n"
     ]
    },
    {
     "name": "stderr",
     "output_type": "stream",
     "text": [
      "C:\\Users\\Ahmed\\AppData\\Local\\Temp/ipykernel_14584/1763191433.py:103: SettingWithCopyWarning: \n",
      "A value is trying to be set on a copy of a slice from a DataFrame\n",
      "\n",
      "See the caveats in the documentation: https://pandas.pydata.org/pandas-docs/stable/user_guide/indexing.html#returning-a-view-versus-a-copy\n",
      "  df1[\"release_date\"][game_index] = game_year\n"
     ]
    },
    {
     "name": "stdout",
     "output_type": "stream",
     "text": [
      "https://www.google.com/search?q=video game Portal SK release date\n",
      "2007\n",
      "https://www.google.com/search?q=video game Bionicle: Masks of Power release date\n",
      "2003\n",
      "https://www.google.com/search?q=video game Miss America release date\n",
      "2013\n",
      "https://www.google.com/search?q=video game Star Wars: Battlefront III - Legacy (Mod) release date\n",
      "2008\n",
      "https://www.google.com/search?q=video game Dragon Quest XII: The Flames of Fate release date\n",
      "2023\n"
     ]
    },
    {
     "name": "stderr",
     "output_type": "stream",
     "text": [
      "C:\\Users\\Ahmed\\AppData\\Local\\Temp/ipykernel_14584/1763191433.py:43: SettingWithCopyWarning: \n",
      "A value is trying to be set on a copy of a slice from a DataFrame\n",
      "\n",
      "See the caveats in the documentation: https://pandas.pydata.org/pandas-docs/stable/user_guide/indexing.html#returning-a-view-versus-a-copy\n",
      "  df1[\"release_date\"][game_index] = game_year\n"
     ]
    },
    {
     "name": "stdout",
     "output_type": "stream",
     "text": [
      "https://www.google.com/search?q=video game Earthblade release date\n",
      "2024\n",
      "https://www.google.com/search?q=video game Ketsugou Danshi: Elements with Emotions release date\n",
      "2023\n",
      "https://www.google.com/search?q=video game Fist of the North Star: 10 Big Brawls for the King of the Universe release date\n",
      "1989\n",
      "https://www.google.com/search?q=video game Cards of the Dragons release date\n",
      "2021\n",
      "https://www.google.com/search?q=video game Unicorn Game release date\n",
      "2010\n"
     ]
    },
    {
     "name": "stderr",
     "output_type": "stream",
     "text": [
      "C:\\Users\\Ahmed\\AppData\\Local\\Temp/ipykernel_14584/1763191433.py:137: SettingWithCopyWarning: \n",
      "A value is trying to be set on a copy of a slice from a DataFrame\n",
      "\n",
      "See the caveats in the documentation: https://pandas.pydata.org/pandas-docs/stable/user_guide/indexing.html#returning-a-view-versus-a-copy\n",
      "  df1[\"release_date\"][wrong_data_combined[i][0]] = 0\n"
     ]
    },
    {
     "name": "stdout",
     "output_type": "stream",
     "text": [
      "https://www.google.com/search?q=video game Word Builder release date\n",
      "couldnt find it loser\n"
     ]
    },
    {
     "name": "stderr",
     "output_type": "stream",
     "text": [
      "C:\\Users\\Ahmed\\AppData\\Local\\Temp/ipykernel_14584/1763191433.py:137: SettingWithCopyWarning: \n",
      "A value is trying to be set on a copy of a slice from a DataFrame\n",
      "\n",
      "See the caveats in the documentation: https://pandas.pydata.org/pandas-docs/stable/user_guide/indexing.html#returning-a-view-versus-a-copy\n",
      "  df1[\"release_date\"][wrong_data_combined[i][0]] = 0\n"
     ]
    },
    {
     "name": "stdout",
     "output_type": "stream",
     "text": [
      "https://www.google.com/search?q=video game Half-Life: Remnants release date\n",
      "couldnt find it loser\n"
     ]
    },
    {
     "name": "stderr",
     "output_type": "stream",
     "text": [
      "C:\\Users\\Ahmed\\AppData\\Local\\Temp/ipykernel_14584/1763191433.py:43: SettingWithCopyWarning: \n",
      "A value is trying to be set on a copy of a slice from a DataFrame\n",
      "\n",
      "See the caveats in the documentation: https://pandas.pydata.org/pandas-docs/stable/user_guide/indexing.html#returning-a-view-versus-a-copy\n",
      "  df1[\"release_date\"][game_index] = game_year\n"
     ]
    },
    {
     "name": "stdout",
     "output_type": "stream",
     "text": [
      "https://www.google.com/search?q=video game VALHALL release date\n",
      "2020\n"
     ]
    },
    {
     "name": "stderr",
     "output_type": "stream",
     "text": [
      "C:\\Users\\Ahmed\\AppData\\Local\\Temp/ipykernel_14584/1763191433.py:74: SettingWithCopyWarning: \n",
      "A value is trying to be set on a copy of a slice from a DataFrame\n",
      "\n",
      "See the caveats in the documentation: https://pandas.pydata.org/pandas-docs/stable/user_guide/indexing.html#returning-a-view-versus-a-copy\n",
      "  df1[\"release_date\"][game_index] = game_year\n"
     ]
    },
    {
     "name": "stdout",
     "output_type": "stream",
     "text": [
      "https://www.google.com/search?q=video game Beyond Skyrim: Iliac Bay release date\n",
      "2022\n"
     ]
    },
    {
     "name": "stderr",
     "output_type": "stream",
     "text": [
      "C:\\Users\\Ahmed\\AppData\\Local\\Temp/ipykernel_14584/1763191433.py:137: SettingWithCopyWarning: \n",
      "A value is trying to be set on a copy of a slice from a DataFrame\n",
      "\n",
      "See the caveats in the documentation: https://pandas.pydata.org/pandas-docs/stable/user_guide/indexing.html#returning-a-view-versus-a-copy\n",
      "  df1[\"release_date\"][wrong_data_combined[i][0]] = 0\n"
     ]
    },
    {
     "name": "stdout",
     "output_type": "stream",
     "text": [
      "https://www.google.com/search?q=video game Skullstone release date\n",
      "couldnt find it loser\n"
     ]
    },
    {
     "name": "stderr",
     "output_type": "stream",
     "text": [
      "C:\\Users\\Ahmed\\AppData\\Local\\Temp/ipykernel_14584/1763191433.py:137: SettingWithCopyWarning: \n",
      "A value is trying to be set on a copy of a slice from a DataFrame\n",
      "\n",
      "See the caveats in the documentation: https://pandas.pydata.org/pandas-docs/stable/user_guide/indexing.html#returning-a-view-versus-a-copy\n",
      "  df1[\"release_date\"][wrong_data_combined[i][0]] = 0\n"
     ]
    },
    {
     "name": "stdout",
     "output_type": "stream",
     "text": [
      "https://www.google.com/search?q=video game Pigeon Simulator release date\n",
      "couldnt find it loser\n"
     ]
    },
    {
     "name": "stderr",
     "output_type": "stream",
     "text": [
      "C:\\Users\\Ahmed\\AppData\\Local\\Temp/ipykernel_14584/1763191433.py:137: SettingWithCopyWarning: \n",
      "A value is trying to be set on a copy of a slice from a DataFrame\n",
      "\n",
      "See the caveats in the documentation: https://pandas.pydata.org/pandas-docs/stable/user_guide/indexing.html#returning-a-view-versus-a-copy\n",
      "  df1[\"release_date\"][wrong_data_combined[i][0]] = 0\n"
     ]
    },
    {
     "name": "stdout",
     "output_type": "stream",
     "text": [
      "https://www.google.com/search?q=video game Bingo Time release date\n",
      "couldnt find it loser\n"
     ]
    },
    {
     "name": "stderr",
     "output_type": "stream",
     "text": [
      "C:\\Users\\Ahmed\\AppData\\Local\\Temp/ipykernel_14584/1763191433.py:74: SettingWithCopyWarning: \n",
      "A value is trying to be set on a copy of a slice from a DataFrame\n",
      "\n",
      "See the caveats in the documentation: https://pandas.pydata.org/pandas-docs/stable/user_guide/indexing.html#returning-a-view-versus-a-copy\n",
      "  df1[\"release_date\"][game_index] = game_year\n"
     ]
    },
    {
     "name": "stdout",
     "output_type": "stream",
     "text": [
      "https://www.google.com/search?q=video game V.Next release date\n",
      "2023\n"
     ]
    },
    {
     "name": "stderr",
     "output_type": "stream",
     "text": [
      "C:\\Users\\Ahmed\\AppData\\Local\\Temp/ipykernel_14584/1763191433.py:137: SettingWithCopyWarning: \n",
      "A value is trying to be set on a copy of a slice from a DataFrame\n",
      "\n",
      "See the caveats in the documentation: https://pandas.pydata.org/pandas-docs/stable/user_guide/indexing.html#returning-a-view-versus-a-copy\n",
      "  df1[\"release_date\"][wrong_data_combined[i][0]] = 0\n"
     ]
    },
    {
     "name": "stdout",
     "output_type": "stream",
     "text": [
      "https://www.google.com/search?q=video game Hearts of Violet release date\n",
      "couldnt find it loser\n"
     ]
    },
    {
     "name": "stderr",
     "output_type": "stream",
     "text": [
      "C:\\Users\\Ahmed\\AppData\\Local\\Temp/ipykernel_14584/1763191433.py:74: SettingWithCopyWarning: \n",
      "A value is trying to be set on a copy of a slice from a DataFrame\n",
      "\n",
      "See the caveats in the documentation: https://pandas.pydata.org/pandas-docs/stable/user_guide/indexing.html#returning-a-view-versus-a-copy\n",
      "  df1[\"release_date\"][game_index] = game_year\n"
     ]
    },
    {
     "name": "stdout",
     "output_type": "stream",
     "text": [
      "https://www.google.com/search?q=video game #Sohvr release date\n",
      "2023\n"
     ]
    },
    {
     "name": "stderr",
     "output_type": "stream",
     "text": [
      "C:\\Users\\Ahmed\\AppData\\Local\\Temp/ipykernel_14584/1763191433.py:137: SettingWithCopyWarning: \n",
      "A value is trying to be set on a copy of a slice from a DataFrame\n",
      "\n",
      "See the caveats in the documentation: https://pandas.pydata.org/pandas-docs/stable/user_guide/indexing.html#returning-a-view-versus-a-copy\n",
      "  df1[\"release_date\"][wrong_data_combined[i][0]] = 0\n"
     ]
    },
    {
     "name": "stdout",
     "output_type": "stream",
     "text": [
      "https://www.google.com/search?q=video game Fear Interactive: Deadwood release date\n",
      "couldnt find it loser\n"
     ]
    },
    {
     "name": "stderr",
     "output_type": "stream",
     "text": [
      "C:\\Users\\Ahmed\\AppData\\Local\\Temp/ipykernel_14584/1763191433.py:74: SettingWithCopyWarning: \n",
      "A value is trying to be set on a copy of a slice from a DataFrame\n",
      "\n",
      "See the caveats in the documentation: https://pandas.pydata.org/pandas-docs/stable/user_guide/indexing.html#returning-a-view-versus-a-copy\n",
      "  df1[\"release_date\"][game_index] = game_year\n"
     ]
    },
    {
     "name": "stdout",
     "output_type": "stream",
     "text": [
      "https://www.google.com/search?q=video game Grand Poo World release date\n",
      "2019\n",
      "https://www.google.com/search?q=video game Lucky 77 release date\n",
      "1977\n"
     ]
    },
    {
     "name": "stderr",
     "output_type": "stream",
     "text": [
      "C:\\Users\\Ahmed\\AppData\\Local\\Temp/ipykernel_14584/1763191433.py:43: SettingWithCopyWarning: \n",
      "A value is trying to be set on a copy of a slice from a DataFrame\n",
      "\n",
      "See the caveats in the documentation: https://pandas.pydata.org/pandas-docs/stable/user_guide/indexing.html#returning-a-view-versus-a-copy\n",
      "  df1[\"release_date\"][game_index] = game_year\n"
     ]
    },
    {
     "name": "stdout",
     "output_type": "stream",
     "text": [
      "https://www.google.com/search?q=video game Hex Heroes release date\n",
      "1942\n"
     ]
    },
    {
     "name": "stderr",
     "output_type": "stream",
     "text": [
      "C:\\Users\\Ahmed\\AppData\\Local\\Temp/ipykernel_14584/1763191433.py:137: SettingWithCopyWarning: \n",
      "A value is trying to be set on a copy of a slice from a DataFrame\n",
      "\n",
      "See the caveats in the documentation: https://pandas.pydata.org/pandas-docs/stable/user_guide/indexing.html#returning-a-view-versus-a-copy\n",
      "  df1[\"release_date\"][wrong_data_combined[i][0]] = 0\n"
     ]
    },
    {
     "name": "stdout",
     "output_type": "stream",
     "text": [
      "https://www.google.com/search?q=video game Where Winter Crows Go release date\n",
      "couldnt find it loser\n"
     ]
    },
    {
     "name": "stderr",
     "output_type": "stream",
     "text": [
      "C:\\Users\\Ahmed\\AppData\\Local\\Temp/ipykernel_14584/1763191433.py:137: SettingWithCopyWarning: \n",
      "A value is trying to be set on a copy of a slice from a DataFrame\n",
      "\n",
      "See the caveats in the documentation: https://pandas.pydata.org/pandas-docs/stable/user_guide/indexing.html#returning-a-view-versus-a-copy\n",
      "  df1[\"release_date\"][wrong_data_combined[i][0]] = 0\n"
     ]
    },
    {
     "name": "stdout",
     "output_type": "stream",
     "text": [
      "https://www.google.com/search?q=video game Blight: The Stillman Legacy release date\n",
      "couldnt find it loser\n"
     ]
    },
    {
     "name": "stderr",
     "output_type": "stream",
     "text": [
      "C:\\Users\\Ahmed\\AppData\\Local\\Temp/ipykernel_14584/1763191433.py:137: SettingWithCopyWarning: \n",
      "A value is trying to be set on a copy of a slice from a DataFrame\n",
      "\n",
      "See the caveats in the documentation: https://pandas.pydata.org/pandas-docs/stable/user_guide/indexing.html#returning-a-view-versus-a-copy\n",
      "  df1[\"release_date\"][wrong_data_combined[i][0]] = 0\n"
     ]
    },
    {
     "name": "stdout",
     "output_type": "stream",
     "text": [
      "https://www.google.com/search?q=video game Meister High release date\n",
      "couldnt find it loser\n"
     ]
    },
    {
     "name": "stderr",
     "output_type": "stream",
     "text": [
      "C:\\Users\\Ahmed\\AppData\\Local\\Temp/ipykernel_14584/1763191433.py:74: SettingWithCopyWarning: \n",
      "A value is trying to be set on a copy of a slice from a DataFrame\n",
      "\n",
      "See the caveats in the documentation: https://pandas.pydata.org/pandas-docs/stable/user_guide/indexing.html#returning-a-view-versus-a-copy\n",
      "  df1[\"release_date\"][game_index] = game_year\n"
     ]
    },
    {
     "name": "stdout",
     "output_type": "stream",
     "text": [
      "https://www.google.com/search?q=video game Isekai Tales release date\n",
      "1995\n"
     ]
    },
    {
     "name": "stderr",
     "output_type": "stream",
     "text": [
      "C:\\Users\\Ahmed\\AppData\\Local\\Temp/ipykernel_14584/1763191433.py:137: SettingWithCopyWarning: \n",
      "A value is trying to be set on a copy of a slice from a DataFrame\n",
      "\n",
      "See the caveats in the documentation: https://pandas.pydata.org/pandas-docs/stable/user_guide/indexing.html#returning-a-view-versus-a-copy\n",
      "  df1[\"release_date\"][wrong_data_combined[i][0]] = 0\n"
     ]
    },
    {
     "name": "stdout",
     "output_type": "stream",
     "text": [
      "https://www.google.com/search?q=video game Ivy Likes Stories release date\n",
      "couldnt find it loser\n"
     ]
    },
    {
     "name": "stderr",
     "output_type": "stream",
     "text": [
      "C:\\Users\\Ahmed\\AppData\\Local\\Temp/ipykernel_14584/1763191433.py:43: SettingWithCopyWarning: \n",
      "A value is trying to be set on a copy of a slice from a DataFrame\n",
      "\n",
      "See the caveats in the documentation: https://pandas.pydata.org/pandas-docs/stable/user_guide/indexing.html#returning-a-view-versus-a-copy\n",
      "  df1[\"release_date\"][game_index] = game_year\n"
     ]
    },
    {
     "name": "stdout",
     "output_type": "stream",
     "text": [
      "https://www.google.com/search?q=video game GreedFall 2: The Dying World release date\n",
      "2024\n"
     ]
    },
    {
     "name": "stderr",
     "output_type": "stream",
     "text": [
      "C:\\Users\\Ahmed\\AppData\\Local\\Temp/ipykernel_14584/1763191433.py:74: SettingWithCopyWarning: \n",
      "A value is trying to be set on a copy of a slice from a DataFrame\n",
      "\n",
      "See the caveats in the documentation: https://pandas.pydata.org/pandas-docs/stable/user_guide/indexing.html#returning-a-view-versus-a-copy\n",
      "  df1[\"release_date\"][game_index] = game_year\n"
     ]
    },
    {
     "name": "stdout",
     "output_type": "stream",
     "text": [
      "https://www.google.com/search?q=video game Crushed release date\n",
      "2012\n",
      "https://www.google.com/search?q=video game Among Us 2 release date\n",
      "2022\n",
      "https://www.google.com/search?q=video game Stargate Timekeepers release date\n",
      "2022\n",
      "https://www.google.com/search?q=video game Project G.G. release date\n",
      "2023\n",
      "https://www.google.com/search?q=video game Spell It release date\n",
      "2023\n",
      "https://www.google.com/search?q=video game Conan Chop Chop release date\n",
      "2022\n",
      "https://www.google.com/search?q=video game Bebylon Battle Royale release date\n",
      "2000\n"
     ]
    },
    {
     "name": "stderr",
     "output_type": "stream",
     "text": [
      "C:\\Users\\Ahmed\\AppData\\Local\\Temp/ipykernel_14584/1763191433.py:137: SettingWithCopyWarning: \n",
      "A value is trying to be set on a copy of a slice from a DataFrame\n",
      "\n",
      "See the caveats in the documentation: https://pandas.pydata.org/pandas-docs/stable/user_guide/indexing.html#returning-a-view-versus-a-copy\n",
      "  df1[\"release_date\"][wrong_data_combined[i][0]] = 0\n"
     ]
    },
    {
     "name": "stdout",
     "output_type": "stream",
     "text": [
      "https://www.google.com/search?q=video game Astral Hound release date\n",
      "couldnt find it loser\n"
     ]
    },
    {
     "name": "stderr",
     "output_type": "stream",
     "text": [
      "C:\\Users\\Ahmed\\AppData\\Local\\Temp/ipykernel_14584/1763191433.py:74: SettingWithCopyWarning: \n",
      "A value is trying to be set on a copy of a slice from a DataFrame\n",
      "\n",
      "See the caveats in the documentation: https://pandas.pydata.org/pandas-docs/stable/user_guide/indexing.html#returning-a-view-versus-a-copy\n",
      "  df1[\"release_date\"][game_index] = game_year\n"
     ]
    },
    {
     "name": "stdout",
     "output_type": "stream",
     "text": [
      "https://www.google.com/search?q=video game Armed Fantasia release date\n",
      "2022\n"
     ]
    },
    {
     "name": "stderr",
     "output_type": "stream",
     "text": [
      "C:\\Users\\Ahmed\\AppData\\Local\\Temp/ipykernel_14584/1763191433.py:137: SettingWithCopyWarning: \n",
      "A value is trying to be set on a copy of a slice from a DataFrame\n",
      "\n",
      "See the caveats in the documentation: https://pandas.pydata.org/pandas-docs/stable/user_guide/indexing.html#returning-a-view-versus-a-copy\n",
      "  df1[\"release_date\"][wrong_data_combined[i][0]] = 0\n"
     ]
    },
    {
     "name": "stdout",
     "output_type": "stream",
     "text": [
      "https://www.google.com/search?q=video game Adventure Thru 8-Bit Land release date\n",
      "couldnt find it loser\n"
     ]
    },
    {
     "name": "stderr",
     "output_type": "stream",
     "text": [
      "C:\\Users\\Ahmed\\AppData\\Local\\Temp/ipykernel_14584/1763191433.py:137: SettingWithCopyWarning: \n",
      "A value is trying to be set on a copy of a slice from a DataFrame\n",
      "\n",
      "See the caveats in the documentation: https://pandas.pydata.org/pandas-docs/stable/user_guide/indexing.html#returning-a-view-versus-a-copy\n",
      "  df1[\"release_date\"][wrong_data_combined[i][0]] = 0\n"
     ]
    },
    {
     "name": "stdout",
     "output_type": "stream",
     "text": [
      "https://www.google.com/search?q=video game Tangible Utopias release date\n",
      "couldnt find it loser\n"
     ]
    },
    {
     "name": "stderr",
     "output_type": "stream",
     "text": [
      "C:\\Users\\Ahmed\\AppData\\Local\\Temp/ipykernel_14584/1763191433.py:137: SettingWithCopyWarning: \n",
      "A value is trying to be set on a copy of a slice from a DataFrame\n",
      "\n",
      "See the caveats in the documentation: https://pandas.pydata.org/pandas-docs/stable/user_guide/indexing.html#returning-a-view-versus-a-copy\n",
      "  df1[\"release_date\"][wrong_data_combined[i][0]] = 0\n"
     ]
    },
    {
     "name": "stdout",
     "output_type": "stream",
     "text": [
      "https://www.google.com/search?q=video game Super Quadruple Dominos release date\n",
      "couldnt find it loser\n"
     ]
    },
    {
     "name": "stderr",
     "output_type": "stream",
     "text": [
      "C:\\Users\\Ahmed\\AppData\\Local\\Temp/ipykernel_14584/1763191433.py:137: SettingWithCopyWarning: \n",
      "A value is trying to be set on a copy of a slice from a DataFrame\n",
      "\n",
      "See the caveats in the documentation: https://pandas.pydata.org/pandas-docs/stable/user_guide/indexing.html#returning-a-view-versus-a-copy\n",
      "  df1[\"release_date\"][wrong_data_combined[i][0]] = 0\n"
     ]
    },
    {
     "name": "stdout",
     "output_type": "stream",
     "text": [
      "https://www.google.com/search?q=video game Wheetago War VR release date\n",
      "couldnt find it loser\n"
     ]
    },
    {
     "name": "stderr",
     "output_type": "stream",
     "text": [
      "C:\\Users\\Ahmed\\AppData\\Local\\Temp/ipykernel_14584/1763191433.py:43: SettingWithCopyWarning: \n",
      "A value is trying to be set on a copy of a slice from a DataFrame\n",
      "\n",
      "See the caveats in the documentation: https://pandas.pydata.org/pandas-docs/stable/user_guide/indexing.html#returning-a-view-versus-a-copy\n",
      "  df1[\"release_date\"][game_index] = game_year\n"
     ]
    },
    {
     "name": "stdout",
     "output_type": "stream",
     "text": [
      "https://www.google.com/search?q=video game Requiem release date\n",
      "2022\n"
     ]
    },
    {
     "name": "stderr",
     "output_type": "stream",
     "text": [
      "C:\\Users\\Ahmed\\AppData\\Local\\Temp/ipykernel_14584/1763191433.py:74: SettingWithCopyWarning: \n",
      "A value is trying to be set on a copy of a slice from a DataFrame\n",
      "\n",
      "See the caveats in the documentation: https://pandas.pydata.org/pandas-docs/stable/user_guide/indexing.html#returning-a-view-versus-a-copy\n",
      "  df1[\"release_date\"][game_index] = game_year\n"
     ]
    },
    {
     "name": "stdout",
     "output_type": "stream",
     "text": [
      "https://www.google.com/search?q=video game Reborn release date\n",
      "2022\n",
      "https://www.google.com/search?q=video game Fighter Squadron release date\n",
      "1999\n",
      "https://www.google.com/search?q=video game Long Live the King release date\n",
      "2023\n",
      "https://www.google.com/search?q=video game Skeleton Crew release date\n",
      "2022\n"
     ]
    },
    {
     "name": "stderr",
     "output_type": "stream",
     "text": [
      "C:\\Users\\Ahmed\\AppData\\Local\\Temp/ipykernel_14584/1763191433.py:137: SettingWithCopyWarning: \n",
      "A value is trying to be set on a copy of a slice from a DataFrame\n",
      "\n",
      "See the caveats in the documentation: https://pandas.pydata.org/pandas-docs/stable/user_guide/indexing.html#returning-a-view-versus-a-copy\n",
      "  df1[\"release_date\"][wrong_data_combined[i][0]] = 0\n"
     ]
    },
    {
     "name": "stdout",
     "output_type": "stream",
     "text": [
      "https://www.google.com/search?q=video game Death Cycle: Xbox 360 release date\n",
      "couldnt find it loser\n"
     ]
    },
    {
     "name": "stderr",
     "output_type": "stream",
     "text": [
      "C:\\Users\\Ahmed\\AppData\\Local\\Temp/ipykernel_14584/1763191433.py:137: SettingWithCopyWarning: \n",
      "A value is trying to be set on a copy of a slice from a DataFrame\n",
      "\n",
      "See the caveats in the documentation: https://pandas.pydata.org/pandas-docs/stable/user_guide/indexing.html#returning-a-view-versus-a-copy\n",
      "  df1[\"release_date\"][wrong_data_combined[i][0]] = 0\n"
     ]
    },
    {
     "name": "stdout",
     "output_type": "stream",
     "text": [
      "https://www.google.com/search?q=video game PsychoDive release date\n",
      "couldnt find it loser\n"
     ]
    },
    {
     "name": "stderr",
     "output_type": "stream",
     "text": [
      "C:\\Users\\Ahmed\\AppData\\Local\\Temp/ipykernel_14584/1763191433.py:74: SettingWithCopyWarning: \n",
      "A value is trying to be set on a copy of a slice from a DataFrame\n",
      "\n",
      "See the caveats in the documentation: https://pandas.pydata.org/pandas-docs/stable/user_guide/indexing.html#returning-a-view-versus-a-copy\n",
      "  df1[\"release_date\"][game_index] = game_year\n"
     ]
    },
    {
     "name": "stdout",
     "output_type": "stream",
     "text": [
      "https://www.google.com/search?q=video game Kiss/OFF release date\n",
      "2023\n",
      "https://www.google.com/search?q=video game Prodigy release date\n",
      "2022\n"
     ]
    },
    {
     "name": "stderr",
     "output_type": "stream",
     "text": [
      "C:\\Users\\Ahmed\\AppData\\Local\\Temp/ipykernel_14584/1763191433.py:137: SettingWithCopyWarning: \n",
      "A value is trying to be set on a copy of a slice from a DataFrame\n",
      "\n",
      "See the caveats in the documentation: https://pandas.pydata.org/pandas-docs/stable/user_guide/indexing.html#returning-a-view-versus-a-copy\n",
      "  df1[\"release_date\"][wrong_data_combined[i][0]] = 0\n"
     ]
    },
    {
     "name": "stdout",
     "output_type": "stream",
     "text": [
      "https://www.google.com/search?q=video game My Dear Delirium release date\n",
      "couldnt find it loser\n"
     ]
    },
    {
     "name": "stderr",
     "output_type": "stream",
     "text": [
      "C:\\Users\\Ahmed\\AppData\\Local\\Temp/ipykernel_14584/1763191433.py:43: SettingWithCopyWarning: \n",
      "A value is trying to be set on a copy of a slice from a DataFrame\n",
      "\n",
      "See the caveats in the documentation: https://pandas.pydata.org/pandas-docs/stable/user_guide/indexing.html#returning-a-view-versus-a-copy\n",
      "  df1[\"release_date\"][game_index] = game_year\n"
     ]
    },
    {
     "name": "stdout",
     "output_type": "stream",
     "text": [
      "https://www.google.com/search?q=video game We're Back! A Dinosaur's Tale release date\n",
      "1994\n",
      "https://www.google.com/search?q=video game Fate/Extra Record release date\n",
      "2010\n"
     ]
    },
    {
     "name": "stderr",
     "output_type": "stream",
     "text": [
      "C:\\Users\\Ahmed\\AppData\\Local\\Temp/ipykernel_14584/1763191433.py:137: SettingWithCopyWarning: \n",
      "A value is trying to be set on a copy of a slice from a DataFrame\n",
      "\n",
      "See the caveats in the documentation: https://pandas.pydata.org/pandas-docs/stable/user_guide/indexing.html#returning-a-view-versus-a-copy\n",
      "  df1[\"release_date\"][wrong_data_combined[i][0]] = 0\n"
     ]
    },
    {
     "name": "stdout",
     "output_type": "stream",
     "text": [
      "https://www.google.com/search?q=video game Scuffle Royale release date\n",
      "couldnt find it loser\n"
     ]
    },
    {
     "name": "stderr",
     "output_type": "stream",
     "text": [
      "C:\\Users\\Ahmed\\AppData\\Local\\Temp/ipykernel_14584/1763191433.py:137: SettingWithCopyWarning: \n",
      "A value is trying to be set on a copy of a slice from a DataFrame\n",
      "\n",
      "See the caveats in the documentation: https://pandas.pydata.org/pandas-docs/stable/user_guide/indexing.html#returning-a-view-versus-a-copy\n",
      "  df1[\"release_date\"][wrong_data_combined[i][0]] = 0\n"
     ]
    },
    {
     "name": "stdout",
     "output_type": "stream",
     "text": [
      "https://www.google.com/search?q=video game Ondadaad release date\n",
      "couldnt find it loser\n"
     ]
    },
    {
     "name": "stderr",
     "output_type": "stream",
     "text": [
      "C:\\Users\\Ahmed\\AppData\\Local\\Temp/ipykernel_14584/1763191433.py:43: SettingWithCopyWarning: \n",
      "A value is trying to be set on a copy of a slice from a DataFrame\n",
      "\n",
      "See the caveats in the documentation: https://pandas.pydata.org/pandas-docs/stable/user_guide/indexing.html#returning-a-view-versus-a-copy\n",
      "  df1[\"release_date\"][game_index] = game_year\n"
     ]
    },
    {
     "name": "stdout",
     "output_type": "stream",
     "text": [
      "https://www.google.com/search?q=video game In Blood release date\n",
      "1997\n"
     ]
    },
    {
     "name": "stderr",
     "output_type": "stream",
     "text": [
      "C:\\Users\\Ahmed\\AppData\\Local\\Temp/ipykernel_14584/1763191433.py:137: SettingWithCopyWarning: \n",
      "A value is trying to be set on a copy of a slice from a DataFrame\n",
      "\n",
      "See the caveats in the documentation: https://pandas.pydata.org/pandas-docs/stable/user_guide/indexing.html#returning-a-view-versus-a-copy\n",
      "  df1[\"release_date\"][wrong_data_combined[i][0]] = 0\n"
     ]
    },
    {
     "name": "stdout",
     "output_type": "stream",
     "text": [
      "https://www.google.com/search?q=video game Project Tingler release date\n",
      "couldnt find it loser\n"
     ]
    },
    {
     "name": "stderr",
     "output_type": "stream",
     "text": [
      "C:\\Users\\Ahmed\\AppData\\Local\\Temp/ipykernel_14584/1763191433.py:137: SettingWithCopyWarning: \n",
      "A value is trying to be set on a copy of a slice from a DataFrame\n",
      "\n",
      "See the caveats in the documentation: https://pandas.pydata.org/pandas-docs/stable/user_guide/indexing.html#returning-a-view-versus-a-copy\n",
      "  df1[\"release_date\"][wrong_data_combined[i][0]] = 0\n"
     ]
    },
    {
     "name": "stdout",
     "output_type": "stream",
     "text": [
      "https://www.google.com/search?q=video game Wayholm release date\n",
      "couldnt find it loser\n"
     ]
    },
    {
     "name": "stderr",
     "output_type": "stream",
     "text": [
      "C:\\Users\\Ahmed\\AppData\\Local\\Temp/ipykernel_14584/1763191433.py:137: SettingWithCopyWarning: \n",
      "A value is trying to be set on a copy of a slice from a DataFrame\n",
      "\n",
      "See the caveats in the documentation: https://pandas.pydata.org/pandas-docs/stable/user_guide/indexing.html#returning-a-view-versus-a-copy\n",
      "  df1[\"release_date\"][wrong_data_combined[i][0]] = 0\n"
     ]
    },
    {
     "name": "stdout",
     "output_type": "stream",
     "text": [
      "https://www.google.com/search?q=video game An Otaku's Guide to Santa's Reindeer release date\n",
      "couldnt find it loser\n"
     ]
    },
    {
     "name": "stderr",
     "output_type": "stream",
     "text": [
      "C:\\Users\\Ahmed\\AppData\\Local\\Temp/ipykernel_14584/1763191433.py:137: SettingWithCopyWarning: \n",
      "A value is trying to be set on a copy of a slice from a DataFrame\n",
      "\n",
      "See the caveats in the documentation: https://pandas.pydata.org/pandas-docs/stable/user_guide/indexing.html#returning-a-view-versus-a-copy\n",
      "  df1[\"release_date\"][wrong_data_combined[i][0]] = 0\n"
     ]
    },
    {
     "name": "stdout",
     "output_type": "stream",
     "text": [
      "https://www.google.com/search?q=video game The Silver Lining: Episode 5 - A Thousand Times Goodnight release date\n",
      "couldnt find it loser\n"
     ]
    },
    {
     "name": "stderr",
     "output_type": "stream",
     "text": [
      "C:\\Users\\Ahmed\\AppData\\Local\\Temp/ipykernel_14584/1763191433.py:74: SettingWithCopyWarning: \n",
      "A value is trying to be set on a copy of a slice from a DataFrame\n",
      "\n",
      "See the caveats in the documentation: https://pandas.pydata.org/pandas-docs/stable/user_guide/indexing.html#returning-a-view-versus-a-copy\n",
      "  df1[\"release_date\"][game_index] = game_year\n"
     ]
    },
    {
     "name": "stdout",
     "output_type": "stream",
     "text": [
      "https://www.google.com/search?q=video game Spelling release date\n",
      "2023\n"
     ]
    },
    {
     "name": "stderr",
     "output_type": "stream",
     "text": [
      "C:\\Users\\Ahmed\\AppData\\Local\\Temp/ipykernel_14584/1763191433.py:43: SettingWithCopyWarning: \n",
      "A value is trying to be set on a copy of a slice from a DataFrame\n",
      "\n",
      "See the caveats in the documentation: https://pandas.pydata.org/pandas-docs/stable/user_guide/indexing.html#returning-a-view-versus-a-copy\n",
      "  df1[\"release_date\"][game_index] = game_year\n"
     ]
    },
    {
     "name": "stdout",
     "output_type": "stream",
     "text": [
      "https://www.google.com/search?q=video game First Encounter release date\n",
      "2001\n",
      "https://www.google.com/search?q=video game Astro release date\n",
      "2020\n"
     ]
    },
    {
     "name": "stderr",
     "output_type": "stream",
     "text": [
      "C:\\Users\\Ahmed\\AppData\\Local\\Temp/ipykernel_14584/1763191433.py:137: SettingWithCopyWarning: \n",
      "A value is trying to be set on a copy of a slice from a DataFrame\n",
      "\n",
      "See the caveats in the documentation: https://pandas.pydata.org/pandas-docs/stable/user_guide/indexing.html#returning-a-view-versus-a-copy\n",
      "  df1[\"release_date\"][wrong_data_combined[i][0]] = 0\n"
     ]
    },
    {
     "name": "stdout",
     "output_type": "stream",
     "text": [
      "https://www.google.com/search?q=video game Microcandy release date\n",
      "couldnt find it loser\n"
     ]
    },
    {
     "name": "stderr",
     "output_type": "stream",
     "text": [
      "C:\\Users\\Ahmed\\AppData\\Local\\Temp/ipykernel_14584/1763191433.py:43: SettingWithCopyWarning: \n",
      "A value is trying to be set on a copy of a slice from a DataFrame\n",
      "\n",
      "See the caveats in the documentation: https://pandas.pydata.org/pandas-docs/stable/user_guide/indexing.html#returning-a-view-versus-a-copy\n",
      "  df1[\"release_date\"][game_index] = game_year\n"
     ]
    },
    {
     "name": "stdout",
     "output_type": "stream",
     "text": [
      "https://www.google.com/search?q=video game 2nd Generation: The Video Game release date\n",
      "1976\n"
     ]
    },
    {
     "name": "stderr",
     "output_type": "stream",
     "text": [
      "C:\\Users\\Ahmed\\AppData\\Local\\Temp/ipykernel_14584/1763191433.py:137: SettingWithCopyWarning: \n",
      "A value is trying to be set on a copy of a slice from a DataFrame\n",
      "\n",
      "See the caveats in the documentation: https://pandas.pydata.org/pandas-docs/stable/user_guide/indexing.html#returning-a-view-versus-a-copy\n",
      "  df1[\"release_date\"][wrong_data_combined[i][0]] = 0\n"
     ]
    },
    {
     "name": "stdout",
     "output_type": "stream",
     "text": [
      "https://www.google.com/search?q=video game Tornuktu release date\n",
      "couldnt find it loser\n"
     ]
    },
    {
     "name": "stderr",
     "output_type": "stream",
     "text": [
      "C:\\Users\\Ahmed\\AppData\\Local\\Temp/ipykernel_14584/1763191433.py:137: SettingWithCopyWarning: \n",
      "A value is trying to be set on a copy of a slice from a DataFrame\n",
      "\n",
      "See the caveats in the documentation: https://pandas.pydata.org/pandas-docs/stable/user_guide/indexing.html#returning-a-view-versus-a-copy\n",
      "  df1[\"release_date\"][wrong_data_combined[i][0]] = 0\n"
     ]
    },
    {
     "name": "stdout",
     "output_type": "stream",
     "text": [
      "https://www.google.com/search?q=video game Live on: The Astray Message release date\n",
      "couldnt find it loser\n"
     ]
    },
    {
     "name": "stderr",
     "output_type": "stream",
     "text": [
      "C:\\Users\\Ahmed\\AppData\\Local\\Temp/ipykernel_14584/1763191433.py:137: SettingWithCopyWarning: \n",
      "A value is trying to be set on a copy of a slice from a DataFrame\n",
      "\n",
      "See the caveats in the documentation: https://pandas.pydata.org/pandas-docs/stable/user_guide/indexing.html#returning-a-view-versus-a-copy\n",
      "  df1[\"release_date\"][wrong_data_combined[i][0]] = 0\n"
     ]
    },
    {
     "name": "stdout",
     "output_type": "stream",
     "text": [
      "https://www.google.com/search?q=video game Noraut Deluxe Poker release date\n",
      "couldnt find it loser\n"
     ]
    },
    {
     "name": "stderr",
     "output_type": "stream",
     "text": [
      "C:\\Users\\Ahmed\\AppData\\Local\\Temp/ipykernel_14584/1763191433.py:137: SettingWithCopyWarning: \n",
      "A value is trying to be set on a copy of a slice from a DataFrame\n",
      "\n",
      "See the caveats in the documentation: https://pandas.pydata.org/pandas-docs/stable/user_guide/indexing.html#returning-a-view-versus-a-copy\n",
      "  df1[\"release_date\"][wrong_data_combined[i][0]] = 0\n"
     ]
    },
    {
     "name": "stdout",
     "output_type": "stream",
     "text": [
      "https://www.google.com/search?q=video game The Trillium Horrors: Frostbitten release date\n",
      "couldnt find it loser\n"
     ]
    },
    {
     "name": "stderr",
     "output_type": "stream",
     "text": [
      "C:\\Users\\Ahmed\\AppData\\Local\\Temp/ipykernel_14584/1763191433.py:137: SettingWithCopyWarning: \n",
      "A value is trying to be set on a copy of a slice from a DataFrame\n",
      "\n",
      "See the caveats in the documentation: https://pandas.pydata.org/pandas-docs/stable/user_guide/indexing.html#returning-a-view-versus-a-copy\n",
      "  df1[\"release_date\"][wrong_data_combined[i][0]] = 0\n"
     ]
    },
    {
     "name": "stdout",
     "output_type": "stream",
     "text": [
      "https://www.google.com/search?q=video game Malzak release date\n",
      "couldnt find it loser\n"
     ]
    },
    {
     "name": "stderr",
     "output_type": "stream",
     "text": [
      "C:\\Users\\Ahmed\\AppData\\Local\\Temp/ipykernel_14584/1763191433.py:137: SettingWithCopyWarning: \n",
      "A value is trying to be set on a copy of a slice from a DataFrame\n",
      "\n",
      "See the caveats in the documentation: https://pandas.pydata.org/pandas-docs/stable/user_guide/indexing.html#returning-a-view-versus-a-copy\n",
      "  df1[\"release_date\"][wrong_data_combined[i][0]] = 0\n"
     ]
    },
    {
     "name": "stdout",
     "output_type": "stream",
     "text": [
      "https://www.google.com/search?q=video game Aeryn: Nightmares of Fau release date\n",
      "couldnt find it loser\n"
     ]
    },
    {
     "name": "stderr",
     "output_type": "stream",
     "text": [
      "C:\\Users\\Ahmed\\AppData\\Local\\Temp/ipykernel_14584/1763191433.py:137: SettingWithCopyWarning: \n",
      "A value is trying to be set on a copy of a slice from a DataFrame\n",
      "\n",
      "See the caveats in the documentation: https://pandas.pydata.org/pandas-docs/stable/user_guide/indexing.html#returning-a-view-versus-a-copy\n",
      "  df1[\"release_date\"][wrong_data_combined[i][0]] = 0\n"
     ]
    },
    {
     "name": "stdout",
     "output_type": "stream",
     "text": [
      "https://www.google.com/search?q=video game Deception of My Mind release date\n",
      "couldnt find it loser\n"
     ]
    },
    {
     "name": "stderr",
     "output_type": "stream",
     "text": [
      "C:\\Users\\Ahmed\\AppData\\Local\\Temp/ipykernel_14584/1763191433.py:43: SettingWithCopyWarning: \n",
      "A value is trying to be set on a copy of a slice from a DataFrame\n",
      "\n",
      "See the caveats in the documentation: https://pandas.pydata.org/pandas-docs/stable/user_guide/indexing.html#returning-a-view-versus-a-copy\n",
      "  df1[\"release_date\"][game_index] = game_year\n"
     ]
    },
    {
     "name": "stdout",
     "output_type": "stream",
     "text": [
      "https://www.google.com/search?q=video game Uprising release date\n",
      "1997\n",
      "https://www.google.com/search?q=video game Magic 12 release date\n",
      "1993\n"
     ]
    },
    {
     "name": "stderr",
     "output_type": "stream",
     "text": [
      "C:\\Users\\Ahmed\\AppData\\Local\\Temp/ipykernel_14584/1763191433.py:137: SettingWithCopyWarning: \n",
      "A value is trying to be set on a copy of a slice from a DataFrame\n",
      "\n",
      "See the caveats in the documentation: https://pandas.pydata.org/pandas-docs/stable/user_guide/indexing.html#returning-a-view-versus-a-copy\n",
      "  df1[\"release_date\"][wrong_data_combined[i][0]] = 0\n"
     ]
    },
    {
     "name": "stdout",
     "output_type": "stream",
     "text": [
      "https://www.google.com/search?q=video game Billy Saves the World release date\n",
      "couldnt find it loser\n"
     ]
    },
    {
     "name": "stderr",
     "output_type": "stream",
     "text": [
      "C:\\Users\\Ahmed\\AppData\\Local\\Temp/ipykernel_14584/1763191433.py:137: SettingWithCopyWarning: \n",
      "A value is trying to be set on a copy of a slice from a DataFrame\n",
      "\n",
      "See the caveats in the documentation: https://pandas.pydata.org/pandas-docs/stable/user_guide/indexing.html#returning-a-view-versus-a-copy\n",
      "  df1[\"release_date\"][wrong_data_combined[i][0]] = 0\n"
     ]
    },
    {
     "name": "stdout",
     "output_type": "stream",
     "text": [
      "https://www.google.com/search?q=video game The Vortex Adventures release date\n",
      "couldnt find it loser\n"
     ]
    },
    {
     "name": "stderr",
     "output_type": "stream",
     "text": [
      "C:\\Users\\Ahmed\\AppData\\Local\\Temp/ipykernel_14584/1763191433.py:137: SettingWithCopyWarning: \n",
      "A value is trying to be set on a copy of a slice from a DataFrame\n",
      "\n",
      "See the caveats in the documentation: https://pandas.pydata.org/pandas-docs/stable/user_guide/indexing.html#returning-a-view-versus-a-copy\n",
      "  df1[\"release_date\"][wrong_data_combined[i][0]] = 0\n"
     ]
    },
    {
     "name": "stdout",
     "output_type": "stream",
     "text": [
      "https://www.google.com/search?q=video game The Alone release date\n",
      "couldnt find it loser\n"
     ]
    },
    {
     "name": "stderr",
     "output_type": "stream",
     "text": [
      "C:\\Users\\Ahmed\\AppData\\Local\\Temp/ipykernel_14584/1763191433.py:43: SettingWithCopyWarning: \n",
      "A value is trying to be set on a copy of a slice from a DataFrame\n",
      "\n",
      "See the caveats in the documentation: https://pandas.pydata.org/pandas-docs/stable/user_guide/indexing.html#returning-a-view-versus-a-copy\n",
      "  df1[\"release_date\"][game_index] = game_year\n"
     ]
    },
    {
     "name": "stdout",
     "output_type": "stream",
     "text": [
      "https://www.google.com/search?q=video game Tokyo42 release date\n",
      "2017\n"
     ]
    },
    {
     "name": "stderr",
     "output_type": "stream",
     "text": [
      "C:\\Users\\Ahmed\\AppData\\Local\\Temp/ipykernel_14584/1763191433.py:137: SettingWithCopyWarning: \n",
      "A value is trying to be set on a copy of a slice from a DataFrame\n",
      "\n",
      "See the caveats in the documentation: https://pandas.pydata.org/pandas-docs/stable/user_guide/indexing.html#returning-a-view-versus-a-copy\n",
      "  df1[\"release_date\"][wrong_data_combined[i][0]] = 0\n"
     ]
    },
    {
     "name": "stdout",
     "output_type": "stream",
     "text": [
      "https://www.google.com/search?q=video game Death Cycle: Xbox 360 release date\n",
      "couldnt find it loser\n"
     ]
    },
    {
     "name": "stderr",
     "output_type": "stream",
     "text": [
      "C:\\Users\\Ahmed\\AppData\\Local\\Temp/ipykernel_14584/1763191433.py:137: SettingWithCopyWarning: \n",
      "A value is trying to be set on a copy of a slice from a DataFrame\n",
      "\n",
      "See the caveats in the documentation: https://pandas.pydata.org/pandas-docs/stable/user_guide/indexing.html#returning-a-view-versus-a-copy\n",
      "  df1[\"release_date\"][wrong_data_combined[i][0]] = 0\n"
     ]
    },
    {
     "name": "stdout",
     "output_type": "stream",
     "text": [
      "https://www.google.com/search?q=video game Samurai Unicorn release date\n",
      "couldnt find it loser\n"
     ]
    },
    {
     "name": "stderr",
     "output_type": "stream",
     "text": [
      "C:\\Users\\Ahmed\\AppData\\Local\\Temp/ipykernel_14584/1763191433.py:137: SettingWithCopyWarning: \n",
      "A value is trying to be set on a copy of a slice from a DataFrame\n",
      "\n",
      "See the caveats in the documentation: https://pandas.pydata.org/pandas-docs/stable/user_guide/indexing.html#returning-a-view-versus-a-copy\n",
      "  df1[\"release_date\"][wrong_data_combined[i][0]] = 0\n"
     ]
    },
    {
     "name": "stdout",
     "output_type": "stream",
     "text": [
      "https://www.google.com/search?q=video game Draw Poker Superstar release date\n",
      "couldnt find it loser\n"
     ]
    },
    {
     "name": "stderr",
     "output_type": "stream",
     "text": [
      "C:\\Users\\Ahmed\\AppData\\Local\\Temp/ipykernel_14584/1763191433.py:43: SettingWithCopyWarning: \n",
      "A value is trying to be set on a copy of a slice from a DataFrame\n",
      "\n",
      "See the caveats in the documentation: https://pandas.pydata.org/pandas-docs/stable/user_guide/indexing.html#returning-a-view-versus-a-copy\n",
      "  df1[\"release_date\"][game_index] = game_year\n"
     ]
    },
    {
     "name": "stdout",
     "output_type": "stream",
     "text": [
      "https://www.google.com/search?q=video game Troubadour release date\n",
      "2005\n"
     ]
    },
    {
     "name": "stderr",
     "output_type": "stream",
     "text": [
      "C:\\Users\\Ahmed\\AppData\\Local\\Temp/ipykernel_14584/1763191433.py:137: SettingWithCopyWarning: \n",
      "A value is trying to be set on a copy of a slice from a DataFrame\n",
      "\n",
      "See the caveats in the documentation: https://pandas.pydata.org/pandas-docs/stable/user_guide/indexing.html#returning-a-view-versus-a-copy\n",
      "  df1[\"release_date\"][wrong_data_combined[i][0]] = 0\n"
     ]
    },
    {
     "name": "stdout",
     "output_type": "stream",
     "text": [
      "https://www.google.com/search?q=video game Glory release date\n",
      "couldnt find it loser\n"
     ]
    },
    {
     "name": "stderr",
     "output_type": "stream",
     "text": [
      "C:\\Users\\Ahmed\\AppData\\Local\\Temp/ipykernel_14584/1763191433.py:74: SettingWithCopyWarning: \n",
      "A value is trying to be set on a copy of a slice from a DataFrame\n",
      "\n",
      "See the caveats in the documentation: https://pandas.pydata.org/pandas-docs/stable/user_guide/indexing.html#returning-a-view-versus-a-copy\n",
      "  df1[\"release_date\"][game_index] = game_year\n"
     ]
    },
    {
     "name": "stdout",
     "output_type": "stream",
     "text": [
      "https://www.google.com/search?q=video game Homicidal Allstars release date\n",
      "2022\n"
     ]
    },
    {
     "name": "stderr",
     "output_type": "stream",
     "text": [
      "C:\\Users\\Ahmed\\AppData\\Local\\Temp/ipykernel_14584/1763191433.py:137: SettingWithCopyWarning: \n",
      "A value is trying to be set on a copy of a slice from a DataFrame\n",
      "\n",
      "See the caveats in the documentation: https://pandas.pydata.org/pandas-docs/stable/user_guide/indexing.html#returning-a-view-versus-a-copy\n",
      "  df1[\"release_date\"][wrong_data_combined[i][0]] = 0\n"
     ]
    },
    {
     "name": "stdout",
     "output_type": "stream",
     "text": [
      "https://www.google.com/search?q=video game Atmorria: The Book of Dev release date\n",
      "couldnt find it loser\n"
     ]
    },
    {
     "name": "stderr",
     "output_type": "stream",
     "text": [
      "C:\\Users\\Ahmed\\AppData\\Local\\Temp/ipykernel_14584/1763191433.py:74: SettingWithCopyWarning: \n",
      "A value is trying to be set on a copy of a slice from a DataFrame\n",
      "\n",
      "See the caveats in the documentation: https://pandas.pydata.org/pandas-docs/stable/user_guide/indexing.html#returning-a-view-versus-a-copy\n",
      "  df1[\"release_date\"][game_index] = game_year\n"
     ]
    },
    {
     "name": "stdout",
     "output_type": "stream",
     "text": [
      "https://www.google.com/search?q=video game Photon release date\n",
      "2023\n"
     ]
    },
    {
     "name": "stderr",
     "output_type": "stream",
     "text": [
      "C:\\Users\\Ahmed\\AppData\\Local\\Temp/ipykernel_14584/1763191433.py:137: SettingWithCopyWarning: \n",
      "A value is trying to be set on a copy of a slice from a DataFrame\n",
      "\n",
      "See the caveats in the documentation: https://pandas.pydata.org/pandas-docs/stable/user_guide/indexing.html#returning-a-view-versus-a-copy\n",
      "  df1[\"release_date\"][wrong_data_combined[i][0]] = 0\n"
     ]
    },
    {
     "name": "stdout",
     "output_type": "stream",
     "text": [
      "https://www.google.com/search?q=video game Sinister Within release date\n",
      "couldnt find it loser\n"
     ]
    },
    {
     "name": "stderr",
     "output_type": "stream",
     "text": [
      "C:\\Users\\Ahmed\\AppData\\Local\\Temp/ipykernel_14584/1763191433.py:137: SettingWithCopyWarning: \n",
      "A value is trying to be set on a copy of a slice from a DataFrame\n",
      "\n",
      "See the caveats in the documentation: https://pandas.pydata.org/pandas-docs/stable/user_guide/indexing.html#returning-a-view-versus-a-copy\n",
      "  df1[\"release_date\"][wrong_data_combined[i][0]] = 0\n"
     ]
    },
    {
     "name": "stdout",
     "output_type": "stream",
     "text": [
      "https://www.google.com/search?q=video game Masternever and the Flow of Death release date\n",
      "couldnt find it loser\n"
     ]
    },
    {
     "name": "stderr",
     "output_type": "stream",
     "text": [
      "C:\\Users\\Ahmed\\AppData\\Local\\Temp/ipykernel_14584/1763191433.py:137: SettingWithCopyWarning: \n",
      "A value is trying to be set on a copy of a slice from a DataFrame\n",
      "\n",
      "See the caveats in the documentation: https://pandas.pydata.org/pandas-docs/stable/user_guide/indexing.html#returning-a-view-versus-a-copy\n",
      "  df1[\"release_date\"][wrong_data_combined[i][0]] = 0\n"
     ]
    },
    {
     "name": "stdout",
     "output_type": "stream",
     "text": [
      "https://www.google.com/search?q=video game WordTrap Dungeon release date\n",
      "couldnt find it loser\n"
     ]
    },
    {
     "name": "stderr",
     "output_type": "stream",
     "text": [
      "C:\\Users\\Ahmed\\AppData\\Local\\Temp/ipykernel_14584/1763191433.py:137: SettingWithCopyWarning: \n",
      "A value is trying to be set on a copy of a slice from a DataFrame\n",
      "\n",
      "See the caveats in the documentation: https://pandas.pydata.org/pandas-docs/stable/user_guide/indexing.html#returning-a-view-versus-a-copy\n",
      "  df1[\"release_date\"][wrong_data_combined[i][0]] = 0\n"
     ]
    },
    {
     "name": "stdout",
     "output_type": "stream",
     "text": [
      "https://www.google.com/search?q=video game Umboo release date\n",
      "couldnt find it loser\n"
     ]
    },
    {
     "name": "stderr",
     "output_type": "stream",
     "text": [
      "C:\\Users\\Ahmed\\AppData\\Local\\Temp/ipykernel_14584/1763191433.py:137: SettingWithCopyWarning: \n",
      "A value is trying to be set on a copy of a slice from a DataFrame\n",
      "\n",
      "See the caveats in the documentation: https://pandas.pydata.org/pandas-docs/stable/user_guide/indexing.html#returning-a-view-versus-a-copy\n",
      "  df1[\"release_date\"][wrong_data_combined[i][0]] = 0\n"
     ]
    },
    {
     "name": "stdout",
     "output_type": "stream",
     "text": [
      "https://www.google.com/search?q=video game Justice in Unity: Redux release date\n",
      "couldnt find it loser\n"
     ]
    },
    {
     "name": "stderr",
     "output_type": "stream",
     "text": [
      "C:\\Users\\Ahmed\\AppData\\Local\\Temp/ipykernel_14584/1763191433.py:43: SettingWithCopyWarning: \n",
      "A value is trying to be set on a copy of a slice from a DataFrame\n",
      "\n",
      "See the caveats in the documentation: https://pandas.pydata.org/pandas-docs/stable/user_guide/indexing.html#returning-a-view-versus-a-copy\n",
      "  df1[\"release_date\"][game_index] = game_year\n"
     ]
    },
    {
     "name": "stdout",
     "output_type": "stream",
     "text": [
      "https://www.google.com/search?q=video game Space Dungeon release date\n",
      "1981\n"
     ]
    },
    {
     "name": "stderr",
     "output_type": "stream",
     "text": [
      "C:\\Users\\Ahmed\\AppData\\Local\\Temp/ipykernel_14584/1763191433.py:137: SettingWithCopyWarning: \n",
      "A value is trying to be set on a copy of a slice from a DataFrame\n",
      "\n",
      "See the caveats in the documentation: https://pandas.pydata.org/pandas-docs/stable/user_guide/indexing.html#returning-a-view-versus-a-copy\n",
      "  df1[\"release_date\"][wrong_data_combined[i][0]] = 0\n"
     ]
    },
    {
     "name": "stdout",
     "output_type": "stream",
     "text": [
      "https://www.google.com/search?q=video game Renovatio release date\n",
      "couldnt find it loser\n"
     ]
    },
    {
     "name": "stderr",
     "output_type": "stream",
     "text": [
      "C:\\Users\\Ahmed\\AppData\\Local\\Temp/ipykernel_14584/1763191433.py:74: SettingWithCopyWarning: \n",
      "A value is trying to be set on a copy of a slice from a DataFrame\n",
      "\n",
      "See the caveats in the documentation: https://pandas.pydata.org/pandas-docs/stable/user_guide/indexing.html#returning-a-view-versus-a-copy\n",
      "  df1[\"release_date\"][game_index] = game_year\n"
     ]
    },
    {
     "name": "stdout",
     "output_type": "stream",
     "text": [
      "https://www.google.com/search?q=video game Read, Write & Type release date\n",
      "2023\n"
     ]
    },
    {
     "name": "stderr",
     "output_type": "stream",
     "text": [
      "C:\\Users\\Ahmed\\AppData\\Local\\Temp/ipykernel_14584/1763191433.py:137: SettingWithCopyWarning: \n",
      "A value is trying to be set on a copy of a slice from a DataFrame\n",
      "\n",
      "See the caveats in the documentation: https://pandas.pydata.org/pandas-docs/stable/user_guide/indexing.html#returning-a-view-versus-a-copy\n",
      "  df1[\"release_date\"][wrong_data_combined[i][0]] = 0\n"
     ]
    },
    {
     "name": "stdout",
     "output_type": "stream",
     "text": [
      "https://www.google.com/search?q=video game Bearwood Park release date\n",
      "couldnt find it loser\n"
     ]
    },
    {
     "name": "stderr",
     "output_type": "stream",
     "text": [
      "C:\\Users\\Ahmed\\AppData\\Local\\Temp/ipykernel_14584/1763191433.py:137: SettingWithCopyWarning: \n",
      "A value is trying to be set on a copy of a slice from a DataFrame\n",
      "\n",
      "See the caveats in the documentation: https://pandas.pydata.org/pandas-docs/stable/user_guide/indexing.html#returning-a-view-versus-a-copy\n",
      "  df1[\"release_date\"][wrong_data_combined[i][0]] = 0\n"
     ]
    },
    {
     "name": "stdout",
     "output_type": "stream",
     "text": [
      "https://www.google.com/search?q=video game Kingdom Kitty release date\n",
      "couldnt find it loser\n"
     ]
    },
    {
     "name": "stderr",
     "output_type": "stream",
     "text": [
      "C:\\Users\\Ahmed\\AppData\\Local\\Temp/ipykernel_14584/1763191433.py:43: SettingWithCopyWarning: \n",
      "A value is trying to be set on a copy of a slice from a DataFrame\n",
      "\n",
      "See the caveats in the documentation: https://pandas.pydata.org/pandas-docs/stable/user_guide/indexing.html#returning-a-view-versus-a-copy\n",
      "  df1[\"release_date\"][game_index] = game_year\n"
     ]
    },
    {
     "name": "stdout",
     "output_type": "stream",
     "text": [
      "https://www.google.com/search?q=video game The Safe Place release date\n",
      "2023\n",
      "https://www.google.com/search?q=video game Farewell North release date\n",
      "2023\n"
     ]
    },
    {
     "name": "stderr",
     "output_type": "stream",
     "text": [
      "C:\\Users\\Ahmed\\AppData\\Local\\Temp/ipykernel_14584/1763191433.py:74: SettingWithCopyWarning: \n",
      "A value is trying to be set on a copy of a slice from a DataFrame\n",
      "\n",
      "See the caveats in the documentation: https://pandas.pydata.org/pandas-docs/stable/user_guide/indexing.html#returning-a-view-versus-a-copy\n",
      "  df1[\"release_date\"][game_index] = game_year\n"
     ]
    },
    {
     "name": "stdout",
     "output_type": "stream",
     "text": [
      "https://www.google.com/search?q=video game Astro Killer release date\n",
      "1981\n",
      "https://www.google.com/search?q=video game Incredible Journey release date\n",
      "2015\n",
      "https://www.google.com/search?q=video game España release date\n",
      "1970\n"
     ]
    },
    {
     "name": "stderr",
     "output_type": "stream",
     "text": [
      "C:\\Users\\Ahmed\\AppData\\Local\\Temp/ipykernel_14584/1763191433.py:137: SettingWithCopyWarning: \n",
      "A value is trying to be set on a copy of a slice from a DataFrame\n",
      "\n",
      "See the caveats in the documentation: https://pandas.pydata.org/pandas-docs/stable/user_guide/indexing.html#returning-a-view-versus-a-copy\n",
      "  df1[\"release_date\"][wrong_data_combined[i][0]] = 0\n"
     ]
    },
    {
     "name": "stdout",
     "output_type": "stream",
     "text": [
      "https://www.google.com/search?q=video game Orbisia release date\n",
      "couldnt find it loser\n"
     ]
    },
    {
     "name": "stderr",
     "output_type": "stream",
     "text": [
      "C:\\Users\\Ahmed\\AppData\\Local\\Temp/ipykernel_14584/1763191433.py:74: SettingWithCopyWarning: \n",
      "A value is trying to be set on a copy of a slice from a DataFrame\n",
      "\n",
      "See the caveats in the documentation: https://pandas.pydata.org/pandas-docs/stable/user_guide/indexing.html#returning-a-view-versus-a-copy\n",
      "  df1[\"release_date\"][game_index] = game_year\n"
     ]
    },
    {
     "name": "stdout",
     "output_type": "stream",
     "text": [
      "https://www.google.com/search?q=video game Skill Mmorpg release date\n",
      "2023\n",
      "https://www.google.com/search?q=video game The Doomed Knight release date\n",
      "2024\n"
     ]
    },
    {
     "name": "stderr",
     "output_type": "stream",
     "text": [
      "C:\\Users\\Ahmed\\AppData\\Local\\Temp/ipykernel_14584/1763191433.py:137: SettingWithCopyWarning: \n",
      "A value is trying to be set on a copy of a slice from a DataFrame\n",
      "\n",
      "See the caveats in the documentation: https://pandas.pydata.org/pandas-docs/stable/user_guide/indexing.html#returning-a-view-versus-a-copy\n",
      "  df1[\"release_date\"][wrong_data_combined[i][0]] = 0\n"
     ]
    },
    {
     "name": "stdout",
     "output_type": "stream",
     "text": [
      "https://www.google.com/search?q=video game 3-4-5 Bingo release date\n",
      "couldnt find it loser\n"
     ]
    },
    {
     "name": "stderr",
     "output_type": "stream",
     "text": [
      "C:\\Users\\Ahmed\\AppData\\Local\\Temp/ipykernel_14584/1763191433.py:137: SettingWithCopyWarning: \n",
      "A value is trying to be set on a copy of a slice from a DataFrame\n",
      "\n",
      "See the caveats in the documentation: https://pandas.pydata.org/pandas-docs/stable/user_guide/indexing.html#returning-a-view-versus-a-copy\n",
      "  df1[\"release_date\"][wrong_data_combined[i][0]] = 0\n"
     ]
    },
    {
     "name": "stdout",
     "output_type": "stream",
     "text": [
      "https://www.google.com/search?q=video game Cherry Bonus II release date\n",
      "couldnt find it loser\n"
     ]
    },
    {
     "name": "stderr",
     "output_type": "stream",
     "text": [
      "C:\\Users\\Ahmed\\AppData\\Local\\Temp/ipykernel_14584/1763191433.py:43: SettingWithCopyWarning: \n",
      "A value is trying to be set on a copy of a slice from a DataFrame\n",
      "\n",
      "See the caveats in the documentation: https://pandas.pydata.org/pandas-docs/stable/user_guide/indexing.html#returning-a-view-versus-a-copy\n",
      "  df1[\"release_date\"][game_index] = game_year\n"
     ]
    },
    {
     "name": "stdout",
     "output_type": "stream",
     "text": [
      "https://www.google.com/search?q=video game The Anacrusis release date\n",
      "2022\n",
      "https://www.google.com/search?q=video game Foolish Mortals release date\n",
      "2023\n"
     ]
    },
    {
     "name": "stderr",
     "output_type": "stream",
     "text": [
      "C:\\Users\\Ahmed\\AppData\\Local\\Temp/ipykernel_14584/1763191433.py:74: SettingWithCopyWarning: \n",
      "A value is trying to be set on a copy of a slice from a DataFrame\n",
      "\n",
      "See the caveats in the documentation: https://pandas.pydata.org/pandas-docs/stable/user_guide/indexing.html#returning-a-view-versus-a-copy\n",
      "  df1[\"release_date\"][game_index] = game_year\n"
     ]
    },
    {
     "name": "stdout",
     "output_type": "stream",
     "text": [
      "https://www.google.com/search?q=video game Darkout release date\n",
      "2022\n"
     ]
    },
    {
     "name": "stderr",
     "output_type": "stream",
     "text": [
      "C:\\Users\\Ahmed\\AppData\\Local\\Temp/ipykernel_14584/1763191433.py:137: SettingWithCopyWarning: \n",
      "A value is trying to be set on a copy of a slice from a DataFrame\n",
      "\n",
      "See the caveats in the documentation: https://pandas.pydata.org/pandas-docs/stable/user_guide/indexing.html#returning-a-view-versus-a-copy\n",
      "  df1[\"release_date\"][wrong_data_combined[i][0]] = 0\n"
     ]
    },
    {
     "name": "stdout",
     "output_type": "stream",
     "text": [
      "https://www.google.com/search?q=video game UBI Cocktail Table release date\n",
      "couldnt find it loser\n"
     ]
    },
    {
     "name": "stderr",
     "output_type": "stream",
     "text": [
      "C:\\Users\\Ahmed\\AppData\\Local\\Temp/ipykernel_14584/1763191433.py:137: SettingWithCopyWarning: \n",
      "A value is trying to be set on a copy of a slice from a DataFrame\n",
      "\n",
      "See the caveats in the documentation: https://pandas.pydata.org/pandas-docs/stable/user_guide/indexing.html#returning-a-view-versus-a-copy\n",
      "  df1[\"release_date\"][wrong_data_combined[i][0]] = 0\n"
     ]
    },
    {
     "name": "stdout",
     "output_type": "stream",
     "text": [
      "https://www.google.com/search?q=video game Double Joker Poker release date\n",
      "couldnt find it loser\n"
     ]
    },
    {
     "name": "stderr",
     "output_type": "stream",
     "text": [
      "C:\\Users\\Ahmed\\AppData\\Local\\Temp/ipykernel_14584/1763191433.py:137: SettingWithCopyWarning: \n",
      "A value is trying to be set on a copy of a slice from a DataFrame\n",
      "\n",
      "See the caveats in the documentation: https://pandas.pydata.org/pandas-docs/stable/user_guide/indexing.html#returning-a-view-versus-a-copy\n",
      "  df1[\"release_date\"][wrong_data_combined[i][0]] = 0\n"
     ]
    },
    {
     "name": "stdout",
     "output_type": "stream",
     "text": [
      "https://www.google.com/search?q=video game Nasal & Co. release date\n",
      "couldnt find it loser\n"
     ]
    },
    {
     "name": "stderr",
     "output_type": "stream",
     "text": [
      "C:\\Users\\Ahmed\\AppData\\Local\\Temp/ipykernel_14584/1763191433.py:137: SettingWithCopyWarning: \n",
      "A value is trying to be set on a copy of a slice from a DataFrame\n",
      "\n",
      "See the caveats in the documentation: https://pandas.pydata.org/pandas-docs/stable/user_guide/indexing.html#returning-a-view-versus-a-copy\n",
      "  df1[\"release_date\"][wrong_data_combined[i][0]] = 0\n"
     ]
    },
    {
     "name": "stdout",
     "output_type": "stream",
     "text": [
      "https://www.google.com/search?q=video game Hi-Lo 8 Lines release date\n",
      "couldnt find it loser\n"
     ]
    },
    {
     "name": "stderr",
     "output_type": "stream",
     "text": [
      "C:\\Users\\Ahmed\\AppData\\Local\\Temp/ipykernel_14584/1763191433.py:43: SettingWithCopyWarning: \n",
      "A value is trying to be set on a copy of a slice from a DataFrame\n",
      "\n",
      "See the caveats in the documentation: https://pandas.pydata.org/pandas-docs/stable/user_guide/indexing.html#returning-a-view-versus-a-copy\n",
      "  df1[\"release_date\"][game_index] = game_year\n"
     ]
    },
    {
     "name": "stdout",
     "output_type": "stream",
     "text": [
      "https://www.google.com/search?q=video game Super Drink Bros. release date\n",
      "2020\n"
     ]
    },
    {
     "name": "stderr",
     "output_type": "stream",
     "text": [
      "C:\\Users\\Ahmed\\AppData\\Local\\Temp/ipykernel_14584/1763191433.py:137: SettingWithCopyWarning: \n",
      "A value is trying to be set on a copy of a slice from a DataFrame\n",
      "\n",
      "See the caveats in the documentation: https://pandas.pydata.org/pandas-docs/stable/user_guide/indexing.html#returning-a-view-versus-a-copy\n",
      "  df1[\"release_date\"][wrong_data_combined[i][0]] = 0\n"
     ]
    },
    {
     "name": "stdout",
     "output_type": "stream",
     "text": [
      "https://www.google.com/search?q=video game Badge release date\n",
      "couldnt find it loser\n"
     ]
    },
    {
     "name": "stderr",
     "output_type": "stream",
     "text": [
      "C:\\Users\\Ahmed\\AppData\\Local\\Temp/ipykernel_14584/1763191433.py:74: SettingWithCopyWarning: \n",
      "A value is trying to be set on a copy of a slice from a DataFrame\n",
      "\n",
      "See the caveats in the documentation: https://pandas.pydata.org/pandas-docs/stable/user_guide/indexing.html#returning-a-view-versus-a-copy\n",
      "  df1[\"release_date\"][game_index] = game_year\n"
     ]
    },
    {
     "name": "stdout",
     "output_type": "stream",
     "text": [
      "https://www.google.com/search?q=video game Wolverine High Score release date\n",
      "2024\n",
      "https://www.google.com/search?q=video game Dragon Quest III HD-2D Remake release date\n",
      "2021\n",
      "https://www.google.com/search?q=video game Legends of the Brawl release date\n",
      "2022\n"
     ]
    },
    {
     "name": "stderr",
     "output_type": "stream",
     "text": [
      "C:\\Users\\Ahmed\\AppData\\Local\\Temp/ipykernel_14584/1763191433.py:137: SettingWithCopyWarning: \n",
      "A value is trying to be set on a copy of a slice from a DataFrame\n",
      "\n",
      "See the caveats in the documentation: https://pandas.pydata.org/pandas-docs/stable/user_guide/indexing.html#returning-a-view-versus-a-copy\n",
      "  df1[\"release_date\"][wrong_data_combined[i][0]] = 0\n"
     ]
    },
    {
     "name": "stdout",
     "output_type": "stream",
     "text": [
      "https://www.google.com/search?q=video game High Score release date\n",
      "couldnt find it loser\n"
     ]
    },
    {
     "name": "stderr",
     "output_type": "stream",
     "text": [
      "C:\\Users\\Ahmed\\AppData\\Local\\Temp/ipykernel_14584/1763191433.py:137: SettingWithCopyWarning: \n",
      "A value is trying to be set on a copy of a slice from a DataFrame\n",
      "\n",
      "See the caveats in the documentation: https://pandas.pydata.org/pandas-docs/stable/user_guide/indexing.html#returning-a-view-versus-a-copy\n",
      "  df1[\"release_date\"][wrong_data_combined[i][0]] = 0\n"
     ]
    },
    {
     "name": "stdout",
     "output_type": "stream",
     "text": [
      "https://www.google.com/search?q=video game Total Rendition release date\n",
      "couldnt find it loser\n"
     ]
    },
    {
     "name": "stderr",
     "output_type": "stream",
     "text": [
      "C:\\Users\\Ahmed\\AppData\\Local\\Temp/ipykernel_14584/1763191433.py:74: SettingWithCopyWarning: \n",
      "A value is trying to be set on a copy of a slice from a DataFrame\n",
      "\n",
      "See the caveats in the documentation: https://pandas.pydata.org/pandas-docs/stable/user_guide/indexing.html#returning-a-view-versus-a-copy\n",
      "  df1[\"release_date\"][game_index] = game_year\n"
     ]
    },
    {
     "name": "stdout",
     "output_type": "stream",
     "text": [
      "https://www.google.com/search?q=video game The Last Defender release date\n",
      "2012\n",
      "https://www.google.com/search?q=video game After Us release date\n",
      "2023\n",
      "https://www.google.com/search?q=video game Hold & Draw release date\n",
      "2022\n"
     ]
    },
    {
     "name": "stderr",
     "output_type": "stream",
     "text": [
      "C:\\Users\\Ahmed\\AppData\\Local\\Temp/ipykernel_14584/1763191433.py:43: SettingWithCopyWarning: \n",
      "A value is trying to be set on a copy of a slice from a DataFrame\n",
      "\n",
      "See the caveats in the documentation: https://pandas.pydata.org/pandas-docs/stable/user_guide/indexing.html#returning-a-view-versus-a-copy\n",
      "  df1[\"release_date\"][game_index] = game_year\n"
     ]
    },
    {
     "name": "stdout",
     "output_type": "stream",
     "text": [
      "https://www.google.com/search?q=video game Descent: Underground release date\n",
      "2015\n",
      "https://www.google.com/search?q=video game Borderline Detective release date\n",
      "1984\n",
      "https://www.google.com/search?q=video game Galactica - Batalha Espacial release date\n",
      "1979\n"
     ]
    },
    {
     "name": "stderr",
     "output_type": "stream",
     "text": [
      "C:\\Users\\Ahmed\\AppData\\Local\\Temp/ipykernel_14584/1763191433.py:137: SettingWithCopyWarning: \n",
      "A value is trying to be set on a copy of a slice from a DataFrame\n",
      "\n",
      "See the caveats in the documentation: https://pandas.pydata.org/pandas-docs/stable/user_guide/indexing.html#returning-a-view-versus-a-copy\n",
      "  df1[\"release_date\"][wrong_data_combined[i][0]] = 0\n"
     ]
    },
    {
     "name": "stdout",
     "output_type": "stream",
     "text": [
      "https://www.google.com/search?q=video game Fruity Pebbles Beach Break release date\n",
      "couldnt find it loser\n"
     ]
    },
    {
     "name": "stderr",
     "output_type": "stream",
     "text": [
      "C:\\Users\\Ahmed\\AppData\\Local\\Temp/ipykernel_14584/1763191433.py:43: SettingWithCopyWarning: \n",
      "A value is trying to be set on a copy of a slice from a DataFrame\n",
      "\n",
      "See the caveats in the documentation: https://pandas.pydata.org/pandas-docs/stable/user_guide/indexing.html#returning-a-view-versus-a-copy\n",
      "  df1[\"release_date\"][game_index] = game_year\n"
     ]
    },
    {
     "name": "stdout",
     "output_type": "stream",
     "text": [
      "https://www.google.com/search?q=video game Amnesia: Rebirth SK release date\n",
      "2020\n"
     ]
    },
    {
     "name": "stderr",
     "output_type": "stream",
     "text": [
      "C:\\Users\\Ahmed\\AppData\\Local\\Temp/ipykernel_14584/1763191433.py:137: SettingWithCopyWarning: \n",
      "A value is trying to be set on a copy of a slice from a DataFrame\n",
      "\n",
      "See the caveats in the documentation: https://pandas.pydata.org/pandas-docs/stable/user_guide/indexing.html#returning-a-view-versus-a-copy\n",
      "  df1[\"release_date\"][wrong_data_combined[i][0]] = 0\n"
     ]
    },
    {
     "name": "stdout",
     "output_type": "stream",
     "text": [
      "https://www.google.com/search?q=video game Hank Drowning on Dry Land release date\n",
      "couldnt find it loser\n"
     ]
    },
    {
     "name": "stderr",
     "output_type": "stream",
     "text": [
      "C:\\Users\\Ahmed\\AppData\\Local\\Temp/ipykernel_14584/1763191433.py:137: SettingWithCopyWarning: \n",
      "A value is trying to be set on a copy of a slice from a DataFrame\n",
      "\n",
      "See the caveats in the documentation: https://pandas.pydata.org/pandas-docs/stable/user_guide/indexing.html#returning-a-view-versus-a-copy\n",
      "  df1[\"release_date\"][wrong_data_combined[i][0]] = 0\n"
     ]
    },
    {
     "name": "stdout",
     "output_type": "stream",
     "text": [
      "https://www.google.com/search?q=video game Planetaria Concursus release date\n",
      "couldnt find it loser\n"
     ]
    },
    {
     "name": "stderr",
     "output_type": "stream",
     "text": [
      "C:\\Users\\Ahmed\\AppData\\Local\\Temp/ipykernel_14584/1763191433.py:137: SettingWithCopyWarning: \n",
      "A value is trying to be set on a copy of a slice from a DataFrame\n",
      "\n",
      "See the caveats in the documentation: https://pandas.pydata.org/pandas-docs/stable/user_guide/indexing.html#returning-a-view-versus-a-copy\n",
      "  df1[\"release_date\"][wrong_data_combined[i][0]] = 0\n"
     ]
    },
    {
     "name": "stdout",
     "output_type": "stream",
     "text": [
      "https://www.google.com/search?q=video game Math Flashcards release date\n",
      "couldnt find it loser\n"
     ]
    },
    {
     "name": "stderr",
     "output_type": "stream",
     "text": [
      "C:\\Users\\Ahmed\\AppData\\Local\\Temp/ipykernel_14584/1763191433.py:74: SettingWithCopyWarning: \n",
      "A value is trying to be set on a copy of a slice from a DataFrame\n",
      "\n",
      "See the caveats in the documentation: https://pandas.pydata.org/pandas-docs/stable/user_guide/indexing.html#returning-a-view-versus-a-copy\n",
      "  df1[\"release_date\"][game_index] = game_year\n"
     ]
    },
    {
     "name": "stdout",
     "output_type": "stream",
     "text": [
      "https://www.google.com/search?q=video game Double Deck release date\n",
      "2018\n"
     ]
    },
    {
     "name": "stderr",
     "output_type": "stream",
     "text": [
      "C:\\Users\\Ahmed\\AppData\\Local\\Temp/ipykernel_14584/1763191433.py:43: SettingWithCopyWarning: \n",
      "A value is trying to be set on a copy of a slice from a DataFrame\n",
      "\n",
      "See the caveats in the documentation: https://pandas.pydata.org/pandas-docs/stable/user_guide/indexing.html#returning-a-view-versus-a-copy\n",
      "  df1[\"release_date\"][game_index] = game_year\n"
     ]
    },
    {
     "name": "stdout",
     "output_type": "stream",
     "text": [
      "https://www.google.com/search?q=video game Wandering Knight release date\n",
      "2011\n",
      "https://www.google.com/search?q=video game Judge Dredd 'halls of Justice' release date\n",
      "2000\n"
     ]
    },
    {
     "name": "stderr",
     "output_type": "stream",
     "text": [
      "C:\\Users\\Ahmed\\AppData\\Local\\Temp/ipykernel_14584/1763191433.py:137: SettingWithCopyWarning: \n",
      "A value is trying to be set on a copy of a slice from a DataFrame\n",
      "\n",
      "See the caveats in the documentation: https://pandas.pydata.org/pandas-docs/stable/user_guide/indexing.html#returning-a-view-versus-a-copy\n",
      "  df1[\"release_date\"][wrong_data_combined[i][0]] = 0\n"
     ]
    },
    {
     "name": "stdout",
     "output_type": "stream",
     "text": [
      "https://www.google.com/search?q=video game Cherry Chance release date\n",
      "couldnt find it loser\n"
     ]
    },
    {
     "name": "stderr",
     "output_type": "stream",
     "text": [
      "C:\\Users\\Ahmed\\AppData\\Local\\Temp/ipykernel_14584/1763191433.py:74: SettingWithCopyWarning: \n",
      "A value is trying to be set on a copy of a slice from a DataFrame\n",
      "\n",
      "See the caveats in the documentation: https://pandas.pydata.org/pandas-docs/stable/user_guide/indexing.html#returning-a-view-versus-a-copy\n",
      "  df1[\"release_date\"][game_index] = game_year\n"
     ]
    },
    {
     "name": "stdout",
     "output_type": "stream",
     "text": [
      "https://www.google.com/search?q=video game Gin! release date\n",
      "2008\n",
      "https://www.google.com/search?q=video game The Three Stooges Trivia release date\n",
      "2002\n",
      "https://www.google.com/search?q=video game Infernal Challenge release date\n",
      "2009\n",
      "https://www.google.com/search?q=video game LucusK release date\n",
      "2022\n"
     ]
    },
    {
     "name": "stderr",
     "output_type": "stream",
     "text": [
      "C:\\Users\\Ahmed\\AppData\\Local\\Temp/ipykernel_14584/1763191433.py:43: SettingWithCopyWarning: \n",
      "A value is trying to be set on a copy of a slice from a DataFrame\n",
      "\n",
      "See the caveats in the documentation: https://pandas.pydata.org/pandas-docs/stable/user_guide/indexing.html#returning-a-view-versus-a-copy\n",
      "  df1[\"release_date\"][game_index] = game_year\n"
     ]
    },
    {
     "name": "stdout",
     "output_type": "stream",
     "text": [
      "https://www.google.com/search?q=video game Zombie Watch release date\n",
      "2021\n",
      "https://www.google.com/search?q=video game Model 320 release date\n",
      "1993\n"
     ]
    },
    {
     "name": "stderr",
     "output_type": "stream",
     "text": [
      "C:\\Users\\Ahmed\\AppData\\Local\\Temp/ipykernel_14584/1763191433.py:137: SettingWithCopyWarning: \n",
      "A value is trying to be set on a copy of a slice from a DataFrame\n",
      "\n",
      "See the caveats in the documentation: https://pandas.pydata.org/pandas-docs/stable/user_guide/indexing.html#returning-a-view-versus-a-copy\n",
      "  df1[\"release_date\"][wrong_data_combined[i][0]] = 0\n"
     ]
    },
    {
     "name": "stdout",
     "output_type": "stream",
     "text": [
      "https://www.google.com/search?q=video game Joker Poker release date\n",
      "couldnt find it loser\n"
     ]
    },
    {
     "name": "stderr",
     "output_type": "stream",
     "text": [
      "C:\\Users\\Ahmed\\AppData\\Local\\Temp/ipykernel_14584/1763191433.py:137: SettingWithCopyWarning: \n",
      "A value is trying to be set on a copy of a slice from a DataFrame\n",
      "\n",
      "See the caveats in the documentation: https://pandas.pydata.org/pandas-docs/stable/user_guide/indexing.html#returning-a-view-versus-a-copy\n",
      "  df1[\"release_date\"][wrong_data_combined[i][0]] = 0\n"
     ]
    },
    {
     "name": "stdout",
     "output_type": "stream",
     "text": [
      "https://www.google.com/search?q=video game Fun World Quiz release date\n",
      "couldnt find it loser\n"
     ]
    },
    {
     "name": "stderr",
     "output_type": "stream",
     "text": [
      "C:\\Users\\Ahmed\\AppData\\Local\\Temp/ipykernel_14584/1763191433.py:137: SettingWithCopyWarning: \n",
      "A value is trying to be set on a copy of a slice from a DataFrame\n",
      "\n",
      "See the caveats in the documentation: https://pandas.pydata.org/pandas-docs/stable/user_guide/indexing.html#returning-a-view-versus-a-copy\n",
      "  df1[\"release_date\"][wrong_data_combined[i][0]] = 0\n"
     ]
    },
    {
     "name": "stdout",
     "output_type": "stream",
     "text": [
      "https://www.google.com/search?q=video game 7 e mezzo release date\n",
      "couldnt find it loser\n"
     ]
    },
    {
     "name": "stderr",
     "output_type": "stream",
     "text": [
      "C:\\Users\\Ahmed\\AppData\\Local\\Temp/ipykernel_14584/1763191433.py:43: SettingWithCopyWarning: \n",
      "A value is trying to be set on a copy of a slice from a DataFrame\n",
      "\n",
      "See the caveats in the documentation: https://pandas.pydata.org/pandas-docs/stable/user_guide/indexing.html#returning-a-view-versus-a-copy\n",
      "  df1[\"release_date\"][game_index] = game_year\n"
     ]
    },
    {
     "name": "stdout",
     "output_type": "stream",
     "text": [
      "https://www.google.com/search?q=video game Horror Land 2 release date\n",
      "2008\n"
     ]
    },
    {
     "name": "stderr",
     "output_type": "stream",
     "text": [
      "C:\\Users\\Ahmed\\AppData\\Local\\Temp/ipykernel_14584/1763191433.py:137: SettingWithCopyWarning: \n",
      "A value is trying to be set on a copy of a slice from a DataFrame\n",
      "\n",
      "See the caveats in the documentation: https://pandas.pydata.org/pandas-docs/stable/user_guide/indexing.html#returning-a-view-versus-a-copy\n",
      "  df1[\"release_date\"][wrong_data_combined[i][0]] = 0\n"
     ]
    },
    {
     "name": "stdout",
     "output_type": "stream",
     "text": [
      "https://www.google.com/search?q=video game Pro Soccer - Pro Tennis release date\n",
      "couldnt find it loser\n"
     ]
    },
    {
     "name": "stderr",
     "output_type": "stream",
     "text": [
      "C:\\Users\\Ahmed\\AppData\\Local\\Temp/ipykernel_14584/1763191433.py:137: SettingWithCopyWarning: \n",
      "A value is trying to be set on a copy of a slice from a DataFrame\n",
      "\n",
      "See the caveats in the documentation: https://pandas.pydata.org/pandas-docs/stable/user_guide/indexing.html#returning-a-view-versus-a-copy\n",
      "  df1[\"release_date\"][wrong_data_combined[i][0]] = 0\n"
     ]
    },
    {
     "name": "stdout",
     "output_type": "stream",
     "text": [
      "https://www.google.com/search?q=video game The Great Outdoors release date\n",
      "couldnt find it loser\n"
     ]
    },
    {
     "name": "stderr",
     "output_type": "stream",
     "text": [
      "C:\\Users\\Ahmed\\AppData\\Local\\Temp/ipykernel_14584/1763191433.py:137: SettingWithCopyWarning: \n",
      "A value is trying to be set on a copy of a slice from a DataFrame\n",
      "\n",
      "See the caveats in the documentation: https://pandas.pydata.org/pandas-docs/stable/user_guide/indexing.html#returning-a-view-versus-a-copy\n",
      "  df1[\"release_date\"][wrong_data_combined[i][0]] = 0\n"
     ]
    },
    {
     "name": "stdout",
     "output_type": "stream",
     "text": [
      "https://www.google.com/search?q=video game Gates of Mirnah release date\n",
      "couldnt find it loser\n"
     ]
    },
    {
     "name": "stderr",
     "output_type": "stream",
     "text": [
      "C:\\Users\\Ahmed\\AppData\\Local\\Temp/ipykernel_14584/1763191433.py:74: SettingWithCopyWarning: \n",
      "A value is trying to be set on a copy of a slice from a DataFrame\n",
      "\n",
      "See the caveats in the documentation: https://pandas.pydata.org/pandas-docs/stable/user_guide/indexing.html#returning-a-view-versus-a-copy\n",
      "  df1[\"release_date\"][game_index] = game_year\n"
     ]
    },
    {
     "name": "stdout",
     "output_type": "stream",
     "text": [
      "https://www.google.com/search?q=video game Shingeki no kyojin: Team Battle release date\n",
      "2018\n",
      "https://www.google.com/search?q=video game Super Leaf Productions the Video Game release date\n",
      "1991\n",
      "https://www.google.com/search?q=video game Escape Academy: Escape from the Past release date\n",
      "2022\n"
     ]
    },
    {
     "name": "stderr",
     "output_type": "stream",
     "text": [
      "C:\\Users\\Ahmed\\AppData\\Local\\Temp/ipykernel_14584/1763191433.py:43: SettingWithCopyWarning: \n",
      "A value is trying to be set on a copy of a slice from a DataFrame\n",
      "\n",
      "See the caveats in the documentation: https://pandas.pydata.org/pandas-docs/stable/user_guide/indexing.html#returning-a-view-versus-a-copy\n",
      "  df1[\"release_date\"][game_index] = game_year\n"
     ]
    },
    {
     "name": "stdout",
     "output_type": "stream",
     "text": [
      "https://www.google.com/search?q=video game Genie release date\n",
      "1990\n",
      "https://www.google.com/search?q=video game Dragon Rising release date\n",
      "2009\n"
     ]
    },
    {
     "name": "stderr",
     "output_type": "stream",
     "text": [
      "C:\\Users\\Ahmed\\AppData\\Local\\Temp/ipykernel_14584/1763191433.py:137: SettingWithCopyWarning: \n",
      "A value is trying to be set on a copy of a slice from a DataFrame\n",
      "\n",
      "See the caveats in the documentation: https://pandas.pydata.org/pandas-docs/stable/user_guide/indexing.html#returning-a-view-versus-a-copy\n",
      "  df1[\"release_date\"][wrong_data_combined[i][0]] = 0\n"
     ]
    },
    {
     "name": "stdout",
     "output_type": "stream",
     "text": [
      "https://www.google.com/search?q=video game NarKarma EngineA release date\n",
      "couldnt find it loser\n"
     ]
    },
    {
     "name": "stderr",
     "output_type": "stream",
     "text": [
      "C:\\Users\\Ahmed\\AppData\\Local\\Temp/ipykernel_14584/1763191433.py:74: SettingWithCopyWarning: \n",
      "A value is trying to be set on a copy of a slice from a DataFrame\n",
      "\n",
      "See the caveats in the documentation: https://pandas.pydata.org/pandas-docs/stable/user_guide/indexing.html#returning-a-view-versus-a-copy\n",
      "  df1[\"release_date\"][game_index] = game_year\n"
     ]
    },
    {
     "name": "stdout",
     "output_type": "stream",
     "text": [
      "https://www.google.com/search?q=video game Collision Course release date\n",
      "2009\n"
     ]
    },
    {
     "name": "stderr",
     "output_type": "stream",
     "text": [
      "C:\\Users\\Ahmed\\AppData\\Local\\Temp/ipykernel_14584/1763191433.py:137: SettingWithCopyWarning: \n",
      "A value is trying to be set on a copy of a slice from a DataFrame\n",
      "\n",
      "See the caveats in the documentation: https://pandas.pydata.org/pandas-docs/stable/user_guide/indexing.html#returning-a-view-versus-a-copy\n",
      "  df1[\"release_date\"][wrong_data_combined[i][0]] = 0\n"
     ]
    },
    {
     "name": "stdout",
     "output_type": "stream",
     "text": [
      "https://www.google.com/search?q=video game The Shadow Clubs release date\n",
      "couldnt find it loser\n"
     ]
    },
    {
     "name": "stderr",
     "output_type": "stream",
     "text": [
      "C:\\Users\\Ahmed\\AppData\\Local\\Temp/ipykernel_14584/1763191433.py:137: SettingWithCopyWarning: \n",
      "A value is trying to be set on a copy of a slice from a DataFrame\n",
      "\n",
      "See the caveats in the documentation: https://pandas.pydata.org/pandas-docs/stable/user_guide/indexing.html#returning-a-view-versus-a-copy\n",
      "  df1[\"release_date\"][wrong_data_combined[i][0]] = 0\n"
     ]
    },
    {
     "name": "stdout",
     "output_type": "stream",
     "text": [
      "https://www.google.com/search?q=video game Pilgrimage-Shinshin Dojo release date\n",
      "couldnt find it loser\n"
     ]
    },
    {
     "name": "stderr",
     "output_type": "stream",
     "text": [
      "C:\\Users\\Ahmed\\AppData\\Local\\Temp/ipykernel_14584/1763191433.py:74: SettingWithCopyWarning: \n",
      "A value is trying to be set on a copy of a slice from a DataFrame\n",
      "\n",
      "See the caveats in the documentation: https://pandas.pydata.org/pandas-docs/stable/user_guide/indexing.html#returning-a-view-versus-a-copy\n",
      "  df1[\"release_date\"][game_index] = game_year\n"
     ]
    },
    {
     "name": "stdout",
     "output_type": "stream",
     "text": [
      "https://www.google.com/search?q=video game Knuckle Sandwich release date\n",
      "1930\n",
      "https://www.google.com/search?q=video game Flipper Jack release date\n",
      "2023\n"
     ]
    },
    {
     "name": "stderr",
     "output_type": "stream",
     "text": [
      "C:\\Users\\Ahmed\\AppData\\Local\\Temp/ipykernel_14584/1763191433.py:137: SettingWithCopyWarning: \n",
      "A value is trying to be set on a copy of a slice from a DataFrame\n",
      "\n",
      "See the caveats in the documentation: https://pandas.pydata.org/pandas-docs/stable/user_guide/indexing.html#returning-a-view-versus-a-copy\n",
      "  df1[\"release_date\"][wrong_data_combined[i][0]] = 0\n"
     ]
    },
    {
     "name": "stdout",
     "output_type": "stream",
     "text": [
      "https://www.google.com/search?q=video game Treasurenauts release date\n",
      "couldnt find it loser\n"
     ]
    },
    {
     "name": "stderr",
     "output_type": "stream",
     "text": [
      "C:\\Users\\Ahmed\\AppData\\Local\\Temp/ipykernel_14584/1763191433.py:74: SettingWithCopyWarning: \n",
      "A value is trying to be set on a copy of a slice from a DataFrame\n",
      "\n",
      "See the caveats in the documentation: https://pandas.pydata.org/pandas-docs/stable/user_guide/indexing.html#returning-a-view-versus-a-copy\n",
      "  df1[\"release_date\"][game_index] = game_year\n"
     ]
    },
    {
     "name": "stdout",
     "output_type": "stream",
     "text": [
      "https://www.google.com/search?q=video game Quick Draw Poker release date\n",
      "2013\n"
     ]
    },
    {
     "name": "stderr",
     "output_type": "stream",
     "text": [
      "C:\\Users\\Ahmed\\AppData\\Local\\Temp/ipykernel_14584/1763191433.py:137: SettingWithCopyWarning: \n",
      "A value is trying to be set on a copy of a slice from a DataFrame\n",
      "\n",
      "See the caveats in the documentation: https://pandas.pydata.org/pandas-docs/stable/user_guide/indexing.html#returning-a-view-versus-a-copy\n",
      "  df1[\"release_date\"][wrong_data_combined[i][0]] = 0\n"
     ]
    },
    {
     "name": "stdout",
     "output_type": "stream",
     "text": [
      "https://www.google.com/search?q=video game Fourcourt - TV Halgame release date\n",
      "couldnt find it loser\n"
     ]
    },
    {
     "name": "stderr",
     "output_type": "stream",
     "text": [
      "C:\\Users\\Ahmed\\AppData\\Local\\Temp/ipykernel_14584/1763191433.py:137: SettingWithCopyWarning: \n",
      "A value is trying to be set on a copy of a slice from a DataFrame\n",
      "\n",
      "See the caveats in the documentation: https://pandas.pydata.org/pandas-docs/stable/user_guide/indexing.html#returning-a-view-versus-a-copy\n",
      "  df1[\"release_date\"][wrong_data_combined[i][0]] = 0\n"
     ]
    },
    {
     "name": "stdout",
     "output_type": "stream",
     "text": [
      "https://www.google.com/search?q=video game Truco-Tron release date\n",
      "couldnt find it loser\n"
     ]
    },
    {
     "name": "stderr",
     "output_type": "stream",
     "text": [
      "C:\\Users\\Ahmed\\AppData\\Local\\Temp/ipykernel_14584/1763191433.py:137: SettingWithCopyWarning: \n",
      "A value is trying to be set on a copy of a slice from a DataFrame\n",
      "\n",
      "See the caveats in the documentation: https://pandas.pydata.org/pandas-docs/stable/user_guide/indexing.html#returning-a-view-versus-a-copy\n",
      "  df1[\"release_date\"][wrong_data_combined[i][0]] = 0\n"
     ]
    },
    {
     "name": "stdout",
     "output_type": "stream",
     "text": [
      "https://www.google.com/search?q=video game Frozen Colony release date\n",
      "couldnt find it loser\n"
     ]
    },
    {
     "name": "stderr",
     "output_type": "stream",
     "text": [
      "C:\\Users\\Ahmed\\AppData\\Local\\Temp/ipykernel_14584/1763191433.py:137: SettingWithCopyWarning: \n",
      "A value is trying to be set on a copy of a slice from a DataFrame\n",
      "\n",
      "See the caveats in the documentation: https://pandas.pydata.org/pandas-docs/stable/user_guide/indexing.html#returning-a-view-versus-a-copy\n",
      "  df1[\"release_date\"][wrong_data_combined[i][0]] = 0\n"
     ]
    },
    {
     "name": "stdout",
     "output_type": "stream",
     "text": [
      "https://www.google.com/search?q=video game Brink Universe Unlimited: Supernovaman release date\n",
      "couldnt find it loser\n"
     ]
    },
    {
     "name": "stderr",
     "output_type": "stream",
     "text": [
      "C:\\Users\\Ahmed\\AppData\\Local\\Temp/ipykernel_14584/1763191433.py:43: SettingWithCopyWarning: \n",
      "A value is trying to be set on a copy of a slice from a DataFrame\n",
      "\n",
      "See the caveats in the documentation: https://pandas.pydata.org/pandas-docs/stable/user_guide/indexing.html#returning-a-view-versus-a-copy\n",
      "  df1[\"release_date\"][game_index] = game_year\n"
     ]
    },
    {
     "name": "stdout",
     "output_type": "stream",
     "text": [
      "https://www.google.com/search?q=video game MechRunner release date\n",
      "2015\n"
     ]
    },
    {
     "name": "stderr",
     "output_type": "stream",
     "text": [
      "C:\\Users\\Ahmed\\AppData\\Local\\Temp/ipykernel_14584/1763191433.py:137: SettingWithCopyWarning: \n",
      "A value is trying to be set on a copy of a slice from a DataFrame\n",
      "\n",
      "See the caveats in the documentation: https://pandas.pydata.org/pandas-docs/stable/user_guide/indexing.html#returning-a-view-versus-a-copy\n",
      "  df1[\"release_date\"][wrong_data_combined[i][0]] = 0\n"
     ]
    },
    {
     "name": "stdout",
     "output_type": "stream",
     "text": [
      "https://www.google.com/search?q=video game Sirius release date\n",
      "couldnt find it loser\n"
     ]
    },
    {
     "name": "stderr",
     "output_type": "stream",
     "text": [
      "C:\\Users\\Ahmed\\AppData\\Local\\Temp/ipykernel_14584/1763191433.py:74: SettingWithCopyWarning: \n",
      "A value is trying to be set on a copy of a slice from a DataFrame\n",
      "\n",
      "See the caveats in the documentation: https://pandas.pydata.org/pandas-docs/stable/user_guide/indexing.html#returning-a-view-versus-a-copy\n",
      "  df1[\"release_date\"][game_index] = game_year\n"
     ]
    },
    {
     "name": "stdout",
     "output_type": "stream",
     "text": [
      "https://www.google.com/search?q=video game 610 release date\n",
      "2012\n",
      "https://www.google.com/search?q=video game Terraknown release date\n",
      "2023\n",
      "https://www.google.com/search?q=video game Battle Commanders release date\n",
      "2022\n"
     ]
    },
    {
     "name": "stderr",
     "output_type": "stream",
     "text": [
      "C:\\Users\\Ahmed\\AppData\\Local\\Temp/ipykernel_14584/1763191433.py:137: SettingWithCopyWarning: \n",
      "A value is trying to be set on a copy of a slice from a DataFrame\n",
      "\n",
      "See the caveats in the documentation: https://pandas.pydata.org/pandas-docs/stable/user_guide/indexing.html#returning-a-view-versus-a-copy\n",
      "  df1[\"release_date\"][wrong_data_combined[i][0]] = 0\n"
     ]
    },
    {
     "name": "stdout",
     "output_type": "stream",
     "text": [
      "https://www.google.com/search?q=video game Ready to Run release date\n",
      "couldnt find it loser\n"
     ]
    },
    {
     "name": "stderr",
     "output_type": "stream",
     "text": [
      "C:\\Users\\Ahmed\\AppData\\Local\\Temp/ipykernel_14584/1763191433.py:137: SettingWithCopyWarning: \n",
      "A value is trying to be set on a copy of a slice from a DataFrame\n",
      "\n",
      "See the caveats in the documentation: https://pandas.pydata.org/pandas-docs/stable/user_guide/indexing.html#returning-a-view-versus-a-copy\n",
      "  df1[\"release_date\"][wrong_data_combined[i][0]] = 0\n"
     ]
    },
    {
     "name": "stdout",
     "output_type": "stream",
     "text": [
      "https://www.google.com/search?q=video game Istrebiteli release date\n",
      "couldnt find it loser\n"
     ]
    },
    {
     "name": "stderr",
     "output_type": "stream",
     "text": [
      "C:\\Users\\Ahmed\\AppData\\Local\\Temp/ipykernel_14584/1763191433.py:137: SettingWithCopyWarning: \n",
      "A value is trying to be set on a copy of a slice from a DataFrame\n",
      "\n",
      "See the caveats in the documentation: https://pandas.pydata.org/pandas-docs/stable/user_guide/indexing.html#returning-a-view-versus-a-copy\n",
      "  df1[\"release_date\"][wrong_data_combined[i][0]] = 0\n"
     ]
    },
    {
     "name": "stdout",
     "output_type": "stream",
     "text": [
      "https://www.google.com/search?q=video game Mahjong Club release date\n",
      "couldnt find it loser\n"
     ]
    },
    {
     "name": "stderr",
     "output_type": "stream",
     "text": [
      "C:\\Users\\Ahmed\\AppData\\Local\\Temp/ipykernel_14584/1763191433.py:43: SettingWithCopyWarning: \n",
      "A value is trying to be set on a copy of a slice from a DataFrame\n",
      "\n",
      "See the caveats in the documentation: https://pandas.pydata.org/pandas-docs/stable/user_guide/indexing.html#returning-a-view-versus-a-copy\n",
      "  df1[\"release_date\"][game_index] = game_year\n"
     ]
    },
    {
     "name": "stdout",
     "output_type": "stream",
     "text": [
      "https://www.google.com/search?q=video game Alice in Darknet release date\n",
      "2000\n"
     ]
    },
    {
     "name": "stderr",
     "output_type": "stream",
     "text": [
      "C:\\Users\\Ahmed\\AppData\\Local\\Temp/ipykernel_14584/1763191433.py:74: SettingWithCopyWarning: \n",
      "A value is trying to be set on a copy of a slice from a DataFrame\n",
      "\n",
      "See the caveats in the documentation: https://pandas.pydata.org/pandas-docs/stable/user_guide/indexing.html#returning-a-view-versus-a-copy\n",
      "  df1[\"release_date\"][game_index] = game_year\n"
     ]
    },
    {
     "name": "stdout",
     "output_type": "stream",
     "text": [
      "https://www.google.com/search?q=video game Galactic Invaders release date\n",
      "2021\n"
     ]
    },
    {
     "name": "stderr",
     "output_type": "stream",
     "text": [
      "C:\\Users\\Ahmed\\AppData\\Local\\Temp/ipykernel_14584/1763191433.py:137: SettingWithCopyWarning: \n",
      "A value is trying to be set on a copy of a slice from a DataFrame\n",
      "\n",
      "See the caveats in the documentation: https://pandas.pydata.org/pandas-docs/stable/user_guide/indexing.html#returning-a-view-versus-a-copy\n",
      "  df1[\"release_date\"][wrong_data_combined[i][0]] = 0\n"
     ]
    },
    {
     "name": "stdout",
     "output_type": "stream",
     "text": [
      "https://www.google.com/search?q=video game Hexian X release date\n",
      "couldnt find it loser\n"
     ]
    },
    {
     "name": "stderr",
     "output_type": "stream",
     "text": [
      "C:\\Users\\Ahmed\\AppData\\Local\\Temp/ipykernel_14584/1763191433.py:74: SettingWithCopyWarning: \n",
      "A value is trying to be set on a copy of a slice from a DataFrame\n",
      "\n",
      "See the caveats in the documentation: https://pandas.pydata.org/pandas-docs/stable/user_guide/indexing.html#returning-a-view-versus-a-copy\n",
      "  df1[\"release_date\"][game_index] = game_year\n"
     ]
    },
    {
     "name": "stdout",
     "output_type": "stream",
     "text": [
      "https://www.google.com/search?q=video game Ashfall release date\n",
      "2023\n"
     ]
    },
    {
     "name": "stderr",
     "output_type": "stream",
     "text": [
      "C:\\Users\\Ahmed\\AppData\\Local\\Temp/ipykernel_14584/1763191433.py:137: SettingWithCopyWarning: \n",
      "A value is trying to be set on a copy of a slice from a DataFrame\n",
      "\n",
      "See the caveats in the documentation: https://pandas.pydata.org/pandas-docs/stable/user_guide/indexing.html#returning-a-view-versus-a-copy\n",
      "  df1[\"release_date\"][wrong_data_combined[i][0]] = 0\n"
     ]
    },
    {
     "name": "stdout",
     "output_type": "stream",
     "text": [
      "https://www.google.com/search?q=video game Brain Quest: Multimedia - Grades 2 & 3 release date\n",
      "couldnt find it loser\n"
     ]
    },
    {
     "name": "stderr",
     "output_type": "stream",
     "text": [
      "C:\\Users\\Ahmed\\AppData\\Local\\Temp/ipykernel_14584/1763191433.py:74: SettingWithCopyWarning: \n",
      "A value is trying to be set on a copy of a slice from a DataFrame\n",
      "\n",
      "See the caveats in the documentation: https://pandas.pydata.org/pandas-docs/stable/user_guide/indexing.html#returning-a-view-versus-a-copy\n",
      "  df1[\"release_date\"][game_index] = game_year\n"
     ]
    },
    {
     "name": "stdout",
     "output_type": "stream",
     "text": [
      "https://www.google.com/search?q=video game Univers 2 release date\n",
      "2022\n"
     ]
    },
    {
     "name": "stderr",
     "output_type": "stream",
     "text": [
      "C:\\Users\\Ahmed\\AppData\\Local\\Temp/ipykernel_14584/1763191433.py:137: SettingWithCopyWarning: \n",
      "A value is trying to be set on a copy of a slice from a DataFrame\n",
      "\n",
      "See the caveats in the documentation: https://pandas.pydata.org/pandas-docs/stable/user_guide/indexing.html#returning-a-view-versus-a-copy\n",
      "  df1[\"release_date\"][wrong_data_combined[i][0]] = 0\n"
     ]
    },
    {
     "name": "stdout",
     "output_type": "stream",
     "text": [
      "https://www.google.com/search?q=video game Draw Poker Hi-Lo release date\n",
      "couldnt find it loser\n"
     ]
    },
    {
     "name": "stderr",
     "output_type": "stream",
     "text": [
      "C:\\Users\\Ahmed\\AppData\\Local\\Temp/ipykernel_14584/1763191433.py:43: SettingWithCopyWarning: \n",
      "A value is trying to be set on a copy of a slice from a DataFrame\n",
      "\n",
      "See the caveats in the documentation: https://pandas.pydata.org/pandas-docs/stable/user_guide/indexing.html#returning-a-view-versus-a-copy\n",
      "  df1[\"release_date\"][game_index] = game_year\n"
     ]
    },
    {
     "name": "stdout",
     "output_type": "stream",
     "text": [
      "https://www.google.com/search?q=video game BADA Space Station release date\n",
      "2021\n"
     ]
    },
    {
     "name": "stderr",
     "output_type": "stream",
     "text": [
      "C:\\Users\\Ahmed\\AppData\\Local\\Temp/ipykernel_14584/1763191433.py:137: SettingWithCopyWarning: \n",
      "A value is trying to be set on a copy of a slice from a DataFrame\n",
      "\n",
      "See the caveats in the documentation: https://pandas.pydata.org/pandas-docs/stable/user_guide/indexing.html#returning-a-view-versus-a-copy\n",
      "  df1[\"release_date\"][wrong_data_combined[i][0]] = 0\n"
     ]
    },
    {
     "name": "stdout",
     "output_type": "stream",
     "text": [
      "https://www.google.com/search?q=video game Perxor release date\n",
      "couldnt find it loser\n"
     ]
    },
    {
     "name": "stderr",
     "output_type": "stream",
     "text": [
      "C:\\Users\\Ahmed\\AppData\\Local\\Temp/ipykernel_14584/1763191433.py:137: SettingWithCopyWarning: \n",
      "A value is trying to be set on a copy of a slice from a DataFrame\n",
      "\n",
      "See the caveats in the documentation: https://pandas.pydata.org/pandas-docs/stable/user_guide/indexing.html#returning-a-view-versus-a-copy\n",
      "  df1[\"release_date\"][wrong_data_combined[i][0]] = 0\n"
     ]
    },
    {
     "name": "stdout",
     "output_type": "stream",
     "text": [
      "https://www.google.com/search?q=video game Dillingham release date\n",
      "couldnt find it loser\n"
     ]
    },
    {
     "name": "stderr",
     "output_type": "stream",
     "text": [
      "C:\\Users\\Ahmed\\AppData\\Local\\Temp/ipykernel_14584/1763191433.py:137: SettingWithCopyWarning: \n",
      "A value is trying to be set on a copy of a slice from a DataFrame\n",
      "\n",
      "See the caveats in the documentation: https://pandas.pydata.org/pandas-docs/stable/user_guide/indexing.html#returning-a-view-versus-a-copy\n",
      "  df1[\"release_date\"][wrong_data_combined[i][0]] = 0\n"
     ]
    },
    {
     "name": "stdout",
     "output_type": "stream",
     "text": [
      "https://www.google.com/search?q=video game Sacred Earth - Reverie release date\n",
      "couldnt find it loser\n"
     ]
    },
    {
     "name": "stderr",
     "output_type": "stream",
     "text": [
      "C:\\Users\\Ahmed\\AppData\\Local\\Temp/ipykernel_14584/1763191433.py:74: SettingWithCopyWarning: \n",
      "A value is trying to be set on a copy of a slice from a DataFrame\n",
      "\n",
      "See the caveats in the documentation: https://pandas.pydata.org/pandas-docs/stable/user_guide/indexing.html#returning-a-view-versus-a-copy\n",
      "  df1[\"release_date\"][game_index] = game_year\n"
     ]
    },
    {
     "name": "stdout",
     "output_type": "stream",
     "text": [
      "https://www.google.com/search?q=video game Desert Strike Tactics release date\n",
      "1992\n"
     ]
    },
    {
     "name": "stderr",
     "output_type": "stream",
     "text": [
      "C:\\Users\\Ahmed\\AppData\\Local\\Temp/ipykernel_14584/1763191433.py:137: SettingWithCopyWarning: \n",
      "A value is trying to be set on a copy of a slice from a DataFrame\n",
      "\n",
      "See the caveats in the documentation: https://pandas.pydata.org/pandas-docs/stable/user_guide/indexing.html#returning-a-view-versus-a-copy\n",
      "  df1[\"release_date\"][wrong_data_combined[i][0]] = 0\n"
     ]
    },
    {
     "name": "stdout",
     "output_type": "stream",
     "text": [
      "https://www.google.com/search?q=video game Crosscraft and the Overcraft release date\n",
      "couldnt find it loser\n"
     ]
    },
    {
     "name": "stderr",
     "output_type": "stream",
     "text": [
      "C:\\Users\\Ahmed\\AppData\\Local\\Temp/ipykernel_14584/1763191433.py:74: SettingWithCopyWarning: \n",
      "A value is trying to be set on a copy of a slice from a DataFrame\n",
      "\n",
      "See the caveats in the documentation: https://pandas.pydata.org/pandas-docs/stable/user_guide/indexing.html#returning-a-view-versus-a-copy\n",
      "  df1[\"release_date\"][game_index] = game_year\n"
     ]
    },
    {
     "name": "stdout",
     "output_type": "stream",
     "text": [
      "https://www.google.com/search?q=video game Deep Within release date\n",
      "2013\n",
      "https://www.google.com/search?q=video game Valley of Heroes release date\n",
      "2019\n"
     ]
    },
    {
     "name": "stderr",
     "output_type": "stream",
     "text": [
      "C:\\Users\\Ahmed\\AppData\\Local\\Temp/ipykernel_14584/1763191433.py:137: SettingWithCopyWarning: \n",
      "A value is trying to be set on a copy of a slice from a DataFrame\n",
      "\n",
      "See the caveats in the documentation: https://pandas.pydata.org/pandas-docs/stable/user_guide/indexing.html#returning-a-view-versus-a-copy\n",
      "  df1[\"release_date\"][wrong_data_combined[i][0]] = 0\n"
     ]
    },
    {
     "name": "stdout",
     "output_type": "stream",
     "text": [
      "https://www.google.com/search?q=video game House Flipper - Farm DLC release date\n",
      "couldnt find it loser\n"
     ]
    },
    {
     "name": "stderr",
     "output_type": "stream",
     "text": [
      "C:\\Users\\Ahmed\\AppData\\Local\\Temp/ipykernel_14584/1763191433.py:137: SettingWithCopyWarning: \n",
      "A value is trying to be set on a copy of a slice from a DataFrame\n",
      "\n",
      "See the caveats in the documentation: https://pandas.pydata.org/pandas-docs/stable/user_guide/indexing.html#returning-a-view-versus-a-copy\n",
      "  df1[\"release_date\"][wrong_data_combined[i][0]] = 0\n"
     ]
    },
    {
     "name": "stdout",
     "output_type": "stream",
     "text": [
      "https://www.google.com/search?q=video game Eclipse: Both Sides of the Moon release date\n",
      "couldnt find it loser\n"
     ]
    },
    {
     "name": "stderr",
     "output_type": "stream",
     "text": [
      "C:\\Users\\Ahmed\\AppData\\Local\\Temp/ipykernel_14584/1763191433.py:74: SettingWithCopyWarning: \n",
      "A value is trying to be set on a copy of a slice from a DataFrame\n",
      "\n",
      "See the caveats in the documentation: https://pandas.pydata.org/pandas-docs/stable/user_guide/indexing.html#returning-a-view-versus-a-copy\n",
      "  df1[\"release_date\"][game_index] = game_year\n"
     ]
    },
    {
     "name": "stdout",
     "output_type": "stream",
     "text": [
      "https://www.google.com/search?q=video game Tele-Ball release date\n",
      "2023\n"
     ]
    },
    {
     "name": "stderr",
     "output_type": "stream",
     "text": [
      "C:\\Users\\Ahmed\\AppData\\Local\\Temp/ipykernel_14584/1763191433.py:137: SettingWithCopyWarning: \n",
      "A value is trying to be set on a copy of a slice from a DataFrame\n",
      "\n",
      "See the caveats in the documentation: https://pandas.pydata.org/pandas-docs/stable/user_guide/indexing.html#returning-a-view-versus-a-copy\n",
      "  df1[\"release_date\"][wrong_data_combined[i][0]] = 0\n"
     ]
    },
    {
     "name": "stdout",
     "output_type": "stream",
     "text": [
      "https://www.google.com/search?q=video game Koisuru ryuuousama release date\n",
      "couldnt find it loser\n"
     ]
    },
    {
     "name": "stderr",
     "output_type": "stream",
     "text": [
      "C:\\Users\\Ahmed\\AppData\\Local\\Temp/ipykernel_14584/1763191433.py:137: SettingWithCopyWarning: \n",
      "A value is trying to be set on a copy of a slice from a DataFrame\n",
      "\n",
      "See the caveats in the documentation: https://pandas.pydata.org/pandas-docs/stable/user_guide/indexing.html#returning-a-view-versus-a-copy\n",
      "  df1[\"release_date\"][wrong_data_combined[i][0]] = 0\n"
     ]
    },
    {
     "name": "stdout",
     "output_type": "stream",
     "text": [
      "https://www.google.com/search?q=video game Retro Rockets release date\n",
      "couldnt find it loser\n"
     ]
    },
    {
     "name": "stderr",
     "output_type": "stream",
     "text": [
      "C:\\Users\\Ahmed\\AppData\\Local\\Temp/ipykernel_14584/1763191433.py:137: SettingWithCopyWarning: \n",
      "A value is trying to be set on a copy of a slice from a DataFrame\n",
      "\n",
      "See the caveats in the documentation: https://pandas.pydata.org/pandas-docs/stable/user_guide/indexing.html#returning-a-view-versus-a-copy\n",
      "  df1[\"release_date\"][wrong_data_combined[i][0]] = 0\n"
     ]
    },
    {
     "name": "stdout",
     "output_type": "stream",
     "text": [
      "https://www.google.com/search?q=video game Fun Casino II release date\n",
      "couldnt find it loser\n"
     ]
    },
    {
     "name": "stderr",
     "output_type": "stream",
     "text": [
      "C:\\Users\\Ahmed\\AppData\\Local\\Temp/ipykernel_14584/1763191433.py:74: SettingWithCopyWarning: \n",
      "A value is trying to be set on a copy of a slice from a DataFrame\n",
      "\n",
      "See the caveats in the documentation: https://pandas.pydata.org/pandas-docs/stable/user_guide/indexing.html#returning-a-view-versus-a-copy\n",
      "  df1[\"release_date\"][game_index] = game_year\n"
     ]
    },
    {
     "name": "stdout",
     "output_type": "stream",
     "text": [
      "https://www.google.com/search?q=video game Star Island release date\n",
      "2022\n"
     ]
    },
    {
     "name": "stderr",
     "output_type": "stream",
     "text": [
      "C:\\Users\\Ahmed\\AppData\\Local\\Temp/ipykernel_14584/1763191433.py:137: SettingWithCopyWarning: \n",
      "A value is trying to be set on a copy of a slice from a DataFrame\n",
      "\n",
      "See the caveats in the documentation: https://pandas.pydata.org/pandas-docs/stable/user_guide/indexing.html#returning-a-view-versus-a-copy\n",
      "  df1[\"release_date\"][wrong_data_combined[i][0]] = 0\n"
     ]
    },
    {
     "name": "stdout",
     "output_type": "stream",
     "text": [
      "https://www.google.com/search?q=video game Mira's Tale release date\n",
      "couldnt find it loser\n"
     ]
    },
    {
     "name": "stderr",
     "output_type": "stream",
     "text": [
      "C:\\Users\\Ahmed\\AppData\\Local\\Temp/ipykernel_14584/1763191433.py:74: SettingWithCopyWarning: \n",
      "A value is trying to be set on a copy of a slice from a DataFrame\n",
      "\n",
      "See the caveats in the documentation: https://pandas.pydata.org/pandas-docs/stable/user_guide/indexing.html#returning-a-view-versus-a-copy\n",
      "  df1[\"release_date\"][game_index] = game_year\n"
     ]
    },
    {
     "name": "stdout",
     "output_type": "stream",
     "text": [
      "https://www.google.com/search?q=video game Slide in the Woods release date\n",
      "2021\n"
     ]
    },
    {
     "name": "stderr",
     "output_type": "stream",
     "text": [
      "C:\\Users\\Ahmed\\AppData\\Local\\Temp/ipykernel_14584/1763191433.py:137: SettingWithCopyWarning: \n",
      "A value is trying to be set on a copy of a slice from a DataFrame\n",
      "\n",
      "See the caveats in the documentation: https://pandas.pydata.org/pandas-docs/stable/user_guide/indexing.html#returning-a-view-versus-a-copy\n",
      "  df1[\"release_date\"][wrong_data_combined[i][0]] = 0\n"
     ]
    },
    {
     "name": "stdout",
     "output_type": "stream",
     "text": [
      "https://www.google.com/search?q=video game Mamma VR release date\n",
      "couldnt find it loser\n"
     ]
    },
    {
     "name": "stderr",
     "output_type": "stream",
     "text": [
      "C:\\Users\\Ahmed\\AppData\\Local\\Temp/ipykernel_14584/1763191433.py:137: SettingWithCopyWarning: \n",
      "A value is trying to be set on a copy of a slice from a DataFrame\n",
      "\n",
      "See the caveats in the documentation: https://pandas.pydata.org/pandas-docs/stable/user_guide/indexing.html#returning-a-view-versus-a-copy\n",
      "  df1[\"release_date\"][wrong_data_combined[i][0]] = 0\n"
     ]
    },
    {
     "name": "stdout",
     "output_type": "stream",
     "text": [
      "https://www.google.com/search?q=video game Project Roo release date\n",
      "couldnt find it loser\n"
     ]
    },
    {
     "name": "stderr",
     "output_type": "stream",
     "text": [
      "C:\\Users\\Ahmed\\AppData\\Local\\Temp/ipykernel_14584/1763191433.py:137: SettingWithCopyWarning: \n",
      "A value is trying to be set on a copy of a slice from a DataFrame\n",
      "\n",
      "See the caveats in the documentation: https://pandas.pydata.org/pandas-docs/stable/user_guide/indexing.html#returning-a-view-versus-a-copy\n",
      "  df1[\"release_date\"][wrong_data_combined[i][0]] = 0\n"
     ]
    },
    {
     "name": "stdout",
     "output_type": "stream",
     "text": [
      "https://www.google.com/search?q=video game Waluigi's Warehouse release date\n",
      "couldnt find it loser\n"
     ]
    },
    {
     "name": "stderr",
     "output_type": "stream",
     "text": [
      "C:\\Users\\Ahmed\\AppData\\Local\\Temp/ipykernel_14584/1763191433.py:137: SettingWithCopyWarning: \n",
      "A value is trying to be set on a copy of a slice from a DataFrame\n",
      "\n",
      "See the caveats in the documentation: https://pandas.pydata.org/pandas-docs/stable/user_guide/indexing.html#returning-a-view-versus-a-copy\n",
      "  df1[\"release_date\"][wrong_data_combined[i][0]] = 0\n"
     ]
    },
    {
     "name": "stdout",
     "output_type": "stream",
     "text": [
      "https://www.google.com/search?q=video game Fragile Fighter release date\n",
      "couldnt find it loser\n"
     ]
    },
    {
     "name": "stderr",
     "output_type": "stream",
     "text": [
      "C:\\Users\\Ahmed\\AppData\\Local\\Temp/ipykernel_14584/1763191433.py:137: SettingWithCopyWarning: \n",
      "A value is trying to be set on a copy of a slice from a DataFrame\n",
      "\n",
      "See the caveats in the documentation: https://pandas.pydata.org/pandas-docs/stable/user_guide/indexing.html#returning-a-view-versus-a-copy\n",
      "  df1[\"release_date\"][wrong_data_combined[i][0]] = 0\n"
     ]
    },
    {
     "name": "stdout",
     "output_type": "stream",
     "text": [
      "https://www.google.com/search?q=video game Odonis Orphane release date\n",
      "couldnt find it loser\n"
     ]
    },
    {
     "name": "stderr",
     "output_type": "stream",
     "text": [
      "C:\\Users\\Ahmed\\AppData\\Local\\Temp/ipykernel_14584/1763191433.py:74: SettingWithCopyWarning: \n",
      "A value is trying to be set on a copy of a slice from a DataFrame\n",
      "\n",
      "See the caveats in the documentation: https://pandas.pydata.org/pandas-docs/stable/user_guide/indexing.html#returning-a-view-versus-a-copy\n",
      "  df1[\"release_date\"][game_index] = game_year\n"
     ]
    },
    {
     "name": "stdout",
     "output_type": "stream",
     "text": [
      "https://www.google.com/search?q=video game Gyangureivu release date\n",
      "2022\n"
     ]
    },
    {
     "name": "stderr",
     "output_type": "stream",
     "text": [
      "C:\\Users\\Ahmed\\AppData\\Local\\Temp/ipykernel_14584/1763191433.py:137: SettingWithCopyWarning: \n",
      "A value is trying to be set on a copy of a slice from a DataFrame\n",
      "\n",
      "See the caveats in the documentation: https://pandas.pydata.org/pandas-docs/stable/user_guide/indexing.html#returning-a-view-versus-a-copy\n",
      "  df1[\"release_date\"][wrong_data_combined[i][0]] = 0\n"
     ]
    },
    {
     "name": "stdout",
     "output_type": "stream",
     "text": [
      "https://www.google.com/search?q=video game Lorne release date\n",
      "couldnt find it loser\n"
     ]
    },
    {
     "name": "stderr",
     "output_type": "stream",
     "text": [
      "C:\\Users\\Ahmed\\AppData\\Local\\Temp/ipykernel_14584/1763191433.py:137: SettingWithCopyWarning: \n",
      "A value is trying to be set on a copy of a slice from a DataFrame\n",
      "\n",
      "See the caveats in the documentation: https://pandas.pydata.org/pandas-docs/stable/user_guide/indexing.html#returning-a-view-versus-a-copy\n",
      "  df1[\"release_date\"][wrong_data_combined[i][0]] = 0\n"
     ]
    },
    {
     "name": "stdout",
     "output_type": "stream",
     "text": [
      "https://www.google.com/search?q=video game Quiz Me on Drugs release date\n",
      "couldnt find it loser\n"
     ]
    },
    {
     "name": "stderr",
     "output_type": "stream",
     "text": [
      "C:\\Users\\Ahmed\\AppData\\Local\\Temp/ipykernel_14584/1763191433.py:74: SettingWithCopyWarning: \n",
      "A value is trying to be set on a copy of a slice from a DataFrame\n",
      "\n",
      "See the caveats in the documentation: https://pandas.pydata.org/pandas-docs/stable/user_guide/indexing.html#returning-a-view-versus-a-copy\n",
      "  df1[\"release_date\"][game_index] = game_year\n"
     ]
    },
    {
     "name": "stdout",
     "output_type": "stream",
     "text": [
      "https://www.google.com/search?q=video game Draw Poker release date\n",
      "1982\n"
     ]
    },
    {
     "name": "stderr",
     "output_type": "stream",
     "text": [
      "C:\\Users\\Ahmed\\AppData\\Local\\Temp/ipykernel_14584/1763191433.py:43: SettingWithCopyWarning: \n",
      "A value is trying to be set on a copy of a slice from a DataFrame\n",
      "\n",
      "See the caveats in the documentation: https://pandas.pydata.org/pandas-docs/stable/user_guide/indexing.html#returning-a-view-versus-a-copy\n",
      "  df1[\"release_date\"][game_index] = game_year\n"
     ]
    },
    {
     "name": "stdout",
     "output_type": "stream",
     "text": [
      "https://www.google.com/search?q=video game GT Revival release date\n",
      "1997\n"
     ]
    },
    {
     "name": "stderr",
     "output_type": "stream",
     "text": [
      "C:\\Users\\Ahmed\\AppData\\Local\\Temp/ipykernel_14584/1763191433.py:130: SettingWithCopyWarning: \n",
      "A value is trying to be set on a copy of a slice from a DataFrame\n",
      "\n",
      "See the caveats in the documentation: https://pandas.pydata.org/pandas-docs/stable/user_guide/indexing.html#returning-a-view-versus-a-copy\n",
      "  df1[\"release_date\"][game_index] = game_year\n"
     ]
    },
    {
     "name": "stdout",
     "output_type": "stream",
     "text": [
      "https://www.google.com/search?q=video game Androids release date\n",
      "2019\n",
      "https://www.google.com/search?q=video game GP Racer release date\n",
      "2022\n"
     ]
    },
    {
     "name": "stderr",
     "output_type": "stream",
     "text": [
      "C:\\Users\\Ahmed\\AppData\\Local\\Temp/ipykernel_14584/1763191433.py:137: SettingWithCopyWarning: \n",
      "A value is trying to be set on a copy of a slice from a DataFrame\n",
      "\n",
      "See the caveats in the documentation: https://pandas.pydata.org/pandas-docs/stable/user_guide/indexing.html#returning-a-view-versus-a-copy\n",
      "  df1[\"release_date\"][wrong_data_combined[i][0]] = 0\n"
     ]
    },
    {
     "name": "stdout",
     "output_type": "stream",
     "text": [
      "https://www.google.com/search?q=video game Gorebreaker release date\n",
      "couldnt find it loser\n"
     ]
    },
    {
     "name": "stderr",
     "output_type": "stream",
     "text": [
      "C:\\Users\\Ahmed\\AppData\\Local\\Temp/ipykernel_14584/1763191433.py:137: SettingWithCopyWarning: \n",
      "A value is trying to be set on a copy of a slice from a DataFrame\n",
      "\n",
      "See the caveats in the documentation: https://pandas.pydata.org/pandas-docs/stable/user_guide/indexing.html#returning-a-view-versus-a-copy\n",
      "  df1[\"release_date\"][wrong_data_combined[i][0]] = 0\n"
     ]
    },
    {
     "name": "stdout",
     "output_type": "stream",
     "text": [
      "https://www.google.com/search?q=video game Hiboka release date\n",
      "couldnt find it loser\n"
     ]
    },
    {
     "name": "stderr",
     "output_type": "stream",
     "text": [
      "C:\\Users\\Ahmed\\AppData\\Local\\Temp/ipykernel_14584/1763191433.py:137: SettingWithCopyWarning: \n",
      "A value is trying to be set on a copy of a slice from a DataFrame\n",
      "\n",
      "See the caveats in the documentation: https://pandas.pydata.org/pandas-docs/stable/user_guide/indexing.html#returning-a-view-versus-a-copy\n",
      "  df1[\"release_date\"][wrong_data_combined[i][0]] = 0\n"
     ]
    },
    {
     "name": "stdout",
     "output_type": "stream",
     "text": [
      "https://www.google.com/search?q=video game A Rocket's Intensity release date\n",
      "couldnt find it loser\n"
     ]
    },
    {
     "name": "stderr",
     "output_type": "stream",
     "text": [
      "C:\\Users\\Ahmed\\AppData\\Local\\Temp/ipykernel_14584/1763191433.py:43: SettingWithCopyWarning: \n",
      "A value is trying to be set on a copy of a slice from a DataFrame\n",
      "\n",
      "See the caveats in the documentation: https://pandas.pydata.org/pandas-docs/stable/user_guide/indexing.html#returning-a-view-versus-a-copy\n",
      "  df1[\"release_date\"][game_index] = game_year\n"
     ]
    },
    {
     "name": "stdout",
     "output_type": "stream",
     "text": [
      "https://www.google.com/search?q=video game Piratehunter release date\n",
      "2003\n"
     ]
    },
    {
     "name": "stderr",
     "output_type": "stream",
     "text": [
      "C:\\Users\\Ahmed\\AppData\\Local\\Temp/ipykernel_14584/1763191433.py:74: SettingWithCopyWarning: \n",
      "A value is trying to be set on a copy of a slice from a DataFrame\n",
      "\n",
      "See the caveats in the documentation: https://pandas.pydata.org/pandas-docs/stable/user_guide/indexing.html#returning-a-view-versus-a-copy\n",
      "  df1[\"release_date\"][game_index] = game_year\n"
     ]
    },
    {
     "name": "stdout",
     "output_type": "stream",
     "text": [
      "https://www.google.com/search?q=video game Age of Pirates: Captain Blood release date\n",
      "2022\n"
     ]
    },
    {
     "name": "stderr",
     "output_type": "stream",
     "text": [
      "C:\\Users\\Ahmed\\AppData\\Local\\Temp/ipykernel_14584/1763191433.py:137: SettingWithCopyWarning: \n",
      "A value is trying to be set on a copy of a slice from a DataFrame\n",
      "\n",
      "See the caveats in the documentation: https://pandas.pydata.org/pandas-docs/stable/user_guide/indexing.html#returning-a-view-versus-a-copy\n",
      "  df1[\"release_date\"][wrong_data_combined[i][0]] = 0\n"
     ]
    },
    {
     "name": "stdout",
     "output_type": "stream",
     "text": [
      "https://www.google.com/search?q=video game Drew's Deuces Wild release date\n",
      "couldnt find it loser\n"
     ]
    },
    {
     "name": "stderr",
     "output_type": "stream",
     "text": [
      "C:\\Users\\Ahmed\\AppData\\Local\\Temp/ipykernel_14584/1763191433.py:43: SettingWithCopyWarning: \n",
      "A value is trying to be set on a copy of a slice from a DataFrame\n",
      "\n",
      "See the caveats in the documentation: https://pandas.pydata.org/pandas-docs/stable/user_guide/indexing.html#returning-a-view-versus-a-copy\n",
      "  df1[\"release_date\"][game_index] = game_year\n"
     ]
    },
    {
     "name": "stdout",
     "output_type": "stream",
     "text": [
      "https://www.google.com/search?q=video game Scoring release date\n",
      "1994\n",
      "https://www.google.com/search?q=video game Twilight's Final Judgement release date\n",
      "2022\n"
     ]
    },
    {
     "name": "stderr",
     "output_type": "stream",
     "text": [
      "C:\\Users\\Ahmed\\AppData\\Local\\Temp/ipykernel_14584/1763191433.py:74: SettingWithCopyWarning: \n",
      "A value is trying to be set on a copy of a slice from a DataFrame\n",
      "\n",
      "See the caveats in the documentation: https://pandas.pydata.org/pandas-docs/stable/user_guide/indexing.html#returning-a-view-versus-a-copy\n",
      "  df1[\"release_date\"][game_index] = game_year\n"
     ]
    },
    {
     "name": "stdout",
     "output_type": "stream",
     "text": [
      "https://www.google.com/search?q=video game Talking Dogs: Into the Wilds release date\n",
      "2023\n"
     ]
    },
    {
     "name": "stderr",
     "output_type": "stream",
     "text": [
      "C:\\Users\\Ahmed\\AppData\\Local\\Temp/ipykernel_14584/1763191433.py:137: SettingWithCopyWarning: \n",
      "A value is trying to be set on a copy of a slice from a DataFrame\n",
      "\n",
      "See the caveats in the documentation: https://pandas.pydata.org/pandas-docs/stable/user_guide/indexing.html#returning-a-view-versus-a-copy\n",
      "  df1[\"release_date\"][wrong_data_combined[i][0]] = 0\n"
     ]
    },
    {
     "name": "stdout",
     "output_type": "stream",
     "text": [
      "https://www.google.com/search?q=video game Samer Hills release date\n",
      "couldnt find it loser\n"
     ]
    },
    {
     "name": "stderr",
     "output_type": "stream",
     "text": [
      "C:\\Users\\Ahmed\\AppData\\Local\\Temp/ipykernel_14584/1763191433.py:43: SettingWithCopyWarning: \n",
      "A value is trying to be set on a copy of a slice from a DataFrame\n",
      "\n",
      "See the caveats in the documentation: https://pandas.pydata.org/pandas-docs/stable/user_guide/indexing.html#returning-a-view-versus-a-copy\n",
      "  df1[\"release_date\"][game_index] = game_year\n"
     ]
    },
    {
     "name": "stdout",
     "output_type": "stream",
     "text": [
      "https://www.google.com/search?q=video game No Body release date\n",
      "2022\n"
     ]
    },
    {
     "name": "stderr",
     "output_type": "stream",
     "text": [
      "C:\\Users\\Ahmed\\AppData\\Local\\Temp/ipykernel_14584/1763191433.py:74: SettingWithCopyWarning: \n",
      "A value is trying to be set on a copy of a slice from a DataFrame\n",
      "\n",
      "See the caveats in the documentation: https://pandas.pydata.org/pandas-docs/stable/user_guide/indexing.html#returning-a-view-versus-a-copy\n",
      "  df1[\"release_date\"][game_index] = game_year\n"
     ]
    },
    {
     "name": "stdout",
     "output_type": "stream",
     "text": [
      "https://www.google.com/search?q=video game Roul-ette release date\n",
      "2023\n",
      "https://www.google.com/search?q=video game Truck Mechanic: Dangerous Paths release date\n",
      "2021\n",
      "https://www.google.com/search?q=video game AR3NA release date\n",
      "1994\n",
      "https://www.google.com/search?q=video game Poker & Black Jack release date\n",
      "2022\n"
     ]
    },
    {
     "name": "stderr",
     "output_type": "stream",
     "text": [
      "C:\\Users\\Ahmed\\AppData\\Local\\Temp/ipykernel_14584/1763191433.py:137: SettingWithCopyWarning: \n",
      "A value is trying to be set on a copy of a slice from a DataFrame\n",
      "\n",
      "See the caveats in the documentation: https://pandas.pydata.org/pandas-docs/stable/user_guide/indexing.html#returning-a-view-versus-a-copy\n",
      "  df1[\"release_date\"][wrong_data_combined[i][0]] = 0\n"
     ]
    },
    {
     "name": "stdout",
     "output_type": "stream",
     "text": [
      "https://www.google.com/search?q=video game Glowood release date\n",
      "couldnt find it loser\n"
     ]
    },
    {
     "name": "stderr",
     "output_type": "stream",
     "text": [
      "C:\\Users\\Ahmed\\AppData\\Local\\Temp/ipykernel_14584/1763191433.py:137: SettingWithCopyWarning: \n",
      "A value is trying to be set on a copy of a slice from a DataFrame\n",
      "\n",
      "See the caveats in the documentation: https://pandas.pydata.org/pandas-docs/stable/user_guide/indexing.html#returning-a-view-versus-a-copy\n",
      "  df1[\"release_date\"][wrong_data_combined[i][0]] = 0\n"
     ]
    },
    {
     "name": "stdout",
     "output_type": "stream",
     "text": [
      "https://www.google.com/search?q=video game Powerful the Game Episode 1 release date\n",
      "couldnt find it loser\n"
     ]
    },
    {
     "name": "stderr",
     "output_type": "stream",
     "text": [
      "C:\\Users\\Ahmed\\AppData\\Local\\Temp/ipykernel_14584/1763191433.py:137: SettingWithCopyWarning: \n",
      "A value is trying to be set on a copy of a slice from a DataFrame\n",
      "\n",
      "See the caveats in the documentation: https://pandas.pydata.org/pandas-docs/stable/user_guide/indexing.html#returning-a-view-versus-a-copy\n",
      "  df1[\"release_date\"][wrong_data_combined[i][0]] = 0\n"
     ]
    },
    {
     "name": "stdout",
     "output_type": "stream",
     "text": [
      "https://www.google.com/search?q=video game Theme Park & Resorts Inspiration Series release date\n",
      "couldnt find it loser\n"
     ]
    },
    {
     "name": "stderr",
     "output_type": "stream",
     "text": [
      "C:\\Users\\Ahmed\\AppData\\Local\\Temp/ipykernel_14584/1763191433.py:137: SettingWithCopyWarning: \n",
      "A value is trying to be set on a copy of a slice from a DataFrame\n",
      "\n",
      "See the caveats in the documentation: https://pandas.pydata.org/pandas-docs/stable/user_guide/indexing.html#returning-a-view-versus-a-copy\n",
      "  df1[\"release_date\"][wrong_data_combined[i][0]] = 0\n"
     ]
    },
    {
     "name": "stdout",
     "output_type": "stream",
     "text": [
      "https://www.google.com/search?q=video game Vex-Ward (Mod) release date\n",
      "couldnt find it loser\n"
     ]
    },
    {
     "name": "stderr",
     "output_type": "stream",
     "text": [
      "C:\\Users\\Ahmed\\AppData\\Local\\Temp/ipykernel_14584/1763191433.py:137: SettingWithCopyWarning: \n",
      "A value is trying to be set on a copy of a slice from a DataFrame\n",
      "\n",
      "See the caveats in the documentation: https://pandas.pydata.org/pandas-docs/stable/user_guide/indexing.html#returning-a-view-versus-a-copy\n",
      "  df1[\"release_date\"][wrong_data_combined[i][0]] = 0\n"
     ]
    },
    {
     "name": "stdout",
     "output_type": "stream",
     "text": [
      "https://www.google.com/search?q=video game Amnesia: Fear in Hands release date\n",
      "couldnt find it loser\n"
     ]
    },
    {
     "name": "stderr",
     "output_type": "stream",
     "text": [
      "C:\\Users\\Ahmed\\AppData\\Local\\Temp/ipykernel_14584/1763191433.py:137: SettingWithCopyWarning: \n",
      "A value is trying to be set on a copy of a slice from a DataFrame\n",
      "\n",
      "See the caveats in the documentation: https://pandas.pydata.org/pandas-docs/stable/user_guide/indexing.html#returning-a-view-versus-a-copy\n",
      "  df1[\"release_date\"][wrong_data_combined[i][0]] = 0\n"
     ]
    },
    {
     "name": "stdout",
     "output_type": "stream",
     "text": [
      "https://www.google.com/search?q=video game Nasal release date\n",
      "couldnt find it loser\n"
     ]
    },
    {
     "name": "stderr",
     "output_type": "stream",
     "text": [
      "C:\\Users\\Ahmed\\AppData\\Local\\Temp/ipykernel_14584/1763191433.py:43: SettingWithCopyWarning: \n",
      "A value is trying to be set on a copy of a slice from a DataFrame\n",
      "\n",
      "See the caveats in the documentation: https://pandas.pydata.org/pandas-docs/stable/user_guide/indexing.html#returning-a-view-versus-a-copy\n",
      "  df1[\"release_date\"][game_index] = game_year\n"
     ]
    },
    {
     "name": "stdout",
     "output_type": "stream",
     "text": [
      "https://www.google.com/search?q=video game The Double release date\n",
      "1987\n"
     ]
    },
    {
     "name": "stderr",
     "output_type": "stream",
     "text": [
      "C:\\Users\\Ahmed\\AppData\\Local\\Temp/ipykernel_14584/1763191433.py:137: SettingWithCopyWarning: \n",
      "A value is trying to be set on a copy of a slice from a DataFrame\n",
      "\n",
      "See the caveats in the documentation: https://pandas.pydata.org/pandas-docs/stable/user_guide/indexing.html#returning-a-view-versus-a-copy\n",
      "  df1[\"release_date\"][wrong_data_combined[i][0]] = 0\n"
     ]
    },
    {
     "name": "stdout",
     "output_type": "stream",
     "text": [
      "https://www.google.com/search?q=video game Royal Derby release date\n",
      "couldnt find it loser\n"
     ]
    },
    {
     "name": "stderr",
     "output_type": "stream",
     "text": [
      "C:\\Users\\Ahmed\\AppData\\Local\\Temp/ipykernel_14584/1763191433.py:74: SettingWithCopyWarning: \n",
      "A value is trying to be set on a copy of a slice from a DataFrame\n",
      "\n",
      "See the caveats in the documentation: https://pandas.pydata.org/pandas-docs/stable/user_guide/indexing.html#returning-a-view-versus-a-copy\n",
      "  df1[\"release_date\"][game_index] = game_year\n"
     ]
    },
    {
     "name": "stdout",
     "output_type": "stream",
     "text": [
      "https://www.google.com/search?q=video game Bonus-21 release date\n",
      "2023\n"
     ]
    },
    {
     "name": "stderr",
     "output_type": "stream",
     "text": [
      "C:\\Users\\Ahmed\\AppData\\Local\\Temp/ipykernel_14584/1763191433.py:137: SettingWithCopyWarning: \n",
      "A value is trying to be set on a copy of a slice from a DataFrame\n",
      "\n",
      "See the caveats in the documentation: https://pandas.pydata.org/pandas-docs/stable/user_guide/indexing.html#returning-a-view-versus-a-copy\n",
      "  df1[\"release_date\"][wrong_data_combined[i][0]] = 0\n"
     ]
    },
    {
     "name": "stdout",
     "output_type": "stream",
     "text": [
      "https://www.google.com/search?q=video game She's (Kuntilanak) release date\n",
      "couldnt find it loser\n"
     ]
    },
    {
     "name": "stderr",
     "output_type": "stream",
     "text": [
      "C:\\Users\\Ahmed\\AppData\\Local\\Temp/ipykernel_14584/1763191433.py:43: SettingWithCopyWarning: \n",
      "A value is trying to be set on a copy of a slice from a DataFrame\n",
      "\n",
      "See the caveats in the documentation: https://pandas.pydata.org/pandas-docs/stable/user_guide/indexing.html#returning-a-view-versus-a-copy\n",
      "  df1[\"release_date\"][game_index] = game_year\n"
     ]
    },
    {
     "name": "stdout",
     "output_type": "stream",
     "text": [
      "https://www.google.com/search?q=video game The Siege and the Sandfox release date\n",
      "2023\n"
     ]
    },
    {
     "name": "stderr",
     "output_type": "stream",
     "text": [
      "C:\\Users\\Ahmed\\AppData\\Local\\Temp/ipykernel_14584/1763191433.py:137: SettingWithCopyWarning: \n",
      "A value is trying to be set on a copy of a slice from a DataFrame\n",
      "\n",
      "See the caveats in the documentation: https://pandas.pydata.org/pandas-docs/stable/user_guide/indexing.html#returning-a-view-versus-a-copy\n",
      "  df1[\"release_date\"][wrong_data_combined[i][0]] = 0\n"
     ]
    },
    {
     "name": "stdout",
     "output_type": "stream",
     "text": [
      "https://www.google.com/search?q=video game A Piano Tale release date\n",
      "couldnt find it loser\n"
     ]
    },
    {
     "name": "stderr",
     "output_type": "stream",
     "text": [
      "C:\\Users\\Ahmed\\AppData\\Local\\Temp/ipykernel_14584/1763191433.py:137: SettingWithCopyWarning: \n",
      "A value is trying to be set on a copy of a slice from a DataFrame\n",
      "\n",
      "See the caveats in the documentation: https://pandas.pydata.org/pandas-docs/stable/user_guide/indexing.html#returning-a-view-versus-a-copy\n",
      "  df1[\"release_date\"][wrong_data_combined[i][0]] = 0\n"
     ]
    },
    {
     "name": "stdout",
     "output_type": "stream",
     "text": [
      "https://www.google.com/search?q=video game AceSpeeder! release date\n",
      "couldnt find it loser\n"
     ]
    },
    {
     "name": "stderr",
     "output_type": "stream",
     "text": [
      "C:\\Users\\Ahmed\\AppData\\Local\\Temp/ipykernel_14584/1763191433.py:43: SettingWithCopyWarning: \n",
      "A value is trying to be set on a copy of a slice from a DataFrame\n",
      "\n",
      "See the caveats in the documentation: https://pandas.pydata.org/pandas-docs/stable/user_guide/indexing.html#returning-a-view-versus-a-copy\n",
      "  df1[\"release_date\"][game_index] = game_year\n"
     ]
    },
    {
     "name": "stdout",
     "output_type": "stream",
     "text": [
      "https://www.google.com/search?q=video game Cycle of Souls release date\n",
      "2011\n"
     ]
    },
    {
     "name": "stderr",
     "output_type": "stream",
     "text": [
      "C:\\Users\\Ahmed\\AppData\\Local\\Temp/ipykernel_14584/1763191433.py:137: SettingWithCopyWarning: \n",
      "A value is trying to be set on a copy of a slice from a DataFrame\n",
      "\n",
      "See the caveats in the documentation: https://pandas.pydata.org/pandas-docs/stable/user_guide/indexing.html#returning-a-view-versus-a-copy\n",
      "  df1[\"release_date\"][wrong_data_combined[i][0]] = 0\n"
     ]
    },
    {
     "name": "stdout",
     "output_type": "stream",
     "text": [
      "https://www.google.com/search?q=video game Love, Ghostie release date\n",
      "couldnt find it loser\n"
     ]
    },
    {
     "name": "stderr",
     "output_type": "stream",
     "text": [
      "C:\\Users\\Ahmed\\AppData\\Local\\Temp/ipykernel_14584/1763191433.py:137: SettingWithCopyWarning: \n",
      "A value is trying to be set on a copy of a slice from a DataFrame\n",
      "\n",
      "See the caveats in the documentation: https://pandas.pydata.org/pandas-docs/stable/user_guide/indexing.html#returning-a-view-versus-a-copy\n",
      "  df1[\"release_date\"][wrong_data_combined[i][0]] = 0\n"
     ]
    },
    {
     "name": "stdout",
     "output_type": "stream",
     "text": [
      "https://www.google.com/search?q=video game Long Ago in the Near Future release date\n",
      "couldnt find it loser\n"
     ]
    },
    {
     "name": "stderr",
     "output_type": "stream",
     "text": [
      "C:\\Users\\Ahmed\\AppData\\Local\\Temp/ipykernel_14584/1763191433.py:43: SettingWithCopyWarning: \n",
      "A value is trying to be set on a copy of a slice from a DataFrame\n",
      "\n",
      "See the caveats in the documentation: https://pandas.pydata.org/pandas-docs/stable/user_guide/indexing.html#returning-a-view-versus-a-copy\n",
      "  df1[\"release_date\"][game_index] = game_year\n"
     ]
    },
    {
     "name": "stdout",
     "output_type": "stream",
     "text": [
      "https://www.google.com/search?q=video game Oasis release date\n",
      "2005\n"
     ]
    },
    {
     "name": "stderr",
     "output_type": "stream",
     "text": [
      "C:\\Users\\Ahmed\\AppData\\Local\\Temp/ipykernel_14584/1763191433.py:137: SettingWithCopyWarning: \n",
      "A value is trying to be set on a copy of a slice from a DataFrame\n",
      "\n",
      "See the caveats in the documentation: https://pandas.pydata.org/pandas-docs/stable/user_guide/indexing.html#returning-a-view-versus-a-copy\n",
      "  df1[\"release_date\"][wrong_data_combined[i][0]] = 0\n"
     ]
    },
    {
     "name": "stdout",
     "output_type": "stream",
     "text": [
      "https://www.google.com/search?q=video game Joker Poker 54 release date\n",
      "couldnt find it loser\n"
     ]
    },
    {
     "name": "stderr",
     "output_type": "stream",
     "text": [
      "C:\\Users\\Ahmed\\AppData\\Local\\Temp/ipykernel_14584/1763191433.py:137: SettingWithCopyWarning: \n",
      "A value is trying to be set on a copy of a slice from a DataFrame\n",
      "\n",
      "See the caveats in the documentation: https://pandas.pydata.org/pandas-docs/stable/user_guide/indexing.html#returning-a-view-versus-a-copy\n",
      "  df1[\"release_date\"][wrong_data_combined[i][0]] = 0\n"
     ]
    },
    {
     "name": "stdout",
     "output_type": "stream",
     "text": [
      "https://www.google.com/search?q=video game The Black Wedding release date\n",
      "couldnt find it loser\n"
     ]
    },
    {
     "name": "stderr",
     "output_type": "stream",
     "text": [
      "C:\\Users\\Ahmed\\AppData\\Local\\Temp/ipykernel_14584/1763191433.py:74: SettingWithCopyWarning: \n",
      "A value is trying to be set on a copy of a slice from a DataFrame\n",
      "\n",
      "See the caveats in the documentation: https://pandas.pydata.org/pandas-docs/stable/user_guide/indexing.html#returning-a-view-versus-a-copy\n",
      "  df1[\"release_date\"][game_index] = game_year\n"
     ]
    },
    {
     "name": "stdout",
     "output_type": "stream",
     "text": [
      "https://www.google.com/search?q=video game Dead World Heroes release date\n",
      "1992\n",
      "https://www.google.com/search?q=video game In the Black release date\n",
      "2022\n"
     ]
    },
    {
     "name": "stderr",
     "output_type": "stream",
     "text": [
      "C:\\Users\\Ahmed\\AppData\\Local\\Temp/ipykernel_14584/1763191433.py:137: SettingWithCopyWarning: \n",
      "A value is trying to be set on a copy of a slice from a DataFrame\n",
      "\n",
      "See the caveats in the documentation: https://pandas.pydata.org/pandas-docs/stable/user_guide/indexing.html#returning-a-view-versus-a-copy\n",
      "  df1[\"release_date\"][wrong_data_combined[i][0]] = 0\n"
     ]
    },
    {
     "name": "stdout",
     "output_type": "stream",
     "text": [
      "https://www.google.com/search?q=video game Paddle Derby release date\n",
      "couldnt find it loser\n"
     ]
    },
    {
     "name": "stderr",
     "output_type": "stream",
     "text": [
      "C:\\Users\\Ahmed\\AppData\\Local\\Temp/ipykernel_14584/1763191433.py:43: SettingWithCopyWarning: \n",
      "A value is trying to be set on a copy of a slice from a DataFrame\n",
      "\n",
      "See the caveats in the documentation: https://pandas.pydata.org/pandas-docs/stable/user_guide/indexing.html#returning-a-view-versus-a-copy\n",
      "  df1[\"release_date\"][game_index] = game_year\n"
     ]
    },
    {
     "name": "stdout",
     "output_type": "stream",
     "text": [
      "https://www.google.com/search?q=video game Fenix release date\n",
      "1980\n"
     ]
    },
    {
     "name": "stderr",
     "output_type": "stream",
     "text": [
      "C:\\Users\\Ahmed\\AppData\\Local\\Temp/ipykernel_14584/1763191433.py:74: SettingWithCopyWarning: \n",
      "A value is trying to be set on a copy of a slice from a DataFrame\n",
      "\n",
      "See the caveats in the documentation: https://pandas.pydata.org/pandas-docs/stable/user_guide/indexing.html#returning-a-view-versus-a-copy\n",
      "  df1[\"release_date\"][game_index] = game_year\n"
     ]
    },
    {
     "name": "stdout",
     "output_type": "stream",
     "text": [
      "https://www.google.com/search?q=video game Demon's Deception release date\n",
      "2021\n",
      "https://www.google.com/search?q=video game Lovely Plains release date\n",
      "2016\n",
      "https://www.google.com/search?q=video game Postworld release date\n",
      "2018\n"
     ]
    },
    {
     "name": "stderr",
     "output_type": "stream",
     "text": [
      "C:\\Users\\Ahmed\\AppData\\Local\\Temp/ipykernel_14584/1763191433.py:137: SettingWithCopyWarning: \n",
      "A value is trying to be set on a copy of a slice from a DataFrame\n",
      "\n",
      "See the caveats in the documentation: https://pandas.pydata.org/pandas-docs/stable/user_guide/indexing.html#returning-a-view-versus-a-copy\n",
      "  df1[\"release_date\"][wrong_data_combined[i][0]] = 0\n"
     ]
    },
    {
     "name": "stdout",
     "output_type": "stream",
     "text": [
      "https://www.google.com/search?q=video game Tri-City RP release date\n",
      "couldnt find it loser\n"
     ]
    },
    {
     "name": "stderr",
     "output_type": "stream",
     "text": [
      "C:\\Users\\Ahmed\\AppData\\Local\\Temp/ipykernel_14584/1763191433.py:74: SettingWithCopyWarning: \n",
      "A value is trying to be set on a copy of a slice from a DataFrame\n",
      "\n",
      "See the caveats in the documentation: https://pandas.pydata.org/pandas-docs/stable/user_guide/indexing.html#returning-a-view-versus-a-copy\n",
      "  df1[\"release_date\"][game_index] = game_year\n"
     ]
    },
    {
     "name": "stdout",
     "output_type": "stream",
     "text": [
      "https://www.google.com/search?q=video game Wuchang: Fallen Feathers release date\n",
      "2023\n"
     ]
    },
    {
     "name": "stderr",
     "output_type": "stream",
     "text": [
      "C:\\Users\\Ahmed\\AppData\\Local\\Temp/ipykernel_14584/1763191433.py:137: SettingWithCopyWarning: \n",
      "A value is trying to be set on a copy of a slice from a DataFrame\n",
      "\n",
      "See the caveats in the documentation: https://pandas.pydata.org/pandas-docs/stable/user_guide/indexing.html#returning-a-view-versus-a-copy\n",
      "  df1[\"release_date\"][wrong_data_combined[i][0]] = 0\n"
     ]
    },
    {
     "name": "stdout",
     "output_type": "stream",
     "text": [
      "https://www.google.com/search?q=video game Age of Aincrad release date\n",
      "couldnt find it loser\n"
     ]
    },
    {
     "name": "stderr",
     "output_type": "stream",
     "text": [
      "C:\\Users\\Ahmed\\AppData\\Local\\Temp/ipykernel_14584/1763191433.py:74: SettingWithCopyWarning: \n",
      "A value is trying to be set on a copy of a slice from a DataFrame\n",
      "\n",
      "See the caveats in the documentation: https://pandas.pydata.org/pandas-docs/stable/user_guide/indexing.html#returning-a-view-versus-a-copy\n",
      "  df1[\"release_date\"][game_index] = game_year\n"
     ]
    },
    {
     "name": "stdout",
     "output_type": "stream",
     "text": [
      "https://www.google.com/search?q=video game NSM Poker release date\n",
      "2013\n"
     ]
    },
    {
     "name": "stderr",
     "output_type": "stream",
     "text": [
      "C:\\Users\\Ahmed\\AppData\\Local\\Temp/ipykernel_14584/1763191433.py:137: SettingWithCopyWarning: \n",
      "A value is trying to be set on a copy of a slice from a DataFrame\n",
      "\n",
      "See the caveats in the documentation: https://pandas.pydata.org/pandas-docs/stable/user_guide/indexing.html#returning-a-view-versus-a-copy\n",
      "  df1[\"release_date\"][wrong_data_combined[i][0]] = 0\n"
     ]
    },
    {
     "name": "stdout",
     "output_type": "stream",
     "text": [
      "https://www.google.com/search?q=video game Fighting Boxer release date\n",
      "couldnt find it loser\n"
     ]
    },
    {
     "name": "stderr",
     "output_type": "stream",
     "text": [
      "C:\\Users\\Ahmed\\AppData\\Local\\Temp/ipykernel_14584/1763191433.py:74: SettingWithCopyWarning: \n",
      "A value is trying to be set on a copy of a slice from a DataFrame\n",
      "\n",
      "See the caveats in the documentation: https://pandas.pydata.org/pandas-docs/stable/user_guide/indexing.html#returning-a-view-versus-a-copy\n",
      "  df1[\"release_date\"][game_index] = game_year\n"
     ]
    },
    {
     "name": "stdout",
     "output_type": "stream",
     "text": [
      "https://www.google.com/search?q=video game WorldAlpha release date\n",
      "2022\n",
      "https://www.google.com/search?q=video game The Orb release date\n",
      "2003\n"
     ]
    },
    {
     "name": "stderr",
     "output_type": "stream",
     "text": [
      "C:\\Users\\Ahmed\\AppData\\Local\\Temp/ipykernel_14584/1763191433.py:43: SettingWithCopyWarning: \n",
      "A value is trying to be set on a copy of a slice from a DataFrame\n",
      "\n",
      "See the caveats in the documentation: https://pandas.pydata.org/pandas-docs/stable/user_guide/indexing.html#returning-a-view-versus-a-copy\n",
      "  df1[\"release_date\"][game_index] = game_year\n"
     ]
    },
    {
     "name": "stdout",
     "output_type": "stream",
     "text": [
      "https://www.google.com/search?q=video game Resurgence release date\n",
      "2023\n"
     ]
    },
    {
     "name": "stderr",
     "output_type": "stream",
     "text": [
      "C:\\Users\\Ahmed\\AppData\\Local\\Temp/ipykernel_14584/1763191433.py:137: SettingWithCopyWarning: \n",
      "A value is trying to be set on a copy of a slice from a DataFrame\n",
      "\n",
      "See the caveats in the documentation: https://pandas.pydata.org/pandas-docs/stable/user_guide/indexing.html#returning-a-view-versus-a-copy\n",
      "  df1[\"release_date\"][wrong_data_combined[i][0]] = 0\n"
     ]
    },
    {
     "name": "stdout",
     "output_type": "stream",
     "text": [
      "https://www.google.com/search?q=video game Apophis (Corrupt Yourself) release date\n",
      "couldnt find it loser\n"
     ]
    },
    {
     "name": "stderr",
     "output_type": "stream",
     "text": [
      "C:\\Users\\Ahmed\\AppData\\Local\\Temp/ipykernel_14584/1763191433.py:137: SettingWithCopyWarning: \n",
      "A value is trying to be set on a copy of a slice from a DataFrame\n",
      "\n",
      "See the caveats in the documentation: https://pandas.pydata.org/pandas-docs/stable/user_guide/indexing.html#returning-a-view-versus-a-copy\n",
      "  df1[\"release_date\"][wrong_data_combined[i][0]] = 0\n"
     ]
    },
    {
     "name": "stdout",
     "output_type": "stream",
     "text": [
      "https://www.google.com/search?q=video game Skill Stop release date\n",
      "couldnt find it loser\n"
     ]
    },
    {
     "name": "stderr",
     "output_type": "stream",
     "text": [
      "C:\\Users\\Ahmed\\AppData\\Local\\Temp/ipykernel_14584/1763191433.py:74: SettingWithCopyWarning: \n",
      "A value is trying to be set on a copy of a slice from a DataFrame\n",
      "\n",
      "See the caveats in the documentation: https://pandas.pydata.org/pandas-docs/stable/user_guide/indexing.html#returning-a-view-versus-a-copy\n",
      "  df1[\"release_date\"][game_index] = game_year\n"
     ]
    },
    {
     "name": "stdout",
     "output_type": "stream",
     "text": [
      "https://www.google.com/search?q=video game Improbable release date\n",
      "2012\n"
     ]
    },
    {
     "name": "stderr",
     "output_type": "stream",
     "text": [
      "C:\\Users\\Ahmed\\AppData\\Local\\Temp/ipykernel_14584/1763191433.py:137: SettingWithCopyWarning: \n",
      "A value is trying to be set on a copy of a slice from a DataFrame\n",
      "\n",
      "See the caveats in the documentation: https://pandas.pydata.org/pandas-docs/stable/user_guide/indexing.html#returning-a-view-versus-a-copy\n",
      "  df1[\"release_date\"][wrong_data_combined[i][0]] = 0\n"
     ]
    },
    {
     "name": "stdout",
     "output_type": "stream",
     "text": [
      "https://www.google.com/search?q=video game The Yakyuuken Part 3 release date\n",
      "couldnt find it loser\n"
     ]
    },
    {
     "name": "stderr",
     "output_type": "stream",
     "text": [
      "C:\\Users\\Ahmed\\AppData\\Local\\Temp/ipykernel_14584/1763191433.py:43: SettingWithCopyWarning: \n",
      "A value is trying to be set on a copy of a slice from a DataFrame\n",
      "\n",
      "See the caveats in the documentation: https://pandas.pydata.org/pandas-docs/stable/user_guide/indexing.html#returning-a-view-versus-a-copy\n",
      "  df1[\"release_date\"][game_index] = game_year\n"
     ]
    },
    {
     "name": "stdout",
     "output_type": "stream",
     "text": [
      "https://www.google.com/search?q=video game Foreverse release date\n",
      "2023\n"
     ]
    },
    {
     "name": "stderr",
     "output_type": "stream",
     "text": [
      "C:\\Users\\Ahmed\\AppData\\Local\\Temp/ipykernel_14584/1763191433.py:137: SettingWithCopyWarning: \n",
      "A value is trying to be set on a copy of a slice from a DataFrame\n",
      "\n",
      "See the caveats in the documentation: https://pandas.pydata.org/pandas-docs/stable/user_guide/indexing.html#returning-a-view-versus-a-copy\n",
      "  df1[\"release_date\"][wrong_data_combined[i][0]] = 0\n"
     ]
    },
    {
     "name": "stdout",
     "output_type": "stream",
     "text": [
      "https://www.google.com/search?q=video game Eeekk! release date\n",
      "couldnt find it loser\n"
     ]
    },
    {
     "name": "stderr",
     "output_type": "stream",
     "text": [
      "C:\\Users\\Ahmed\\AppData\\Local\\Temp/ipykernel_14584/1763191433.py:74: SettingWithCopyWarning: \n",
      "A value is trying to be set on a copy of a slice from a DataFrame\n",
      "\n",
      "See the caveats in the documentation: https://pandas.pydata.org/pandas-docs/stable/user_guide/indexing.html#returning-a-view-versus-a-copy\n",
      "  df1[\"release_date\"][game_index] = game_year\n"
     ]
    },
    {
     "name": "stdout",
     "output_type": "stream",
     "text": [
      "https://www.google.com/search?q=video game Coffin Lake 2 release date\n",
      "2023\n",
      "https://www.google.com/search?q=video game Super Pit Boss release date\n",
      "1983\n",
      "https://www.google.com/search?q=video game 01 release date\n",
      "1970\n",
      "https://www.google.com/search?q=video game Champion Skill release date\n",
      "2022\n"
     ]
    },
    {
     "name": "stderr",
     "output_type": "stream",
     "text": [
      "C:\\Users\\Ahmed\\AppData\\Local\\Temp/ipykernel_14584/1763191433.py:137: SettingWithCopyWarning: \n",
      "A value is trying to be set on a copy of a slice from a DataFrame\n",
      "\n",
      "See the caveats in the documentation: https://pandas.pydata.org/pandas-docs/stable/user_guide/indexing.html#returning-a-view-versus-a-copy\n",
      "  df1[\"release_date\"][wrong_data_combined[i][0]] = 0\n"
     ]
    },
    {
     "name": "stdout",
     "output_type": "stream",
     "text": [
      "https://www.google.com/search?q=video game DropCore release date\n",
      "couldnt find it loser\n"
     ]
    },
    {
     "name": "stderr",
     "output_type": "stream",
     "text": [
      "C:\\Users\\Ahmed\\AppData\\Local\\Temp/ipykernel_14584/1763191433.py:74: SettingWithCopyWarning: \n",
      "A value is trying to be set on a copy of a slice from a DataFrame\n",
      "\n",
      "See the caveats in the documentation: https://pandas.pydata.org/pandas-docs/stable/user_guide/indexing.html#returning-a-view-versus-a-copy\n",
      "  df1[\"release_date\"][game_index] = game_year\n"
     ]
    },
    {
     "name": "stdout",
     "output_type": "stream",
     "text": [
      "https://www.google.com/search?q=video game Descent release date\n",
      "2022\n"
     ]
    },
    {
     "name": "stderr",
     "output_type": "stream",
     "text": [
      "C:\\Users\\Ahmed\\AppData\\Local\\Temp/ipykernel_14584/1763191433.py:137: SettingWithCopyWarning: \n",
      "A value is trying to be set on a copy of a slice from a DataFrame\n",
      "\n",
      "See the caveats in the documentation: https://pandas.pydata.org/pandas-docs/stable/user_guide/indexing.html#returning-a-view-versus-a-copy\n",
      "  df1[\"release_date\"][wrong_data_combined[i][0]] = 0\n"
     ]
    },
    {
     "name": "stdout",
     "output_type": "stream",
     "text": [
      "https://www.google.com/search?q=video game The Night He Came Home release date\n",
      "couldnt find it loser\n"
     ]
    },
    {
     "name": "stderr",
     "output_type": "stream",
     "text": [
      "C:\\Users\\Ahmed\\AppData\\Local\\Temp/ipykernel_14584/1763191433.py:137: SettingWithCopyWarning: \n",
      "A value is trying to be set on a copy of a slice from a DataFrame\n",
      "\n",
      "See the caveats in the documentation: https://pandas.pydata.org/pandas-docs/stable/user_guide/indexing.html#returning-a-view-versus-a-copy\n",
      "  df1[\"release_date\"][wrong_data_combined[i][0]] = 0\n"
     ]
    },
    {
     "name": "stdout",
     "output_type": "stream",
     "text": [
      "https://www.google.com/search?q=video game Once Human release date\n",
      "couldnt find it loser\n"
     ]
    },
    {
     "name": "stderr",
     "output_type": "stream",
     "text": [
      "C:\\Users\\Ahmed\\AppData\\Local\\Temp/ipykernel_14584/1763191433.py:43: SettingWithCopyWarning: \n",
      "A value is trying to be set on a copy of a slice from a DataFrame\n",
      "\n",
      "See the caveats in the documentation: https://pandas.pydata.org/pandas-docs/stable/user_guide/indexing.html#returning-a-view-versus-a-copy\n",
      "  df1[\"release_date\"][game_index] = game_year\n"
     ]
    },
    {
     "name": "stdout",
     "output_type": "stream",
     "text": [
      "https://www.google.com/search?q=video game Mortal Kombat 4 release date\n",
      "1997\n"
     ]
    },
    {
     "name": "stderr",
     "output_type": "stream",
     "text": [
      "C:\\Users\\Ahmed\\AppData\\Local\\Temp/ipykernel_14584/1763191433.py:130: SettingWithCopyWarning: \n",
      "A value is trying to be set on a copy of a slice from a DataFrame\n",
      "\n",
      "See the caveats in the documentation: https://pandas.pydata.org/pandas-docs/stable/user_guide/indexing.html#returning-a-view-versus-a-copy\n",
      "  df1[\"release_date\"][game_index] = game_year\n"
     ]
    },
    {
     "name": "stdout",
     "output_type": "stream",
     "text": [
      "https://www.google.com/search?q=video game U.S. History & Geography release date\n",
      "2022\n"
     ]
    },
    {
     "name": "stderr",
     "output_type": "stream",
     "text": [
      "C:\\Users\\Ahmed\\AppData\\Local\\Temp/ipykernel_14584/1763191433.py:137: SettingWithCopyWarning: \n",
      "A value is trying to be set on a copy of a slice from a DataFrame\n",
      "\n",
      "See the caveats in the documentation: https://pandas.pydata.org/pandas-docs/stable/user_guide/indexing.html#returning-a-view-versus-a-copy\n",
      "  df1[\"release_date\"][wrong_data_combined[i][0]] = 0\n"
     ]
    },
    {
     "name": "stdout",
     "output_type": "stream",
     "text": [
      "https://www.google.com/search?q=video game Kot-rybolov release date\n",
      "couldnt find it loser\n"
     ]
    },
    {
     "name": "stderr",
     "output_type": "stream",
     "text": [
      "C:\\Users\\Ahmed\\AppData\\Local\\Temp/ipykernel_14584/1763191433.py:43: SettingWithCopyWarning: \n",
      "A value is trying to be set on a copy of a slice from a DataFrame\n",
      "\n",
      "See the caveats in the documentation: https://pandas.pydata.org/pandas-docs/stable/user_guide/indexing.html#returning-a-view-versus-a-copy\n",
      "  df1[\"release_date\"][game_index] = game_year\n"
     ]
    },
    {
     "name": "stdout",
     "output_type": "stream",
     "text": [
      "https://www.google.com/search?q=video game Lacuna release date\n",
      "2021\n"
     ]
    },
    {
     "name": "stderr",
     "output_type": "stream",
     "text": [
      "C:\\Users\\Ahmed\\AppData\\Local\\Temp/ipykernel_14584/1763191433.py:137: SettingWithCopyWarning: \n",
      "A value is trying to be set on a copy of a slice from a DataFrame\n",
      "\n",
      "See the caveats in the documentation: https://pandas.pydata.org/pandas-docs/stable/user_guide/indexing.html#returning-a-view-versus-a-copy\n",
      "  df1[\"release_date\"][wrong_data_combined[i][0]] = 0\n"
     ]
    },
    {
     "name": "stdout",
     "output_type": "stream",
     "text": [
      "https://www.google.com/search?q=video game Katyusha release date\n",
      "couldnt find it loser\n"
     ]
    },
    {
     "name": "stderr",
     "output_type": "stream",
     "text": [
      "C:\\Users\\Ahmed\\AppData\\Local\\Temp/ipykernel_14584/1763191433.py:74: SettingWithCopyWarning: \n",
      "A value is trying to be set on a copy of a slice from a DataFrame\n",
      "\n",
      "See the caveats in the documentation: https://pandas.pydata.org/pandas-docs/stable/user_guide/indexing.html#returning-a-view-versus-a-copy\n",
      "  df1[\"release_date\"][game_index] = game_year\n"
     ]
    },
    {
     "name": "stdout",
     "output_type": "stream",
     "text": [
      "https://www.google.com/search?q=video game True Messiah release date\n",
      "2000\n"
     ]
    },
    {
     "name": "stderr",
     "output_type": "stream",
     "text": [
      "C:\\Users\\Ahmed\\AppData\\Local\\Temp/ipykernel_14584/1763191433.py:137: SettingWithCopyWarning: \n",
      "A value is trying to be set on a copy of a slice from a DataFrame\n",
      "\n",
      "See the caveats in the documentation: https://pandas.pydata.org/pandas-docs/stable/user_guide/indexing.html#returning-a-view-versus-a-copy\n",
      "  df1[\"release_date\"][wrong_data_combined[i][0]] = 0\n"
     ]
    },
    {
     "name": "stdout",
     "output_type": "stream",
     "text": [
      "https://www.google.com/search?q=video game Farhangeirani release date\n",
      "couldnt find it loser\n"
     ]
    },
    {
     "name": "stderr",
     "output_type": "stream",
     "text": [
      "C:\\Users\\Ahmed\\AppData\\Local\\Temp/ipykernel_14584/1763191433.py:43: SettingWithCopyWarning: \n",
      "A value is trying to be set on a copy of a slice from a DataFrame\n",
      "\n",
      "See the caveats in the documentation: https://pandas.pydata.org/pandas-docs/stable/user_guide/indexing.html#returning-a-view-versus-a-copy\n",
      "  df1[\"release_date\"][game_index] = game_year\n"
     ]
    },
    {
     "name": "stdout",
     "output_type": "stream",
     "text": [
      "https://www.google.com/search?q=video game Lunar Module release date\n",
      "1979\n"
     ]
    },
    {
     "name": "stderr",
     "output_type": "stream",
     "text": [
      "C:\\Users\\Ahmed\\AppData\\Local\\Temp/ipykernel_14584/1763191433.py:137: SettingWithCopyWarning: \n",
      "A value is trying to be set on a copy of a slice from a DataFrame\n",
      "\n",
      "See the caveats in the documentation: https://pandas.pydata.org/pandas-docs/stable/user_guide/indexing.html#returning-a-view-versus-a-copy\n",
      "  df1[\"release_date\"][wrong_data_combined[i][0]] = 0\n"
     ]
    },
    {
     "name": "stdout",
     "output_type": "stream",
     "text": [
      "https://www.google.com/search?q=video game Ombudsman release date\n",
      "couldnt find it loser\n"
     ]
    },
    {
     "name": "stderr",
     "output_type": "stream",
     "text": [
      "C:\\Users\\Ahmed\\AppData\\Local\\Temp/ipykernel_14584/1763191433.py:137: SettingWithCopyWarning: \n",
      "A value is trying to be set on a copy of a slice from a DataFrame\n",
      "\n",
      "See the caveats in the documentation: https://pandas.pydata.org/pandas-docs/stable/user_guide/indexing.html#returning-a-view-versus-a-copy\n",
      "  df1[\"release_date\"][wrong_data_combined[i][0]] = 0\n"
     ]
    },
    {
     "name": "stdout",
     "output_type": "stream",
     "text": [
      "https://www.google.com/search?q=video game Fruity Pebbles Spy Caper release date\n",
      "couldnt find it loser\n"
     ]
    },
    {
     "name": "stderr",
     "output_type": "stream",
     "text": [
      "C:\\Users\\Ahmed\\AppData\\Local\\Temp/ipykernel_14584/1763191433.py:43: SettingWithCopyWarning: \n",
      "A value is trying to be set on a copy of a slice from a DataFrame\n",
      "\n",
      "See the caveats in the documentation: https://pandas.pydata.org/pandas-docs/stable/user_guide/indexing.html#returning-a-view-versus-a-copy\n",
      "  df1[\"release_date\"][game_index] = game_year\n"
     ]
    },
    {
     "name": "stdout",
     "output_type": "stream",
     "text": [
      "https://www.google.com/search?q=video game Dusk of D.A.W.N. release date\n",
      "2001\n"
     ]
    },
    {
     "name": "stderr",
     "output_type": "stream",
     "text": [
      "C:\\Users\\Ahmed\\AppData\\Local\\Temp/ipykernel_14584/1763191433.py:137: SettingWithCopyWarning: \n",
      "A value is trying to be set on a copy of a slice from a DataFrame\n",
      "\n",
      "See the caveats in the documentation: https://pandas.pydata.org/pandas-docs/stable/user_guide/indexing.html#returning-a-view-versus-a-copy\n",
      "  df1[\"release_date\"][wrong_data_combined[i][0]] = 0\n"
     ]
    },
    {
     "name": "stdout",
     "output_type": "stream",
     "text": [
      "https://www.google.com/search?q=video game Sebring release date\n",
      "couldnt find it loser\n"
     ]
    },
    {
     "name": "stderr",
     "output_type": "stream",
     "text": [
      "C:\\Users\\Ahmed\\AppData\\Local\\Temp/ipykernel_14584/1763191433.py:43: SettingWithCopyWarning: \n",
      "A value is trying to be set on a copy of a slice from a DataFrame\n",
      "\n",
      "See the caveats in the documentation: https://pandas.pydata.org/pandas-docs/stable/user_guide/indexing.html#returning-a-view-versus-a-copy\n",
      "  df1[\"release_date\"][game_index] = game_year\n"
     ]
    },
    {
     "name": "stdout",
     "output_type": "stream",
     "text": [
      "https://www.google.com/search?q=video game Mask of the Rose release date\n",
      "2023\n"
     ]
    },
    {
     "name": "stderr",
     "output_type": "stream",
     "text": [
      "C:\\Users\\Ahmed\\AppData\\Local\\Temp/ipykernel_14584/1763191433.py:137: SettingWithCopyWarning: \n",
      "A value is trying to be set on a copy of a slice from a DataFrame\n",
      "\n",
      "See the caveats in the documentation: https://pandas.pydata.org/pandas-docs/stable/user_guide/indexing.html#returning-a-view-versus-a-copy\n",
      "  df1[\"release_date\"][wrong_data_combined[i][0]] = 0\n"
     ]
    },
    {
     "name": "stdout",
     "output_type": "stream",
     "text": [
      "https://www.google.com/search?q=video game Starship Simulator release date\n",
      "couldnt find it loser\n"
     ]
    },
    {
     "name": "stderr",
     "output_type": "stream",
     "text": [
      "C:\\Users\\Ahmed\\AppData\\Local\\Temp/ipykernel_14584/1763191433.py:137: SettingWithCopyWarning: \n",
      "A value is trying to be set on a copy of a slice from a DataFrame\n",
      "\n",
      "See the caveats in the documentation: https://pandas.pydata.org/pandas-docs/stable/user_guide/indexing.html#returning-a-view-versus-a-copy\n",
      "  df1[\"release_date\"][wrong_data_combined[i][0]] = 0\n"
     ]
    },
    {
     "name": "stdout",
     "output_type": "stream",
     "text": [
      "https://www.google.com/search?q=video game S.T.A.R.S. Delta Lift Off release date\n",
      "couldnt find it loser\n"
     ]
    },
    {
     "name": "stderr",
     "output_type": "stream",
     "text": [
      "C:\\Users\\Ahmed\\AppData\\Local\\Temp/ipykernel_14584/1763191433.py:74: SettingWithCopyWarning: \n",
      "A value is trying to be set on a copy of a slice from a DataFrame\n",
      "\n",
      "See the caveats in the documentation: https://pandas.pydata.org/pandas-docs/stable/user_guide/indexing.html#returning-a-view-versus-a-copy\n",
      "  df1[\"release_date\"][game_index] = game_year\n"
     ]
    },
    {
     "name": "stdout",
     "output_type": "stream",
     "text": [
      "https://www.google.com/search?q=video game Dream of Darkness release date\n",
      "2023\n"
     ]
    },
    {
     "name": "stderr",
     "output_type": "stream",
     "text": [
      "C:\\Users\\Ahmed\\AppData\\Local\\Temp/ipykernel_14584/1763191433.py:137: SettingWithCopyWarning: \n",
      "A value is trying to be set on a copy of a slice from a DataFrame\n",
      "\n",
      "See the caveats in the documentation: https://pandas.pydata.org/pandas-docs/stable/user_guide/indexing.html#returning-a-view-versus-a-copy\n",
      "  df1[\"release_date\"][wrong_data_combined[i][0]] = 0\n"
     ]
    },
    {
     "name": "stdout",
     "output_type": "stream",
     "text": [
      "https://www.google.com/search?q=video game M release date\n",
      "couldnt find it loser\n"
     ]
    },
    {
     "name": "stderr",
     "output_type": "stream",
     "text": [
      "C:\\Users\\Ahmed\\AppData\\Local\\Temp/ipykernel_14584/1763191433.py:137: SettingWithCopyWarning: \n",
      "A value is trying to be set on a copy of a slice from a DataFrame\n",
      "\n",
      "See the caveats in the documentation: https://pandas.pydata.org/pandas-docs/stable/user_guide/indexing.html#returning-a-view-versus-a-copy\n",
      "  df1[\"release_date\"][wrong_data_combined[i][0]] = 0\n"
     ]
    },
    {
     "name": "stdout",
     "output_type": "stream",
     "text": [
      "https://www.google.com/search?q=video game Contraband release date\n",
      "couldnt find it loser\n"
     ]
    },
    {
     "name": "stderr",
     "output_type": "stream",
     "text": [
      "C:\\Users\\Ahmed\\AppData\\Local\\Temp/ipykernel_14584/1763191433.py:74: SettingWithCopyWarning: \n",
      "A value is trying to be set on a copy of a slice from a DataFrame\n",
      "\n",
      "See the caveats in the documentation: https://pandas.pydata.org/pandas-docs/stable/user_guide/indexing.html#returning-a-view-versus-a-copy\n",
      "  df1[\"release_date\"][game_index] = game_year\n"
     ]
    },
    {
     "name": "stdout",
     "output_type": "stream",
     "text": [
      "https://www.google.com/search?q=video game Katana-Ra release date\n",
      "2023\n",
      "https://www.google.com/search?q=video game Miegakure release date\n",
      "2023\n",
      "https://www.google.com/search?q=video game Super Star release date\n",
      "1997\n"
     ]
    },
    {
     "name": "stderr",
     "output_type": "stream",
     "text": [
      "C:\\Users\\Ahmed\\AppData\\Local\\Temp/ipykernel_14584/1763191433.py:137: SettingWithCopyWarning: \n",
      "A value is trying to be set on a copy of a slice from a DataFrame\n",
      "\n",
      "See the caveats in the documentation: https://pandas.pydata.org/pandas-docs/stable/user_guide/indexing.html#returning-a-view-versus-a-copy\n",
      "  df1[\"release_date\"][wrong_data_combined[i][0]] = 0\n"
     ]
    },
    {
     "name": "stdout",
     "output_type": "stream",
     "text": [
      "https://www.google.com/search?q=video game Robot: Colony 25 release date\n",
      "couldnt find it loser\n"
     ]
    },
    {
     "name": "stderr",
     "output_type": "stream",
     "text": [
      "C:\\Users\\Ahmed\\AppData\\Local\\Temp/ipykernel_14584/1763191433.py:74: SettingWithCopyWarning: \n",
      "A value is trying to be set on a copy of a slice from a DataFrame\n",
      "\n",
      "See the caveats in the documentation: https://pandas.pydata.org/pandas-docs/stable/user_guide/indexing.html#returning-a-view-versus-a-copy\n",
      "  df1[\"release_date\"][game_index] = game_year\n"
     ]
    },
    {
     "name": "stdout",
     "output_type": "stream",
     "text": [
      "https://www.google.com/search?q=video game Talking Dogs New Horizons release date\n",
      "2024\n",
      "https://www.google.com/search?q=video game The Store Is Closed release date\n",
      "2024\n",
      "https://www.google.com/search?q=video game Desolation Seed release date\n",
      "2023\n"
     ]
    },
    {
     "name": "stderr",
     "output_type": "stream",
     "text": [
      "C:\\Users\\Ahmed\\AppData\\Local\\Temp/ipykernel_14584/1763191433.py:137: SettingWithCopyWarning: \n",
      "A value is trying to be set on a copy of a slice from a DataFrame\n",
      "\n",
      "See the caveats in the documentation: https://pandas.pydata.org/pandas-docs/stable/user_guide/indexing.html#returning-a-view-versus-a-copy\n",
      "  df1[\"release_date\"][wrong_data_combined[i][0]] = 0\n"
     ]
    },
    {
     "name": "stdout",
     "output_type": "stream",
     "text": [
      "https://www.google.com/search?q=video game Camera 6 release date\n",
      "couldnt find it loser\n"
     ]
    },
    {
     "name": "stderr",
     "output_type": "stream",
     "text": [
      "C:\\Users\\Ahmed\\AppData\\Local\\Temp/ipykernel_14584/1763191433.py:137: SettingWithCopyWarning: \n",
      "A value is trying to be set on a copy of a slice from a DataFrame\n",
      "\n",
      "See the caveats in the documentation: https://pandas.pydata.org/pandas-docs/stable/user_guide/indexing.html#returning-a-view-versus-a-copy\n",
      "  df1[\"release_date\"][wrong_data_combined[i][0]] = 0\n"
     ]
    },
    {
     "name": "stdout",
     "output_type": "stream",
     "text": [
      "https://www.google.com/search?q=video game EverQuest Next release date\n",
      "couldnt find it loser\n"
     ]
    },
    {
     "name": "stderr",
     "output_type": "stream",
     "text": [
      "C:\\Users\\Ahmed\\AppData\\Local\\Temp/ipykernel_14584/1763191433.py:74: SettingWithCopyWarning: \n",
      "A value is trying to be set on a copy of a slice from a DataFrame\n",
      "\n",
      "See the caveats in the documentation: https://pandas.pydata.org/pandas-docs/stable/user_guide/indexing.html#returning-a-view-versus-a-copy\n",
      "  df1[\"release_date\"][game_index] = game_year\n"
     ]
    },
    {
     "name": "stdout",
     "output_type": "stream",
     "text": [
      "https://www.google.com/search?q=video game The Orphanage release date\n",
      "2023\n"
     ]
    },
    {
     "name": "stderr",
     "output_type": "stream",
     "text": [
      "C:\\Users\\Ahmed\\AppData\\Local\\Temp/ipykernel_14584/1763191433.py:43: SettingWithCopyWarning: \n",
      "A value is trying to be set on a copy of a slice from a DataFrame\n",
      "\n",
      "See the caveats in the documentation: https://pandas.pydata.org/pandas-docs/stable/user_guide/indexing.html#returning-a-view-versus-a-copy\n",
      "  df1[\"release_date\"][game_index] = game_year\n"
     ]
    },
    {
     "name": "stdout",
     "output_type": "stream",
     "text": [
      "https://www.google.com/search?q=video game Pithon release date\n",
      "1991\n",
      "https://www.google.com/search?q=video game Gateway release date\n",
      "1992\n",
      "https://www.google.com/search?q=video game Magic Fly release date\n",
      "1990\n"
     ]
    },
    {
     "name": "stderr",
     "output_type": "stream",
     "text": [
      "C:\\Users\\Ahmed\\AppData\\Local\\Temp/ipykernel_14584/1763191433.py:137: SettingWithCopyWarning: \n",
      "A value is trying to be set on a copy of a slice from a DataFrame\n",
      "\n",
      "See the caveats in the documentation: https://pandas.pydata.org/pandas-docs/stable/user_guide/indexing.html#returning-a-view-versus-a-copy\n",
      "  df1[\"release_date\"][wrong_data_combined[i][0]] = 0\n"
     ]
    },
    {
     "name": "stdout",
     "output_type": "stream",
     "text": [
      "https://www.google.com/search?q=video game Recovered Operations release date\n",
      "couldnt find it loser\n"
     ]
    },
    {
     "name": "stderr",
     "output_type": "stream",
     "text": [
      "C:\\Users\\Ahmed\\AppData\\Local\\Temp/ipykernel_14584/1763191433.py:103: SettingWithCopyWarning: \n",
      "A value is trying to be set on a copy of a slice from a DataFrame\n",
      "\n",
      "See the caveats in the documentation: https://pandas.pydata.org/pandas-docs/stable/user_guide/indexing.html#returning-a-view-versus-a-copy\n",
      "  df1[\"release_date\"][game_index] = game_year\n"
     ]
    },
    {
     "name": "stdout",
     "output_type": "stream",
     "text": [
      "https://www.google.com/search?q=video game Challenger Twenty One release date\n",
      "2022\n"
     ]
    },
    {
     "name": "stderr",
     "output_type": "stream",
     "text": [
      "C:\\Users\\Ahmed\\AppData\\Local\\Temp/ipykernel_14584/1763191433.py:137: SettingWithCopyWarning: \n",
      "A value is trying to be set on a copy of a slice from a DataFrame\n",
      "\n",
      "See the caveats in the documentation: https://pandas.pydata.org/pandas-docs/stable/user_guide/indexing.html#returning-a-view-versus-a-copy\n",
      "  df1[\"release_date\"][wrong_data_combined[i][0]] = 0\n"
     ]
    },
    {
     "name": "stdout",
     "output_type": "stream",
     "text": [
      "https://www.google.com/search?q=video game Without Memory release date\n",
      "couldnt find it loser\n"
     ]
    },
    {
     "name": "stderr",
     "output_type": "stream",
     "text": [
      "C:\\Users\\Ahmed\\AppData\\Local\\Temp/ipykernel_14584/1763191433.py:74: SettingWithCopyWarning: \n",
      "A value is trying to be set on a copy of a slice from a DataFrame\n",
      "\n",
      "See the caveats in the documentation: https://pandas.pydata.org/pandas-docs/stable/user_guide/indexing.html#returning-a-view-versus-a-copy\n",
      "  df1[\"release_date\"][game_index] = game_year\n"
     ]
    },
    {
     "name": "stdout",
     "output_type": "stream",
     "text": [
      "https://www.google.com/search?q=video game Addition & Subtraction release date\n",
      "2021\n"
     ]
    },
    {
     "name": "stderr",
     "output_type": "stream",
     "text": [
      "C:\\Users\\Ahmed\\AppData\\Local\\Temp/ipykernel_14584/1763191433.py:137: SettingWithCopyWarning: \n",
      "A value is trying to be set on a copy of a slice from a DataFrame\n",
      "\n",
      "See the caveats in the documentation: https://pandas.pydata.org/pandas-docs/stable/user_guide/indexing.html#returning-a-view-versus-a-copy\n",
      "  df1[\"release_date\"][wrong_data_combined[i][0]] = 0\n"
     ]
    },
    {
     "name": "stdout",
     "output_type": "stream",
     "text": [
      "https://www.google.com/search?q=video game Planet Michael release date\n",
      "couldnt find it loser\n"
     ]
    },
    {
     "name": "stderr",
     "output_type": "stream",
     "text": [
      "C:\\Users\\Ahmed\\AppData\\Local\\Temp/ipykernel_14584/1763191433.py:137: SettingWithCopyWarning: \n",
      "A value is trying to be set on a copy of a slice from a DataFrame\n",
      "\n",
      "See the caveats in the documentation: https://pandas.pydata.org/pandas-docs/stable/user_guide/indexing.html#returning-a-view-versus-a-copy\n",
      "  df1[\"release_date\"][wrong_data_combined[i][0]] = 0\n"
     ]
    },
    {
     "name": "stdout",
     "output_type": "stream",
     "text": [
      "https://www.google.com/search?q=video game Sensiz Olamam release date\n",
      "couldnt find it loser\n"
     ]
    },
    {
     "name": "stderr",
     "output_type": "stream",
     "text": [
      "C:\\Users\\Ahmed\\AppData\\Local\\Temp/ipykernel_14584/1763191433.py:137: SettingWithCopyWarning: \n",
      "A value is trying to be set on a copy of a slice from a DataFrame\n",
      "\n",
      "See the caveats in the documentation: https://pandas.pydata.org/pandas-docs/stable/user_guide/indexing.html#returning-a-view-versus-a-copy\n",
      "  df1[\"release_date\"][wrong_data_combined[i][0]] = 0\n"
     ]
    },
    {
     "name": "stdout",
     "output_type": "stream",
     "text": [
      "https://www.google.com/search?q=video game Picalette release date\n",
      "couldnt find it loser\n"
     ]
    },
    {
     "name": "stderr",
     "output_type": "stream",
     "text": [
      "C:\\Users\\Ahmed\\AppData\\Local\\Temp/ipykernel_14584/1763191433.py:74: SettingWithCopyWarning: \n",
      "A value is trying to be set on a copy of a slice from a DataFrame\n",
      "\n",
      "See the caveats in the documentation: https://pandas.pydata.org/pandas-docs/stable/user_guide/indexing.html#returning-a-view-versus-a-copy\n",
      "  df1[\"release_date\"][game_index] = game_year\n"
     ]
    },
    {
     "name": "stdout",
     "output_type": "stream",
     "text": [
      "https://www.google.com/search?q=video game Pisces release date\n",
      "2019\n"
     ]
    },
    {
     "name": "stderr",
     "output_type": "stream",
     "text": [
      "C:\\Users\\Ahmed\\AppData\\Local\\Temp/ipykernel_14584/1763191433.py:137: SettingWithCopyWarning: \n",
      "A value is trying to be set on a copy of a slice from a DataFrame\n",
      "\n",
      "See the caveats in the documentation: https://pandas.pydata.org/pandas-docs/stable/user_guide/indexing.html#returning-a-view-versus-a-copy\n",
      "  df1[\"release_date\"][wrong_data_combined[i][0]] = 0\n"
     ]
    },
    {
     "name": "stdout",
     "output_type": "stream",
     "text": [
      "https://www.google.com/search?q=video game Wild Double Up II release date\n",
      "couldnt find it loser\n"
     ]
    },
    {
     "name": "stderr",
     "output_type": "stream",
     "text": [
      "C:\\Users\\Ahmed\\AppData\\Local\\Temp/ipykernel_14584/1763191433.py:74: SettingWithCopyWarning: \n",
      "A value is trying to be set on a copy of a slice from a DataFrame\n",
      "\n",
      "See the caveats in the documentation: https://pandas.pydata.org/pandas-docs/stable/user_guide/indexing.html#returning-a-view-versus-a-copy\n",
      "  df1[\"release_date\"][game_index] = game_year\n"
     ]
    },
    {
     "name": "stdout",
     "output_type": "stream",
     "text": [
      "https://www.google.com/search?q=video game The Events at Unity Farm release date\n",
      "2023\n"
     ]
    },
    {
     "name": "stderr",
     "output_type": "stream",
     "text": [
      "C:\\Users\\Ahmed\\AppData\\Local\\Temp/ipykernel_14584/1763191433.py:137: SettingWithCopyWarning: \n",
      "A value is trying to be set on a copy of a slice from a DataFrame\n",
      "\n",
      "See the caveats in the documentation: https://pandas.pydata.org/pandas-docs/stable/user_guide/indexing.html#returning-a-view-versus-a-copy\n",
      "  df1[\"release_date\"][wrong_data_combined[i][0]] = 0\n"
     ]
    },
    {
     "name": "stdout",
     "output_type": "stream",
     "text": [
      "https://www.google.com/search?q=video game Flipped - The Game release date\n",
      "couldnt find it loser\n"
     ]
    },
    {
     "name": "stderr",
     "output_type": "stream",
     "text": [
      "C:\\Users\\Ahmed\\AppData\\Local\\Temp/ipykernel_14584/1763191433.py:74: SettingWithCopyWarning: \n",
      "A value is trying to be set on a copy of a slice from a DataFrame\n",
      "\n",
      "See the caveats in the documentation: https://pandas.pydata.org/pandas-docs/stable/user_guide/indexing.html#returning-a-view-versus-a-copy\n",
      "  df1[\"release_date\"][game_index] = game_year\n"
     ]
    },
    {
     "name": "stdout",
     "output_type": "stream",
     "text": [
      "https://www.google.com/search?q=video game Challenger Draw Poker release date\n",
      "1982\n",
      "https://www.google.com/search?q=video game Alphabet release date\n",
      "2013\n"
     ]
    },
    {
     "name": "stderr",
     "output_type": "stream",
     "text": [
      "C:\\Users\\Ahmed\\AppData\\Local\\Temp/ipykernel_14584/1763191433.py:43: SettingWithCopyWarning: \n",
      "A value is trying to be set on a copy of a slice from a DataFrame\n",
      "\n",
      "See the caveats in the documentation: https://pandas.pydata.org/pandas-docs/stable/user_guide/indexing.html#returning-a-view-versus-a-copy\n",
      "  df1[\"release_date\"][game_index] = game_year\n"
     ]
    },
    {
     "name": "stdout",
     "output_type": "stream",
     "text": [
      "https://www.google.com/search?q=video game The Lands Pt.1: Destroyer of Worlds release date\n",
      "2009\n"
     ]
    },
    {
     "name": "stderr",
     "output_type": "stream",
     "text": [
      "C:\\Users\\Ahmed\\AppData\\Local\\Temp/ipykernel_14584/1763191433.py:137: SettingWithCopyWarning: \n",
      "A value is trying to be set on a copy of a slice from a DataFrame\n",
      "\n",
      "See the caveats in the documentation: https://pandas.pydata.org/pandas-docs/stable/user_guide/indexing.html#returning-a-view-versus-a-copy\n",
      "  df1[\"release_date\"][wrong_data_combined[i][0]] = 0\n"
     ]
    },
    {
     "name": "stdout",
     "output_type": "stream",
     "text": [
      "https://www.google.com/search?q=video game Kotigoroshko release date\n",
      "couldnt find it loser\n"
     ]
    },
    {
     "name": "stderr",
     "output_type": "stream",
     "text": [
      "C:\\Users\\Ahmed\\AppData\\Local\\Temp/ipykernel_14584/1763191433.py:137: SettingWithCopyWarning: \n",
      "A value is trying to be set on a copy of a slice from a DataFrame\n",
      "\n",
      "See the caveats in the documentation: https://pandas.pydata.org/pandas-docs/stable/user_guide/indexing.html#returning-a-view-versus-a-copy\n",
      "  df1[\"release_date\"][wrong_data_combined[i][0]] = 0\n"
     ]
    },
    {
     "name": "stdout",
     "output_type": "stream",
     "text": [
      "https://www.google.com/search?q=video game Fun-Joke release date\n",
      "couldnt find it loser\n"
     ]
    },
    {
     "name": "stderr",
     "output_type": "stream",
     "text": [
      "C:\\Users\\Ahmed\\AppData\\Local\\Temp/ipykernel_14584/1763191433.py:43: SettingWithCopyWarning: \n",
      "A value is trying to be set on a copy of a slice from a DataFrame\n",
      "\n",
      "See the caveats in the documentation: https://pandas.pydata.org/pandas-docs/stable/user_guide/indexing.html#returning-a-view-versus-a-copy\n",
      "  df1[\"release_date\"][game_index] = game_year\n"
     ]
    },
    {
     "name": "stdout",
     "output_type": "stream",
     "text": [
      "https://www.google.com/search?q=video game Gin Rummy release date\n",
      "2008\n"
     ]
    },
    {
     "name": "stderr",
     "output_type": "stream",
     "text": [
      "C:\\Users\\Ahmed\\AppData\\Local\\Temp/ipykernel_14584/1763191433.py:137: SettingWithCopyWarning: \n",
      "A value is trying to be set on a copy of a slice from a DataFrame\n",
      "\n",
      "See the caveats in the documentation: https://pandas.pydata.org/pandas-docs/stable/user_guide/indexing.html#returning-a-view-versus-a-copy\n",
      "  df1[\"release_date\"][wrong_data_combined[i][0]] = 0\n"
     ]
    },
    {
     "name": "stdout",
     "output_type": "stream",
     "text": [
      "https://www.google.com/search?q=video game Marooned release date\n",
      "couldnt find it loser\n"
     ]
    },
    {
     "name": "stderr",
     "output_type": "stream",
     "text": [
      "C:\\Users\\Ahmed\\AppData\\Local\\Temp/ipykernel_14584/1763191433.py:137: SettingWithCopyWarning: \n",
      "A value is trying to be set on a copy of a slice from a DataFrame\n",
      "\n",
      "See the caveats in the documentation: https://pandas.pydata.org/pandas-docs/stable/user_guide/indexing.html#returning-a-view-versus-a-copy\n",
      "  df1[\"release_date\"][wrong_data_combined[i][0]] = 0\n"
     ]
    },
    {
     "name": "stdout",
     "output_type": "stream",
     "text": [
      "https://www.google.com/search?q=video game Starlite: Defender of Justice release date\n",
      "couldnt find it loser\n"
     ]
    },
    {
     "name": "stderr",
     "output_type": "stream",
     "text": [
      "C:\\Users\\Ahmed\\AppData\\Local\\Temp/ipykernel_14584/1763191433.py:137: SettingWithCopyWarning: \n",
      "A value is trying to be set on a copy of a slice from a DataFrame\n",
      "\n",
      "See the caveats in the documentation: https://pandas.pydata.org/pandas-docs/stable/user_guide/indexing.html#returning-a-view-versus-a-copy\n",
      "  df1[\"release_date\"][wrong_data_combined[i][0]] = 0\n"
     ]
    },
    {
     "name": "stdout",
     "output_type": "stream",
     "text": [
      "https://www.google.com/search?q=video game Major Poker release date\n",
      "couldnt find it loser\n"
     ]
    },
    {
     "name": "stderr",
     "output_type": "stream",
     "text": [
      "C:\\Users\\Ahmed\\AppData\\Local\\Temp/ipykernel_14584/1763191433.py:137: SettingWithCopyWarning: \n",
      "A value is trying to be set on a copy of a slice from a DataFrame\n",
      "\n",
      "See the caveats in the documentation: https://pandas.pydata.org/pandas-docs/stable/user_guide/indexing.html#returning-a-view-versus-a-copy\n",
      "  df1[\"release_date\"][wrong_data_combined[i][0]] = 0\n"
     ]
    },
    {
     "name": "stdout",
     "output_type": "stream",
     "text": [
      "https://www.google.com/search?q=video game Little Magic Books: Knock, Knock! Who's on My Block? release date\n",
      "couldnt find it loser\n"
     ]
    },
    {
     "name": "stderr",
     "output_type": "stream",
     "text": [
      "C:\\Users\\Ahmed\\AppData\\Local\\Temp/ipykernel_14584/1763191433.py:43: SettingWithCopyWarning: \n",
      "A value is trying to be set on a copy of a slice from a DataFrame\n",
      "\n",
      "See the caveats in the documentation: https://pandas.pydata.org/pandas-docs/stable/user_guide/indexing.html#returning-a-view-versus-a-copy\n",
      "  df1[\"release_date\"][game_index] = game_year\n"
     ]
    },
    {
     "name": "stdout",
     "output_type": "stream",
     "text": [
      "https://www.google.com/search?q=video game Spell It 3 release date\n",
      "2017\n"
     ]
    },
    {
     "name": "stderr",
     "output_type": "stream",
     "text": [
      "C:\\Users\\Ahmed\\AppData\\Local\\Temp/ipykernel_14584/1763191433.py:137: SettingWithCopyWarning: \n",
      "A value is trying to be set on a copy of a slice from a DataFrame\n",
      "\n",
      "See the caveats in the documentation: https://pandas.pydata.org/pandas-docs/stable/user_guide/indexing.html#returning-a-view-versus-a-copy\n",
      "  df1[\"release_date\"][wrong_data_combined[i][0]] = 0\n"
     ]
    },
    {
     "name": "stdout",
     "output_type": "stream",
     "text": [
      "https://www.google.com/search?q=video game T.V. 5-Card Poker release date\n",
      "couldnt find it loser\n"
     ]
    },
    {
     "name": "stderr",
     "output_type": "stream",
     "text": [
      "C:\\Users\\Ahmed\\AppData\\Local\\Temp/ipykernel_14584/1763191433.py:137: SettingWithCopyWarning: \n",
      "A value is trying to be set on a copy of a slice from a DataFrame\n",
      "\n",
      "See the caveats in the documentation: https://pandas.pydata.org/pandas-docs/stable/user_guide/indexing.html#returning-a-view-versus-a-copy\n",
      "  df1[\"release_date\"][wrong_data_combined[i][0]] = 0\n"
     ]
    },
    {
     "name": "stdout",
     "output_type": "stream",
     "text": [
      "https://www.google.com/search?q=video game Into Sominia: A Project release date\n",
      "couldnt find it loser\n"
     ]
    },
    {
     "name": "stderr",
     "output_type": "stream",
     "text": [
      "C:\\Users\\Ahmed\\AppData\\Local\\Temp/ipykernel_14584/1763191433.py:137: SettingWithCopyWarning: \n",
      "A value is trying to be set on a copy of a slice from a DataFrame\n",
      "\n",
      "See the caveats in the documentation: https://pandas.pydata.org/pandas-docs/stable/user_guide/indexing.html#returning-a-view-versus-a-copy\n",
      "  df1[\"release_date\"][wrong_data_combined[i][0]] = 0\n"
     ]
    },
    {
     "name": "stdout",
     "output_type": "stream",
     "text": [
      "https://www.google.com/search?q=video game AceSpeeder3 release date\n",
      "couldnt find it loser\n"
     ]
    },
    {
     "name": "stderr",
     "output_type": "stream",
     "text": [
      "C:\\Users\\Ahmed\\AppData\\Local\\Temp/ipykernel_14584/1763191433.py:137: SettingWithCopyWarning: \n",
      "A value is trying to be set on a copy of a slice from a DataFrame\n",
      "\n",
      "See the caveats in the documentation: https://pandas.pydata.org/pandas-docs/stable/user_guide/indexing.html#returning-a-view-versus-a-copy\n",
      "  df1[\"release_date\"][wrong_data_combined[i][0]] = 0\n"
     ]
    },
    {
     "name": "stdout",
     "output_type": "stream",
     "text": [
      "https://www.google.com/search?q=video game Ostrov drakona release date\n",
      "couldnt find it loser\n"
     ]
    },
    {
     "name": "stderr",
     "output_type": "stream",
     "text": [
      "C:\\Users\\Ahmed\\AppData\\Local\\Temp/ipykernel_14584/1763191433.py:137: SettingWithCopyWarning: \n",
      "A value is trying to be set on a copy of a slice from a DataFrame\n",
      "\n",
      "See the caveats in the documentation: https://pandas.pydata.org/pandas-docs/stable/user_guide/indexing.html#returning-a-view-versus-a-copy\n",
      "  df1[\"release_date\"][wrong_data_combined[i][0]] = 0\n"
     ]
    },
    {
     "name": "stdout",
     "output_type": "stream",
     "text": [
      "https://www.google.com/search?q=video game The Projects release date\n",
      "couldnt find it loser\n"
     ]
    },
    {
     "name": "stderr",
     "output_type": "stream",
     "text": [
      "C:\\Users\\Ahmed\\AppData\\Local\\Temp/ipykernel_14584/1763191433.py:43: SettingWithCopyWarning: \n",
      "A value is trying to be set on a copy of a slice from a DataFrame\n",
      "\n",
      "See the caveats in the documentation: https://pandas.pydata.org/pandas-docs/stable/user_guide/indexing.html#returning-a-view-versus-a-copy\n",
      "  df1[\"release_date\"][game_index] = game_year\n"
     ]
    },
    {
     "name": "stdout",
     "output_type": "stream",
     "text": [
      "https://www.google.com/search?q=video game Monster Zero release date\n",
      "2004\n"
     ]
    },
    {
     "name": "stderr",
     "output_type": "stream",
     "text": [
      "C:\\Users\\Ahmed\\AppData\\Local\\Temp/ipykernel_14584/1763191433.py:137: SettingWithCopyWarning: \n",
      "A value is trying to be set on a copy of a slice from a DataFrame\n",
      "\n",
      "See the caveats in the documentation: https://pandas.pydata.org/pandas-docs/stable/user_guide/indexing.html#returning-a-view-versus-a-copy\n",
      "  df1[\"release_date\"][wrong_data_combined[i][0]] = 0\n"
     ]
    },
    {
     "name": "stdout",
     "output_type": "stream",
     "text": [
      "https://www.google.com/search?q=video game Fish Cymophis release date\n",
      "couldnt find it loser\n"
     ]
    },
    {
     "name": "stderr",
     "output_type": "stream",
     "text": [
      "C:\\Users\\Ahmed\\AppData\\Local\\Temp/ipykernel_14584/1763191433.py:137: SettingWithCopyWarning: \n",
      "A value is trying to be set on a copy of a slice from a DataFrame\n",
      "\n",
      "See the caveats in the documentation: https://pandas.pydata.org/pandas-docs/stable/user_guide/indexing.html#returning-a-view-versus-a-copy\n",
      "  df1[\"release_date\"][wrong_data_combined[i][0]] = 0\n"
     ]
    },
    {
     "name": "stdout",
     "output_type": "stream",
     "text": [
      "https://www.google.com/search?q=video game Exava release date\n",
      "couldnt find it loser\n"
     ]
    },
    {
     "name": "stderr",
     "output_type": "stream",
     "text": [
      "C:\\Users\\Ahmed\\AppData\\Local\\Temp/ipykernel_14584/1763191433.py:74: SettingWithCopyWarning: \n",
      "A value is trying to be set on a copy of a slice from a DataFrame\n",
      "\n",
      "See the caveats in the documentation: https://pandas.pydata.org/pandas-docs/stable/user_guide/indexing.html#returning-a-view-versus-a-copy\n",
      "  df1[\"release_date\"][game_index] = game_year\n"
     ]
    },
    {
     "name": "stdout",
     "output_type": "stream",
     "text": [
      "https://www.google.com/search?q=video game Reknum Fantasy of Dreams release date\n",
      "2022\n"
     ]
    },
    {
     "name": "stderr",
     "output_type": "stream",
     "text": [
      "C:\\Users\\Ahmed\\AppData\\Local\\Temp/ipykernel_14584/1763191433.py:137: SettingWithCopyWarning: \n",
      "A value is trying to be set on a copy of a slice from a DataFrame\n",
      "\n",
      "See the caveats in the documentation: https://pandas.pydata.org/pandas-docs/stable/user_guide/indexing.html#returning-a-view-versus-a-copy\n",
      "  df1[\"release_date\"][wrong_data_combined[i][0]] = 0\n"
     ]
    },
    {
     "name": "stdout",
     "output_type": "stream",
     "text": [
      "https://www.google.com/search?q=video game Dynamic-Dice release date\n",
      "couldnt find it loser\n"
     ]
    },
    {
     "name": "stderr",
     "output_type": "stream",
     "text": [
      "C:\\Users\\Ahmed\\AppData\\Local\\Temp/ipykernel_14584/1763191433.py:43: SettingWithCopyWarning: \n",
      "A value is trying to be set on a copy of a slice from a DataFrame\n",
      "\n",
      "See the caveats in the documentation: https://pandas.pydata.org/pandas-docs/stable/user_guide/indexing.html#returning-a-view-versus-a-copy\n",
      "  df1[\"release_date\"][game_index] = game_year\n"
     ]
    },
    {
     "name": "stdout",
     "output_type": "stream",
     "text": [
      "https://www.google.com/search?q=video game Missile Command release date\n",
      "1980\n",
      "https://www.google.com/search?q=video game Fruity Pebbles Fruity Pool release date\n",
      "1971\n"
     ]
    },
    {
     "name": "stderr",
     "output_type": "stream",
     "text": [
      "C:\\Users\\Ahmed\\AppData\\Local\\Temp/ipykernel_14584/1763191433.py:137: SettingWithCopyWarning: \n",
      "A value is trying to be set on a copy of a slice from a DataFrame\n",
      "\n",
      "See the caveats in the documentation: https://pandas.pydata.org/pandas-docs/stable/user_guide/indexing.html#returning-a-view-versus-a-copy\n",
      "  df1[\"release_date\"][wrong_data_combined[i][0]] = 0\n"
     ]
    },
    {
     "name": "stdout",
     "output_type": "stream",
     "text": [
      "https://www.google.com/search?q=video game VHi Draw Poker release date\n",
      "couldnt find it loser\n"
     ]
    },
    {
     "name": "stderr",
     "output_type": "stream",
     "text": [
      "C:\\Users\\Ahmed\\AppData\\Local\\Temp/ipykernel_14584/1763191433.py:43: SettingWithCopyWarning: \n",
      "A value is trying to be set on a copy of a slice from a DataFrame\n",
      "\n",
      "See the caveats in the documentation: https://pandas.pydata.org/pandas-docs/stable/user_guide/indexing.html#returning-a-view-versus-a-copy\n",
      "  df1[\"release_date\"][game_index] = game_year\n"
     ]
    },
    {
     "name": "stdout",
     "output_type": "stream",
     "text": [
      "https://www.google.com/search?q=video game Prince of Persia: The Forgotten Sands release date\n",
      "2010\n",
      "https://www.google.com/search?q=video game Computer-Poker release date\n",
      "1970\n",
      "https://www.google.com/search?q=video game RPG Maker 95 release date\n",
      "1997\n"
     ]
    },
    {
     "name": "stderr",
     "output_type": "stream",
     "text": [
      "C:\\Users\\Ahmed\\AppData\\Local\\Temp/ipykernel_14584/1763191433.py:137: SettingWithCopyWarning: \n",
      "A value is trying to be set on a copy of a slice from a DataFrame\n",
      "\n",
      "See the caveats in the documentation: https://pandas.pydata.org/pandas-docs/stable/user_guide/indexing.html#returning-a-view-versus-a-copy\n",
      "  df1[\"release_date\"][wrong_data_combined[i][0]] = 0\n"
     ]
    },
    {
     "name": "stdout",
     "output_type": "stream",
     "text": [
      "https://www.google.com/search?q=video game Operation Stabilization: Revived release date\n",
      "couldnt find it loser\n"
     ]
    },
    {
     "name": "stderr",
     "output_type": "stream",
     "text": [
      "C:\\Users\\Ahmed\\AppData\\Local\\Temp/ipykernel_14584/1763191433.py:74: SettingWithCopyWarning: \n",
      "A value is trying to be set on a copy of a slice from a DataFrame\n",
      "\n",
      "See the caveats in the documentation: https://pandas.pydata.org/pandas-docs/stable/user_guide/indexing.html#returning-a-view-versus-a-copy\n",
      "  df1[\"release_date\"][game_index] = game_year\n"
     ]
    },
    {
     "name": "stdout",
     "output_type": "stream",
     "text": [
      "https://www.google.com/search?q=video game Softwar release date\n",
      "1958\n",
      "https://www.google.com/search?q=video game FNAF World DX release date\n",
      "2017\n"
     ]
    },
    {
     "name": "stderr",
     "output_type": "stream",
     "text": [
      "C:\\Users\\Ahmed\\AppData\\Local\\Temp/ipykernel_14584/1763191433.py:137: SettingWithCopyWarning: \n",
      "A value is trying to be set on a copy of a slice from a DataFrame\n",
      "\n",
      "See the caveats in the documentation: https://pandas.pydata.org/pandas-docs/stable/user_guide/indexing.html#returning-a-view-versus-a-copy\n",
      "  df1[\"release_date\"][wrong_data_combined[i][0]] = 0\n"
     ]
    },
    {
     "name": "stdout",
     "output_type": "stream",
     "text": [
      "https://www.google.com/search?q=video game Astropal release date\n",
      "couldnt find it loser\n"
     ]
    },
    {
     "name": "stderr",
     "output_type": "stream",
     "text": [
      "C:\\Users\\Ahmed\\AppData\\Local\\Temp/ipykernel_14584/1763191433.py:137: SettingWithCopyWarning: \n",
      "A value is trying to be set on a copy of a slice from a DataFrame\n",
      "\n",
      "See the caveats in the documentation: https://pandas.pydata.org/pandas-docs/stable/user_guide/indexing.html#returning-a-view-versus-a-copy\n",
      "  df1[\"release_date\"][wrong_data_combined[i][0]] = 0\n"
     ]
    },
    {
     "name": "stdout",
     "output_type": "stream",
     "text": [
      "https://www.google.com/search?q=video game Vidar: The RPG Where Everyone Dies release date\n",
      "couldnt find it loser\n"
     ]
    },
    {
     "name": "stderr",
     "output_type": "stream",
     "text": [
      "C:\\Users\\Ahmed\\AppData\\Local\\Temp/ipykernel_14584/1763191433.py:137: SettingWithCopyWarning: \n",
      "A value is trying to be set on a copy of a slice from a DataFrame\n",
      "\n",
      "See the caveats in the documentation: https://pandas.pydata.org/pandas-docs/stable/user_guide/indexing.html#returning-a-view-versus-a-copy\n",
      "  df1[\"release_date\"][wrong_data_combined[i][0]] = 0\n"
     ]
    },
    {
     "name": "stdout",
     "output_type": "stream",
     "text": [
      "https://www.google.com/search?q=video game Super Bonus Deluxe release date\n",
      "couldnt find it loser\n"
     ]
    },
    {
     "name": "stderr",
     "output_type": "stream",
     "text": [
      "C:\\Users\\Ahmed\\AppData\\Local\\Temp/ipykernel_14584/1763191433.py:74: SettingWithCopyWarning: \n",
      "A value is trying to be set on a copy of a slice from a DataFrame\n",
      "\n",
      "See the caveats in the documentation: https://pandas.pydata.org/pandas-docs/stable/user_guide/indexing.html#returning-a-view-versus-a-copy\n",
      "  df1[\"release_date\"][game_index] = game_year\n"
     ]
    },
    {
     "name": "stdout",
     "output_type": "stream",
     "text": [
      "https://www.google.com/search?q=video game The Tideshell Keeper release date\n",
      "2022\n"
     ]
    },
    {
     "name": "stderr",
     "output_type": "stream",
     "text": [
      "C:\\Users\\Ahmed\\AppData\\Local\\Temp/ipykernel_14584/1763191433.py:137: SettingWithCopyWarning: \n",
      "A value is trying to be set on a copy of a slice from a DataFrame\n",
      "\n",
      "See the caveats in the documentation: https://pandas.pydata.org/pandas-docs/stable/user_guide/indexing.html#returning-a-view-versus-a-copy\n",
      "  df1[\"release_date\"][wrong_data_combined[i][0]] = 0\n"
     ]
    },
    {
     "name": "stdout",
     "output_type": "stream",
     "text": [
      "https://www.google.com/search?q=video game Penny Blood release date\n",
      "couldnt find it loser\n"
     ]
    },
    {
     "name": "stderr",
     "output_type": "stream",
     "text": [
      "C:\\Users\\Ahmed\\AppData\\Local\\Temp/ipykernel_14584/1763191433.py:43: SettingWithCopyWarning: \n",
      "A value is trying to be set on a copy of a slice from a DataFrame\n",
      "\n",
      "See the caveats in the documentation: https://pandas.pydata.org/pandas-docs/stable/user_guide/indexing.html#returning-a-view-versus-a-copy\n",
      "  df1[\"release_date\"][game_index] = game_year\n"
     ]
    },
    {
     "name": "stdout",
     "output_type": "stream",
     "text": [
      "https://www.google.com/search?q=video game Blast Royale release date\n",
      "2000\n"
     ]
    },
    {
     "name": "stderr",
     "output_type": "stream",
     "text": [
      "C:\\Users\\Ahmed\\AppData\\Local\\Temp/ipykernel_14584/1763191433.py:137: SettingWithCopyWarning: \n",
      "A value is trying to be set on a copy of a slice from a DataFrame\n",
      "\n",
      "See the caveats in the documentation: https://pandas.pydata.org/pandas-docs/stable/user_guide/indexing.html#returning-a-view-versus-a-copy\n",
      "  df1[\"release_date\"][wrong_data_combined[i][0]] = 0\n"
     ]
    },
    {
     "name": "stdout",
     "output_type": "stream",
     "text": [
      "https://www.google.com/search?q=video game Tennis release date\n",
      "couldnt find it loser\n"
     ]
    },
    {
     "name": "stderr",
     "output_type": "stream",
     "text": [
      "C:\\Users\\Ahmed\\AppData\\Local\\Temp/ipykernel_14584/1763191433.py:137: SettingWithCopyWarning: \n",
      "A value is trying to be set on a copy of a slice from a DataFrame\n",
      "\n",
      "See the caveats in the documentation: https://pandas.pydata.org/pandas-docs/stable/user_guide/indexing.html#returning-a-view-versus-a-copy\n",
      "  df1[\"release_date\"][wrong_data_combined[i][0]] = 0\n"
     ]
    },
    {
     "name": "stdout",
     "output_type": "stream",
     "text": [
      "https://www.google.com/search?q=video game Romar Triv release date\n",
      "couldnt find it loser\n"
     ]
    },
    {
     "name": "stderr",
     "output_type": "stream",
     "text": [
      "C:\\Users\\Ahmed\\AppData\\Local\\Temp/ipykernel_14584/1763191433.py:137: SettingWithCopyWarning: \n",
      "A value is trying to be set on a copy of a slice from a DataFrame\n",
      "\n",
      "See the caveats in the documentation: https://pandas.pydata.org/pandas-docs/stable/user_guide/indexing.html#returning-a-view-versus-a-copy\n",
      "  df1[\"release_date\"][wrong_data_combined[i][0]] = 0\n"
     ]
    },
    {
     "name": "stdout",
     "output_type": "stream",
     "text": [
      "https://www.google.com/search?q=video game Snapped release date\n",
      "couldnt find it loser\n"
     ]
    },
    {
     "name": "stderr",
     "output_type": "stream",
     "text": [
      "C:\\Users\\Ahmed\\AppData\\Local\\Temp/ipykernel_14584/1763191433.py:137: SettingWithCopyWarning: \n",
      "A value is trying to be set on a copy of a slice from a DataFrame\n",
      "\n",
      "See the caveats in the documentation: https://pandas.pydata.org/pandas-docs/stable/user_guide/indexing.html#returning-a-view-versus-a-copy\n",
      "  df1[\"release_date\"][wrong_data_combined[i][0]] = 0\n"
     ]
    },
    {
     "name": "stdout",
     "output_type": "stream",
     "text": [
      "https://www.google.com/search?q=video game Lucky 8 release date\n",
      "couldnt find it loser\n"
     ]
    },
    {
     "name": "stderr",
     "output_type": "stream",
     "text": [
      "C:\\Users\\Ahmed\\AppData\\Local\\Temp/ipykernel_14584/1763191433.py:137: SettingWithCopyWarning: \n",
      "A value is trying to be set on a copy of a slice from a DataFrame\n",
      "\n",
      "See the caveats in the documentation: https://pandas.pydata.org/pandas-docs/stable/user_guide/indexing.html#returning-a-view-versus-a-copy\n",
      "  df1[\"release_date\"][wrong_data_combined[i][0]] = 0\n"
     ]
    },
    {
     "name": "stdout",
     "output_type": "stream",
     "text": [
      "https://www.google.com/search?q=video game Asterion release date\n",
      "couldnt find it loser\n"
     ]
    },
    {
     "name": "stderr",
     "output_type": "stream",
     "text": [
      "C:\\Users\\Ahmed\\AppData\\Local\\Temp/ipykernel_14584/1763191433.py:137: SettingWithCopyWarning: \n",
      "A value is trying to be set on a copy of a slice from a DataFrame\n",
      "\n",
      "See the caveats in the documentation: https://pandas.pydata.org/pandas-docs/stable/user_guide/indexing.html#returning-a-view-versus-a-copy\n",
      "  df1[\"release_date\"][wrong_data_combined[i][0]] = 0\n"
     ]
    },
    {
     "name": "stdout",
     "output_type": "stream",
     "text": [
      "https://www.google.com/search?q=video game Telekick release date\n",
      "couldnt find it loser\n"
     ]
    },
    {
     "name": "stderr",
     "output_type": "stream",
     "text": [
      "C:\\Users\\Ahmed\\AppData\\Local\\Temp/ipykernel_14584/1763191433.py:137: SettingWithCopyWarning: \n",
      "A value is trying to be set on a copy of a slice from a DataFrame\n",
      "\n",
      "See the caveats in the documentation: https://pandas.pydata.org/pandas-docs/stable/user_guide/indexing.html#returning-a-view-versus-a-copy\n",
      "  df1[\"release_date\"][wrong_data_combined[i][0]] = 0\n"
     ]
    },
    {
     "name": "stdout",
     "output_type": "stream",
     "text": [
      "https://www.google.com/search?q=video game Wham Bam + 2 release date\n",
      "couldnt find it loser\n"
     ]
    },
    {
     "name": "stderr",
     "output_type": "stream",
     "text": [
      "C:\\Users\\Ahmed\\AppData\\Local\\Temp/ipykernel_14584/1763191433.py:43: SettingWithCopyWarning: \n",
      "A value is trying to be set on a copy of a slice from a DataFrame\n",
      "\n",
      "See the caveats in the documentation: https://pandas.pydata.org/pandas-docs/stable/user_guide/indexing.html#returning-a-view-versus-a-copy\n",
      "  df1[\"release_date\"][game_index] = game_year\n"
     ]
    },
    {
     "name": "stdout",
     "output_type": "stream",
     "text": [
      "https://www.google.com/search?q=video game High Roller release date\n",
      "2002\n"
     ]
    },
    {
     "name": "stderr",
     "output_type": "stream",
     "text": [
      "C:\\Users\\Ahmed\\AppData\\Local\\Temp/ipykernel_14584/1763191433.py:74: SettingWithCopyWarning: \n",
      "A value is trying to be set on a copy of a slice from a DataFrame\n",
      "\n",
      "See the caveats in the documentation: https://pandas.pydata.org/pandas-docs/stable/user_guide/indexing.html#returning-a-view-versus-a-copy\n",
      "  df1[\"release_date\"][game_index] = game_year\n"
     ]
    },
    {
     "name": "stdout",
     "output_type": "stream",
     "text": [
      "https://www.google.com/search?q=video game 5-aces Poker release date\n",
      "2023\n"
     ]
    },
    {
     "name": "stderr",
     "output_type": "stream",
     "text": [
      "C:\\Users\\Ahmed\\AppData\\Local\\Temp/ipykernel_14584/1763191433.py:137: SettingWithCopyWarning: \n",
      "A value is trying to be set on a copy of a slice from a DataFrame\n",
      "\n",
      "See the caveats in the documentation: https://pandas.pydata.org/pandas-docs/stable/user_guide/indexing.html#returning-a-view-versus-a-copy\n",
      "  df1[\"release_date\"][wrong_data_combined[i][0]] = 0\n"
     ]
    },
    {
     "name": "stdout",
     "output_type": "stream",
     "text": [
      "https://www.google.com/search?q=video game AceSpeeder2 release date\n",
      "couldnt find it loser\n"
     ]
    },
    {
     "name": "stderr",
     "output_type": "stream",
     "text": [
      "C:\\Users\\Ahmed\\AppData\\Local\\Temp/ipykernel_14584/1763191433.py:137: SettingWithCopyWarning: \n",
      "A value is trying to be set on a copy of a slice from a DataFrame\n",
      "\n",
      "See the caveats in the documentation: https://pandas.pydata.org/pandas-docs/stable/user_guide/indexing.html#returning-a-view-versus-a-copy\n",
      "  df1[\"release_date\"][wrong_data_combined[i][0]] = 0\n"
     ]
    },
    {
     "name": "stdout",
     "output_type": "stream",
     "text": [
      "https://www.google.com/search?q=video game Reading release date\n",
      "couldnt find it loser\n"
     ]
    },
    {
     "name": "stderr",
     "output_type": "stream",
     "text": [
      "C:\\Users\\Ahmed\\AppData\\Local\\Temp/ipykernel_14584/1763191433.py:137: SettingWithCopyWarning: \n",
      "A value is trying to be set on a copy of a slice from a DataFrame\n",
      "\n",
      "See the caveats in the documentation: https://pandas.pydata.org/pandas-docs/stable/user_guide/indexing.html#returning-a-view-versus-a-copy\n",
      "  df1[\"release_date\"][wrong_data_combined[i][0]] = 0\n"
     ]
    },
    {
     "name": "stdout",
     "output_type": "stream",
     "text": [
      "https://www.google.com/search?q=video game Squidy and Em Roblox Adventures release date\n",
      "couldnt find it loser\n"
     ]
    },
    {
     "name": "stderr",
     "output_type": "stream",
     "text": [
      "C:\\Users\\Ahmed\\AppData\\Local\\Temp/ipykernel_14584/1763191433.py:137: SettingWithCopyWarning: \n",
      "A value is trying to be set on a copy of a slice from a DataFrame\n",
      "\n",
      "See the caveats in the documentation: https://pandas.pydata.org/pandas-docs/stable/user_guide/indexing.html#returning-a-view-versus-a-copy\n",
      "  df1[\"release_date\"][wrong_data_combined[i][0]] = 0\n"
     ]
    },
    {
     "name": "stdout",
     "output_type": "stream",
     "text": [
      "https://www.google.com/search?q=video game Viking HIIT VR Experience release date\n",
      "couldnt find it loser\n"
     ]
    },
    {
     "name": "stderr",
     "output_type": "stream",
     "text": [
      "C:\\Users\\Ahmed\\AppData\\Local\\Temp/ipykernel_14584/1763191433.py:74: SettingWithCopyWarning: \n",
      "A value is trying to be set on a copy of a slice from a DataFrame\n",
      "\n",
      "See the caveats in the documentation: https://pandas.pydata.org/pandas-docs/stable/user_guide/indexing.html#returning-a-view-versus-a-copy\n",
      "  df1[\"release_date\"][game_index] = game_year\n"
     ]
    },
    {
     "name": "stdout",
     "output_type": "stream",
     "text": [
      "https://www.google.com/search?q=video game Ostrov sokrovishch release date\n",
      "1988\n"
     ]
    },
    {
     "name": "stderr",
     "output_type": "stream",
     "text": [
      "C:\\Users\\Ahmed\\AppData\\Local\\Temp/ipykernel_14584/1763191433.py:43: SettingWithCopyWarning: \n",
      "A value is trying to be set on a copy of a slice from a DataFrame\n",
      "\n",
      "See the caveats in the documentation: https://pandas.pydata.org/pandas-docs/stable/user_guide/indexing.html#returning-a-view-versus-a-copy\n",
      "  df1[\"release_date\"][game_index] = game_year\n"
     ]
    },
    {
     "name": "stdout",
     "output_type": "stream",
     "text": [
      "https://www.google.com/search?q=video game Flip-Out release date\n",
      "1995\n"
     ]
    },
    {
     "name": "stderr",
     "output_type": "stream",
     "text": [
      "C:\\Users\\Ahmed\\AppData\\Local\\Temp/ipykernel_14584/1763191433.py:137: SettingWithCopyWarning: \n",
      "A value is trying to be set on a copy of a slice from a DataFrame\n",
      "\n",
      "See the caveats in the documentation: https://pandas.pydata.org/pandas-docs/stable/user_guide/indexing.html#returning-a-view-versus-a-copy\n",
      "  df1[\"release_date\"][wrong_data_combined[i][0]] = 0\n"
     ]
    },
    {
     "name": "stdout",
     "output_type": "stream",
     "text": [
      "https://www.google.com/search?q=video game A Little Less Desperation release date\n",
      "couldnt find it loser\n"
     ]
    },
    {
     "name": "stderr",
     "output_type": "stream",
     "text": [
      "C:\\Users\\Ahmed\\AppData\\Local\\Temp/ipykernel_14584/1763191433.py:43: SettingWithCopyWarning: \n",
      "A value is trying to be set on a copy of a slice from a DataFrame\n",
      "\n",
      "See the caveats in the documentation: https://pandas.pydata.org/pandas-docs/stable/user_guide/indexing.html#returning-a-view-versus-a-copy\n",
      "  df1[\"release_date\"][game_index] = game_year\n"
     ]
    },
    {
     "name": "stdout",
     "output_type": "stream",
     "text": [
      "https://www.google.com/search?q=video game Space Mechanic Simulator release date\n",
      "2020\n"
     ]
    },
    {
     "name": "stderr",
     "output_type": "stream",
     "text": [
      "C:\\Users\\Ahmed\\AppData\\Local\\Temp/ipykernel_14584/1763191433.py:137: SettingWithCopyWarning: \n",
      "A value is trying to be set on a copy of a slice from a DataFrame\n",
      "\n",
      "See the caveats in the documentation: https://pandas.pydata.org/pandas-docs/stable/user_guide/indexing.html#returning-a-view-versus-a-copy\n",
      "  df1[\"release_date\"][wrong_data_combined[i][0]] = 0\n"
     ]
    },
    {
     "name": "stdout",
     "output_type": "stream",
     "text": [
      "https://www.google.com/search?q=video game Special Break release date\n",
      "couldnt find it loser\n"
     ]
    },
    {
     "name": "stderr",
     "output_type": "stream",
     "text": [
      "C:\\Users\\Ahmed\\AppData\\Local\\Temp/ipykernel_14584/1763191433.py:137: SettingWithCopyWarning: \n",
      "A value is trying to be set on a copy of a slice from a DataFrame\n",
      "\n",
      "See the caveats in the documentation: https://pandas.pydata.org/pandas-docs/stable/user_guide/indexing.html#returning-a-view-versus-a-copy\n",
      "  df1[\"release_date\"][wrong_data_combined[i][0]] = 0\n"
     ]
    },
    {
     "name": "stdout",
     "output_type": "stream",
     "text": [
      "https://www.google.com/search?q=video game Zvezdnyi rytsar release date\n",
      "couldnt find it loser\n"
     ]
    },
    {
     "name": "stderr",
     "output_type": "stream",
     "text": [
      "C:\\Users\\Ahmed\\AppData\\Local\\Temp/ipykernel_14584/1763191433.py:137: SettingWithCopyWarning: \n",
      "A value is trying to be set on a copy of a slice from a DataFrame\n",
      "\n",
      "See the caveats in the documentation: https://pandas.pydata.org/pandas-docs/stable/user_guide/indexing.html#returning-a-view-versus-a-copy\n",
      "  df1[\"release_date\"][wrong_data_combined[i][0]] = 0\n"
     ]
    },
    {
     "name": "stdout",
     "output_type": "stream",
     "text": [
      "https://www.google.com/search?q=video game Natsu Shojo release date\n",
      "couldnt find it loser\n"
     ]
    },
    {
     "name": "stderr",
     "output_type": "stream",
     "text": [
      "C:\\Users\\Ahmed\\AppData\\Local\\Temp/ipykernel_14584/1763191433.py:43: SettingWithCopyWarning: \n",
      "A value is trying to be set on a copy of a slice from a DataFrame\n",
      "\n",
      "See the caveats in the documentation: https://pandas.pydata.org/pandas-docs/stable/user_guide/indexing.html#returning-a-view-versus-a-copy\n",
      "  df1[\"release_date\"][game_index] = game_year\n"
     ]
    },
    {
     "name": "stdout",
     "output_type": "stream",
     "text": [
      "https://www.google.com/search?q=video game The Pharao release date\n",
      "1999\n"
     ]
    },
    {
     "name": "stderr",
     "output_type": "stream",
     "text": [
      "C:\\Users\\Ahmed\\AppData\\Local\\Temp/ipykernel_14584/1763191433.py:74: SettingWithCopyWarning: \n",
      "A value is trying to be set on a copy of a slice from a DataFrame\n",
      "\n",
      "See the caveats in the documentation: https://pandas.pydata.org/pandas-docs/stable/user_guide/indexing.html#returning-a-view-versus-a-copy\n",
      "  df1[\"release_date\"][game_index] = game_year\n"
     ]
    },
    {
     "name": "stdout",
     "output_type": "stream",
     "text": [
      "https://www.google.com/search?q=video game The Yakyuuken Part 2 release date\n",
      "2017\n"
     ]
    },
    {
     "name": "stderr",
     "output_type": "stream",
     "text": [
      "C:\\Users\\Ahmed\\AppData\\Local\\Temp/ipykernel_14584/1763191433.py:137: SettingWithCopyWarning: \n",
      "A value is trying to be set on a copy of a slice from a DataFrame\n",
      "\n",
      "See the caveats in the documentation: https://pandas.pydata.org/pandas-docs/stable/user_guide/indexing.html#returning-a-view-versus-a-copy\n",
      "  df1[\"release_date\"][wrong_data_combined[i][0]] = 0\n"
     ]
    },
    {
     "name": "stdout",
     "output_type": "stream",
     "text": [
      "https://www.google.com/search?q=video game Exanimate Sea release date\n",
      "couldnt find it loser\n"
     ]
    },
    {
     "name": "stderr",
     "output_type": "stream",
     "text": [
      "C:\\Users\\Ahmed\\AppData\\Local\\Temp/ipykernel_14584/1763191433.py:137: SettingWithCopyWarning: \n",
      "A value is trying to be set on a copy of a slice from a DataFrame\n",
      "\n",
      "See the caveats in the documentation: https://pandas.pydata.org/pandas-docs/stable/user_guide/indexing.html#returning-a-view-versus-a-copy\n",
      "  df1[\"release_date\"][wrong_data_combined[i][0]] = 0\n"
     ]
    },
    {
     "name": "stdout",
     "output_type": "stream",
     "text": [
      "https://www.google.com/search?q=video game Iris Burning release date\n",
      "couldnt find it loser\n"
     ]
    },
    {
     "name": "stderr",
     "output_type": "stream",
     "text": [
      "C:\\Users\\Ahmed\\AppData\\Local\\Temp/ipykernel_14584/1763191433.py:137: SettingWithCopyWarning: \n",
      "A value is trying to be set on a copy of a slice from a DataFrame\n",
      "\n",
      "See the caveats in the documentation: https://pandas.pydata.org/pandas-docs/stable/user_guide/indexing.html#returning-a-view-versus-a-copy\n",
      "  df1[\"release_date\"][wrong_data_combined[i][0]] = 0\n"
     ]
    },
    {
     "name": "stdout",
     "output_type": "stream",
     "text": [
      "https://www.google.com/search?q=video game Bank Robbers by Impostered Legends release date\n",
      "couldnt find it loser\n"
     ]
    },
    {
     "name": "stderr",
     "output_type": "stream",
     "text": [
      "C:\\Users\\Ahmed\\AppData\\Local\\Temp/ipykernel_14584/1763191433.py:137: SettingWithCopyWarning: \n",
      "A value is trying to be set on a copy of a slice from a DataFrame\n",
      "\n",
      "See the caveats in the documentation: https://pandas.pydata.org/pandas-docs/stable/user_guide/indexing.html#returning-a-view-versus-a-copy\n",
      "  df1[\"release_date\"][wrong_data_combined[i][0]] = 0\n"
     ]
    },
    {
     "name": "stdout",
     "output_type": "stream",
     "text": [
      "https://www.google.com/search?q=video game Death of Rose release date\n",
      "couldnt find it loser\n"
     ]
    },
    {
     "name": "stderr",
     "output_type": "stream",
     "text": [
      "C:\\Users\\Ahmed\\AppData\\Local\\Temp/ipykernel_14584/1763191433.py:137: SettingWithCopyWarning: \n",
      "A value is trying to be set on a copy of a slice from a DataFrame\n",
      "\n",
      "See the caveats in the documentation: https://pandas.pydata.org/pandas-docs/stable/user_guide/indexing.html#returning-a-view-versus-a-copy\n",
      "  df1[\"release_date\"][wrong_data_combined[i][0]] = 0\n"
     ]
    },
    {
     "name": "stdout",
     "output_type": "stream",
     "text": [
      "https://www.google.com/search?q=video game Royal Poker release date\n",
      "couldnt find it loser\n"
     ]
    },
    {
     "name": "stderr",
     "output_type": "stream",
     "text": [
      "C:\\Users\\Ahmed\\AppData\\Local\\Temp/ipykernel_14584/1763191433.py:74: SettingWithCopyWarning: \n",
      "A value is trying to be set on a copy of a slice from a DataFrame\n",
      "\n",
      "See the caveats in the documentation: https://pandas.pydata.org/pandas-docs/stable/user_guide/indexing.html#returning-a-view-versus-a-copy\n",
      "  df1[\"release_date\"][game_index] = game_year\n"
     ]
    },
    {
     "name": "stdout",
     "output_type": "stream",
     "text": [
      "https://www.google.com/search?q=video game Draw Poker release date\n",
      "1982\n"
     ]
    },
    {
     "name": "stderr",
     "output_type": "stream",
     "text": [
      "C:\\Users\\Ahmed\\AppData\\Local\\Temp/ipykernel_14584/1763191433.py:137: SettingWithCopyWarning: \n",
      "A value is trying to be set on a copy of a slice from a DataFrame\n",
      "\n",
      "See the caveats in the documentation: https://pandas.pydata.org/pandas-docs/stable/user_guide/indexing.html#returning-a-view-versus-a-copy\n",
      "  df1[\"release_date\"][wrong_data_combined[i][0]] = 0\n"
     ]
    },
    {
     "name": "stdout",
     "output_type": "stream",
     "text": [
      "https://www.google.com/search?q=video game Le Grand Champs release date\n",
      "couldnt find it loser\n"
     ]
    },
    {
     "name": "stderr",
     "output_type": "stream",
     "text": [
      "C:\\Users\\Ahmed\\AppData\\Local\\Temp/ipykernel_14584/1763191433.py:137: SettingWithCopyWarning: \n",
      "A value is trying to be set on a copy of a slice from a DataFrame\n",
      "\n",
      "See the caveats in the documentation: https://pandas.pydata.org/pandas-docs/stable/user_guide/indexing.html#returning-a-view-versus-a-copy\n",
      "  df1[\"release_date\"][wrong_data_combined[i][0]] = 0\n"
     ]
    },
    {
     "name": "stdout",
     "output_type": "stream",
     "text": [
      "https://www.google.com/search?q=video game Spell It 2 release date\n",
      "couldnt find it loser\n"
     ]
    },
    {
     "name": "stderr",
     "output_type": "stream",
     "text": [
      "C:\\Users\\Ahmed\\AppData\\Local\\Temp/ipykernel_14584/1763191433.py:74: SettingWithCopyWarning: \n",
      "A value is trying to be set on a copy of a slice from a DataFrame\n",
      "\n",
      "See the caveats in the documentation: https://pandas.pydata.org/pandas-docs/stable/user_guide/indexing.html#returning-a-view-versus-a-copy\n",
      "  df1[\"release_date\"][game_index] = game_year\n"
     ]
    },
    {
     "name": "stdout",
     "output_type": "stream",
     "text": [
      "https://www.google.com/search?q=video game Murder Miners X release date\n",
      "2022\n"
     ]
    },
    {
     "name": "stderr",
     "output_type": "stream",
     "text": [
      "C:\\Users\\Ahmed\\AppData\\Local\\Temp/ipykernel_14584/1763191433.py:43: SettingWithCopyWarning: \n",
      "A value is trying to be set on a copy of a slice from a DataFrame\n",
      "\n",
      "See the caveats in the documentation: https://pandas.pydata.org/pandas-docs/stable/user_guide/indexing.html#returning-a-view-versus-a-copy\n",
      "  df1[\"release_date\"][game_index] = game_year\n"
     ]
    },
    {
     "name": "stdout",
     "output_type": "stream",
     "text": [
      "https://www.google.com/search?q=video game Mars Invaders release date\n",
      "1978\n"
     ]
    },
    {
     "name": "stderr",
     "output_type": "stream",
     "text": [
      "C:\\Users\\Ahmed\\AppData\\Local\\Temp/ipykernel_14584/1763191433.py:137: SettingWithCopyWarning: \n",
      "A value is trying to be set on a copy of a slice from a DataFrame\n",
      "\n",
      "See the caveats in the documentation: https://pandas.pydata.org/pandas-docs/stable/user_guide/indexing.html#returning-a-view-versus-a-copy\n",
      "  df1[\"release_date\"][wrong_data_combined[i][0]] = 0\n"
     ]
    },
    {
     "name": "stdout",
     "output_type": "stream",
     "text": [
      "https://www.google.com/search?q=video game Jacks a Pair release date\n",
      "couldnt find it loser\n"
     ]
    },
    {
     "name": "stderr",
     "output_type": "stream",
     "text": [
      "C:\\Users\\Ahmed\\AppData\\Local\\Temp/ipykernel_14584/1763191433.py:137: SettingWithCopyWarning: \n",
      "A value is trying to be set on a copy of a slice from a DataFrame\n",
      "\n",
      "See the caveats in the documentation: https://pandas.pydata.org/pandas-docs/stable/user_guide/indexing.html#returning-a-view-versus-a-copy\n",
      "  df1[\"release_date\"][wrong_data_combined[i][0]] = 0\n"
     ]
    },
    {
     "name": "stdout",
     "output_type": "stream",
     "text": [
      "https://www.google.com/search?q=video game Avtogonki release date\n",
      "couldnt find it loser\n"
     ]
    },
    {
     "name": "stderr",
     "output_type": "stream",
     "text": [
      "C:\\Users\\Ahmed\\AppData\\Local\\Temp/ipykernel_14584/1763191433.py:137: SettingWithCopyWarning: \n",
      "A value is trying to be set on a copy of a slice from a DataFrame\n",
      "\n",
      "See the caveats in the documentation: https://pandas.pydata.org/pandas-docs/stable/user_guide/indexing.html#returning-a-view-versus-a-copy\n",
      "  df1[\"release_date\"][wrong_data_combined[i][0]] = 0\n"
     ]
    },
    {
     "name": "stdout",
     "output_type": "stream",
     "text": [
      "https://www.google.com/search?q=video game Bao-Diversity release date\n",
      "couldnt find it loser\n"
     ]
    },
    {
     "name": "stderr",
     "output_type": "stream",
     "text": [
      "C:\\Users\\Ahmed\\AppData\\Local\\Temp/ipykernel_14584/1763191433.py:137: SettingWithCopyWarning: \n",
      "A value is trying to be set on a copy of a slice from a DataFrame\n",
      "\n",
      "See the caveats in the documentation: https://pandas.pydata.org/pandas-docs/stable/user_guide/indexing.html#returning-a-view-versus-a-copy\n",
      "  df1[\"release_date\"][wrong_data_combined[i][0]] = 0\n"
     ]
    },
    {
     "name": "stdout",
     "output_type": "stream",
     "text": [
      "https://www.google.com/search?q=video game U55: End of the Line release date\n",
      "couldnt find it loser\n"
     ]
    },
    {
     "name": "stderr",
     "output_type": "stream",
     "text": [
      "C:\\Users\\Ahmed\\AppData\\Local\\Temp/ipykernel_14584/1763191433.py:137: SettingWithCopyWarning: \n",
      "A value is trying to be set on a copy of a slice from a DataFrame\n",
      "\n",
      "See the caveats in the documentation: https://pandas.pydata.org/pandas-docs/stable/user_guide/indexing.html#returning-a-view-versus-a-copy\n",
      "  df1[\"release_date\"][wrong_data_combined[i][0]] = 0\n"
     ]
    },
    {
     "name": "stdout",
     "output_type": "stream",
     "text": [
      "https://www.google.com/search?q=video game Lucky 8 Lines release date\n",
      "couldnt find it loser\n"
     ]
    },
    {
     "name": "stderr",
     "output_type": "stream",
     "text": [
      "C:\\Users\\Ahmed\\AppData\\Local\\Temp/ipykernel_14584/1763191433.py:43: SettingWithCopyWarning: \n",
      "A value is trying to be set on a copy of a slice from a DataFrame\n",
      "\n",
      "See the caveats in the documentation: https://pandas.pydata.org/pandas-docs/stable/user_guide/indexing.html#returning-a-view-versus-a-copy\n",
      "  df1[\"release_date\"][game_index] = game_year\n"
     ]
    },
    {
     "name": "stdout",
     "output_type": "stream",
     "text": [
      "https://www.google.com/search?q=video game Hockey release date\n",
      "2022\n"
     ]
    },
    {
     "name": "stderr",
     "output_type": "stream",
     "text": [
      "C:\\Users\\Ahmed\\AppData\\Local\\Temp/ipykernel_14584/1763191433.py:137: SettingWithCopyWarning: \n",
      "A value is trying to be set on a copy of a slice from a DataFrame\n",
      "\n",
      "See the caveats in the documentation: https://pandas.pydata.org/pandas-docs/stable/user_guide/indexing.html#returning-a-view-versus-a-copy\n",
      "  df1[\"release_date\"][wrong_data_combined[i][0]] = 0\n"
     ]
    },
    {
     "name": "stdout",
     "output_type": "stream",
     "text": [
      "https://www.google.com/search?q=video game Dead Life Necrodevils release date\n",
      "couldnt find it loser\n"
     ]
    },
    {
     "name": "stderr",
     "output_type": "stream",
     "text": [
      "C:\\Users\\Ahmed\\AppData\\Local\\Temp/ipykernel_14584/1763191433.py:137: SettingWithCopyWarning: \n",
      "A value is trying to be set on a copy of a slice from a DataFrame\n",
      "\n",
      "See the caveats in the documentation: https://pandas.pydata.org/pandas-docs/stable/user_guide/indexing.html#returning-a-view-versus-a-copy\n",
      "  df1[\"release_date\"][wrong_data_combined[i][0]] = 0\n"
     ]
    },
    {
     "name": "stdout",
     "output_type": "stream",
     "text": [
      "https://www.google.com/search?q=video game Video Gold release date\n",
      "couldnt find it loser\n"
     ]
    },
    {
     "name": "stderr",
     "output_type": "stream",
     "text": [
      "C:\\Users\\Ahmed\\AppData\\Local\\Temp/ipykernel_14584/1763191433.py:137: SettingWithCopyWarning: \n",
      "A value is trying to be set on a copy of a slice from a DataFrame\n",
      "\n",
      "See the caveats in the documentation: https://pandas.pydata.org/pandas-docs/stable/user_guide/indexing.html#returning-a-view-versus-a-copy\n",
      "  df1[\"release_date\"][wrong_data_combined[i][0]] = 0\n"
     ]
    },
    {
     "name": "stdout",
     "output_type": "stream",
     "text": [
      "https://www.google.com/search?q=video game Kyle Rittenhouse's Turkey Shoot release date\n",
      "couldnt find it loser\n"
     ]
    },
    {
     "name": "stderr",
     "output_type": "stream",
     "text": [
      "C:\\Users\\Ahmed\\AppData\\Local\\Temp/ipykernel_14584/1763191433.py:137: SettingWithCopyWarning: \n",
      "A value is trying to be set on a copy of a slice from a DataFrame\n",
      "\n",
      "See the caveats in the documentation: https://pandas.pydata.org/pandas-docs/stable/user_guide/indexing.html#returning-a-view-versus-a-copy\n",
      "  df1[\"release_date\"][wrong_data_combined[i][0]] = 0\n"
     ]
    },
    {
     "name": "stdout",
     "output_type": "stream",
     "text": [
      "https://www.google.com/search?q=video game Bust My Balloons release date\n",
      "couldnt find it loser\n"
     ]
    },
    {
     "name": "stderr",
     "output_type": "stream",
     "text": [
      "C:\\Users\\Ahmed\\AppData\\Local\\Temp/ipykernel_14584/1763191433.py:74: SettingWithCopyWarning: \n",
      "A value is trying to be set on a copy of a slice from a DataFrame\n",
      "\n",
      "See the caveats in the documentation: https://pandas.pydata.org/pandas-docs/stable/user_guide/indexing.html#returning-a-view-versus-a-copy\n",
      "  df1[\"release_date\"][game_index] = game_year\n"
     ]
    },
    {
     "name": "stdout",
     "output_type": "stream",
     "text": [
      "https://www.google.com/search?q=video game Challenger in Between release date\n",
      "1986\n"
     ]
    },
    {
     "name": "stderr",
     "output_type": "stream",
     "text": [
      "C:\\Users\\Ahmed\\AppData\\Local\\Temp/ipykernel_14584/1763191433.py:43: SettingWithCopyWarning: \n",
      "A value is trying to be set on a copy of a slice from a DataFrame\n",
      "\n",
      "See the caveats in the documentation: https://pandas.pydata.org/pandas-docs/stable/user_guide/indexing.html#returning-a-view-versus-a-copy\n",
      "  df1[\"release_date\"][game_index] = game_year\n"
     ]
    },
    {
     "name": "stdout",
     "output_type": "stream",
     "text": [
      "https://www.google.com/search?q=video game Xero release date\n",
      "2019\n",
      "https://www.google.com/search?q=video game Star Attack release date\n",
      "1982\n"
     ]
    },
    {
     "name": "stderr",
     "output_type": "stream",
     "text": [
      "C:\\Users\\Ahmed\\AppData\\Local\\Temp/ipykernel_14584/1763191433.py:137: SettingWithCopyWarning: \n",
      "A value is trying to be set on a copy of a slice from a DataFrame\n",
      "\n",
      "See the caveats in the documentation: https://pandas.pydata.org/pandas-docs/stable/user_guide/indexing.html#returning-a-view-versus-a-copy\n",
      "  df1[\"release_date\"][wrong_data_combined[i][0]] = 0\n"
     ]
    },
    {
     "name": "stdout",
     "output_type": "stream",
     "text": [
      "https://www.google.com/search?q=video game Coreborn: Nations of the Ultracore release date\n",
      "couldnt find it loser\n"
     ]
    },
    {
     "name": "stderr",
     "output_type": "stream",
     "text": [
      "C:\\Users\\Ahmed\\AppData\\Local\\Temp/ipykernel_14584/1763191433.py:43: SettingWithCopyWarning: \n",
      "A value is trying to be set on a copy of a slice from a DataFrame\n",
      "\n",
      "See the caveats in the documentation: https://pandas.pydata.org/pandas-docs/stable/user_guide/indexing.html#returning-a-view-versus-a-copy\n",
      "  df1[\"release_date\"][game_index] = game_year\n"
     ]
    },
    {
     "name": "stdout",
     "output_type": "stream",
     "text": [
      "https://www.google.com/search?q=video game 3 Super 8 release date\n",
      "1983\n"
     ]
    },
    {
     "name": "stderr",
     "output_type": "stream",
     "text": [
      "C:\\Users\\Ahmed\\AppData\\Local\\Temp/ipykernel_14584/1763191433.py:137: SettingWithCopyWarning: \n",
      "A value is trying to be set on a copy of a slice from a DataFrame\n",
      "\n",
      "See the caveats in the documentation: https://pandas.pydata.org/pandas-docs/stable/user_guide/indexing.html#returning-a-view-versus-a-copy\n",
      "  df1[\"release_date\"][wrong_data_combined[i][0]] = 0\n"
     ]
    },
    {
     "name": "stdout",
     "output_type": "stream",
     "text": [
      "https://www.google.com/search?q=video game White Heaven release date\n",
      "couldnt find it loser\n"
     ]
    },
    {
     "name": "stderr",
     "output_type": "stream",
     "text": [
      "C:\\Users\\Ahmed\\AppData\\Local\\Temp/ipykernel_14584/1763191433.py:74: SettingWithCopyWarning: \n",
      "A value is trying to be set on a copy of a slice from a DataFrame\n",
      "\n",
      "See the caveats in the documentation: https://pandas.pydata.org/pandas-docs/stable/user_guide/indexing.html#returning-a-view-versus-a-copy\n",
      "  df1[\"release_date\"][game_index] = game_year\n"
     ]
    },
    {
     "name": "stdout",
     "output_type": "stream",
     "text": [
      "https://www.google.com/search?q=video game Altair II release date\n",
      "2022\n"
     ]
    },
    {
     "name": "stderr",
     "output_type": "stream",
     "text": [
      "C:\\Users\\Ahmed\\AppData\\Local\\Temp/ipykernel_14584/1763191433.py:137: SettingWithCopyWarning: \n",
      "A value is trying to be set on a copy of a slice from a DataFrame\n",
      "\n",
      "See the caveats in the documentation: https://pandas.pydata.org/pandas-docs/stable/user_guide/indexing.html#returning-a-view-versus-a-copy\n",
      "  df1[\"release_date\"][wrong_data_combined[i][0]] = 0\n"
     ]
    },
    {
     "name": "stdout",
     "output_type": "stream",
     "text": [
      "https://www.google.com/search?q=video game The Princess and the Paintbrush release date\n",
      "couldnt find it loser\n"
     ]
    },
    {
     "name": "stderr",
     "output_type": "stream",
     "text": [
      "C:\\Users\\Ahmed\\AppData\\Local\\Temp/ipykernel_14584/1763191433.py:137: SettingWithCopyWarning: \n",
      "A value is trying to be set on a copy of a slice from a DataFrame\n",
      "\n",
      "See the caveats in the documentation: https://pandas.pydata.org/pandas-docs/stable/user_guide/indexing.html#returning-a-view-versus-a-copy\n",
      "  df1[\"release_date\"][wrong_data_combined[i][0]] = 0\n"
     ]
    },
    {
     "name": "stdout",
     "output_type": "stream",
     "text": [
      "https://www.google.com/search?q=video game Table Tennis II release date\n",
      "couldnt find it loser\n"
     ]
    },
    {
     "name": "stderr",
     "output_type": "stream",
     "text": [
      "C:\\Users\\Ahmed\\AppData\\Local\\Temp/ipykernel_14584/1763191433.py:137: SettingWithCopyWarning: \n",
      "A value is trying to be set on a copy of a slice from a DataFrame\n",
      "\n",
      "See the caveats in the documentation: https://pandas.pydata.org/pandas-docs/stable/user_guide/indexing.html#returning-a-view-versus-a-copy\n",
      "  df1[\"release_date\"][wrong_data_combined[i][0]] = 0\n"
     ]
    },
    {
     "name": "stdout",
     "output_type": "stream",
     "text": [
      "https://www.google.com/search?q=video game Neolithic release date\n",
      "couldnt find it loser\n"
     ]
    },
    {
     "name": "stderr",
     "output_type": "stream",
     "text": [
      "C:\\Users\\Ahmed\\AppData\\Local\\Temp/ipykernel_14584/1763191433.py:137: SettingWithCopyWarning: \n",
      "A value is trying to be set on a copy of a slice from a DataFrame\n",
      "\n",
      "See the caveats in the documentation: https://pandas.pydata.org/pandas-docs/stable/user_guide/indexing.html#returning-a-view-versus-a-copy\n",
      "  df1[\"release_date\"][wrong_data_combined[i][0]] = 0\n"
     ]
    },
    {
     "name": "stdout",
     "output_type": "stream",
     "text": [
      "https://www.google.com/search?q=video game The Baptized release date\n",
      "couldnt find it loser\n"
     ]
    },
    {
     "name": "stderr",
     "output_type": "stream",
     "text": [
      "C:\\Users\\Ahmed\\AppData\\Local\\Temp/ipykernel_14584/1763191433.py:137: SettingWithCopyWarning: \n",
      "A value is trying to be set on a copy of a slice from a DataFrame\n",
      "\n",
      "See the caveats in the documentation: https://pandas.pydata.org/pandas-docs/stable/user_guide/indexing.html#returning-a-view-versus-a-copy\n",
      "  df1[\"release_date\"][wrong_data_combined[i][0]] = 0\n"
     ]
    },
    {
     "name": "stdout",
     "output_type": "stream",
     "text": [
      "https://www.google.com/search?q=video game Young Johnathon release date\n",
      "couldnt find it loser\n"
     ]
    },
    {
     "name": "stderr",
     "output_type": "stream",
     "text": [
      "C:\\Users\\Ahmed\\AppData\\Local\\Temp/ipykernel_14584/1763191433.py:137: SettingWithCopyWarning: \n",
      "A value is trying to be set on a copy of a slice from a DataFrame\n",
      "\n",
      "See the caveats in the documentation: https://pandas.pydata.org/pandas-docs/stable/user_guide/indexing.html#returning-a-view-versus-a-copy\n",
      "  df1[\"release_date\"][wrong_data_combined[i][0]] = 0\n"
     ]
    },
    {
     "name": "stdout",
     "output_type": "stream",
     "text": [
      "https://www.google.com/search?q=video game Wayward Rose release date\n",
      "couldnt find it loser\n"
     ]
    },
    {
     "name": "stderr",
     "output_type": "stream",
     "text": [
      "C:\\Users\\Ahmed\\AppData\\Local\\Temp/ipykernel_14584/1763191433.py:137: SettingWithCopyWarning: \n",
      "A value is trying to be set on a copy of a slice from a DataFrame\n",
      "\n",
      "See the caveats in the documentation: https://pandas.pydata.org/pandas-docs/stable/user_guide/indexing.html#returning-a-view-versus-a-copy\n",
      "  df1[\"release_date\"][wrong_data_combined[i][0]] = 0\n"
     ]
    },
    {
     "name": "stdout",
     "output_type": "stream",
     "text": [
      "https://www.google.com/search?q=video game Bump release date\n",
      "couldnt find it loser\n"
     ]
    },
    {
     "name": "stderr",
     "output_type": "stream",
     "text": [
      "C:\\Users\\Ahmed\\AppData\\Local\\Temp/ipykernel_14584/1763191433.py:137: SettingWithCopyWarning: \n",
      "A value is trying to be set on a copy of a slice from a DataFrame\n",
      "\n",
      "See the caveats in the documentation: https://pandas.pydata.org/pandas-docs/stable/user_guide/indexing.html#returning-a-view-versus-a-copy\n",
      "  df1[\"release_date\"][wrong_data_combined[i][0]] = 0\n"
     ]
    },
    {
     "name": "stdout",
     "output_type": "stream",
     "text": [
      "https://www.google.com/search?q=video game Triagat release date\n",
      "couldnt find it loser\n"
     ]
    },
    {
     "name": "stderr",
     "output_type": "stream",
     "text": [
      "C:\\Users\\Ahmed\\AppData\\Local\\Temp/ipykernel_14584/1763191433.py:137: SettingWithCopyWarning: \n",
      "A value is trying to be set on a copy of a slice from a DataFrame\n",
      "\n",
      "See the caveats in the documentation: https://pandas.pydata.org/pandas-docs/stable/user_guide/indexing.html#returning-a-view-versus-a-copy\n",
      "  df1[\"release_date\"][wrong_data_combined[i][0]] = 0\n"
     ]
    },
    {
     "name": "stdout",
     "output_type": "stream",
     "text": [
      "https://www.google.com/search?q=video game Adventure release date\n",
      "couldnt find it loser\n"
     ]
    },
    {
     "name": "stderr",
     "output_type": "stream",
     "text": [
      "C:\\Users\\Ahmed\\AppData\\Local\\Temp/ipykernel_14584/1763191433.py:43: SettingWithCopyWarning: \n",
      "A value is trying to be set on a copy of a slice from a DataFrame\n",
      "\n",
      "See the caveats in the documentation: https://pandas.pydata.org/pandas-docs/stable/user_guide/indexing.html#returning-a-view-versus-a-copy\n",
      "  df1[\"release_date\"][game_index] = game_year\n"
     ]
    },
    {
     "name": "stdout",
     "output_type": "stream",
     "text": [
      "https://www.google.com/search?q=video game The Conduit release date\n",
      "2009\n"
     ]
    },
    {
     "name": "stderr",
     "output_type": "stream",
     "text": [
      "C:\\Users\\Ahmed\\AppData\\Local\\Temp/ipykernel_14584/1763191433.py:74: SettingWithCopyWarning: \n",
      "A value is trying to be set on a copy of a slice from a DataFrame\n",
      "\n",
      "See the caveats in the documentation: https://pandas.pydata.org/pandas-docs/stable/user_guide/indexing.html#returning-a-view-versus-a-copy\n",
      "  df1[\"release_date\"][game_index] = game_year\n"
     ]
    },
    {
     "name": "stdout",
     "output_type": "stream",
     "text": [
      "https://www.google.com/search?q=video game Variety release date\n",
      "1970\n"
     ]
    },
    {
     "name": "stderr",
     "output_type": "stream",
     "text": [
      "C:\\Users\\Ahmed\\AppData\\Local\\Temp/ipykernel_14584/1763191433.py:137: SettingWithCopyWarning: \n",
      "A value is trying to be set on a copy of a slice from a DataFrame\n",
      "\n",
      "See the caveats in the documentation: https://pandas.pydata.org/pandas-docs/stable/user_guide/indexing.html#returning-a-view-versus-a-copy\n",
      "  df1[\"release_date\"][wrong_data_combined[i][0]] = 0\n"
     ]
    },
    {
     "name": "stdout",
     "output_type": "stream",
     "text": [
      "https://www.google.com/search?q=video game Peblo's Pixel Paradise release date\n",
      "couldnt find it loser\n"
     ]
    },
    {
     "name": "stderr",
     "output_type": "stream",
     "text": [
      "C:\\Users\\Ahmed\\AppData\\Local\\Temp/ipykernel_14584/1763191433.py:74: SettingWithCopyWarning: \n",
      "A value is trying to be set on a copy of a slice from a DataFrame\n",
      "\n",
      "See the caveats in the documentation: https://pandas.pydata.org/pandas-docs/stable/user_guide/indexing.html#returning-a-view-versus-a-copy\n",
      "  df1[\"release_date\"][game_index] = game_year\n"
     ]
    },
    {
     "name": "stdout",
     "output_type": "stream",
     "text": [
      "https://www.google.com/search?q=video game Connect 4 release date\n",
      "1979\n"
     ]
    },
    {
     "name": "stderr",
     "output_type": "stream",
     "text": [
      "C:\\Users\\Ahmed\\AppData\\Local\\Temp/ipykernel_14584/1763191433.py:137: SettingWithCopyWarning: \n",
      "A value is trying to be set on a copy of a slice from a DataFrame\n",
      "\n",
      "See the caveats in the documentation: https://pandas.pydata.org/pandas-docs/stable/user_guide/indexing.html#returning-a-view-versus-a-copy\n",
      "  df1[\"release_date\"][wrong_data_combined[i][0]] = 0\n"
     ]
    },
    {
     "name": "stdout",
     "output_type": "stream",
     "text": [
      "https://www.google.com/search?q=video game Cairo: Building Humanity release date\n",
      "couldnt find it loser\n"
     ]
    },
    {
     "name": "stderr",
     "output_type": "stream",
     "text": [
      "C:\\Users\\Ahmed\\AppData\\Local\\Temp/ipykernel_14584/1763191433.py:74: SettingWithCopyWarning: \n",
      "A value is trying to be set on a copy of a slice from a DataFrame\n",
      "\n",
      "See the caveats in the documentation: https://pandas.pydata.org/pandas-docs/stable/user_guide/indexing.html#returning-a-view-versus-a-copy\n",
      "  df1[\"release_date\"][game_index] = game_year\n"
     ]
    },
    {
     "name": "stdout",
     "output_type": "stream",
     "text": [
      "https://www.google.com/search?q=video game Crash release date\n",
      "1983\n"
     ]
    },
    {
     "name": "stderr",
     "output_type": "stream",
     "text": [
      "C:\\Users\\Ahmed\\AppData\\Local\\Temp/ipykernel_14584/1763191433.py:137: SettingWithCopyWarning: \n",
      "A value is trying to be set on a copy of a slice from a DataFrame\n",
      "\n",
      "See the caveats in the documentation: https://pandas.pydata.org/pandas-docs/stable/user_guide/indexing.html#returning-a-view-versus-a-copy\n",
      "  df1[\"release_date\"][wrong_data_combined[i][0]] = 0\n"
     ]
    },
    {
     "name": "stdout",
     "output_type": "stream",
     "text": [
      "https://www.google.com/search?q=video game Shadow Dreams: The Last Thought of Hope release date\n",
      "couldnt find it loser\n"
     ]
    },
    {
     "name": "stderr",
     "output_type": "stream",
     "text": [
      "C:\\Users\\Ahmed\\AppData\\Local\\Temp/ipykernel_14584/1763191433.py:74: SettingWithCopyWarning: \n",
      "A value is trying to be set on a copy of a slice from a DataFrame\n",
      "\n",
      "See the caveats in the documentation: https://pandas.pydata.org/pandas-docs/stable/user_guide/indexing.html#returning-a-view-versus-a-copy\n",
      "  df1[\"release_date\"][game_index] = game_year\n"
     ]
    },
    {
     "name": "stdout",
     "output_type": "stream",
     "text": [
      "https://www.google.com/search?q=video game Blink and Die release date\n",
      "2023\n"
     ]
    },
    {
     "name": "stderr",
     "output_type": "stream",
     "text": [
      "C:\\Users\\Ahmed\\AppData\\Local\\Temp/ipykernel_14584/1763191433.py:137: SettingWithCopyWarning: \n",
      "A value is trying to be set on a copy of a slice from a DataFrame\n",
      "\n",
      "See the caveats in the documentation: https://pandas.pydata.org/pandas-docs/stable/user_guide/indexing.html#returning-a-view-versus-a-copy\n",
      "  df1[\"release_date\"][wrong_data_combined[i][0]] = 0\n"
     ]
    },
    {
     "name": "stdout",
     "output_type": "stream",
     "text": [
      "https://www.google.com/search?q=video game Swapette release date\n",
      "couldnt find it loser\n"
     ]
    },
    {
     "name": "stderr",
     "output_type": "stream",
     "text": [
      "C:\\Users\\Ahmed\\AppData\\Local\\Temp/ipykernel_14584/1763191433.py:74: SettingWithCopyWarning: \n",
      "A value is trying to be set on a copy of a slice from a DataFrame\n",
      "\n",
      "See the caveats in the documentation: https://pandas.pydata.org/pandas-docs/stable/user_guide/indexing.html#returning-a-view-versus-a-copy\n",
      "  df1[\"release_date\"][game_index] = game_year\n"
     ]
    },
    {
     "name": "stdout",
     "output_type": "stream",
     "text": [
      "https://www.google.com/search?q=video game Raiders release date\n",
      "2023\n"
     ]
    },
    {
     "name": "stderr",
     "output_type": "stream",
     "text": [
      "C:\\Users\\Ahmed\\AppData\\Local\\Temp/ipykernel_14584/1763191433.py:137: SettingWithCopyWarning: \n",
      "A value is trying to be set on a copy of a slice from a DataFrame\n",
      "\n",
      "See the caveats in the documentation: https://pandas.pydata.org/pandas-docs/stable/user_guide/indexing.html#returning-a-view-versus-a-copy\n",
      "  df1[\"release_date\"][wrong_data_combined[i][0]] = 0\n"
     ]
    },
    {
     "name": "stdout",
     "output_type": "stream",
     "text": [
      "https://www.google.com/search?q=video game Uta no purinsusama: Dolce Vita release date\n",
      "couldnt find it loser\n"
     ]
    },
    {
     "name": "stderr",
     "output_type": "stream",
     "text": [
      "C:\\Users\\Ahmed\\AppData\\Local\\Temp/ipykernel_14584/1763191433.py:43: SettingWithCopyWarning: \n",
      "A value is trying to be set on a copy of a slice from a DataFrame\n",
      "\n",
      "See the caveats in the documentation: https://pandas.pydata.org/pandas-docs/stable/user_guide/indexing.html#returning-a-view-versus-a-copy\n",
      "  df1[\"release_date\"][game_index] = game_year\n"
     ]
    },
    {
     "name": "stdout",
     "output_type": "stream",
     "text": [
      "https://www.google.com/search?q=video game Mina the Hollower release date\n",
      "2023\n"
     ]
    },
    {
     "name": "stderr",
     "output_type": "stream",
     "text": [
      "C:\\Users\\Ahmed\\AppData\\Local\\Temp/ipykernel_14584/1763191433.py:137: SettingWithCopyWarning: \n",
      "A value is trying to be set on a copy of a slice from a DataFrame\n",
      "\n",
      "See the caveats in the documentation: https://pandas.pydata.org/pandas-docs/stable/user_guide/indexing.html#returning-a-view-versus-a-copy\n",
      "  df1[\"release_date\"][wrong_data_combined[i][0]] = 0\n"
     ]
    },
    {
     "name": "stdout",
     "output_type": "stream",
     "text": [
      "https://www.google.com/search?q=video game Neon Sword release date\n",
      "couldnt find it loser\n"
     ]
    },
    {
     "name": "stderr",
     "output_type": "stream",
     "text": [
      "C:\\Users\\Ahmed\\AppData\\Local\\Temp/ipykernel_14584/1763191433.py:137: SettingWithCopyWarning: \n",
      "A value is trying to be set on a copy of a slice from a DataFrame\n",
      "\n",
      "See the caveats in the documentation: https://pandas.pydata.org/pandas-docs/stable/user_guide/indexing.html#returning-a-view-versus-a-copy\n",
      "  df1[\"release_date\"][wrong_data_combined[i][0]] = 0\n"
     ]
    },
    {
     "name": "stdout",
     "output_type": "stream",
     "text": [
      "https://www.google.com/search?q=video game Black 21 Jack release date\n",
      "couldnt find it loser\n"
     ]
    },
    {
     "name": "stderr",
     "output_type": "stream",
     "text": [
      "C:\\Users\\Ahmed\\AppData\\Local\\Temp/ipykernel_14584/1763191433.py:74: SettingWithCopyWarning: \n",
      "A value is trying to be set on a copy of a slice from a DataFrame\n",
      "\n",
      "See the caveats in the documentation: https://pandas.pydata.org/pandas-docs/stable/user_guide/indexing.html#returning-a-view-versus-a-copy\n",
      "  df1[\"release_date\"][game_index] = game_year\n"
     ]
    },
    {
     "name": "stdout",
     "output_type": "stream",
     "text": [
      "https://www.google.com/search?q=video game One Way Road release date\n",
      "2023\n"
     ]
    },
    {
     "name": "stderr",
     "output_type": "stream",
     "text": [
      "C:\\Users\\Ahmed\\AppData\\Local\\Temp/ipykernel_14584/1763191433.py:137: SettingWithCopyWarning: \n",
      "A value is trying to be set on a copy of a slice from a DataFrame\n",
      "\n",
      "See the caveats in the documentation: https://pandas.pydata.org/pandas-docs/stable/user_guide/indexing.html#returning-a-view-versus-a-copy\n",
      "  df1[\"release_date\"][wrong_data_combined[i][0]] = 0\n"
     ]
    },
    {
     "name": "stdout",
     "output_type": "stream",
     "text": [
      "https://www.google.com/search?q=video game Androcks: Virtual Start Back release date\n",
      "couldnt find it loser\n"
     ]
    },
    {
     "name": "stderr",
     "output_type": "stream",
     "text": [
      "C:\\Users\\Ahmed\\AppData\\Local\\Temp/ipykernel_14584/1763191433.py:74: SettingWithCopyWarning: \n",
      "A value is trying to be set on a copy of a slice from a DataFrame\n",
      "\n",
      "See the caveats in the documentation: https://pandas.pydata.org/pandas-docs/stable/user_guide/indexing.html#returning-a-view-versus-a-copy\n",
      "  df1[\"release_date\"][game_index] = game_year\n"
     ]
    },
    {
     "name": "stdout",
     "output_type": "stream",
     "text": [
      "https://www.google.com/search?q=video game Moon Wars release date\n",
      "1999\n"
     ]
    },
    {
     "name": "stderr",
     "output_type": "stream",
     "text": [
      "C:\\Users\\Ahmed\\AppData\\Local\\Temp/ipykernel_14584/1763191433.py:137: SettingWithCopyWarning: \n",
      "A value is trying to be set on a copy of a slice from a DataFrame\n",
      "\n",
      "See the caveats in the documentation: https://pandas.pydata.org/pandas-docs/stable/user_guide/indexing.html#returning-a-view-versus-a-copy\n",
      "  df1[\"release_date\"][wrong_data_combined[i][0]] = 0\n"
     ]
    },
    {
     "name": "stdout",
     "output_type": "stream",
     "text": [
      "https://www.google.com/search?q=video game Agents of S.H.E.L.L. release date\n",
      "couldnt find it loser\n"
     ]
    },
    {
     "name": "stderr",
     "output_type": "stream",
     "text": [
      "C:\\Users\\Ahmed\\AppData\\Local\\Temp/ipykernel_14584/1763191433.py:137: SettingWithCopyWarning: \n",
      "A value is trying to be set on a copy of a slice from a DataFrame\n",
      "\n",
      "See the caveats in the documentation: https://pandas.pydata.org/pandas-docs/stable/user_guide/indexing.html#returning-a-view-versus-a-copy\n",
      "  df1[\"release_date\"][wrong_data_combined[i][0]] = 0\n"
     ]
    },
    {
     "name": "stdout",
     "output_type": "stream",
     "text": [
      "https://www.google.com/search?q=video game Speak Easy Draw Poker release date\n",
      "couldnt find it loser\n"
     ]
    },
    {
     "name": "stderr",
     "output_type": "stream",
     "text": [
      "C:\\Users\\Ahmed\\AppData\\Local\\Temp/ipykernel_14584/1763191433.py:74: SettingWithCopyWarning: \n",
      "A value is trying to be set on a copy of a slice from a DataFrame\n",
      "\n",
      "See the caveats in the documentation: https://pandas.pydata.org/pandas-docs/stable/user_guide/indexing.html#returning-a-view-versus-a-copy\n",
      "  df1[\"release_date\"][game_index] = game_year\n"
     ]
    },
    {
     "name": "stdout",
     "output_type": "stream",
     "text": [
      "https://www.google.com/search?q=video game Engine Defender release date\n",
      "2006\n"
     ]
    },
    {
     "name": "stderr",
     "output_type": "stream",
     "text": [
      "C:\\Users\\Ahmed\\AppData\\Local\\Temp/ipykernel_14584/1763191433.py:137: SettingWithCopyWarning: \n",
      "A value is trying to be set on a copy of a slice from a DataFrame\n",
      "\n",
      "See the caveats in the documentation: https://pandas.pydata.org/pandas-docs/stable/user_guide/indexing.html#returning-a-view-versus-a-copy\n",
      "  df1[\"release_date\"][wrong_data_combined[i][0]] = 0\n"
     ]
    },
    {
     "name": "stdout",
     "output_type": "stream",
     "text": [
      "https://www.google.com/search?q=video game The Alters release date\n",
      "couldnt find it loser\n"
     ]
    },
    {
     "name": "stderr",
     "output_type": "stream",
     "text": [
      "C:\\Users\\Ahmed\\AppData\\Local\\Temp/ipykernel_14584/1763191433.py:43: SettingWithCopyWarning: \n",
      "A value is trying to be set on a copy of a slice from a DataFrame\n",
      "\n",
      "See the caveats in the documentation: https://pandas.pydata.org/pandas-docs/stable/user_guide/indexing.html#returning-a-view-versus-a-copy\n",
      "  df1[\"release_date\"][game_index] = game_year\n"
     ]
    },
    {
     "name": "stdout",
     "output_type": "stream",
     "text": [
      "https://www.google.com/search?q=video game Space Wars release date\n",
      "1962\n"
     ]
    },
    {
     "name": "stderr",
     "output_type": "stream",
     "text": [
      "C:\\Users\\Ahmed\\AppData\\Local\\Temp/ipykernel_14584/1763191433.py:137: SettingWithCopyWarning: \n",
      "A value is trying to be set on a copy of a slice from a DataFrame\n",
      "\n",
      "See the caveats in the documentation: https://pandas.pydata.org/pandas-docs/stable/user_guide/indexing.html#returning-a-view-versus-a-copy\n",
      "  df1[\"release_date\"][wrong_data_combined[i][0]] = 0\n"
     ]
    },
    {
     "name": "stdout",
     "output_type": "stream",
     "text": [
      "https://www.google.com/search?q=video game June Funkin release date\n",
      "couldnt find it loser\n"
     ]
    },
    {
     "name": "stderr",
     "output_type": "stream",
     "text": [
      "C:\\Users\\Ahmed\\AppData\\Local\\Temp/ipykernel_14584/1763191433.py:137: SettingWithCopyWarning: \n",
      "A value is trying to be set on a copy of a slice from a DataFrame\n",
      "\n",
      "See the caveats in the documentation: https://pandas.pydata.org/pandas-docs/stable/user_guide/indexing.html#returning-a-view-versus-a-copy\n",
      "  df1[\"release_date\"][wrong_data_combined[i][0]] = 0\n"
     ]
    },
    {
     "name": "stdout",
     "output_type": "stream",
     "text": [
      "https://www.google.com/search?q=video game Knock-Ball release date\n",
      "couldnt find it loser\n"
     ]
    },
    {
     "name": "stderr",
     "output_type": "stream",
     "text": [
      "C:\\Users\\Ahmed\\AppData\\Local\\Temp/ipykernel_14584/1763191433.py:74: SettingWithCopyWarning: \n",
      "A value is trying to be set on a copy of a slice from a DataFrame\n",
      "\n",
      "See the caveats in the documentation: https://pandas.pydata.org/pandas-docs/stable/user_guide/indexing.html#returning-a-view-versus-a-copy\n",
      "  df1[\"release_date\"][game_index] = game_year\n"
     ]
    },
    {
     "name": "stdout",
     "output_type": "stream",
     "text": [
      "https://www.google.com/search?q=video game Anxious release date\n",
      "2021\n"
     ]
    },
    {
     "name": "stderr",
     "output_type": "stream",
     "text": [
      "C:\\Users\\Ahmed\\AppData\\Local\\Temp/ipykernel_14584/1763191433.py:137: SettingWithCopyWarning: \n",
      "A value is trying to be set on a copy of a slice from a DataFrame\n",
      "\n",
      "See the caveats in the documentation: https://pandas.pydata.org/pandas-docs/stable/user_guide/indexing.html#returning-a-view-versus-a-copy\n",
      "  df1[\"release_date\"][wrong_data_combined[i][0]] = 0\n"
     ]
    },
    {
     "name": "stdout",
     "output_type": "stream",
     "text": [
      "https://www.google.com/search?q=video game Jayanta Ghadei release date\n",
      "couldnt find it loser\n"
     ]
    },
    {
     "name": "stderr",
     "output_type": "stream",
     "text": [
      "C:\\Users\\Ahmed\\AppData\\Local\\Temp/ipykernel_14584/1763191433.py:74: SettingWithCopyWarning: \n",
      "A value is trying to be set on a copy of a slice from a DataFrame\n",
      "\n",
      "See the caveats in the documentation: https://pandas.pydata.org/pandas-docs/stable/user_guide/indexing.html#returning-a-view-versus-a-copy\n",
      "  df1[\"release_date\"][game_index] = game_year\n"
     ]
    },
    {
     "name": "stdout",
     "output_type": "stream",
     "text": [
      "https://www.google.com/search?q=video game Dirty Wars: September 11 release date\n",
      "2023\n"
     ]
    },
    {
     "name": "stderr",
     "output_type": "stream",
     "text": [
      "C:\\Users\\Ahmed\\AppData\\Local\\Temp/ipykernel_14584/1763191433.py:137: SettingWithCopyWarning: \n",
      "A value is trying to be set on a copy of a slice from a DataFrame\n",
      "\n",
      "See the caveats in the documentation: https://pandas.pydata.org/pandas-docs/stable/user_guide/indexing.html#returning-a-view-versus-a-copy\n",
      "  df1[\"release_date\"][wrong_data_combined[i][0]] = 0\n"
     ]
    },
    {
     "name": "stdout",
     "output_type": "stream",
     "text": [
      "https://www.google.com/search?q=video game In Lukewarm Blood release date\n",
      "couldnt find it loser\n"
     ]
    },
    {
     "name": "stderr",
     "output_type": "stream",
     "text": [
      "C:\\Users\\Ahmed\\AppData\\Local\\Temp/ipykernel_14584/1763191433.py:137: SettingWithCopyWarning: \n",
      "A value is trying to be set on a copy of a slice from a DataFrame\n",
      "\n",
      "See the caveats in the documentation: https://pandas.pydata.org/pandas-docs/stable/user_guide/indexing.html#returning-a-view-versus-a-copy\n",
      "  df1[\"release_date\"][wrong_data_combined[i][0]] = 0\n"
     ]
    },
    {
     "name": "stdout",
     "output_type": "stream",
     "text": [
      "https://www.google.com/search?q=video game The Louisa Williamson Hutchison Collection: ULV Cultural & Natural History Collections release date\n",
      "couldnt find it loser\n"
     ]
    },
    {
     "name": "stderr",
     "output_type": "stream",
     "text": [
      "C:\\Users\\Ahmed\\AppData\\Local\\Temp/ipykernel_14584/1763191433.py:137: SettingWithCopyWarning: \n",
      "A value is trying to be set on a copy of a slice from a DataFrame\n",
      "\n",
      "See the caveats in the documentation: https://pandas.pydata.org/pandas-docs/stable/user_guide/indexing.html#returning-a-view-versus-a-copy\n",
      "  df1[\"release_date\"][wrong_data_combined[i][0]] = 0\n"
     ]
    },
    {
     "name": "stdout",
     "output_type": "stream",
     "text": [
      "https://www.google.com/search?q=video game Prisionero de Oubliette (Realidad Virtual) release date\n",
      "couldnt find it loser\n"
     ]
    },
    {
     "name": "stderr",
     "output_type": "stream",
     "text": [
      "C:\\Users\\Ahmed\\AppData\\Local\\Temp/ipykernel_14584/1763191433.py:74: SettingWithCopyWarning: \n",
      "A value is trying to be set on a copy of a slice from a DataFrame\n",
      "\n",
      "See the caveats in the documentation: https://pandas.pydata.org/pandas-docs/stable/user_guide/indexing.html#returning-a-view-versus-a-copy\n",
      "  df1[\"release_date\"][game_index] = game_year\n"
     ]
    },
    {
     "name": "stdout",
     "output_type": "stream",
     "text": [
      "https://www.google.com/search?q=video game SimpliZoo release date\n",
      "2022\n"
     ]
    },
    {
     "name": "stderr",
     "output_type": "stream",
     "text": [
      "C:\\Users\\Ahmed\\AppData\\Local\\Temp/ipykernel_14584/1763191433.py:137: SettingWithCopyWarning: \n",
      "A value is trying to be set on a copy of a slice from a DataFrame\n",
      "\n",
      "See the caveats in the documentation: https://pandas.pydata.org/pandas-docs/stable/user_guide/indexing.html#returning-a-view-versus-a-copy\n",
      "  df1[\"release_date\"][wrong_data_combined[i][0]] = 0\n"
     ]
    },
    {
     "name": "stdout",
     "output_type": "stream",
     "text": [
      "https://www.google.com/search?q=video game Dead on Arrival release date\n",
      "couldnt find it loser\n"
     ]
    },
    {
     "name": "stderr",
     "output_type": "stream",
     "text": [
      "C:\\Users\\Ahmed\\AppData\\Local\\Temp/ipykernel_14584/1763191433.py:137: SettingWithCopyWarning: \n",
      "A value is trying to be set on a copy of a slice from a DataFrame\n",
      "\n",
      "See the caveats in the documentation: https://pandas.pydata.org/pandas-docs/stable/user_guide/indexing.html#returning-a-view-versus-a-copy\n",
      "  df1[\"release_date\"][wrong_data_combined[i][0]] = 0\n"
     ]
    },
    {
     "name": "stdout",
     "output_type": "stream",
     "text": [
      "https://www.google.com/search?q=video game Jacks or Better release date\n",
      "couldnt find it loser\n"
     ]
    },
    {
     "name": "stderr",
     "output_type": "stream",
     "text": [
      "C:\\Users\\Ahmed\\AppData\\Local\\Temp/ipykernel_14584/1763191433.py:43: SettingWithCopyWarning: \n",
      "A value is trying to be set on a copy of a slice from a DataFrame\n",
      "\n",
      "See the caveats in the documentation: https://pandas.pydata.org/pandas-docs/stable/user_guide/indexing.html#returning-a-view-versus-a-copy\n",
      "  df1[\"release_date\"][game_index] = game_year\n"
     ]
    },
    {
     "name": "stdout",
     "output_type": "stream",
     "text": [
      "https://www.google.com/search?q=video game The Crimes of New York City release date\n",
      "2005\n"
     ]
    },
    {
     "name": "stderr",
     "output_type": "stream",
     "text": [
      "C:\\Users\\Ahmed\\AppData\\Local\\Temp/ipykernel_14584/1763191433.py:137: SettingWithCopyWarning: \n",
      "A value is trying to be set on a copy of a slice from a DataFrame\n",
      "\n",
      "See the caveats in the documentation: https://pandas.pydata.org/pandas-docs/stable/user_guide/indexing.html#returning-a-view-versus-a-copy\n",
      "  df1[\"release_date\"][wrong_data_combined[i][0]] = 0\n"
     ]
    },
    {
     "name": "stdout",
     "output_type": "stream",
     "text": [
      "https://www.google.com/search?q=video game The Chase release date\n",
      "couldnt find it loser\n"
     ]
    },
    {
     "name": "stderr",
     "output_type": "stream",
     "text": [
      "C:\\Users\\Ahmed\\AppData\\Local\\Temp/ipykernel_14584/1763191433.py:43: SettingWithCopyWarning: \n",
      "A value is trying to be set on a copy of a slice from a DataFrame\n",
      "\n",
      "See the caveats in the documentation: https://pandas.pydata.org/pandas-docs/stable/user_guide/indexing.html#returning-a-view-versus-a-copy\n",
      "  df1[\"release_date\"][game_index] = game_year\n"
     ]
    },
    {
     "name": "stdout",
     "output_type": "stream",
     "text": [
      "https://www.google.com/search?q=video game Ion release date\n",
      "2019\n"
     ]
    },
    {
     "name": "stderr",
     "output_type": "stream",
     "text": [
      "C:\\Users\\Ahmed\\AppData\\Local\\Temp/ipykernel_14584/1763191433.py:137: SettingWithCopyWarning: \n",
      "A value is trying to be set on a copy of a slice from a DataFrame\n",
      "\n",
      "See the caveats in the documentation: https://pandas.pydata.org/pandas-docs/stable/user_guide/indexing.html#returning-a-view-versus-a-copy\n",
      "  df1[\"release_date\"][wrong_data_combined[i][0]] = 0\n"
     ]
    },
    {
     "name": "stdout",
     "output_type": "stream",
     "text": [
      "https://www.google.com/search?q=video game Never Say Die release date\n",
      "couldnt find it loser\n",
      "https://www.google.com/search?q=video game Devil's Liminal release date\n",
      "2023\n",
      "DONE\n"
     ]
    },
    {
     "name": "stderr",
     "output_type": "stream",
     "text": [
      "C:\\Users\\Ahmed\\AppData\\Local\\Temp/ipykernel_14584/1763191433.py:74: SettingWithCopyWarning: \n",
      "A value is trying to be set on a copy of a slice from a DataFrame\n",
      "\n",
      "See the caveats in the documentation: https://pandas.pydata.org/pandas-docs/stable/user_guide/indexing.html#returning-a-view-versus-a-copy\n",
      "  df1[\"release_date\"][game_index] = game_year\n"
     ]
    }
   ],
   "source": [
    "d = {}\n",
    "\n",
    "for i in range(len(df1[\"title\"].loc[df1[\"release_date\"] == 0])):\n",
    "    game_name = wrong_data_combined[i][1]\n",
    "    searchterm = f\"video game {game_name} release date\" # edit me\n",
    "\n",
    "    url = r\"https://www.google.com/search?q=\" + searchterm #will put what I want to search after q=\n",
    "    driver = webdriver.Chrome()\n",
    "    driver.get(url)\n",
    "    content = driver.page_source.encode('utf-8').strip()\n",
    "    soup = BeautifulSoup(content,\"html.parser\")\n",
    "    \n",
    "    #will explain its use downwards \n",
    "    game_index = wrong_data_combined[i][0]\n",
    "    \n",
    "    try:\n",
    "        # 1) if full date is available as Big Header, need to separate year from the rest\n",
    "        unfiltered_game_year = soup.find(\"div\", class_=\"Z0LcW\").text.strip()\n",
    "        unfiltered_years_list = re.findall('\\d+', unfiltered_game_year)\n",
    "\n",
    "        #changes the values inside list into integers\n",
    "        for i in range(len(unfiltered_years_list)):\n",
    "            unfiltered_years_list[i] = int(unfiltered_years_list[i])\n",
    "\n",
    "        #filters numbers between 1930 and 2025\n",
    "        for i in range(10):\n",
    "            for j in unfiltered_years_list:\n",
    "                if j < 1930 or j >= 2025:\n",
    "                    unfiltered_years_list.remove(j)\n",
    "        game_year = max(unfiltered_years_list)\n",
    "        \n",
    "        #use game index to put in dictionary with the date found from scraping, this is so we can replace the new date in df1\n",
    "        #for whatever reason it seems that i can only replace the data of the row if i do it manually or if it is in a dictionary, having it in an array doesn't work\n",
    "        d[game_index] = game_year\n",
    "        \n",
    "        #gets last key in dictionary (which is the index of the game in our case)\n",
    "        game_index = next(reversed(d.keys()))\n",
    "        game_index = int(game_index)\n",
    "        \n",
    "        df1[\"release_date\"][game_index] = game_year\n",
    "        \n",
    "        print(url)\n",
    "        print(game_year)\n",
    "    \n",
    "    except:\n",
    "        # 2) if there is alot of text in Big Header\n",
    "        try:\n",
    "            unfiltered_game_year = soup.find(\"div\", class_=\"wDYxhc\").text.strip()\n",
    "            unfiltered_years_list = re.findall('\\d+', unfiltered_game_year)\n",
    "\n",
    "            #changes the values inside list into integers\n",
    "            for i in range(len(unfiltered_years_list)):\n",
    "                unfiltered_years_list[i] = int(unfiltered_years_list[i])\n",
    "\n",
    "            #filters numbers between 1930 and 2025\n",
    "            for i in range(10):\n",
    "                for j in unfiltered_years_list:\n",
    "                    if j < 1930 or j >= 2025:\n",
    "                        unfiltered_years_list.remove(j)\n",
    "            game_year = max(unfiltered_years_list)\n",
    "            \n",
    "            #use game index to put in dictionary with the date found from scraping, this is so we can replace the new date in df\n",
    "            #for whatever reason it seems that i can only replace the data of the row if i do it manually or if it is in a dictionary, having it in an array doesn't work\n",
    "            d[game_index] = game_year\n",
    "\n",
    "            #gets last key in dictionary (which is the index of the game in our case)\n",
    "            game_index = next(reversed(d.keys()))\n",
    "            game_index = int(game_index)\n",
    "            \n",
    "\n",
    "            df1[\"release_date\"][game_index] = game_year\n",
    "            \n",
    "            \n",
    "            print(url)\n",
    "            print(game_year)\n",
    "        \n",
    "        except:  \n",
    "            # 3) if there is text and then a table under it, select both and search for date in both\n",
    "            try:\n",
    "                all_text = soup.find(\"div\", class_=\"Crs1tb\").text.strip()\n",
    "                unfiltered_years_list = re.findall('\\d+', all_text)\n",
    "                for i in range(len(unfiltered_years_list)):\n",
    "                    unfiltered_years_list[i] = int(unfiltered_years_list[i])\n",
    "\n",
    "                # filters numbers between 1930 and 2025\n",
    "                for i in range(10):\n",
    "                    for j in unfiltered_years_list:\n",
    "                        if j < 1930 or j >= 2025:\n",
    "                            unfiltered_years_list.remove(j)\n",
    "                game_year = max(unfiltered_years_list)\n",
    "                \n",
    "                #use game index to put in dictionary with the date found from scraping, this is so we can replace the new date in df\n",
    "                #for whatever reason it seems that i can only replace the data of the row if i do it manually or if it is in a dictionary, having it in an array doesn't work\n",
    "                d[game_index] = game_year\n",
    "\n",
    "                #gets last key in dictionary (which is the index of the game in our case)\n",
    "                game_index = next(reversed(d.keys()))\n",
    "                game_index = int(game_index)\n",
    "\n",
    "                df1[\"release_date\"][game_index] = game_year                \n",
    "\n",
    "                print(url)\n",
    "                print(game_year)\n",
    "\n",
    "            except:\n",
    "                try:\n",
    "                    # 4) if there is a big table different style from top \n",
    "                    all_text = soup.find(\"div\", class_=\"EDblX\").text.strip()\n",
    "                    unfiltered_years_list = re.findall('\\d+', all_text)\n",
    "                    for i in range(len(unfiltered_years_list)):\n",
    "                        unfiltered_years_list[i] = int(unfiltered_years_list[i])\n",
    "\n",
    "                    for i in range(10):\n",
    "                        for j in unfiltered_years_list:\n",
    "                            if j < 1930 or j >= 2025:\n",
    "                                unfiltered_years_list.remove(j)\n",
    "                    game_year = max(unfiltered_years_list)\n",
    "                    \n",
    "                    #use game index to put in dictionary with the date found from scraping, this is so we can replace the new date in df\n",
    "                    #for whatever reason it seems that i can only replace the data of the row if i do it manually or if it is in a dictionary, having it in an array doesn't work\n",
    "                    d[game_index] = game_year\n",
    "\n",
    "                    #gets last key in dictionary (which is the index of the game in our case)\n",
    "                    game_index = next(reversed(d.keys()))\n",
    "                    game_index = int(game_index)\n",
    "\n",
    "                    df1[\"release_date\"][game_index] = game_year  \n",
    "                    \n",
    "                    print(url)\n",
    "                    print(game_year)\n",
    "\n",
    "                except:\n",
    "                    #last resort, sets unfound data as 0\n",
    "                    df1[\"release_date\"][wrong_data_combined[i][0]] = 0\n",
    "                    \n",
    "                    print(url)\n",
    "                    print(\"couldnt find it loser\")\n",
    "\n",
    "        \n",
    "print(\"DONE\")"
   ]
  },
  {
   "cell_type": "code",
   "execution_count": 100,
   "id": "e5ae6c12",
   "metadata": {},
   "outputs": [],
   "source": [
    "#Save CSV after release date cleaning \n",
    "df1.to_csv('CSVs/3) releaseDateCleaned.csv', index=False)"
   ]
  },
  {
   "cell_type": "code",
   "execution_count": 101,
   "id": "8a63ddc5",
   "metadata": {},
   "outputs": [
    {
     "data": {
      "text/html": [
       "<div>\n",
       "<style scoped>\n",
       "    .dataframe tbody tr th:only-of-type {\n",
       "        vertical-align: middle;\n",
       "    }\n",
       "\n",
       "    .dataframe tbody tr th {\n",
       "        vertical-align: top;\n",
       "    }\n",
       "\n",
       "    .dataframe thead th {\n",
       "        text-align: right;\n",
       "    }\n",
       "</style>\n",
       "<table border=\"1\" class=\"dataframe\">\n",
       "  <thead>\n",
       "    <tr style=\"text-align: right;\">\n",
       "      <th></th>\n",
       "      <th>title</th>\n",
       "      <th>release_date</th>\n",
       "      <th>maturity_rating</th>\n",
       "      <th>genre</th>\n",
       "      <th>rating</th>\n",
       "      <th>directors</th>\n",
       "      <th>stars</th>\n",
       "      <th>votes</th>\n",
       "    </tr>\n",
       "  </thead>\n",
       "  <tbody>\n",
       "    <tr>\n",
       "      <th>0</th>\n",
       "      <td>The Witcher 3: Wild Hunt - Blood and Wine</td>\n",
       "      <td>2016</td>\n",
       "      <td>M</td>\n",
       "      <td>['Action' ' Adventure' ' Drama']</td>\n",
       "      <td>9.8</td>\n",
       "      <td>['Konrad Tomaszkiewicz']</td>\n",
       "      <td>['Doug Cockle' ' MyAnna Buring' ' Antonia Bern...</td>\n",
       "      <td>8795</td>\n",
       "    </tr>\n",
       "    <tr>\n",
       "      <th>1</th>\n",
       "      <td>The Last of Us</td>\n",
       "      <td>2013</td>\n",
       "      <td>M</td>\n",
       "      <td>['Action' ' Adventure' ' Drama']</td>\n",
       "      <td>9.7</td>\n",
       "      <td>['Neil Druckmann' ' Bruce Straley']</td>\n",
       "      <td>['Troy Baker' ' Ashley Johnson' ' Hana Hayes' ...</td>\n",
       "      <td>69017</td>\n",
       "    </tr>\n",
       "    <tr>\n",
       "      <th>2</th>\n",
       "      <td>God of War: Ragnarök</td>\n",
       "      <td>2022</td>\n",
       "      <td>M</td>\n",
       "      <td>['Action' ' Adventure' ' Drama']</td>\n",
       "      <td>9.7</td>\n",
       "      <td>['Eric Williams']</td>\n",
       "      <td>['Christopher Judge' ' Sunny Suljic' ' Daniell...</td>\n",
       "      <td>11569</td>\n",
       "    </tr>\n",
       "    <tr>\n",
       "      <th>3</th>\n",
       "      <td>Red Dead Redemption II</td>\n",
       "      <td>2018</td>\n",
       "      <td>M</td>\n",
       "      <td>['Action' ' Adventure' ' Crime']</td>\n",
       "      <td>9.7</td>\n",
       "      <td>NaN</td>\n",
       "      <td>['Benjamin Byron Davis' ' Roger Clark' ' Rob W...</td>\n",
       "      <td>42853</td>\n",
       "    </tr>\n",
       "    <tr>\n",
       "      <th>4</th>\n",
       "      <td>The Witcher 3: Wild Hunt</td>\n",
       "      <td>2015</td>\n",
       "      <td>M</td>\n",
       "      <td>['Action' ' Adventure' ' Drama']</td>\n",
       "      <td>9.7</td>\n",
       "      <td>['Konrad Tomaszkiewicz']</td>\n",
       "      <td>['Doug Cockle' ' Denise Gough' ' Jo Wyatt' ' J...</td>\n",
       "      <td>29120</td>\n",
       "    </tr>\n",
       "    <tr>\n",
       "      <th>...</th>\n",
       "      <td>...</td>\n",
       "      <td>...</td>\n",
       "      <td>...</td>\n",
       "      <td>...</td>\n",
       "      <td>...</td>\n",
       "      <td>...</td>\n",
       "      <td>...</td>\n",
       "      <td>...</td>\n",
       "    </tr>\n",
       "    <tr>\n",
       "      <th>33504</th>\n",
       "      <td>Through the Winter</td>\n",
       "      <td>2023</td>\n",
       "      <td>NaN</td>\n",
       "      <td>NaN</td>\n",
       "      <td>0.0</td>\n",
       "      <td>['Michael Smith']</td>\n",
       "      <td>['Rita Amparita' ' Hannah Beard' ' Xander M Gr...</td>\n",
       "      <td>0</td>\n",
       "    </tr>\n",
       "    <tr>\n",
       "      <th>33505</th>\n",
       "      <td>Atari 50: The Anniversary Celebration</td>\n",
       "      <td>2022</td>\n",
       "      <td>NaN</td>\n",
       "      <td>['Documentary' ' Action' ' Adventure']</td>\n",
       "      <td>0.0</td>\n",
       "      <td>NaN</td>\n",
       "      <td>['Al Alcorn' ' Nolan Bushnell' ' David Crane']</td>\n",
       "      <td>0</td>\n",
       "    </tr>\n",
       "    <tr>\n",
       "      <th>33506</th>\n",
       "      <td>Yars Revenge Enhanced</td>\n",
       "      <td>2022</td>\n",
       "      <td>NaN</td>\n",
       "      <td>['Action' ' Fantasy' ' Sci-Fi']</td>\n",
       "      <td>0.0</td>\n",
       "      <td>NaN</td>\n",
       "      <td>NaN</td>\n",
       "      <td>0</td>\n",
       "    </tr>\n",
       "    <tr>\n",
       "      <th>33507</th>\n",
       "      <td>Our Summers</td>\n",
       "      <td>2022</td>\n",
       "      <td>NaN</td>\n",
       "      <td>Romance</td>\n",
       "      <td>0.0</td>\n",
       "      <td>['Wavi']</td>\n",
       "      <td>['Reece Bridger']</td>\n",
       "      <td>0</td>\n",
       "    </tr>\n",
       "    <tr>\n",
       "      <th>33508</th>\n",
       "      <td>The Banana Splits: Serial Silliness</td>\n",
       "      <td>2021</td>\n",
       "      <td>NaN</td>\n",
       "      <td>Horror</td>\n",
       "      <td>0.0</td>\n",
       "      <td>['Fazie Funbear']</td>\n",
       "      <td>['Addy T. Baddy' ' Ross K. Foad' ' Peachy Prin...</td>\n",
       "      <td>0</td>\n",
       "    </tr>\n",
       "  </tbody>\n",
       "</table>\n",
       "<p>33509 rows × 8 columns</p>\n",
       "</div>"
      ],
      "text/plain": [
       "                                           title  release_date  \\\n",
       "0      The Witcher 3: Wild Hunt - Blood and Wine          2016   \n",
       "1                                 The Last of Us          2013   \n",
       "2                           God of War: Ragnarök          2022   \n",
       "3                         Red Dead Redemption II          2018   \n",
       "4                       The Witcher 3: Wild Hunt          2015   \n",
       "...                                          ...           ...   \n",
       "33504                         Through the Winter          2023   \n",
       "33505      Atari 50: The Anniversary Celebration          2022   \n",
       "33506                      Yars Revenge Enhanced          2022   \n",
       "33507                                Our Summers          2022   \n",
       "33508        The Banana Splits: Serial Silliness          2021   \n",
       "\n",
       "      maturity_rating                                   genre  rating  \\\n",
       "0                   M        ['Action' ' Adventure' ' Drama']     9.8   \n",
       "1                   M        ['Action' ' Adventure' ' Drama']     9.7   \n",
       "2                   M        ['Action' ' Adventure' ' Drama']     9.7   \n",
       "3                   M        ['Action' ' Adventure' ' Crime']     9.7   \n",
       "4                   M        ['Action' ' Adventure' ' Drama']     9.7   \n",
       "...               ...                                     ...     ...   \n",
       "33504             NaN                                     NaN     0.0   \n",
       "33505             NaN  ['Documentary' ' Action' ' Adventure']     0.0   \n",
       "33506             NaN         ['Action' ' Fantasy' ' Sci-Fi']     0.0   \n",
       "33507             NaN                                 Romance     0.0   \n",
       "33508             NaN                                  Horror     0.0   \n",
       "\n",
       "                                 directors  \\\n",
       "0                 ['Konrad Tomaszkiewicz']   \n",
       "1      ['Neil Druckmann' ' Bruce Straley']   \n",
       "2                        ['Eric Williams']   \n",
       "3                                      NaN   \n",
       "4                 ['Konrad Tomaszkiewicz']   \n",
       "...                                    ...   \n",
       "33504                    ['Michael Smith']   \n",
       "33505                                  NaN   \n",
       "33506                                  NaN   \n",
       "33507                             ['Wavi']   \n",
       "33508                    ['Fazie Funbear']   \n",
       "\n",
       "                                                   stars  votes  \n",
       "0      ['Doug Cockle' ' MyAnna Buring' ' Antonia Bern...   8795  \n",
       "1      ['Troy Baker' ' Ashley Johnson' ' Hana Hayes' ...  69017  \n",
       "2      ['Christopher Judge' ' Sunny Suljic' ' Daniell...  11569  \n",
       "3      ['Benjamin Byron Davis' ' Roger Clark' ' Rob W...  42853  \n",
       "4      ['Doug Cockle' ' Denise Gough' ' Jo Wyatt' ' J...  29120  \n",
       "...                                                  ...    ...  \n",
       "33504  ['Rita Amparita' ' Hannah Beard' ' Xander M Gr...      0  \n",
       "33505     ['Al Alcorn' ' Nolan Bushnell' ' David Crane']      0  \n",
       "33506                                                NaN      0  \n",
       "33507                                  ['Reece Bridger']      0  \n",
       "33508  ['Addy T. Baddy' ' Ross K. Foad' ' Peachy Prin...      0  \n",
       "\n",
       "[33509 rows x 8 columns]"
      ]
     },
     "execution_count": 101,
     "metadata": {},
     "output_type": "execute_result"
    }
   ],
   "source": [
    "#after cleaning releaseDate\n",
    "df1 = pd.read_csv(\"CSVs/3) releaseDateCleaned.csv\")\n",
    "df1"
   ]
  },
  {
   "cell_type": "code",
   "execution_count": 102,
   "id": "9114d703",
   "metadata": {
    "scrolled": true
   },
   "outputs": [
    {
     "name": "stdout",
     "output_type": "stream",
     "text": [
      "Length: 282\n",
      "\n",
      "[['14427' 'Beyond Good & Evil 2']\n",
      " ['14466' 'Hellraid']\n",
      " ['14483' 'Prince of Persia: The Sands of Time Remake']\n",
      " ['14504' 'Judas']\n",
      " ['14511' 'Ascension Chronicles: Spheres of Influence']\n",
      " ['14533' 'MegaRace: DeathMatch']\n",
      " ['14748' 'I Married a Monster on a Hill']\n",
      " ['14756' \"Assassin's Creed: Codename Red\"]\n",
      " ['14783' 'EXP: War Trauma']\n",
      " ['14826' \"Camp's Not Dead\"]\n",
      " ['14848' 'The Witcher Remake']\n",
      " ['14939' 'Little Devil Inside']\n",
      " ['15176' 'EyesOnly - TopSecret']\n",
      " ['15380' 'Doragonbôru Z: Sparking! 4']\n",
      " ['15414' 'Avowed']\n",
      " ['15488' 'Text Me Back']\n",
      " ['15519' 'Echoes of the End']\n",
      " ['15603' 'Doomsday Paradise']\n",
      " ['15635' 'Fiona Frightening and the Wicked Wardrobe']\n",
      " ['15763' 'Fuzzy Gets a House']\n",
      " ['15787' 'Enenra']\n",
      " ['15820' 'Where Winds Meet']\n",
      " ['15853' 'PixelWave Island']\n",
      " ['15874' 'Quest Failed - Chapter Two']\n",
      " ['15890' 'Midautumn']\n",
      " ['15933' 'My Eyes on You']\n",
      " ['15945' 'Rat Race']\n",
      " ['15953' 'Last Days of Snow']\n",
      " ['16256' 'Brassheart']\n",
      " ['16348'\n",
      "  \"Jamjam'n Jelly - The nonsensical, high tactical, 110% cute em up.\"]\n",
      " ['16515' 'Liquidation - Echoes of the Past']\n",
      " ['16518' 'LunHour']\n",
      " ['16584' 'Off the Grid: Bad Dream']\n",
      " ['16618' 'Faceless']\n",
      " ['16627' 'Synduality']\n",
      " ['16816' 'Crimson Sunrise']\n",
      " ['16875' 'Thirsty Suitors']\n",
      " ['16947' 'Sky of Tides']\n",
      " ['16969' 'VanillaBeast: Retro Knock-Out!']\n",
      " ['17125' 'Atrocity: Field of Hands']\n",
      " ['17159' \"Norse Noir: Loki's Exile, Chapter I\"]\n",
      " ['17267' 'Fable Hills: Guardian Adventures']\n",
      " ['17336' 'WinterOver']\n",
      " ['17500' 'Spring Breeze']\n",
      " ['17529' 'Different Galaxy']\n",
      " ['17593' 'Midli']\n",
      " ['17911' 'Danger Track']\n",
      " ['18348' 'Word Builder']\n",
      " ['18460' 'Half-Life: Remnants']\n",
      " ['18513' 'Skullstone']\n",
      " ['18523' 'Pigeon Simulator']\n",
      " ['18525' 'Bingo Time']\n",
      " ['18578' 'Hearts of Violet']\n",
      " ['18629' 'Fear Interactive: Deadwood']\n",
      " ['18822' 'Where Winter Crows Go']\n",
      " ['18874' 'Blight: The Stillman Legacy']\n",
      " ['18968' 'Meister High']\n",
      " ['19141' 'Ivy Likes Stories']\n",
      " ['19370' 'Astral Hound']\n",
      " ['19482' 'Adventure Thru 8-Bit Land']\n",
      " ['19501' 'Tangible Utopias']\n",
      " ['19536' 'Super Quadruple Dominos']\n",
      " ['19545' 'Wheetago War VR']\n",
      " ['19920' 'Death Cycle: Xbox 360']\n",
      " ['19935' 'PsychoDive']\n",
      " ['20116' 'My Dear Delirium']\n",
      " ['20235' 'Scuffle Royale']\n",
      " ['20277' 'Ondadaad']\n",
      " ['20333' 'Project Tingler']\n",
      " ['20386' 'Wayholm']\n",
      " ['20423' \"An Otaku's Guide to Santa's Reindeer\"]\n",
      " ['20453' 'The Silver Lining: Episode 5 - A Thousand Times Goodnight']\n",
      " ['20634' 'Microcandy']\n",
      " ['20711' 'Tornuktu']\n",
      " ['20723' 'Live on: The Astray Message']\n",
      " ['20736' 'Noraut Deluxe Poker']\n",
      " ['20796' 'The Trillium Horrors: Frostbitten']\n",
      " ['20818' 'Malzak']\n",
      " ['20825' 'Aeryn: Nightmares of Fau']\n",
      " ['20833' 'Deception of My Mind']\n",
      " ['20978' 'Billy Saves the World']\n",
      " ['20991' 'The Vortex Adventures']\n",
      " ['21009' 'The Alone']\n",
      " ['21052' 'Death Cycle: Xbox 360']\n",
      " ['21055' 'Samurai Unicorn']\n",
      " ['21061' 'Draw Poker Superstar']\n",
      " ['21072' 'Glory']\n",
      " ['21095' 'Atmorria: The Book of Dev']\n",
      " ['21100' 'Sinister Within']\n",
      " ['21112' 'Masternever and the Flow of Death']\n",
      " ['21129' 'WordTrap Dungeon']\n",
      " ['21259' 'Umboo']\n",
      " ['21349' 'Justice in Unity: Redux']\n",
      " ['21415' 'Renovatio']\n",
      " ['21429' 'Bearwood Park']\n",
      " ['21434' 'Kingdom Kitty']\n",
      " ['21600' 'Orbisia']\n",
      " ['21710' '3-4-5 Bingo']\n",
      " ['21754' 'Cherry Bonus II']\n",
      " ['22007' 'UBI Cocktail Table']\n",
      " ['22031' 'Double Joker Poker']\n",
      " ['22039' 'Nasal & Co.']\n",
      " ['22050' 'Hi-Lo 8 Lines']\n",
      " ['22167' 'Badge']\n",
      " ['22304' 'High Score']\n",
      " ['22311' 'Total Rendition']\n",
      " ['22474' 'Fruity Pebbles Beach Break']\n",
      " ['22508' 'Hank Drowning on Dry Land']\n",
      " ['22565' 'Planetaria Concursus']\n",
      " ['22596' 'Math Flashcards']\n",
      " ['22714' 'Cherry Chance']\n",
      " ['23101' 'Joker Poker']\n",
      " ['23129' 'Fun World Quiz']\n",
      " ['23158' '7 e mezzo']\n",
      " ['23191' 'Pro Soccer - Pro Tennis']\n",
      " ['23202' 'The Great Outdoors']\n",
      " ['23209' 'Gates of Mirnah']\n",
      " ['23404' 'NarKarma EngineA']\n",
      " ['23523' 'The Shadow Clubs']\n",
      " ['23561' 'Pilgrimage-Shinshin Dojo']\n",
      " ['23722' 'Treasurenauts']\n",
      " ['23799' 'Fourcourt - TV Halgame']\n",
      " ['23874' 'Truco-Tron']\n",
      " ['23875' 'Frozen Colony']\n",
      " ['23888' 'Brink Universe Unlimited: Supernovaman']\n",
      " ['23923' 'Sirius']\n",
      " ['24016' 'Ready to Run']\n",
      " ['24031' 'Istrebiteli']\n",
      " ['24106' 'Mahjong Club']\n",
      " ['24155' 'Hexian X']\n",
      " ['24167' 'Brain Quest: Multimedia - Grades 2 & 3']\n",
      " ['24219' 'Draw Poker Hi-Lo']\n",
      " ['24294' 'Perxor']\n",
      " ['24309' 'Dillingham']\n",
      " ['24337' 'Sacred Earth - Reverie']\n",
      " ['24417' 'Crosscraft and the Overcraft']\n",
      " ['24441' 'House Flipper - Farm DLC']\n",
      " ['24499' 'Eclipse: Both Sides of the Moon']\n",
      " ['24510' 'Koisuru ryuuousama']\n",
      " ['24555' 'Retro Rockets']\n",
      " ['24619' 'Fun Casino II']\n",
      " ['24666' \"Mira's Tale\"]\n",
      " ['24740' 'Mamma VR']\n",
      " ['24744' 'Project Roo']\n",
      " ['24788' \"Waluigi's Warehouse\"]\n",
      " ['24821' 'Fragile Fighter']\n",
      " ['24830' 'Odonis Orphane']\n",
      " ['25153' 'Lorne']\n",
      " ['25172' 'Quiz Me on Drugs']\n",
      " ['25321' 'Gorebreaker']\n",
      " ['25358' 'Hiboka']\n",
      " ['25484' \"A Rocket's Intensity\"]\n",
      " ['25633' \"Drew's Deuces Wild\"]\n",
      " ['25894' 'Samer Hills']\n",
      " ['26192' 'Glowood']\n",
      " ['26217' 'Powerful the Game Episode 1']\n",
      " ['26279' 'Theme Park & Resorts Inspiration Series']\n",
      " ['26384' 'Vex-Ward (Mod)']\n",
      " ['26403' 'Amnesia: Fear in Hands']\n",
      " ['26440' 'Nasal']\n",
      " ['26513' 'Royal Derby']\n",
      " ['26519' \"She's (Kuntilanak)\"]\n",
      " ['26638' 'A Piano Tale']\n",
      " ['26659' 'AceSpeeder!']\n",
      " ['26688' 'Love, Ghostie']\n",
      " ['26701' 'Long Ago in the Near Future']\n",
      " ['26771' 'Joker Poker 54']\n",
      " ['26804' 'The Black Wedding']\n",
      " ['26941' 'Paddle Derby']\n",
      " ['27019' 'Tri-City RP']\n",
      " ['27077' 'Age of Aincrad']\n",
      " ['27099' 'Fighting Boxer']\n",
      " ['27189' 'Apophis (Corrupt Yourself)']\n",
      " ['27229' 'Skill Stop']\n",
      " ['27314' 'The Yakyuuken Part 3']\n",
      " ['27362' 'Eeekk!']\n",
      " ['27492' 'DropCore']\n",
      " ['27524' 'The Night He Came Home']\n",
      " ['27558' 'Once Human']\n",
      " ['27608' 'Kot-rybolov']\n",
      " ['27625' 'Katyusha']\n",
      " ['27686' 'Farhangeirani']\n",
      " ['27718' 'Ombudsman']\n",
      " ['27736' 'Fruity Pebbles Spy Caper']\n",
      " ['27804' 'Sebring']\n",
      " ['27883' 'Starship Simulator']\n",
      " ['27890' 'S.T.A.R.S. Delta Lift Off']\n",
      " ['27978' 'M']\n",
      " ['28004' 'Contraband']\n",
      " ['28165' 'Robot: Colony 25']\n",
      " ['28298' 'Camera 6']\n",
      " ['28356' 'EverQuest Next']\n",
      " ['28442' 'Recovered Operations']\n",
      " ['28472' 'Without Memory']\n",
      " ['28549' 'Planet Michael']\n",
      " ['28597' 'Sensiz Olamam']\n",
      " ['28621' 'Picalette']\n",
      " ['28721' 'Wild Double Up II']\n",
      " ['28794' 'Flipped - The Game']\n",
      " ['28965' 'Kotigoroshko']\n",
      " ['28976' 'Fun-Joke']\n",
      " ['29035' 'Marooned']\n",
      " ['29109' 'Starlite: Defender of Justice']\n",
      " ['29138' 'Major Poker']\n",
      " ['29159' \"Little Magic Books: Knock, Knock! Who's on My Block?\"]\n",
      " ['29215' 'T.V. 5-Card Poker']\n",
      " ['29217' 'Into Sominia: A Project']\n",
      " ['29228' 'AceSpeeder3']\n",
      " ['29246' 'Ostrov drakona']\n",
      " ['29269' 'The Projects']\n",
      " ['29423' 'Fish Cymophis']\n",
      " ['29439' 'Exava']\n",
      " ['29539' 'Dynamic-Dice']\n",
      " ['29583' 'VHi Draw Poker']\n",
      " ['29767' 'Operation Stabilization: Revived']\n",
      " ['30022' 'Astropal']\n",
      " ['30054' 'Vidar: The RPG Where Everyone Dies']\n",
      " ['30101' 'Super Bonus Deluxe']\n",
      " ['30205' 'Penny Blood']\n",
      " ['30248' 'Tennis']\n",
      " ['30284' 'Romar Triv']\n",
      " ['30306' 'Snapped']\n",
      " ['30312' 'Lucky 8']\n",
      " ['30315' 'Asterion']\n",
      " ['30337' 'Telekick']\n",
      " ['30342' 'Wham Bam + 2']\n",
      " ['30389' 'AceSpeeder2']\n",
      " ['30457' 'Reading']\n",
      " ['30539' 'Squidy and Em Roblox Adventures']\n",
      " ['30542' 'Viking HIIT VR Experience']\n",
      " ['30608' 'A Little Less Desperation']\n",
      " ['30690' 'Special Break']\n",
      " ['30744' 'Zvezdnyi rytsar']\n",
      " ['30800' 'Natsu Shojo']\n",
      " ['30906' 'Exanimate Sea']\n",
      " ['30934' 'Iris Burning']\n",
      " ['31134' 'Bank Robbers by Impostered Legends']\n",
      " ['31277' 'Death of Rose']\n",
      " ['31283' 'Royal Poker']\n",
      " ['31338' 'Le Grand Champs']\n",
      " ['31347' 'Spell It 2']\n",
      " ['31406' 'Jacks a Pair']\n",
      " ['31428' 'Avtogonki']\n",
      " ['31505' 'Bao-Diversity']\n",
      " ['31512' 'U55: End of the Line']\n",
      " ['31516' 'Lucky 8 Lines']\n",
      " ['31584' 'Dead Life Necrodevils']\n",
      " ['31633' 'Video Gold']\n",
      " ['31648' \"Kyle Rittenhouse's Turkey Shoot\"]\n",
      " ['31683' 'Bust My Balloons']\n",
      " ['31910' 'Coreborn: Nations of the Ultracore']\n",
      " ['31935' 'White Heaven']\n",
      " ['31967' 'The Princess and the Paintbrush']\n",
      " ['32012' 'Table Tennis II']\n",
      " ['32015' 'Neolithic']\n",
      " ['32036' 'The Baptized']\n",
      " ['32049' 'Young Johnathon']\n",
      " ['32088' 'Wayward Rose']\n",
      " ['32128' 'Bump']\n",
      " ['32155' 'Triagat']\n",
      " ['32222' 'Adventure']\n",
      " ['32355' \"Peblo's Pixel Paradise\"]\n",
      " ['32383' 'Cairo: Building Humanity']\n",
      " ['32509' 'Shadow Dreams: The Last Thought of Hope']\n",
      " ['32555' 'Swapette']\n",
      " ['32588' 'Uta no purinsusama: Dolce Vita']\n",
      " ['32672' 'Neon Sword']\n",
      " ['32696' 'Black 21 Jack']\n",
      " ['32757' 'Androcks: Virtual Start Back']\n",
      " ['32774' 'Agents of S.H.E.L.L.']\n",
      " ['32860' 'Speak Easy Draw Poker']\n",
      " ['32928' 'The Alters']\n",
      " ['32951' 'June Funkin']\n",
      " ['33004' 'Knock-Ball']\n",
      " ['33055' 'Jayanta Ghadei']\n",
      " ['33086' 'In Lukewarm Blood']\n",
      " ['33170'\n",
      "  'The Louisa Williamson Hutchison Collection: ULV Cultural & Natural History Collections']\n",
      " ['33203' 'Prisionero de Oubliette (Realidad Virtual)']\n",
      " ['33330' 'Dead on Arrival']\n",
      " ['33332' 'Jacks or Better']\n",
      " ['33364' 'The Chase']\n",
      " ['33437' 'Never Say Die']]\n"
     ]
    }
   ],
   "source": [
    "#Check what data is still wrong\n",
    "\n",
    "#gets index of wrong date data\n",
    "wrong_date_index = np.array(list(df1.index[df1[\"release_date\"] == 0]))\n",
    "#gets title of wrong date data\n",
    "wrong_date_title = np.array(list(df1[\"title\"].loc[df1[\"release_date\"] == 0]))\n",
    "\n",
    "#puts index besides the name of game\n",
    "wrong_data_combined = np.stack((wrong_date_index, wrong_date_title), axis=1)\n",
    "\n",
    "print(f\"Length: {len(wrong_data_combined)}\")\n",
    "print()\n",
    "print(wrong_data_combined)"
   ]
  },
  {
   "cell_type": "markdown",
   "id": "bc61cc68",
   "metadata": {},
   "source": [
    "<b> Cleans the release_date data using Steam and validates it compare it to the data collected from google"
   ]
  },
  {
   "cell_type": "code",
   "execution_count": 23,
   "id": "dbefacce",
   "metadata": {},
   "outputs": [],
   "source": [
    "#going to open the unclean date CSV file to find all the data that was wrong again\n",
    "df1 = pd.read_csv(\"CSVs/2) titleCleaned.csv\")\n",
    "#going to open the mostly cleaned CSV file, and going to compare the Google collected data with the Steam collected data\n",
    "googled_df = pd.read_csv(\"CSVs/3) releaseDateCleaned.csv\")\n",
    "\n",
    "#this will be the dataframe that has the compared data of the Steam and Google Dataframes\n",
    "final_df = googled_df.copy()"
   ]
  },
  {
   "cell_type": "code",
   "execution_count": 3,
   "id": "d645f901",
   "metadata": {},
   "outputs": [
    {
     "name": "stdout",
     "output_type": "stream",
     "text": [
      "Length: 612\n",
      "\n",
      "[['4169' 'Total War: Three Kingdoms']\n",
      " ['5151' 'Deliver Us the Moon']\n",
      " ['5638' 'Super Street Fighter IV: 3D Edition']\n",
      " ...\n",
      " ['33419' 'Ion']\n",
      " ['33437' 'Never Say Die']\n",
      " ['33498' \"Devil's Liminal\"]]\n"
     ]
    }
   ],
   "source": [
    "#gets index of wrong date data\n",
    "wrong_date_index = np.array(list(df1.index[df1[\"release_date\"] == 0]))\n",
    "#gets title of wrong date data\n",
    "wrong_date_title = np.array(list(df1[\"title\"].loc[df1[\"release_date\"] == 0]))\n",
    "\n",
    "#puts index besides the name of game\n",
    "wrong_data_combined = np.stack((wrong_date_index, wrong_date_title), axis=1)\n",
    "\n",
    "print(f\"Length: {len(wrong_data_combined)}\")\n",
    "print()\n",
    "print(wrong_data_combined)"
   ]
  },
  {
   "cell_type": "code",
   "execution_count": 50,
   "id": "a8a6a4af",
   "metadata": {
    "scrolled": true
   },
   "outputs": [
    {
     "name": "stdout",
     "output_type": "stream",
     "text": [
      "Same Year\n",
      "Steam: 2019\n",
      "Google: 2019\n",
      "STEAM: Total War: THREE KINGDOMS\n",
      "Google: Total War: Three Kingdoms\n",
      "https://store.steampowered.com/search/?term=Total War: Three Kingdoms\n",
      "-----------------------------------------------\n",
      "Changed Date successfully\n",
      "Steam: 2019\n",
      "Google: 2018\n",
      "STEAM: Deliver Us The Moon\n",
      "Google: Deliver Us the Moon\n",
      "https://store.steampowered.com/search/?term=Deliver Us the Moon\n",
      "-----------------------------------------------\n"
     ]
    },
    {
     "name": "stderr",
     "output_type": "stream",
     "text": [
      "C:\\Users\\Ahmed\\AppData\\Local\\Temp/ipykernel_20788/1684921153.py:50: SettingWithCopyWarning: \n",
      "A value is trying to be set on a copy of a slice from a DataFrame\n",
      "\n",
      "See the caveats in the documentation: https://pandas.pydata.org/pandas-docs/stable/user_guide/indexing.html#returning-a-view-versus-a-copy\n",
      "  final_df[\"release_date\"].iloc[int_index] = game_year[0]\n"
     ]
    },
    {
     "name": "stdout",
     "output_type": "stream",
     "text": [
      "not same game\n",
      "STEAM: Ultra Street Fighter IV\n",
      "Google: Super Street Fighter IV: 3D Edition\n",
      "https://store.steampowered.com/search/?term=Super Street Fighter IV: 3D Edition\n",
      "-----------------------------------------------\n",
      "not same game\n",
      "STEAM: Jurassic World Evolution: Jurassic Park Edition\n",
      "Google: Jurassic Park\n",
      "https://store.steampowered.com/search/?term=Jurassic Park\n",
      "-----------------------------------------------\n",
      "not same game\n",
      "STEAM: War Thunder - British Starter Pack\n",
      "Google: Squadron 42\n",
      "https://store.steampowered.com/search/?term=Squadron 42\n",
      "-----------------------------------------------\n",
      "No Game Found\n",
      "STEAM: War Thunder - British Starter Pack\n",
      "Google: Cyberpunk 2077 - Phantom Liberty\n",
      "https://store.steampowered.com/search/?term=Cyberpunk 2077 - Phantom Liberty\n",
      "-----------------------------------------------\n",
      "Same Year\n",
      "Steam: 2023\n",
      "Google: 2023\n",
      "STEAM: The Lord of the Rings: Gollum\n",
      "Google: The Lord of the Rings: Gollum\n",
      "https://store.steampowered.com/search/?term=The Lord of the Rings: Gollum\n",
      "-----------------------------------------------\n",
      "not same game\n",
      "STEAM: Citizen Sleeper\n",
      "Google: Star Citizen\n",
      "https://store.steampowered.com/search/?term=Star Citizen\n",
      "-----------------------------------------------\n",
      "not same game\n",
      "STEAM: Two Point Hospital: Off the Grid\n",
      "Google: Off the Grid\n",
      "https://store.steampowered.com/search/?term=Off the Grid\n",
      "-----------------------------------------------\n",
      "not same game\n",
      "STEAM: Nickelodeon All-Star Brawl - Jenny Brawler Pack\n",
      "Google: Joyride Universe\n",
      "https://store.steampowered.com/search/?term=Joyride Universe\n",
      "-----------------------------------------------\n",
      "No Game Found\n",
      "STEAM: SILENT HILL 2\n",
      "Google: Silent Hill 2\n",
      "https://store.steampowered.com/search/?term=Silent Hill 2\n",
      "-----------------------------------------------\n",
      "not same game\n",
      "STEAM: Hearts of Iron IV: Ultimate Bundle\n",
      "Google: Kingdom Hearts IV\n",
      "https://store.steampowered.com/search/?term=Kingdom Hearts IV\n",
      "-----------------------------------------------\n",
      "not same game\n",
      "STEAM: STAR WARS: The Force Unleashed II\n",
      "Google: Star Wars: Eclipse\n",
      "https://store.steampowered.com/search/?term=Star Wars: Eclipse\n",
      "-----------------------------------------------\n",
      "not same game\n",
      "STEAM: Beyond Good and Evil\n",
      "Google: Beyond Good & Evil 2\n",
      "https://store.steampowered.com/search/?term=Beyond Good & Evil 2\n",
      "-----------------------------------------------\n",
      "Changed Date successfully\n",
      "Steam: 2021\n",
      "Google: 2022\n",
      "STEAM: Godkiller\n",
      "Google: Godkiller\n",
      "https://store.steampowered.com/search/?term=Godkiller\n",
      "-----------------------------------------------\n",
      "not same game\n",
      "STEAM: STAR WARS: The Old Republic\n",
      "Google: Star Wars: Knights of the Old Republic Remake\n",
      "https://store.steampowered.com/search/?term=Star Wars: Knights of the Old Republic Remake\n",
      "-----------------------------------------------\n",
      "not same game\n",
      "STEAM: Delude - Succubus Prison\n",
      "Google: Hellblade 2: Senua's Saga\n",
      "https://store.steampowered.com/search/?term=Hellblade 2: Senua's Saga\n",
      "-----------------------------------------------\n",
      "No Game Found\n",
      "STEAM: Delude - Succubus Prison\n",
      "Google: Sugary Spire\n",
      "https://store.steampowered.com/search/?term=Sugary Spire\n",
      "-----------------------------------------------\n",
      "not same game\n",
      "STEAM: HOT WHEELS - Wonder Woman\n",
      "Google: Wonder Woman\n",
      "https://store.steampowered.com/search/?term=Wonder Woman\n",
      "-----------------------------------------------\n",
      "Same Year\n",
      "Steam: 2023\n",
      "Google: 2023\n",
      "STEAM: My Friendly Neighborhood\n",
      "Google: My Friendly Neighborhood\n",
      "https://store.steampowered.com/search/?term=My Friendly Neighborhood\n",
      "-----------------------------------------------\n",
      "not same game\n",
      "STEAM: Dying Light - Hellraid\n",
      "Google: Hellraid\n",
      "https://store.steampowered.com/search/?term=Hellraid\n",
      "-----------------------------------------------\n",
      "not same game\n",
      "STEAM: Stray Gods: The Roleplaying Musical\n",
      "Google: Stray Gods\n",
      "https://store.steampowered.com/search/?term=Stray Gods\n",
      "-----------------------------------------------\n",
      "not same game\n",
      "STEAM: Prince of Persia: The Sands of Time\n",
      "Google: Prince of Persia: The Sands of Time Remake\n",
      "https://store.steampowered.com/search/?term=Prince of Persia: The Sands of Time Remake\n",
      "-----------------------------------------------\n",
      "No Game Found\n",
      "STEAM: Billie Bust Up\n",
      "Google: Billie Bust Up\n",
      "https://store.steampowered.com/search/?term=Billie Bust Up\n",
      "-----------------------------------------------\n",
      "No Game Found\n",
      "STEAM: Judas\n",
      "Google: Judas\n",
      "https://store.steampowered.com/search/?term=Judas\n",
      "-----------------------------------------------\n",
      "not same game\n",
      "STEAM: The Axis Unseen\n",
      "Google: Metroid Prime 4\n",
      "https://store.steampowered.com/search/?term=Metroid Prime 4\n",
      "-----------------------------------------------\n",
      "not same game\n",
      "STEAM: Night Stalkers\n",
      "Google: Shadow Stalkers\n",
      "https://store.steampowered.com/search/?term=Shadow Stalkers\n",
      "-----------------------------------------------\n",
      "not same game\n",
      "STEAM: Death Rally\n",
      "Google: Max Payne Remake\n",
      "https://store.steampowered.com/search/?term=Max Payne Remake\n",
      "-----------------------------------------------\n",
      "not same game\n",
      "STEAM: RPG Maker MV - MADO\n",
      "Google: Project 007\n",
      "https://store.steampowered.com/search/?term=Project 007\n",
      "-----------------------------------------------\n",
      "not same game\n",
      "STEAM: NOBUNAGA'S AMBITION: Sphere of Influence\n",
      "Google: Ascension Chronicles: Spheres of Influence\n",
      "https://store.steampowered.com/search/?term=Ascension Chronicles: Spheres of Influence\n",
      "-----------------------------------------------\n",
      "not same game\n",
      "STEAM: BioShock Remastered\n",
      "Google: BioShock 4\n",
      "https://store.steampowered.com/search/?term=BioShock 4\n",
      "-----------------------------------------------\n",
      "Same Year\n",
      "Steam: 2023\n",
      "Google: 2023\n",
      "STEAM: ENA: Dream BBQ\n",
      "Google: ENA: Dream BBQ\n",
      "https://store.steampowered.com/search/?term=ENA: Dream BBQ\n",
      "-----------------------------------------------\n",
      "No Game Found\n",
      "STEAM: ENA: Dream BBQ\n",
      "Google: MegaRace: DeathMatch\n",
      "https://store.steampowered.com/search/?term=MegaRace: DeathMatch\n",
      "-----------------------------------------------\n",
      "No Game Found\n",
      "STEAM: Hades II\n",
      "Google: Hades II\n",
      "https://store.steampowered.com/search/?term=Hades II\n",
      "-----------------------------------------------\n",
      "No Game Found\n",
      "STEAM: Hades II\n",
      "Google: Polladha Ulagil Bayangara Game\n",
      "https://store.steampowered.com/search/?term=Polladha Ulagil Bayangara Game\n",
      "-----------------------------------------------\n",
      "not same game\n",
      "STEAM: MARVEL Puzzle Quest\n",
      "Google: Captain America and Black Panther\n",
      "https://store.steampowered.com/search/?term=Captain America and Black Panther\n",
      "-----------------------------------------------\n",
      "not same game\n",
      "STEAM: Cities: Skylines II\n",
      "Google: Cities: Skylines 2\n",
      "https://store.steampowered.com/search/?term=Cities: Skylines 2\n",
      "-----------------------------------------------\n",
      "not same game\n",
      "STEAM: Spells & Secrets\n",
      "Google: DokeV\n",
      "https://store.steampowered.com/search/?term=DokeV\n",
      "-----------------------------------------------\n",
      "not same game\n",
      "STEAM: Fallout 4\n",
      "Google: Fallout 4: Capital Wasteland\n",
      "https://store.steampowered.com/search/?term=Fallout 4: Capital Wasteland\n",
      "-----------------------------------------------\n",
      "not same game\n",
      "STEAM: Hellboy Web of Wyrd\n",
      "Google: Hellboy: Web of Wyrd\n",
      "https://store.steampowered.com/search/?term=Hellboy: Web of Wyrd\n",
      "-----------------------------------------------\n",
      "not same game\n",
      "STEAM: Operation: Black Mesa\n",
      "Google: Black Mesa: Blue Shift\n",
      "https://store.steampowered.com/search/?term=Black Mesa: Blue Shift\n",
      "-----------------------------------------------\n",
      "not same game\n",
      "STEAM: Fable Anniversary\n",
      "Google: Fable\n",
      "https://store.steampowered.com/search/?term=Fable\n",
      "-----------------------------------------------\n",
      "not same game\n",
      "STEAM: Dead Dreams\n",
      "Google: Silent Hill f\n",
      "https://store.steampowered.com/search/?term=Silent Hill f\n",
      "-----------------------------------------------\n",
      "not same game\n",
      "STEAM: DomiCard\n",
      "Google: Domi Online\n",
      "https://store.steampowered.com/search/?term=Domi Online\n",
      "-----------------------------------------------\n",
      "not same game\n",
      "STEAM: Destiny 2\n",
      "Google: Star Guardians\n",
      "https://store.steampowered.com/search/?term=Star Guardians\n",
      "-----------------------------------------------\n",
      "No Game Found\n",
      "STEAM: Ratten Reich\n",
      "Google: Ratten Reich\n",
      "https://store.steampowered.com/search/?term=Ratten Reich\n",
      "-----------------------------------------------\n",
      "No Game Found\n",
      "STEAM: Ratten Reich\n",
      "Google: Scalebound\n",
      "https://store.steampowered.com/search/?term=Scalebound\n",
      "-----------------------------------------------\n"
     ]
    },
    {
     "name": "stdout",
     "output_type": "stream",
     "text": [
      "No Game Found\n",
      "STEAM: Ratten Reich\n",
      "Google: DNF2001 Restoration Project\n",
      "https://store.steampowered.com/search/?term=DNF2001 Restoration Project\n",
      "-----------------------------------------------\n",
      "No Game Found\n",
      "STEAM: Ratten Reich\n",
      "Google: I Married a Monster on a Hill\n",
      "https://store.steampowered.com/search/?term=I Married a Monster on a Hill\n",
      "-----------------------------------------------\n",
      "not same game\n",
      "STEAM: Assassin’s Creed Chronicles: China\n",
      "Google: Assassin's Creed: Codename Red\n",
      "https://store.steampowered.com/search/?term=Assassin's Creed: Codename Red\n",
      "-----------------------------------------------\n",
      "No Game Found\n",
      "STEAM: EXP: War Trauma\n",
      "Google: EXP: War Trauma\n",
      "https://store.steampowered.com/search/?term=EXP: War Trauma\n",
      "-----------------------------------------------\n",
      "not same game\n",
      "STEAM: Interfectorem\n",
      "Google: Camp's Not Dead\n",
      "https://store.steampowered.com/search/?term=Camp's Not Dead\n",
      "-----------------------------------------------\n",
      "not same game\n",
      "STEAM: The Orchard of Stray Sheep\n",
      "Google: Project: Eden's Garden\n",
      "https://store.steampowered.com/search/?term=Project: Eden's Garden\n",
      "-----------------------------------------------\n",
      "No Game Found\n",
      "STEAM: The Orchard of Stray Sheep\n",
      "Google: The Witcher Remake\n",
      "https://store.steampowered.com/search/?term=The Witcher Remake\n",
      "-----------------------------------------------\n",
      "not same game\n",
      "STEAM: Horror Story: Hallowseed\n",
      "Google: Horror Seducer\n",
      "https://store.steampowered.com/search/?term=Horror Seducer\n",
      "-----------------------------------------------\n",
      "No Game Found\n",
      "STEAM: Horror Story: Hallowseed\n",
      "Google: Fallout 4: London\n",
      "https://store.steampowered.com/search/?term=Fallout 4: London\n",
      "-----------------------------------------------\n",
      "not same game\n",
      "STEAM: Creativerse\n",
      "Google: Transformers: Reactivate\n",
      "https://store.steampowered.com/search/?term=Transformers: Reactivate\n",
      "-----------------------------------------------\n",
      "not same game\n",
      "STEAM: Pamali: Indonesian Folklore Horror - The Little Devil\n",
      "Google: Little Devil Inside\n",
      "https://store.steampowered.com/search/?term=Little Devil Inside\n",
      "-----------------------------------------------\n",
      "not same game\n",
      "STEAM: Total War: WARHAMMER II - Rise of the Tomb Kings\n",
      "Google: Black Sands: Legends of the Rift\n",
      "https://store.steampowered.com/search/?term=Black Sands: Legends of the Rift\n",
      "-----------------------------------------------\n",
      "No Game Found\n",
      "STEAM: Total War: WARHAMMER II - Rise of the Tomb Kings\n",
      "Google: John Carter, Warlord of Mars\n",
      "https://store.steampowered.com/search/?term=John Carter, Warlord of Mars\n",
      "-----------------------------------------------\n",
      "not same game\n",
      "STEAM: Edge of Twilight – Return To Glory\n",
      "Google: Edge of Twilight\n",
      "https://store.steampowered.com/search/?term=Edge of Twilight\n",
      "-----------------------------------------------\n",
      "not same game\n",
      "STEAM: Vertigo 2\n",
      "\n",
      "VR Only\n",
      "Google: Vertigo 2\n",
      "https://store.steampowered.com/search/?term=Vertigo 2\n",
      "-----------------------------------------------\n",
      "No Game Found\n",
      "STEAM: Vertigo 2\n",
      "\n",
      "VR Only\n",
      "Google: EyesOnly - TopSecret\n",
      "https://store.steampowered.com/search/?term=EyesOnly - TopSecret\n",
      "-----------------------------------------------\n",
      "No Game Found\n",
      "STEAM: Vertigo 2\n",
      "\n",
      "VR Only\n",
      "Google: Demon Slayer: Blood-Stench Blade Royale\n",
      "https://store.steampowered.com/search/?term=Demon Slayer: Blood-Stench Blade Royale\n",
      "-----------------------------------------------\n",
      "not same game\n",
      "STEAM: Project Three\n",
      "Google: Project Borealis\n",
      "https://store.steampowered.com/search/?term=Project Borealis\n",
      "-----------------------------------------------\n",
      "No Game Found\n",
      "STEAM: Fallen Tear: The Ascension\n",
      "Google: Fallen Tear: The Ascension\n",
      "https://store.steampowered.com/search/?term=Fallen Tear: The Ascension\n",
      "-----------------------------------------------\n",
      "Same Year\n",
      "Steam: 2023\n",
      "Google: 2023\n",
      "STEAM: Shattered Heaven\n",
      "Google: Shattered Heaven\n",
      "https://store.steampowered.com/search/?term=Shattered Heaven\n",
      "-----------------------------------------------\n",
      "not same game\n",
      "STEAM: Fantasy Quest Solitaire\n",
      "Google: Assassin's Creed Codename Hexe\n",
      "https://store.steampowered.com/search/?term=Assassin's Creed Codename Hexe\n",
      "-----------------------------------------------\n",
      "not same game\n",
      "STEAM: Fantasy Quest Solitaire\n",
      "Google: Doragonbôru Z: Sparking! 4\n",
      "https://store.steampowered.com/search/?term=Doragonbôru Z: Sparking! 4\n",
      "-----------------------------------------------\n",
      "Same Year\n",
      "Steam: 2023\n",
      "Google: 2023\n",
      "STEAM: Kingsblood\n",
      "Google: Kingsblood\n",
      "https://store.steampowered.com/search/?term=Kingsblood\n",
      "-----------------------------------------------\n",
      "not same game\n",
      "STEAM: Elden Gunfire 2\n",
      "Google: Avowed\n",
      "https://store.steampowered.com/search/?term=Avowed\n",
      "-----------------------------------------------\n",
      "not same game\n",
      "STEAM: Visual Novel Maker - Japanese School Girls Vol.2\n",
      "Google: Bye Sweet Carole 2\n",
      "https://store.steampowered.com/search/?term=Bye Sweet Carole 2\n",
      "-----------------------------------------------\n",
      "No Game Found\n",
      "STEAM: Visual Novel Maker - Japanese School Girls Vol.2\n",
      "Google: Granblue Fantasy: Relink\n",
      "https://store.steampowered.com/search/?term=Granblue Fantasy: Relink\n",
      "-----------------------------------------------\n",
      "not same game\n",
      "STEAM: [I] doesn't exist - a modern text adventure\n",
      "Google: Text Me Back\n",
      "https://store.steampowered.com/search/?term=Text Me Back\n",
      "-----------------------------------------------\n",
      "not same game\n",
      "STEAM: Echoes of the Living\n",
      "Google: Echoes of the End\n",
      "https://store.steampowered.com/search/?term=Echoes of the End\n",
      "-----------------------------------------------\n",
      "not same game\n",
      "STEAM: Ember Knights\n",
      "Google: Ember Sword\n",
      "https://store.steampowered.com/search/?term=Ember Sword\n",
      "-----------------------------------------------\n",
      "not same game\n",
      "STEAM: STORY OF SEASONS: A Wonderful Life\n",
      "Google: A life of consequence\n",
      "https://store.steampowered.com/search/?term=A life of consequence\n",
      "-----------------------------------------------\n",
      "Changed Date successfully\n",
      "Steam: 2023\n",
      "Google: 0\n",
      "STEAM: Doomsday Paradise\n",
      "Google: Doomsday Paradise\n",
      "https://store.steampowered.com/search/?term=Doomsday Paradise\n",
      "-----------------------------------------------\n",
      "No Game Found\n",
      "STEAM: Doomsday Paradise\n",
      "Google: Fiona Frightening and the Wicked Wardrobe\n",
      "https://store.steampowered.com/search/?term=Fiona Frightening and the Wicked Wardrobe\n",
      "-----------------------------------------------\n",
      "not same game\n",
      "STEAM: House Flipper\n",
      "Google: Fuzzy Gets a House\n",
      "https://store.steampowered.com/search/?term=Fuzzy Gets a House\n",
      "-----------------------------------------------\n",
      "Changed Date successfully\n",
      "Steam: 2023\n",
      "Google: 2014\n",
      "STEAM: The Lords of the Fallen\n",
      "Google: The Lords of the Fallen\n",
      "https://store.steampowered.com/search/?term=The Lords of the Fallen\n",
      "-----------------------------------------------\n",
      "No Game Found\n",
      "STEAM: ENENRA\n",
      "Google: Enenra\n",
      "https://store.steampowered.com/search/?term=Enenra\n",
      "-----------------------------------------------\n",
      "not same game\n",
      "STEAM: Breathless Winds Demo\n",
      "Google: Where Winds Meet\n",
      "https://store.steampowered.com/search/?term=Where Winds Meet\n",
      "-----------------------------------------------\n",
      "No Game Found\n",
      "STEAM: Slave Zero X\n",
      "Google: Slave Zero X\n",
      "https://store.steampowered.com/search/?term=Slave Zero X\n",
      "-----------------------------------------------\n",
      "not same game\n",
      "STEAM: It Is A Good Knight To Die\n",
      "Google: Is it to late?\n",
      "https://store.steampowered.com/search/?term=Is it to late?\n",
      "-----------------------------------------------\n",
      "No Game Found\n",
      "STEAM: It Is A Good Knight To Die\n",
      "Google: PixelWave Island\n",
      "https://store.steampowered.com/search/?term=PixelWave Island\n",
      "-----------------------------------------------\n",
      "not same game\n",
      "STEAM: Hi-Fi RUSH\n",
      "Google: Rush Attack\n",
      "https://store.steampowered.com/search/?term=Rush Attack\n",
      "-----------------------------------------------\n",
      "not same game\n",
      "STEAM: Hell Dungeons - The Lost Soul\n",
      "Google: Watch the Hell\n",
      "https://store.steampowered.com/search/?term=Watch the Hell\n",
      "-----------------------------------------------\n",
      "not same game\n",
      "STEAM: Millennium 5 - The Battle of the Millennium\n",
      "Google: Quest Failed - Chapter Two\n",
      "https://store.steampowered.com/search/?term=Quest Failed - Chapter Two\n",
      "-----------------------------------------------\n",
      "Changed Date successfully\n",
      "Steam: 2023\n",
      "Google: 0\n",
      "STEAM: Midautumn\n",
      "Google: Midautumn\n",
      "https://store.steampowered.com/search/?term=Midautumn\n",
      "-----------------------------------------------\n",
      "Same Year\n",
      "Steam: 2021\n",
      "Google: 2021\n",
      "STEAM: Sands of Aura\n",
      "Google: Sands of Aura\n",
      "https://store.steampowered.com/search/?term=Sands of Aura\n",
      "-----------------------------------------------\n"
     ]
    },
    {
     "name": "stdout",
     "output_type": "stream",
     "text": [
      "not same game\n",
      "STEAM: My Eyes\n",
      "Google: My Eyes on You\n",
      "https://store.steampowered.com/search/?term=My Eyes on You\n",
      "-----------------------------------------------\n",
      "not same game\n",
      "STEAM: Rat Racer\n",
      "Google: Rat Race\n",
      "https://store.steampowered.com/search/?term=Rat Race\n",
      "-----------------------------------------------\n",
      "not same game\n",
      "STEAM: Six Days of Snow\n",
      "Google: Last Days of Snow\n",
      "https://store.steampowered.com/search/?term=Last Days of Snow\n",
      "-----------------------------------------------\n",
      "not same game\n",
      "STEAM: Remothered: Tormented Fathers\n",
      "Google: Remothered: Chapter 3\n",
      "https://store.steampowered.com/search/?term=Remothered: Chapter 3\n",
      "-----------------------------------------------\n",
      "Same Year\n",
      "Steam: 2018\n",
      "Google: 2018\n",
      "STEAM: Crimson Keep\n",
      "Google: Crimson Keep\n",
      "https://store.steampowered.com/search/?term=Crimson Keep\n",
      "-----------------------------------------------\n",
      "No Game Found\n",
      "STEAM: Eternights\n",
      "Google: Eternights\n",
      "https://store.steampowered.com/search/?term=Eternights\n",
      "-----------------------------------------------\n",
      "not same game\n",
      "STEAM: Saints Row: Gat out of Hell\n",
      "Google: Syndicate of Souls\n",
      "https://store.steampowered.com/search/?term=Syndicate of Souls\n",
      "-----------------------------------------------\n",
      "not same game\n",
      "STEAM: The Lords of the Fallen\n",
      "Google: Assault Knights 2: Fallen Knight\n",
      "https://store.steampowered.com/search/?term=Assault Knights 2: Fallen Knight\n",
      "-----------------------------------------------\n",
      "not same game\n",
      "STEAM: Stern Pinball Arcade: Last Action Hero\n",
      "Google: Last Action Hero\n",
      "https://store.steampowered.com/search/?term=Last Action Hero\n",
      "-----------------------------------------------\n",
      "not same game\n",
      "STEAM: King's Quest - Chapter 4: Snow Place Like Home\n",
      "Google: Fortnite: Chapter 4 Season 1\n",
      "https://store.steampowered.com/search/?term=Fortnite: Chapter 4 Season 1\n",
      "-----------------------------------------------\n",
      "not same game\n",
      "STEAM: Heart of the House\n",
      "Google: The Haunting of Flavel House\n",
      "https://store.steampowered.com/search/?term=The Haunting of Flavel House\n",
      "-----------------------------------------------\n",
      "not same game\n",
      "STEAM: Fallout 76\n",
      "Google: Apocalyptic Dream\n",
      "https://store.steampowered.com/search/?term=Apocalyptic Dream\n",
      "-----------------------------------------------\n",
      "No Game Found\n",
      "STEAM: Brassheart\n",
      "Google: Brassheart\n",
      "https://store.steampowered.com/search/?term=Brassheart\n",
      "-----------------------------------------------\n",
      "No Game Found\n",
      "STEAM: ROUTINE\n",
      "Google: Routine\n",
      "https://store.steampowered.com/search/?term=Routine\n",
      "-----------------------------------------------\n",
      "not same game\n",
      "STEAM: Synth Riders: League of Legends - \"Legends Never Die\"\n",
      "Google: Legends Never Die\n",
      "https://store.steampowered.com/search/?term=Legends Never Die\n",
      "-----------------------------------------------\n",
      "No Game Found\n",
      "STEAM: Synth Riders: League of Legends - \"Legends Never Die\"\n",
      "Google: Jamjam'n Jelly - The nonsensical, high tactical, 110% cute em up.\n",
      "https://store.steampowered.com/search/?term=Jamjam'n Jelly - The nonsensical, high tactical, 110% cute em up.\n",
      "-----------------------------------------------\n",
      "not same game\n",
      "STEAM: Yakuza: Like a Dragon\n",
      "Google: Ryû ga gotoku 8\n",
      "https://store.steampowered.com/search/?term=Ryû ga gotoku 8\n",
      "-----------------------------------------------\n",
      "Same Year\n",
      "Steam: 2024\n",
      "Google: 2024\n",
      "STEAM: I Just Want to be Single!!\n",
      "Google: I Just Want to be Single!!\n",
      "https://store.steampowered.com/search/?term=I Just Want to be Single!!\n",
      "-----------------------------------------------\n",
      "not same game\n",
      "STEAM: Infected: Zombie Apocalypse Survival Story\n",
      "Google: The Shelter: A Survival Story\n",
      "https://store.steampowered.com/search/?term=The Shelter: A Survival Story\n",
      "-----------------------------------------------\n",
      "No Game Found\n",
      "STEAM: Infected: Zombie Apocalypse Survival Story\n",
      "Google: Infinity Nikki\n",
      "https://store.steampowered.com/search/?term=Infinity Nikki\n",
      "-----------------------------------------------\n",
      "No Game Found\n",
      "STEAM: Infected: Zombie Apocalypse Survival Story\n",
      "Google: Silent Hill: Townfall\n",
      "https://store.steampowered.com/search/?term=Silent Hill: Townfall\n",
      "-----------------------------------------------\n",
      "No Game Found\n",
      "STEAM: Infected: Zombie Apocalypse Survival Story\n",
      "Google: Liquidation - Echoes of the Past\n",
      "https://store.steampowered.com/search/?term=Liquidation - Echoes of the Past\n",
      "-----------------------------------------------\n",
      "No Game Found\n",
      "STEAM: Infected: Zombie Apocalypse Survival Story\n",
      "Google: LunHour\n",
      "https://store.steampowered.com/search/?term=LunHour\n",
      "-----------------------------------------------\n",
      "not same game\n",
      "STEAM: Detour Bus\n",
      "\n",
      "VR Only\n",
      "Google: Detour Bus\n",
      "https://store.steampowered.com/search/?term=Detour Bus\n",
      "-----------------------------------------------\n",
      "not same game\n",
      "STEAM: Tales of the Elements - Complete\n",
      "Google: Tales of the Rays: Recollection\n",
      "https://store.steampowered.com/search/?term=Tales of the Rays: Recollection\n",
      "-----------------------------------------------\n",
      "not same game\n",
      "STEAM: Solomon Division\n",
      "Google: Solomon's Demons\n",
      "https://store.steampowered.com/search/?term=Solomon's Demons\n",
      "-----------------------------------------------\n",
      "not same game\n",
      "STEAM: The Alien Cube\n",
      "Google: Off the Grid: Bad Dream\n",
      "https://store.steampowered.com/search/?term=Off the Grid: Bad Dream\n",
      "-----------------------------------------------\n",
      "No Game Found\n",
      "STEAM: Faceless\n",
      "Google: Faceless\n",
      "https://store.steampowered.com/search/?term=Faceless\n",
      "-----------------------------------------------\n",
      "No Game Found\n",
      "STEAM: REPLACED\n",
      "Google: Replaced\n",
      "https://store.steampowered.com/search/?term=Replaced\n",
      "-----------------------------------------------\n",
      "No Game Found\n",
      "STEAM: REPLACED\n",
      "Google: Synduality\n",
      "https://store.steampowered.com/search/?term=Synduality\n",
      "-----------------------------------------------\n",
      "not same game\n",
      "STEAM: Armored Firestorm\n",
      "Google: Firestorm\n",
      "https://store.steampowered.com/search/?term=Firestorm\n",
      "-----------------------------------------------\n",
      "Changed Date successfully\n",
      "Steam: 2023\n",
      "Google: 1994\n",
      "STEAM: Dracula\n",
      "Google: Dracula\n",
      "https://store.steampowered.com/search/?term=Dracula\n",
      "-----------------------------------------------\n",
      "No Game Found\n",
      "STEAM: NeuroNet: Mendax Proxy\n",
      "Google: NeuroNet: Mendax Proxy\n",
      "https://store.steampowered.com/search/?term=NeuroNet: Mendax Proxy\n",
      "-----------------------------------------------\n",
      "No Game Found\n",
      "STEAM: NeuroNet: Mendax Proxy\n",
      "Google: Fear Effect Reinvented\n",
      "https://store.steampowered.com/search/?term=Fear Effect Reinvented\n",
      "-----------------------------------------------\n",
      "not same game\n",
      "STEAM: Session: Skate Sim\n",
      "Google: Skate\n",
      "https://store.steampowered.com/search/?term=Skate\n",
      "-----------------------------------------------\n",
      "not same game\n",
      "STEAM: Primal Carnage: Extinction - Prehistoric Legacy DLC\n",
      "Google: Crimson Sunrise\n",
      "https://store.steampowered.com/search/?term=Crimson Sunrise\n",
      "-----------------------------------------------\n",
      "No Game Found\n",
      "STEAM: Primordials Legends: Hollow Hero\n",
      "Google: Primordials Legends: Hollow Hero\n",
      "https://store.steampowered.com/search/?term=Primordials Legends: Hollow Hero\n",
      "-----------------------------------------------\n",
      "No Game Found\n",
      "STEAM: ANTONBLAST\n",
      "Google: Antonblast\n",
      "https://store.steampowered.com/search/?term=Antonblast\n",
      "-----------------------------------------------\n",
      "No Game Found\n",
      "STEAM: ANTONBLAST\n",
      "Google: Allison Road\n",
      "https://store.steampowered.com/search/?term=Allison Road\n",
      "-----------------------------------------------\n",
      "No Game Found\n",
      "STEAM: Thirsty Suitors\n",
      "Google: Thirsty Suitors\n",
      "https://store.steampowered.com/search/?term=Thirsty Suitors\n",
      "-----------------------------------------------\n",
      "not same game\n",
      "STEAM: Sons Of The Forest\n",
      "Google: Wonderbox: The Adventure Maker\n",
      "https://store.steampowered.com/search/?term=Wonderbox: The Adventure Maker\n",
      "-----------------------------------------------\n",
      "Same Year\n",
      "Steam: 2023\n",
      "Google: 2023\n",
      "STEAM: Level Zero\n",
      "Google: Level Zero\n",
      "https://store.steampowered.com/search/?term=Level Zero\n",
      "-----------------------------------------------\n",
      "Changed Date successfully\n",
      "Steam: 2023\n",
      "Google: 0\n",
      "STEAM: Sky of Tides\n",
      "Google: Sky of Tides\n",
      "https://store.steampowered.com/search/?term=Sky of Tides\n",
      "-----------------------------------------------\n",
      "Changed Date successfully\n",
      "Steam: 2023\n",
      "Google: 0\n",
      "STEAM: VanillaBeast: Retro Knock-Out!\n",
      "Google: VanillaBeast: Retro Knock-Out!\n",
      "https://store.steampowered.com/search/?term=VanillaBeast: Retro Knock-Out!\n",
      "-----------------------------------------------\n"
     ]
    },
    {
     "name": "stdout",
     "output_type": "stream",
     "text": [
      "Same Year\n",
      "Steam: 2021\n",
      "Google: 2021\n",
      "STEAM: Giants Uprising\n",
      "Google: Giants Uprising\n",
      "https://store.steampowered.com/search/?term=Giants Uprising\n",
      "-----------------------------------------------\n",
      "not same game\n",
      "STEAM: Deep Rock Galactic\n",
      "Google: Deep Down\n",
      "https://store.steampowered.com/search/?term=Deep Down\n",
      "-----------------------------------------------\n",
      "not same game\n",
      "STEAM: Disgaea 4 Complete+\n",
      "Google: Hades 9\n",
      "https://store.steampowered.com/search/?term=Hades 9\n",
      "-----------------------------------------------\n",
      "No Game Found\n",
      "STEAM: Stormrite\n",
      "Google: Stormrite\n",
      "https://store.steampowered.com/search/?term=Stormrite\n",
      "-----------------------------------------------\n",
      "not same game\n",
      "STEAM: Company of Heroes 3\n",
      "Google: Atrocity: Field of Hands\n",
      "https://store.steampowered.com/search/?term=Atrocity: Field of Hands\n",
      "-----------------------------------------------\n",
      "not same game\n",
      "STEAM: OneShot\n",
      "Google: Shot One\n",
      "https://store.steampowered.com/search/?term=Shot One\n",
      "-----------------------------------------------\n",
      "No Game Found\n",
      "STEAM: OneShot\n",
      "Google: Norse Noir: Loki's Exile, Chapter I\n",
      "https://store.steampowered.com/search/?term=Norse Noir: Loki's Exile, Chapter I\n",
      "-----------------------------------------------\n",
      "not same game\n",
      "STEAM: Christmas Fables: Holiday Guardians DLC\n",
      "Google: Fable Hills: Guardian Adventures\n",
      "https://store.steampowered.com/search/?term=Fable Hills: Guardian Adventures\n",
      "-----------------------------------------------\n",
      "not same game\n",
      "STEAM: HIVESWAP: ACT 1\n",
      "Google: Hauntswitch\n",
      "https://store.steampowered.com/search/?term=Hauntswitch\n",
      "-----------------------------------------------\n",
      "not same game\n",
      "STEAM: WILD HEARTS\n",
      "Google: Wild\n",
      "https://store.steampowered.com/search/?term=Wild\n",
      "-----------------------------------------------\n",
      "No Game Found\n",
      "STEAM: WILD HEARTS\n",
      "Google: WinterOver\n",
      "https://store.steampowered.com/search/?term=WinterOver\n",
      "-----------------------------------------------\n",
      "not same game\n",
      "STEAM: Exogenesis ~Perils of Rebirth~\n",
      "Google: Exogenesis: Perils of Rebirth\n",
      "https://store.steampowered.com/search/?term=Exogenesis: Perils of Rebirth\n",
      "-----------------------------------------------\n",
      "No Game Found\n",
      "STEAM: Annie and the AI\n",
      "Google: Annie and the AI\n",
      "https://store.steampowered.com/search/?term=Annie and the AI\n",
      "-----------------------------------------------\n",
      "No Game Found\n",
      "STEAM: Annie and the AI\n",
      "Google: SNAGGEMON - A Grunt Dating Sim\n",
      "https://store.steampowered.com/search/?term=SNAGGEMON - A Grunt Dating Sim\n",
      "-----------------------------------------------\n",
      "No Game Found\n",
      "STEAM: Annie and the AI\n",
      "Google: Nimloth\n",
      "https://store.steampowered.com/search/?term=Nimloth\n",
      "-----------------------------------------------\n",
      "not same game\n",
      "STEAM: Project: Gorgon\n",
      "Google: Project Re Fantasy\n",
      "https://store.steampowered.com/search/?term=Project Re Fantasy\n",
      "-----------------------------------------------\n",
      "Same Year\n",
      "Steam: 2023\n",
      "Google: 2023\n",
      "STEAM: World Turtles\n",
      "Google: World Turtles\n",
      "https://store.steampowered.com/search/?term=World Turtles\n",
      "-----------------------------------------------\n",
      "not same game\n",
      "STEAM: 春风 | Spring Breeze\n",
      "Google: Spring Breeze\n",
      "https://store.steampowered.com/search/?term=Spring Breeze\n",
      "-----------------------------------------------\n",
      "not same game\n",
      "STEAM: Garden Galaxy\n",
      "Google: Different Galaxy\n",
      "https://store.steampowered.com/search/?term=Different Galaxy\n",
      "-----------------------------------------------\n",
      "Same Year\n",
      "Steam: 2023\n",
      "Google: 2023\n",
      "STEAM: Last Christmas\n",
      "Google: Last Christmas\n",
      "https://store.steampowered.com/search/?term=Last Christmas\n",
      "-----------------------------------------------\n",
      "not same game\n",
      "STEAM: Peculiar Tales of Mid-Lake Pavilion\n",
      "Google: Midli\n",
      "https://store.steampowered.com/search/?term=Midli\n",
      "-----------------------------------------------\n",
      "not same game\n",
      "STEAM: SpongeBob SquarePants: Battle for Bikini Bottom - Rehydrated\n",
      "Google: 4 Square\n",
      "https://store.steampowered.com/search/?term=4 Square\n",
      "-----------------------------------------------\n",
      "No Game Found\n",
      "STEAM: SpongeBob SquarePants: Battle for Bikini Bottom - Rehydrated\n",
      "Google: Assassin's Creed Codename Jade\n",
      "https://store.steampowered.com/search/?term=Assassin's Creed Codename Jade\n",
      "-----------------------------------------------\n",
      "not same game\n",
      "STEAM: Warriors of the North Supporter Edition\n",
      "Google: Beyond Skyrim: The New North\n",
      "https://store.steampowered.com/search/?term=Beyond Skyrim: The New North\n",
      "-----------------------------------------------\n",
      "No Game Found\n",
      "STEAM: Warriors of the North Supporter Edition\n",
      "Google: Everwild\n",
      "https://store.steampowered.com/search/?term=Everwild\n",
      "-----------------------------------------------\n",
      "not same game\n",
      "STEAM: Total War: WARHAMMER - Norsca\n",
      "Google: Just Cause: Mobile\n",
      "https://store.steampowered.com/search/?term=Just Cause: Mobile\n",
      "-----------------------------------------------\n",
      "No Game Found\n",
      "STEAM: Total War: WARHAMMER - Norsca\n",
      "Google: Kingdom Hearts Missing-Link\n",
      "https://store.steampowered.com/search/?term=Kingdom Hearts Missing-Link\n",
      "-----------------------------------------------\n",
      "not same game\n",
      "STEAM: Tom Clancy's Rainbow Six Siege\n",
      "Google: Danger Track\n",
      "https://store.steampowered.com/search/?term=Danger Track\n",
      "-----------------------------------------------\n",
      "not same game\n",
      "STEAM: KEEP OUT : Black Protein\n",
      "Google: Keep Out: Black Protein\n",
      "https://store.steampowered.com/search/?term=Keep Out: Black Protein\n",
      "-----------------------------------------------\n",
      "No Game Found\n",
      "STEAM: KEEP OUT : Black Protein\n",
      "Google: Portal SK\n",
      "https://store.steampowered.com/search/?term=Portal SK\n",
      "-----------------------------------------------\n",
      "No Game Found\n",
      "STEAM: BIONICLE: Masks of Power\n",
      "Google: Bionicle: Masks of Power\n",
      "https://store.steampowered.com/search/?term=Bionicle: Masks of Power\n",
      "-----------------------------------------------\n",
      "not same game\n",
      "STEAM: Shape of America: Episode One\n",
      "Google: Miss America\n",
      "https://store.steampowered.com/search/?term=Miss America\n",
      "-----------------------------------------------\n",
      "No Game Found\n",
      "STEAM: Shape of America: Episode One\n",
      "Google: Star Wars: Battlefront III - Legacy (Mod)\n",
      "https://store.steampowered.com/search/?term=Star Wars: Battlefront III - Legacy (Mod)\n",
      "-----------------------------------------------\n",
      "not same game\n",
      "STEAM: Secret of the Rendrasha Blade CH1&2\n",
      "Google: Dragon Quest XII: The Flames of Fate\n",
      "https://store.steampowered.com/search/?term=Dragon Quest XII: The Flames of Fate\n",
      "-----------------------------------------------\n",
      "Same Year\n",
      "Steam: 2024\n",
      "Google: 2024\n",
      "STEAM: Earthblade\n",
      "Google: Earthblade\n",
      "https://store.steampowered.com/search/?term=Earthblade\n",
      "-----------------------------------------------\n",
      "No Game Found\n",
      "STEAM: Earthblade\n",
      "Google: Ketsugou Danshi: Elements with Emotions\n",
      "https://store.steampowered.com/search/?term=Ketsugou Danshi: Elements with Emotions\n",
      "-----------------------------------------------\n",
      "No Game Found\n",
      "STEAM: Earthblade\n",
      "Google: Fist of the North Star: 10 Big Brawls for the King of the Universe\n",
      "https://store.steampowered.com/search/?term=Fist of the North Star: 10 Big Brawls for the King of the Universe\n",
      "-----------------------------------------------\n",
      "not same game\n",
      "STEAM: Cards of the Dreaming Dragons\n",
      "Google: Cards of the Dragons\n",
      "https://store.steampowered.com/search/?term=Cards of the Dragons\n",
      "-----------------------------------------------\n",
      "not same game\n",
      "STEAM: Unicorn Tails\n",
      "Google: Unicorn Game\n",
      "https://store.steampowered.com/search/?term=Unicorn Game\n",
      "-----------------------------------------------\n",
      "not same game\n",
      "STEAM: Chuckle Phrase Builder\n",
      "Google: Word Builder\n",
      "https://store.steampowered.com/search/?term=Word Builder\n",
      "-----------------------------------------------\n",
      "not same game\n",
      "STEAM: Half-Life: A Place in the West\n",
      "Google: Half-Life: Remnants\n",
      "https://store.steampowered.com/search/?term=Half-Life: Remnants\n",
      "-----------------------------------------------\n",
      "not same game\n",
      "STEAM: Valhall 2000\n",
      "Google: VALHALL\n",
      "https://store.steampowered.com/search/?term=VALHALL\n",
      "-----------------------------------------------\n",
      "No Game Found\n",
      "STEAM: Valhall 2000\n",
      "Google: Beyond Skyrim: Iliac Bay\n",
      "https://store.steampowered.com/search/?term=Beyond Skyrim: Iliac Bay\n",
      "-----------------------------------------------\n",
      "No Game Found\n",
      "STEAM: Skullstone\n",
      "Google: Skullstone\n",
      "https://store.steampowered.com/search/?term=Skullstone\n",
      "-----------------------------------------------\n",
      "No Game Found\n",
      "STEAM: Pigeon Simulator\n",
      "Google: Pigeon Simulator\n",
      "https://store.steampowered.com/search/?term=Pigeon Simulator\n",
      "-----------------------------------------------\n"
     ]
    },
    {
     "name": "stdout",
     "output_type": "stream",
     "text": [
      "not same game\n",
      "STEAM: Bingo on Stream\n",
      "Google: Bingo Time\n",
      "https://store.steampowered.com/search/?term=Bingo Time\n",
      "-----------------------------------------------\n",
      "No Game Found\n",
      "STEAM: Bingo on Stream\n",
      "Google: V.Next\n",
      "https://store.steampowered.com/search/?term=V.Next\n",
      "-----------------------------------------------\n",
      "not same game\n",
      "STEAM: //N.P.P.D. RUSH//- The milk of Ultraviolet\n",
      "Google: Hearts of Violet\n",
      "https://store.steampowered.com/search/?term=Hearts of Violet\n",
      "-----------------------------------------------\n",
      "not same game\n",
      "STEAM: Counter-Strike: Global Offensive\n",
      "Google: #Sohvr\n",
      "https://store.steampowered.com/search/?term=#Sohvr\n",
      "-----------------------------------------------\n",
      "not same game\n",
      "STEAM: Museum of Other Realities - VIFF Immersed 2021\n",
      "Google: Fear Interactive: Deadwood\n",
      "https://store.steampowered.com/search/?term=Fear Interactive: Deadwood\n",
      "-----------------------------------------------\n",
      "No Game Found\n",
      "STEAM: Museum of Other Realities - VIFF Immersed 2021\n",
      "Google: Grand Poo World\n",
      "https://store.steampowered.com/search/?term=Grand Poo World\n",
      "-----------------------------------------------\n",
      "not same game\n",
      "STEAM: Fishing Planet: Lucky Start Pack\n",
      "Google: Lucky 77\n",
      "https://store.steampowered.com/search/?term=Lucky 77\n",
      "-----------------------------------------------\n",
      "not same game\n",
      "STEAM: Hex Commander: Fantasy Heroes\n",
      "Google: Hex Heroes\n",
      "https://store.steampowered.com/search/?term=Hex Heroes\n",
      "-----------------------------------------------\n",
      "not same game\n",
      "STEAM: Sons Of The Forest\n",
      "Google: Where Winter Crows Go\n",
      "https://store.steampowered.com/search/?term=Where Winter Crows Go\n",
      "-----------------------------------------------\n",
      "No Game Found\n",
      "STEAM: Sons Of The Forest\n",
      "Google: Blight: The Stillman Legacy\n",
      "https://store.steampowered.com/search/?term=Blight: The Stillman Legacy\n",
      "-----------------------------------------------\n",
      "not same game\n",
      "STEAM: New Gundam Breaker\n",
      "Google: Meister High\n",
      "https://store.steampowered.com/search/?term=Meister High\n",
      "-----------------------------------------------\n",
      "not same game\n",
      "STEAM: Fantasy Quest Solitaire\n",
      "Google: Isekai Tales\n",
      "https://store.steampowered.com/search/?term=Isekai Tales\n",
      "-----------------------------------------------\n",
      "not same game\n",
      "STEAM: Rogue Legacy 2\n",
      "Google: Ivy Likes Stories\n",
      "https://store.steampowered.com/search/?term=Ivy Likes Stories\n",
      "-----------------------------------------------\n",
      "not same game\n",
      "STEAM: Dying Light 2 Stay Human\n",
      "Google: GreedFall 2: The Dying World\n",
      "https://store.steampowered.com/search/?term=GreedFall 2: The Dying World\n",
      "-----------------------------------------------\n",
      "Changed Date successfully\n",
      "Steam: 2020\n",
      "Google: 2012\n",
      "STEAM: Crushed\n",
      "Google: Crushed\n",
      "https://store.steampowered.com/search/?term=Crushed\n",
      "-----------------------------------------------\n",
      "not same game\n",
      "STEAM: Among Us\n",
      "Google: Among Us 2\n",
      "https://store.steampowered.com/search/?term=Among Us 2\n",
      "-----------------------------------------------\n",
      "not same game\n",
      "STEAM: Stargate: Timekeepers\n",
      "Google: Stargate Timekeepers\n",
      "https://store.steampowered.com/search/?term=Stargate Timekeepers\n",
      "-----------------------------------------------\n",
      "not same game\n",
      "STEAM: Celestial Project\n",
      "Google: Project G.G.\n",
      "https://store.steampowered.com/search/?term=Project G.G.\n",
      "-----------------------------------------------\n",
      "not same game\n",
      "STEAM: It Takes Two\n",
      "Google: Spell It\n",
      "https://store.steampowered.com/search/?term=Spell It\n",
      "-----------------------------------------------\n",
      "Same Year\n",
      "Steam: 2022\n",
      "Google: 2022\n",
      "STEAM: Conan Chop Chop\n",
      "Google: Conan Chop Chop\n",
      "https://store.steampowered.com/search/?term=Conan Chop Chop\n",
      "-----------------------------------------------\n",
      "No Game Found\n",
      "STEAM: Conan Chop Chop\n",
      "Google: Bebylon Battle Royale\n",
      "https://store.steampowered.com/search/?term=Bebylon Battle Royale\n",
      "-----------------------------------------------\n",
      "not same game\n",
      "STEAM: Fantasy Grounds - Summoned Helpers (Token Pack)\n",
      "Google: Astral Hound\n",
      "https://store.steampowered.com/search/?term=Astral Hound\n",
      "-----------------------------------------------\n",
      "not same game\n",
      "STEAM: RPGolf\n",
      "Google: Armed Fantasia\n",
      "https://store.steampowered.com/search/?term=Armed Fantasia\n",
      "-----------------------------------------------\n",
      "not same game\n",
      "STEAM: Alwa's Awakening The 8-Bit Edition\n",
      "Google: Adventure Thru 8-Bit Land\n",
      "https://store.steampowered.com/search/?term=Adventure Thru 8-Bit Land\n",
      "-----------------------------------------------\n",
      "No Game Found\n",
      "STEAM: Alwa's Awakening The 8-Bit Edition\n",
      "Google: Tangible Utopias\n",
      "https://store.steampowered.com/search/?term=Tangible Utopias\n",
      "-----------------------------------------------\n",
      "No Game Found\n",
      "STEAM: Alwa's Awakening The 8-Bit Edition\n",
      "Google: Super Quadruple Dominos\n",
      "https://store.steampowered.com/search/?term=Super Quadruple Dominos\n",
      "-----------------------------------------------\n",
      "No Game Found\n",
      "STEAM: Alwa's Awakening The 8-Bit Edition\n",
      "Google: Wheetago War VR\n",
      "https://store.steampowered.com/search/?term=Wheetago War VR\n",
      "-----------------------------------------------\n",
      "not same game\n",
      "STEAM: A Plague Tale: Requiem\n",
      "Google: Requiem\n",
      "https://store.steampowered.com/search/?term=Requiem\n",
      "-----------------------------------------------\n",
      "not same game\n",
      "STEAM: Gunfire Reborn\n",
      "Google: Reborn\n",
      "https://store.steampowered.com/search/?term=Reborn\n",
      "-----------------------------------------------\n",
      "not same game\n",
      "STEAM: Exile Squadron\n",
      "Google: Fighter Squadron\n",
      "https://store.steampowered.com/search/?term=Fighter Squadron\n",
      "-----------------------------------------------\n",
      "not same game\n",
      "STEAM: Long Live the King!\n",
      "Google: Long Live the King\n",
      "https://store.steampowered.com/search/?term=Long Live the King\n",
      "-----------------------------------------------\n",
      "Same Year\n",
      "Steam: 2022\n",
      "Google: 2022\n",
      "STEAM: Skeleton Crew\n",
      "Google: Skeleton Crew\n",
      "https://store.steampowered.com/search/?term=Skeleton Crew\n",
      "-----------------------------------------------\n",
      "not same game\n",
      "STEAM: Worse Than Death\n",
      "Google: Death Cycle: Xbox 360\n",
      "https://store.steampowered.com/search/?term=Death Cycle: Xbox 360\n",
      "-----------------------------------------------\n",
      "No Game Found\n",
      "STEAM: Worse Than Death\n",
      "Google: PsychoDive\n",
      "https://store.steampowered.com/search/?term=PsychoDive\n",
      "-----------------------------------------------\n",
      "Same Year\n",
      "Steam: 2023\n",
      "Google: 2023\n",
      "STEAM: Kiss/OFF\n",
      "Google: Kiss/OFF\n",
      "https://store.steampowered.com/search/?term=Kiss/OFF\n",
      "-----------------------------------------------\n",
      "not same game\n",
      "STEAM: Prodigy Tactics\n",
      "Google: Prodigy\n",
      "https://store.steampowered.com/search/?term=Prodigy\n",
      "-----------------------------------------------\n",
      "No Game Found\n",
      "STEAM: Prodigy Tactics\n",
      "Google: My Dear Delirium\n",
      "https://store.steampowered.com/search/?term=My Dear Delirium\n",
      "-----------------------------------------------\n",
      "not same game\n",
      "STEAM: Inked: A Tale of Love\n",
      "Google: We're Back! A Dinosaur's Tale\n",
      "https://store.steampowered.com/search/?term=We're Back! A Dinosaur's Tale\n",
      "-----------------------------------------------\n",
      "No Game Found\n",
      "STEAM: Inked: A Tale of Love\n",
      "Google: Fate/Extra Record\n",
      "https://store.steampowered.com/search/?term=Fate/Extra Record\n",
      "-----------------------------------------------\n",
      "No Game Found\n",
      "STEAM: Inked: A Tale of Love\n",
      "Google: Scuffle Royale\n",
      "https://store.steampowered.com/search/?term=Scuffle Royale\n",
      "-----------------------------------------------\n",
      "No Game Found\n",
      "STEAM: Inked: A Tale of Love\n",
      "Google: Ondadaad\n",
      "https://store.steampowered.com/search/?term=Ondadaad\n",
      "-----------------------------------------------\n",
      "No Game Found\n",
      "STEAM: In Blood\n",
      "Google: In Blood\n",
      "https://store.steampowered.com/search/?term=In Blood\n",
      "-----------------------------------------------\n",
      "No Game Found\n",
      "STEAM: In Blood\n",
      "Google: Project Tingler\n",
      "https://store.steampowered.com/search/?term=Project Tingler\n",
      "-----------------------------------------------\n",
      "No Game Found\n",
      "STEAM: In Blood\n",
      "Google: Wayholm\n",
      "https://store.steampowered.com/search/?term=Wayholm\n",
      "-----------------------------------------------\n",
      "No Game Found\n",
      "STEAM: In Blood\n",
      "Google: An Otaku's Guide to Santa's Reindeer\n",
      "https://store.steampowered.com/search/?term=An Otaku's Guide to Santa's Reindeer\n",
      "-----------------------------------------------\n",
      "No Game Found\n",
      "STEAM: In Blood\n",
      "Google: The Silver Lining: Episode 5 - A Thousand Times Goodnight\n",
      "https://store.steampowered.com/search/?term=The Silver Lining: Episode 5 - A Thousand Times Goodnight\n",
      "-----------------------------------------------\n",
      "not same game\n",
      "STEAM: Spelling Quest Online\n",
      "Google: Spelling\n",
      "https://store.steampowered.com/search/?term=Spelling\n",
      "-----------------------------------------------\n"
     ]
    },
    {
     "name": "stdout",
     "output_type": "stream",
     "text": [
      "not same game\n",
      "STEAM: Endlanders : First Encounter\n",
      "Google: First Encounter\n",
      "https://store.steampowered.com/search/?term=First Encounter\n",
      "-----------------------------------------------\n",
      "not same game\n",
      "STEAM: Astro Colony\n",
      "Google: Astro\n",
      "https://store.steampowered.com/search/?term=Astro\n",
      "-----------------------------------------------\n",
      "No Game Found\n",
      "STEAM: Astro Colony\n",
      "Google: Microcandy\n",
      "https://store.steampowered.com/search/?term=Microcandy\n",
      "-----------------------------------------------\n",
      "not same game\n",
      "STEAM: Resume: The Video Game\n",
      "Google: 2nd Generation: The Video Game\n",
      "https://store.steampowered.com/search/?term=2nd Generation: The Video Game\n",
      "-----------------------------------------------\n",
      "No Game Found\n",
      "STEAM: Resume: The Video Game\n",
      "Google: Tornuktu\n",
      "https://store.steampowered.com/search/?term=Tornuktu\n",
      "-----------------------------------------------\n",
      "No Game Found\n",
      "STEAM: Resume: The Video Game\n",
      "Google: Live on: The Astray Message\n",
      "https://store.steampowered.com/search/?term=Live on: The Astray Message\n",
      "-----------------------------------------------\n",
      "No Game Found\n",
      "STEAM: Resume: The Video Game\n",
      "Google: Noraut Deluxe Poker\n",
      "https://store.steampowered.com/search/?term=Noraut Deluxe Poker\n",
      "-----------------------------------------------\n",
      "not same game\n",
      "STEAM: The Perdition Man: Interval\n",
      "Google: The Trillium Horrors: Frostbitten\n",
      "https://store.steampowered.com/search/?term=The Trillium Horrors: Frostbitten\n",
      "-----------------------------------------------\n",
      "No Game Found\n",
      "STEAM: The Perdition Man: Interval\n",
      "Google: Malzak\n",
      "https://store.steampowered.com/search/?term=Malzak\n",
      "-----------------------------------------------\n",
      "No Game Found\n",
      "STEAM: The Perdition Man: Interval\n",
      "Google: Aeryn: Nightmares of Fau\n",
      "https://store.steampowered.com/search/?term=Aeryn: Nightmares of Fau\n",
      "-----------------------------------------------\n",
      "not same game\n",
      "STEAM: Rocksmith 2014 – Philip Sayce - “Out of My Mind”\n",
      "Google: Deception of My Mind\n",
      "https://store.steampowered.com/search/?term=Deception of My Mind\n",
      "-----------------------------------------------\n",
      "not same game\n",
      "STEAM: Giants Uprising\n",
      "Google: Uprising\n",
      "https://store.steampowered.com/search/?term=Uprising\n",
      "-----------------------------------------------\n",
      "not same game\n",
      "STEAM: 12 Labours of Hercules\n",
      "Google: Magic 12\n",
      "https://store.steampowered.com/search/?term=Magic 12\n",
      "-----------------------------------------------\n",
      "No Game Found\n",
      "STEAM: Billy Saves the World\n",
      "Google: Billy Saves the World\n",
      "https://store.steampowered.com/search/?term=Billy Saves the World\n",
      "-----------------------------------------------\n",
      "not same game\n",
      "STEAM: Vortex: The Gateway\n",
      "Google: The Vortex Adventures\n",
      "https://store.steampowered.com/search/?term=The Vortex Adventures\n",
      "-----------------------------------------------\n",
      "not same game\n",
      "STEAM: Sons Of The Forest\n",
      "Google: The Alone\n",
      "https://store.steampowered.com/search/?term=The Alone\n",
      "-----------------------------------------------\n",
      "not same game\n",
      "STEAM: Tokyo 42\n",
      "Google: Tokyo42\n",
      "https://store.steampowered.com/search/?term=Tokyo42\n",
      "-----------------------------------------------\n",
      "not same game\n",
      "STEAM: Worse Than Death\n",
      "Google: Death Cycle: Xbox 360\n",
      "https://store.steampowered.com/search/?term=Death Cycle: Xbox 360\n",
      "-----------------------------------------------\n",
      "not same game\n",
      "STEAM: Everpixel Tactics\n",
      "Google: Samurai Unicorn\n",
      "https://store.steampowered.com/search/?term=Samurai Unicorn\n",
      "-----------------------------------------------\n",
      "No Game Found\n",
      "STEAM: Everpixel Tactics\n",
      "Google: Draw Poker Superstar\n",
      "https://store.steampowered.com/search/?term=Draw Poker Superstar\n",
      "-----------------------------------------------\n",
      "not same game\n",
      "STEAM: Fabled Lands\n",
      "Google: Troubadour\n",
      "https://store.steampowered.com/search/?term=Troubadour\n",
      "-----------------------------------------------\n",
      "not same game\n",
      "STEAM: Mortal Glory\n",
      "Google: Glory\n",
      "https://store.steampowered.com/search/?term=Glory\n",
      "-----------------------------------------------\n",
      "not same game\n",
      "STEAM: Showgunners Demo\n",
      "Google: Homicidal Allstars\n",
      "https://store.steampowered.com/search/?term=Homicidal Allstars\n",
      "-----------------------------------------------\n",
      "not same game\n",
      "STEAM: Stories: The Path Of Destinies Artbook\n",
      "Google: Atmorria: The Book of Dev\n",
      "https://store.steampowered.com/search/?term=Atmorria: The Book of Dev\n",
      "-----------------------------------------------\n",
      "not same game\n",
      "STEAM: PHOTON CUBE\n",
      "Google: Photon\n",
      "https://store.steampowered.com/search/?term=Photon\n",
      "-----------------------------------------------\n",
      "not same game\n",
      "STEAM: Sinister Night\n",
      "Google: Sinister Within\n",
      "https://store.steampowered.com/search/?term=Sinister Within\n",
      "-----------------------------------------------\n",
      "No Game Found\n",
      "STEAM: Sinister Night\n",
      "Google: Masternever and the Flow of Death\n",
      "https://store.steampowered.com/search/?term=Masternever and the Flow of Death\n",
      "-----------------------------------------------\n",
      "No Game Found\n",
      "STEAM: Sinister Night\n",
      "Google: WordTrap Dungeon\n",
      "https://store.steampowered.com/search/?term=WordTrap Dungeon\n",
      "-----------------------------------------------\n",
      "No Game Found\n",
      "STEAM: Sinister Night\n",
      "Google: Umboo\n",
      "https://store.steampowered.com/search/?term=Umboo\n",
      "-----------------------------------------------\n",
      "not same game\n",
      "STEAM: Wasteland 2: Director's Cut\n",
      "Google: Justice in Unity: Redux\n",
      "https://store.steampowered.com/search/?term=Justice in Unity: Redux\n",
      "-----------------------------------------------\n",
      "not same game\n",
      "STEAM: ENDLESS Dungeon\n",
      "Google: Space Dungeon\n",
      "https://store.steampowered.com/search/?term=Space Dungeon\n",
      "-----------------------------------------------\n",
      "No Game Found\n",
      "STEAM: ENDLESS Dungeon\n",
      "Google: Renovatio\n",
      "https://store.steampowered.com/search/?term=Renovatio\n",
      "-----------------------------------------------\n",
      "not same game\n",
      "STEAM: Mindbytes: Learn to Read Japanese\n",
      "Google: Read, Write & Type\n",
      "https://store.steampowered.com/search/?term=Read, Write & Type\n",
      "-----------------------------------------------\n",
      "No Game Found\n",
      "STEAM: Mindbytes: Learn to Read Japanese\n",
      "Google: Bearwood Park\n",
      "https://store.steampowered.com/search/?term=Bearwood Park\n",
      "-----------------------------------------------\n",
      "not same game\n",
      "STEAM: Existential Kitty Cat RPG\n",
      "Google: Kingdom Kitty\n",
      "https://store.steampowered.com/search/?term=Kingdom Kitty\n",
      "-----------------------------------------------\n",
      "Same Year\n",
      "Steam: 2023\n",
      "Google: 2023\n",
      "STEAM: The Safe Place\n",
      "Google: The Safe Place\n",
      "https://store.steampowered.com/search/?term=The Safe Place\n",
      "-----------------------------------------------\n",
      "Same Year\n",
      "Steam: 2023\n",
      "Google: 2023\n",
      "STEAM: Farewell North\n",
      "Google: Farewell North\n",
      "https://store.steampowered.com/search/?term=Farewell North\n",
      "-----------------------------------------------\n",
      "not same game\n",
      "STEAM: AstroCleaners\n",
      "Google: Astro Killer\n",
      "https://store.steampowered.com/search/?term=Astro Killer\n",
      "-----------------------------------------------\n",
      "not same game\n",
      "STEAM: Incredible Dracula: Witches' Curse\n",
      "Google: Incredible Journey\n",
      "https://store.steampowered.com/search/?term=Incredible Journey\n",
      "-----------------------------------------------\n",
      "not same game\n",
      "STEAM: What The Dub?!\n",
      "Google: España\n",
      "https://store.steampowered.com/search/?term=España\n",
      "-----------------------------------------------\n",
      "No Game Found\n",
      "STEAM: Orbisia\n",
      "Google: Orbisia\n",
      "https://store.steampowered.com/search/?term=Orbisia\n",
      "-----------------------------------------------\n",
      "not same game\n",
      "STEAM: Gloria Victis: Medieval MMORPG\n",
      "Google: Skill Mmorpg\n",
      "https://store.steampowered.com/search/?term=Skill Mmorpg\n",
      "-----------------------------------------------\n",
      "Same Year\n",
      "Steam: 2024\n",
      "Google: 2024\n",
      "STEAM: The Doomed Knight\n",
      "Google: The Doomed Knight\n",
      "https://store.steampowered.com/search/?term=The Doomed Knight\n",
      "-----------------------------------------------\n",
      "No Game Found\n",
      "STEAM: The Doomed Knight\n",
      "Google: 3-4-5 Bingo\n",
      "https://store.steampowered.com/search/?term=3-4-5 Bingo\n",
      "-----------------------------------------------\n",
      "not same game\n",
      "STEAM: 花妖物语/Flower girl - 5个新角色大礼包/5 new characters bonus\n",
      "Google: Cherry Bonus II\n",
      "https://store.steampowered.com/search/?term=Cherry Bonus II\n",
      "-----------------------------------------------\n",
      "Same Year\n",
      "Steam: 2022\n",
      "Google: 2022\n",
      "STEAM: The Anacrusis\n",
      "Google: The Anacrusis\n",
      "https://store.steampowered.com/search/?term=The Anacrusis\n",
      "-----------------------------------------------\n",
      "No Game Found\n",
      "STEAM: Foolish Mortals\n",
      "Google: Foolish Mortals\n",
      "https://store.steampowered.com/search/?term=Foolish Mortals\n",
      "-----------------------------------------------\n"
     ]
    },
    {
     "name": "stdout",
     "output_type": "stream",
     "text": [
      "Changed Date successfully\n",
      "Steam: 2013\n",
      "Google: 2022\n",
      "STEAM: Darkout\n",
      "Google: Darkout\n",
      "https://store.steampowered.com/search/?term=Darkout\n",
      "-----------------------------------------------\n",
      "No Game Found\n",
      "STEAM: Darkout\n",
      "Google: UBI Cocktail Table\n",
      "https://store.steampowered.com/search/?term=UBI Cocktail Table\n",
      "-----------------------------------------------\n",
      "not same game\n",
      "STEAM: Red Black Poker\n",
      "Google: Double Joker Poker\n",
      "https://store.steampowered.com/search/?term=Double Joker Poker\n",
      "-----------------------------------------------\n",
      "not same game\n",
      "STEAM: Jurassic World Evolution: Carnivore Dinosaur Pack\n",
      "Google: Nasal & Co.\n",
      "https://store.steampowered.com/search/?term=Nasal & Co.\n",
      "-----------------------------------------------\n",
      "No Game Found\n",
      "STEAM: Jurassic World Evolution: Carnivore Dinosaur Pack\n",
      "Google: Hi-Lo 8 Lines\n",
      "https://store.steampowered.com/search/?term=Hi-Lo 8 Lines\n",
      "-----------------------------------------------\n",
      "Same Year\n",
      "Steam: 2020\n",
      "Google: 2020\n",
      "STEAM: SUPER DRINK BROS.\n",
      "Google: Super Drink Bros.\n",
      "https://store.steampowered.com/search/?term=Super Drink Bros.\n",
      "-----------------------------------------------\n",
      "not same game\n",
      "STEAM: Meteor World Actor: Badge & Dagger\n",
      "Google: Badge\n",
      "https://store.steampowered.com/search/?term=Badge\n",
      "-----------------------------------------------\n",
      "not same game\n",
      "STEAM: Fidget Spinner Editor\n",
      "Google: Wolverine High Score\n",
      "https://store.steampowered.com/search/?term=Wolverine High Score\n",
      "-----------------------------------------------\n",
      "not same game\n",
      "STEAM: Heroes of Might & Magic III - HD Edition\n",
      "Google: Dragon Quest III HD-2D Remake\n",
      "https://store.steampowered.com/search/?term=Dragon Quest III HD-2D Remake\n",
      "-----------------------------------------------\n",
      "No Game Found\n",
      "STEAM: Legends of the Brawl\n",
      "Google: Legends of the Brawl\n",
      "https://store.steampowered.com/search/?term=Legends of the Brawl\n",
      "-----------------------------------------------\n",
      "not same game\n",
      "STEAM: HIGhSCORE\n",
      "Google: High Score\n",
      "https://store.steampowered.com/search/?term=High Score\n",
      "-----------------------------------------------\n",
      "Changed Date successfully\n",
      "Steam: 2022\n",
      "Google: 0\n",
      "STEAM: Total Rendition\n",
      "Google: Total Rendition\n",
      "https://store.steampowered.com/search/?term=Total Rendition\n",
      "-----------------------------------------------\n",
      "No Game Found\n",
      "STEAM: The Last Defender\n",
      "Google: The Last Defender\n",
      "https://store.steampowered.com/search/?term=The Last Defender\n",
      "-----------------------------------------------\n",
      "No Game Found\n",
      "STEAM: After Us\n",
      "Google: After Us\n",
      "https://store.steampowered.com/search/?term=After Us\n",
      "-----------------------------------------------\n",
      "not same game\n",
      "STEAM: Line Hold\n",
      "Google: Hold & Draw\n",
      "https://store.steampowered.com/search/?term=Hold & Draw\n",
      "-----------------------------------------------\n",
      "not same game\n",
      "STEAM: Blind Descent\n",
      "Google: Descent: Underground\n",
      "https://store.steampowered.com/search/?term=Descent: Underground\n",
      "-----------------------------------------------\n",
      "not same game\n",
      "STEAM: Black Noir\n",
      "Google: Borderline Detective\n",
      "https://store.steampowered.com/search/?term=Borderline Detective\n",
      "-----------------------------------------------\n",
      "No Game Found\n",
      "STEAM: Black Noir\n",
      "Google: Galactica - Batalha Espacial\n",
      "https://store.steampowered.com/search/?term=Galactica - Batalha Espacial\n",
      "-----------------------------------------------\n",
      "No Game Found\n",
      "STEAM: Black Noir\n",
      "Google: Fruity Pebbles Beach Break\n",
      "https://store.steampowered.com/search/?term=Fruity Pebbles Beach Break\n",
      "-----------------------------------------------\n",
      "No Game Found\n",
      "STEAM: Black Noir\n",
      "Google: Amnesia: Rebirth SK\n",
      "https://store.steampowered.com/search/?term=Amnesia: Rebirth SK\n",
      "-----------------------------------------------\n",
      "not same game\n",
      "STEAM: Hank: Drowning On Dry Land\n",
      "Google: Hank Drowning on Dry Land\n",
      "https://store.steampowered.com/search/?term=Hank Drowning on Dry Land\n",
      "-----------------------------------------------\n",
      "No Game Found\n",
      "STEAM: Hank: Drowning On Dry Land\n",
      "Google: Planetaria Concursus\n",
      "https://store.steampowered.com/search/?term=Planetaria Concursus\n",
      "-----------------------------------------------\n",
      "No Game Found\n",
      "STEAM: Hank: Drowning On Dry Land\n",
      "Google: Math Flashcards\n",
      "https://store.steampowered.com/search/?term=Math Flashcards\n",
      "-----------------------------------------------\n",
      "not same game\n",
      "STEAM: One Deck Dungeon\n",
      "Google: Double Deck\n",
      "https://store.steampowered.com/search/?term=Double Deck\n",
      "-----------------------------------------------\n",
      "not same game\n",
      "STEAM: Wander Hero\n",
      "Google: Wandering Knight\n",
      "https://store.steampowered.com/search/?term=Wandering Knight\n",
      "-----------------------------------------------\n",
      "No Game Found\n",
      "STEAM: Wander Hero\n",
      "Google: Judge Dredd 'halls of Justice'\n",
      "https://store.steampowered.com/search/?term=Judge Dredd 'halls of Justice'\n",
      "-----------------------------------------------\n",
      "not same game\n",
      "STEAM: Beneath The Cherry Trees\n",
      "Google: Cherry Chance\n",
      "https://store.steampowered.com/search/?term=Cherry Chance\n",
      "-----------------------------------------------\n",
      "not same game\n",
      "STEAM: Killer Gin\n",
      "Google: Gin!\n",
      "https://store.steampowered.com/search/?term=Gin!\n",
      "-----------------------------------------------\n",
      "not same game\n",
      "STEAM: The Jackbox Party Pack 3\n",
      "Google: The Three Stooges Trivia\n",
      "https://store.steampowered.com/search/?term=The Three Stooges Trivia\n",
      "-----------------------------------------------\n",
      "not same game\n",
      "STEAM: Infernal Racket\n",
      "Google: Infernal Challenge\n",
      "https://store.steampowered.com/search/?term=Infernal Challenge\n",
      "-----------------------------------------------\n",
      "No Game Found\n",
      "STEAM: Infernal Racket\n",
      "Google: LucusK\n",
      "https://store.steampowered.com/search/?term=LucusK\n",
      "-----------------------------------------------\n",
      "Same Year\n",
      "Steam: 2021\n",
      "Google: 2021\n",
      "STEAM: Zombie Watch\n",
      "Google: Zombie Watch\n",
      "https://store.steampowered.com/search/?term=Zombie Watch\n",
      "-----------------------------------------------\n",
      "not same game\n",
      "STEAM: FSX Steam Edition: Airbus A320/A321 Add-On\n",
      "Google: Model 320\n",
      "https://store.steampowered.com/search/?term=Model 320\n",
      "-----------------------------------------------\n",
      "not same game\n",
      "STEAM: Joker Poker - Video Poker\n",
      "Google: Joker Poker\n",
      "https://store.steampowered.com/search/?term=Joker Poker\n",
      "-----------------------------------------------\n",
      "not same game\n",
      "STEAM: Geography Quiz\n",
      "Google: Fun World Quiz\n",
      "https://store.steampowered.com/search/?term=Fun World Quiz\n",
      "-----------------------------------------------\n",
      "No Game Found\n",
      "STEAM: Geography Quiz\n",
      "Google: 7 e mezzo\n",
      "https://store.steampowered.com/search/?term=7 e mezzo\n",
      "-----------------------------------------------\n",
      "not same game\n",
      "STEAM: FunnyPizzaLand 2\n",
      "Google: Horror Land 2\n",
      "https://store.steampowered.com/search/?term=Horror Land 2\n",
      "-----------------------------------------------\n",
      "not same game\n",
      "STEAM: Tennis Manager 2021\n",
      "Google: Pro Soccer - Pro Tennis\n",
      "https://store.steampowered.com/search/?term=Pro Soccer - Pro Tennis\n",
      "-----------------------------------------------\n",
      "not same game\n",
      "STEAM: Crux: The Great Outdoors\n",
      "Google: The Great Outdoors\n",
      "https://store.steampowered.com/search/?term=The Great Outdoors\n",
      "-----------------------------------------------\n",
      "No Game Found\n",
      "STEAM: Gates of Mirnah\n",
      "Google: Gates of Mirnah\n",
      "https://store.steampowered.com/search/?term=Gates of Mirnah\n",
      "-----------------------------------------------\n",
      "No Game Found\n",
      "STEAM: Gates of Mirnah\n",
      "Google: Shingeki no kyojin: Team Battle\n",
      "https://store.steampowered.com/search/?term=Shingeki no kyojin: Team Battle\n",
      "-----------------------------------------------\n",
      "not same game\n",
      "STEAM: Indie Game: The Movie\n",
      "Google: Super Leaf Productions the Video Game\n",
      "https://store.steampowered.com/search/?term=Super Leaf Productions the Video Game\n",
      "-----------------------------------------------\n",
      "not same game\n",
      "STEAM: Escape Academy Deluxe Edition\n",
      "Google: Escape Academy: Escape from the Past\n",
      "https://store.steampowered.com/search/?term=Escape Academy: Escape from the Past\n",
      "-----------------------------------------------\n",
      "Changed Date successfully\n",
      "Steam: 2023\n",
      "Google: 1990\n",
      "STEAM: GENIE\n",
      "Google: Genie\n",
      "https://store.steampowered.com/search/?term=Genie\n",
      "-----------------------------------------------\n",
      "not same game\n",
      "STEAM: Operation Flashpoint: Dragon Rising\n",
      "Google: Dragon Rising\n",
      "https://store.steampowered.com/search/?term=Dragon Rising\n",
      "-----------------------------------------------\n",
      "No Game Found\n",
      "STEAM: Operation Flashpoint: Dragon Rising\n",
      "Google: NarKarma EngineA\n",
      "https://store.steampowered.com/search/?term=NarKarma EngineA\n",
      "-----------------------------------------------\n"
     ]
    },
    {
     "name": "stdout",
     "output_type": "stream",
     "text": [
      "Changed Date successfully\n",
      "Steam: 2017\n",
      "Google: 2009\n",
      "STEAM: Collision Course\n",
      "Google: Collision Course\n",
      "https://store.steampowered.com/search/?term=Collision Course\n",
      "-----------------------------------------------\n",
      "not same game\n",
      "STEAM: Dishonored: Death of the Outsider\n",
      "Google: The Shadow Clubs\n",
      "https://store.steampowered.com/search/?term=The Shadow Clubs\n",
      "-----------------------------------------------\n",
      "No Game Found\n",
      "STEAM: Dishonored: Death of the Outsider\n",
      "Google: Pilgrimage-Shinshin Dojo\n",
      "https://store.steampowered.com/search/?term=Pilgrimage-Shinshin Dojo\n",
      "-----------------------------------------------\n",
      "No Game Found\n",
      "STEAM: Knuckle Sandwich\n",
      "Google: Knuckle Sandwich\n",
      "https://store.steampowered.com/search/?term=Knuckle Sandwich\n",
      "-----------------------------------------------\n",
      "not same game\n",
      "STEAM: Garage Flipper\n",
      "Google: Flipper Jack\n",
      "https://store.steampowered.com/search/?term=Flipper Jack\n",
      "-----------------------------------------------\n",
      "No Game Found\n",
      "STEAM: Garage Flipper\n",
      "Google: Treasurenauts\n",
      "https://store.steampowered.com/search/?term=Treasurenauts\n",
      "-----------------------------------------------\n",
      "not same game\n",
      "STEAM: Tower Unite\n",
      "\n",
      "VR Supported\n",
      "Google: Quick Draw Poker\n",
      "https://store.steampowered.com/search/?term=Quick Draw Poker\n",
      "-----------------------------------------------\n",
      "No Game Found\n",
      "STEAM: Tower Unite\n",
      "\n",
      "VR Supported\n",
      "Google: Fourcourt - TV Halgame\n",
      "https://store.steampowered.com/search/?term=Fourcourt - TV Halgame\n",
      "-----------------------------------------------\n",
      "No Game Found\n",
      "STEAM: Tower Unite\n",
      "\n",
      "VR Supported\n",
      "Google: Truco-Tron\n",
      "https://store.steampowered.com/search/?term=Truco-Tron\n",
      "-----------------------------------------------\n",
      "not same game\n",
      "STEAM: RimWorld\n",
      "Google: Frozen Colony\n",
      "https://store.steampowered.com/search/?term=Frozen Colony\n",
      "-----------------------------------------------\n",
      "not same game\n",
      "STEAM: Forgotten Realms: The Archives - Collection Two\n",
      "Google: Brink Universe Unlimited: Supernovaman\n",
      "https://store.steampowered.com/search/?term=Brink Universe Unlimited: Supernovaman\n",
      "-----------------------------------------------\n",
      "Changed Date successfully\n",
      "Steam: 2016\n",
      "Google: 2015\n",
      "STEAM: MechRunner\n",
      "Google: MechRunner\n",
      "https://store.steampowered.com/search/?term=MechRunner\n",
      "-----------------------------------------------\n",
      "Changed Date successfully\n",
      "Steam: 2015\n",
      "Google: 0\n",
      "STEAM: Sirius\n",
      "Google: Sirius\n",
      "https://store.steampowered.com/search/?term=Sirius\n",
      "-----------------------------------------------\n",
      "not same game\n",
      "STEAM: Zup! [6-10]\n",
      "Google: 610\n",
      "https://store.steampowered.com/search/?term=610\n",
      "-----------------------------------------------\n",
      "No Game Found\n",
      "STEAM: Zup! [6-10]\n",
      "Google: Terraknown\n",
      "https://store.steampowered.com/search/?term=Terraknown\n",
      "-----------------------------------------------\n",
      "No Game Found\n",
      "STEAM: Battle Commanders\n",
      "Google: Battle Commanders\n",
      "https://store.steampowered.com/search/?term=Battle Commanders\n",
      "-----------------------------------------------\n",
      "not same game\n",
      "STEAM: Don't Give Up: Not Ready to Die\n",
      "Google: Ready to Run\n",
      "https://store.steampowered.com/search/?term=Ready to Run\n",
      "-----------------------------------------------\n",
      "No Game Found\n",
      "STEAM: Don't Give Up: Not Ready to Die\n",
      "Google: Istrebiteli\n",
      "https://store.steampowered.com/search/?term=Istrebiteli\n",
      "-----------------------------------------------\n",
      "Changed Date successfully\n",
      "Steam: 2018\n",
      "Google: 0\n",
      "STEAM: Mahjong Club\n",
      "Google: Mahjong Club\n",
      "https://store.steampowered.com/search/?term=Mahjong Club\n",
      "-----------------------------------------------\n",
      "No Game Found\n",
      "STEAM: Mahjong Club\n",
      "Google: Alice in Darknet\n",
      "https://store.steampowered.com/search/?term=Alice in Darknet\n",
      "-----------------------------------------------\n",
      "not same game\n",
      "STEAM: Galactoids - Galactic Invaders\n",
      "Google: Galactic Invaders\n",
      "https://store.steampowered.com/search/?term=Galactic Invaders\n",
      "-----------------------------------------------\n",
      "No Game Found\n",
      "STEAM: Galactoids - Galactic Invaders\n",
      "Google: Hexian X\n",
      "https://store.steampowered.com/search/?term=Hexian X\n",
      "-----------------------------------------------\n",
      "Same Year\n",
      "Steam: 2023\n",
      "Google: 2023\n",
      "STEAM: Ashfall\n",
      "Google: Ashfall\n",
      "https://store.steampowered.com/search/?term=Ashfall\n",
      "-----------------------------------------------\n",
      "No Game Found\n",
      "STEAM: Ashfall\n",
      "Google: Brain Quest: Multimedia - Grades 2 & 3\n",
      "https://store.steampowered.com/search/?term=Brain Quest: Multimedia - Grades 2 & 3\n",
      "-----------------------------------------------\n",
      "not same game\n",
      "STEAM: Univers 11: Under the Sky\n",
      "Google: Univers 2\n",
      "https://store.steampowered.com/search/?term=Univers 2\n",
      "-----------------------------------------------\n",
      "not same game\n",
      "STEAM: Encore Casino Games Collection\n",
      "Google: Draw Poker Hi-Lo\n",
      "https://store.steampowered.com/search/?term=Draw Poker Hi-Lo\n",
      "-----------------------------------------------\n",
      "No Game Found\n",
      "STEAM: BADA Space Station\n",
      "Google: BADA Space Station\n",
      "https://store.steampowered.com/search/?term=BADA Space Station\n",
      "-----------------------------------------------\n",
      "No Game Found\n",
      "STEAM: BADA Space Station\n",
      "Google: Perxor\n",
      "https://store.steampowered.com/search/?term=Perxor\n",
      "-----------------------------------------------\n",
      "No Game Found\n",
      "STEAM: BADA Space Station\n",
      "Google: Dillingham\n",
      "https://store.steampowered.com/search/?term=Dillingham\n",
      "-----------------------------------------------\n",
      "not same game\n",
      "STEAM: Fantasy Quest Solitaire\n",
      "Google: Sacred Earth - Reverie\n",
      "https://store.steampowered.com/search/?term=Sacred Earth - Reverie\n",
      "-----------------------------------------------\n",
      "not same game\n",
      "STEAM: Strike Force: Desert Thunder\n",
      "Google: Desert Strike Tactics\n",
      "https://store.steampowered.com/search/?term=Desert Strike Tactics\n",
      "-----------------------------------------------\n",
      "No Game Found\n",
      "STEAM: Strike Force: Desert Thunder\n",
      "Google: Crosscraft and the Overcraft\n",
      "https://store.steampowered.com/search/?term=Crosscraft and the Overcraft\n",
      "-----------------------------------------------\n",
      "not same game\n",
      "STEAM: Deep Rock Galactic: Survivor\n",
      "Google: Deep Within\n",
      "https://store.steampowered.com/search/?term=Deep Within\n",
      "-----------------------------------------------\n",
      "not same game\n",
      "STEAM: Solasta: Crown of the Magister\n",
      "Google: Valley of Heroes\n",
      "https://store.steampowered.com/search/?term=Valley of Heroes\n",
      "-----------------------------------------------\n",
      "Changed Date successfully\n",
      "Steam: 2023\n",
      "Google: 0\n",
      "STEAM: House Flipper - Farm DLC\n",
      "Google: House Flipper - Farm DLC\n",
      "https://store.steampowered.com/search/?term=House Flipper - Farm DLC\n",
      "-----------------------------------------------\n",
      "not same game\n",
      "STEAM: Night of the Blood Moon\n",
      "Google: Eclipse: Both Sides of the Moon\n",
      "https://store.steampowered.com/search/?term=Eclipse: Both Sides of the Moon\n",
      "-----------------------------------------------\n",
      "No Game Found\n",
      "STEAM: Night of the Blood Moon\n",
      "Google: Tele-Ball\n",
      "https://store.steampowered.com/search/?term=Tele-Ball\n",
      "-----------------------------------------------\n",
      "No Game Found\n",
      "STEAM: Night of the Blood Moon\n",
      "Google: Koisuru ryuuousama\n",
      "https://store.steampowered.com/search/?term=Koisuru ryuuousama\n",
      "-----------------------------------------------\n",
      "Changed Date successfully\n",
      "Steam: 2019\n",
      "Google: 0\n",
      "STEAM: Retro Rockets\n",
      "Google: Retro Rockets\n",
      "https://store.steampowered.com/search/?term=Retro Rockets\n",
      "-----------------------------------------------\n",
      "not same game\n",
      "STEAM: Casino Inc.\n",
      "Google: Fun Casino II\n",
      "https://store.steampowered.com/search/?term=Fun Casino II\n",
      "-----------------------------------------------\n",
      "Changed Date successfully\n",
      "Steam: 2020\n",
      "Google: 2022\n",
      "STEAM: Star Island\n",
      "Google: Star Island\n",
      "https://store.steampowered.com/search/?term=Star Island\n",
      "-----------------------------------------------\n",
      "No Game Found\n",
      "STEAM: Mira's Tale\n",
      "Google: Mira's Tale\n",
      "https://store.steampowered.com/search/?term=Mira's Tale\n",
      "-----------------------------------------------\n",
      "not same game\n",
      "STEAM: Night in the Woods\n",
      "Google: Slide in the Woods\n",
      "https://store.steampowered.com/search/?term=Slide in the Woods\n",
      "-----------------------------------------------\n",
      "No Game Found\n",
      "STEAM: Night in the Woods\n",
      "Google: Mamma VR\n",
      "https://store.steampowered.com/search/?term=Mamma VR\n",
      "-----------------------------------------------\n",
      "not same game\n",
      "STEAM: rooMaze\n",
      "Google: Project Roo\n",
      "https://store.steampowered.com/search/?term=Project Roo\n",
      "-----------------------------------------------\n",
      "No Game Found\n",
      "STEAM: rooMaze\n",
      "Google: Waluigi's Warehouse\n",
      "https://store.steampowered.com/search/?term=Waluigi's Warehouse\n",
      "-----------------------------------------------\n"
     ]
    },
    {
     "name": "stdout",
     "output_type": "stream",
     "text": [
      "Changed Date successfully\n",
      "Steam: 2019\n",
      "Google: 0\n",
      "STEAM: Fragile Fighter\n",
      "Google: Fragile Fighter\n",
      "https://store.steampowered.com/search/?term=Fragile Fighter\n",
      "-----------------------------------------------\n",
      "No Game Found\n",
      "STEAM: Fragile Fighter\n",
      "Google: Odonis Orphane\n",
      "https://store.steampowered.com/search/?term=Odonis Orphane\n",
      "-----------------------------------------------\n",
      "No Game Found\n",
      "STEAM: Fragile Fighter\n",
      "Google: Gyangureivu\n",
      "https://store.steampowered.com/search/?term=Gyangureivu\n",
      "-----------------------------------------------\n",
      "Changed Date successfully\n",
      "Steam: 2024\n",
      "Google: 0\n",
      "STEAM: Lorne\n",
      "Google: Lorne\n",
      "https://store.steampowered.com/search/?term=Lorne\n",
      "-----------------------------------------------\n",
      "No Game Found\n",
      "STEAM: Lorne\n",
      "Google: Quiz Me on Drugs\n",
      "https://store.steampowered.com/search/?term=Quiz Me on Drugs\n",
      "-----------------------------------------------\n",
      "not same game\n",
      "STEAM: Poker Squadrons\n",
      "Google: Draw Poker\n",
      "https://store.steampowered.com/search/?term=Draw Poker\n",
      "-----------------------------------------------\n",
      "not same game\n",
      "STEAM: Naviros Beginner pack\n",
      "Google: GT Revival\n",
      "https://store.steampowered.com/search/?term=GT Revival\n",
      "-----------------------------------------------\n",
      "not same game\n",
      "STEAM: CAN ANDROIDS SURVIVE\n",
      "Google: Androids\n",
      "https://store.steampowered.com/search/?term=Androids\n",
      "-----------------------------------------------\n",
      "not same game\n",
      "STEAM: Riptide GP: Renegade\n",
      "Google: GP Racer\n",
      "https://store.steampowered.com/search/?term=GP Racer\n",
      "-----------------------------------------------\n",
      "No Game Found\n",
      "STEAM: Riptide GP: Renegade\n",
      "Google: Gorebreaker\n",
      "https://store.steampowered.com/search/?term=Gorebreaker\n",
      "-----------------------------------------------\n",
      "No Game Found\n",
      "STEAM: Hiboka\n",
      "Google: Hiboka\n",
      "https://store.steampowered.com/search/?term=Hiboka\n",
      "-----------------------------------------------\n",
      "not same game\n",
      "STEAM: War Thunder - A-5C Pack\n",
      "Google: A Rocket's Intensity\n",
      "https://store.steampowered.com/search/?term=A Rocket's Intensity\n",
      "-----------------------------------------------\n",
      "No Game Found\n",
      "STEAM: War Thunder - A-5C Pack\n",
      "Google: Piratehunter\n",
      "https://store.steampowered.com/search/?term=Piratehunter\n",
      "-----------------------------------------------\n",
      "not same game\n",
      "STEAM: Age of Fear: Pirates! Expansion\n",
      "Google: Age of Pirates: Captain Blood\n",
      "https://store.steampowered.com/search/?term=Age of Pirates: Captain Blood\n",
      "-----------------------------------------------\n",
      "No Game Found\n",
      "STEAM: Age of Fear: Pirates! Expansion\n",
      "Google: Drew's Deuces Wild\n",
      "https://store.steampowered.com/search/?term=Drew's Deuces Wild\n",
      "-----------------------------------------------\n",
      "not same game\n",
      "STEAM: Grand Theft Auto V\n",
      "Google: Scoring\n",
      "https://store.steampowered.com/search/?term=Scoring\n",
      "-----------------------------------------------\n",
      "No Game Found\n",
      "STEAM: Twilight's Final Judgement\n",
      "Google: Twilight's Final Judgement\n",
      "https://store.steampowered.com/search/?term=Twilight's Final Judgement\n",
      "-----------------------------------------------\n",
      "not same game\n",
      "STEAM: Al Emmo and the Lost Dutchman's Mine\n",
      "Google: Talking Dogs: Into the Wilds\n",
      "https://store.steampowered.com/search/?term=Talking Dogs: Into the Wilds\n",
      "-----------------------------------------------\n",
      "not same game\n",
      "STEAM: The Debug\n",
      "Google: Samer Hills\n",
      "https://store.steampowered.com/search/?term=Samer Hills\n",
      "-----------------------------------------------\n",
      "No Game Found\n",
      "STEAM: No Body\n",
      "Google: No Body\n",
      "https://store.steampowered.com/search/?term=No Body\n",
      "-----------------------------------------------\n",
      "No Game Found\n",
      "STEAM: No Body\n",
      "Google: Roul-ette\n",
      "https://store.steampowered.com/search/?term=Roul-ette\n",
      "-----------------------------------------------\n",
      "Changed Date successfully\n",
      "Steam: 2023\n",
      "Google: 2021\n",
      "STEAM: Truck Mechanic: Dangerous Paths\n",
      "Google: Truck Mechanic: Dangerous Paths\n",
      "https://store.steampowered.com/search/?term=Truck Mechanic: Dangerous Paths\n",
      "-----------------------------------------------\n",
      "No Game Found\n",
      "STEAM: Truck Mechanic: Dangerous Paths\n",
      "Google: AR3NA\n",
      "https://store.steampowered.com/search/?term=AR3NA\n",
      "-----------------------------------------------\n",
      "not same game\n",
      "STEAM: Governor of Poker 3\n",
      "Google: Poker & Black Jack\n",
      "https://store.steampowered.com/search/?term=Poker & Black Jack\n",
      "-----------------------------------------------\n",
      "No Game Found\n",
      "STEAM: Governor of Poker 3\n",
      "Google: Glowood\n",
      "https://store.steampowered.com/search/?term=Glowood\n",
      "-----------------------------------------------\n",
      "not same game\n",
      "STEAM: Escape the Game: Episode 1\n",
      "Google: Powerful the Game Episode 1\n",
      "https://store.steampowered.com/search/?term=Powerful the Game Episode 1\n",
      "-----------------------------------------------\n",
      "not same game\n",
      "STEAM: Theme Park Studio\n",
      "\n",
      "VR Supported\n",
      "Google: Theme Park & Resorts Inspiration Series\n",
      "https://store.steampowered.com/search/?term=Theme Park & Resorts Inspiration Series\n",
      "-----------------------------------------------\n",
      "No Game Found\n",
      "STEAM: Theme Park Studio\n",
      "\n",
      "VR Supported\n",
      "Google: Vex-Ward (Mod)\n",
      "https://store.steampowered.com/search/?term=Vex-Ward (Mod)\n",
      "-----------------------------------------------\n",
      "not same game\n",
      "STEAM: In Fear I Trust\n",
      "Google: Amnesia: Fear in Hands\n",
      "https://store.steampowered.com/search/?term=Amnesia: Fear in Hands\n",
      "-----------------------------------------------\n",
      "not same game\n",
      "STEAM: Jurassic World Evolution: Carnivore Dinosaur Pack\n",
      "Google: Nasal\n",
      "https://store.steampowered.com/search/?term=Nasal\n",
      "-----------------------------------------------\n",
      "not same game\n",
      "STEAM: Double the Meat\n",
      "Google: The Double\n",
      "https://store.steampowered.com/search/?term=The Double\n",
      "-----------------------------------------------\n",
      "not same game\n",
      "STEAM: Train Simulator: LMS Rebuilt Royal Scot Steam Loco Add-On\n",
      "Google: Royal Derby\n",
      "https://store.steampowered.com/search/?term=Royal Derby\n",
      "-----------------------------------------------\n",
      "No Game Found\n",
      "STEAM: Train Simulator: LMS Rebuilt Royal Scot Steam Loco Add-On\n",
      "Google: Bonus-21\n",
      "https://store.steampowered.com/search/?term=Bonus-21\n",
      "-----------------------------------------------\n",
      "not same game\n",
      "STEAM: Pamali: Indonesian Folklore Horror - The Hungry Witch\n",
      "Google: She's (Kuntilanak)\n",
      "https://store.steampowered.com/search/?term=She's (Kuntilanak)\n",
      "-----------------------------------------------\n",
      "Same Year\n",
      "Steam: 2023\n",
      "Google: 2023\n",
      "STEAM: The Siege and the Sandfox\n",
      "Google: The Siege and the Sandfox\n",
      "https://store.steampowered.com/search/?term=The Siege and the Sandfox\n",
      "-----------------------------------------------\n",
      "No Game Found\n",
      "STEAM: A Piano Tale\n",
      "Google: A Piano Tale\n",
      "https://store.steampowered.com/search/?term=A Piano Tale\n",
      "-----------------------------------------------\n",
      "not same game\n",
      "STEAM: AceSpeeder3\n",
      "Google: AceSpeeder!\n",
      "https://store.steampowered.com/search/?term=AceSpeeder!\n",
      "-----------------------------------------------\n",
      "not same game\n",
      "STEAM: Cycle of The Moon\n",
      "Google: Cycle of Souls\n",
      "https://store.steampowered.com/search/?term=Cycle of Souls\n",
      "-----------------------------------------------\n",
      "No Game Found\n",
      "STEAM: Love, Ghostie\n",
      "Google: Love, Ghostie\n",
      "https://store.steampowered.com/search/?term=Love, Ghostie\n",
      "-----------------------------------------------\n",
      "not same game\n",
      "STEAM: Zombies In The Dark\n",
      "Google: Long Ago in the Near Future\n",
      "https://store.steampowered.com/search/?term=Long Ago in the Near Future\n",
      "-----------------------------------------------\n",
      "not same game\n",
      "STEAM: Last Oasis\n",
      "Google: Oasis\n",
      "https://store.steampowered.com/search/?term=Oasis\n",
      "-----------------------------------------------\n",
      "No Game Found\n",
      "STEAM: Last Oasis\n",
      "Google: Joker Poker 54\n",
      "https://store.steampowered.com/search/?term=Joker Poker 54\n",
      "-----------------------------------------------\n",
      "not same game\n",
      "STEAM: Survive the Nights\n",
      "Google: The Black Wedding\n",
      "https://store.steampowered.com/search/?term=The Black Wedding\n",
      "-----------------------------------------------\n",
      "No Game Found\n",
      "STEAM: Dead World Heroes\n",
      "Google: Dead World Heroes\n",
      "https://store.steampowered.com/search/?term=Dead World Heroes\n",
      "-----------------------------------------------\n",
      "No Game Found\n",
      "STEAM: In The Black\n",
      "Google: In the Black\n",
      "https://store.steampowered.com/search/?term=In the Black\n",
      "-----------------------------------------------\n",
      "No Game Found\n",
      "STEAM: In The Black\n",
      "Google: Paddle Derby\n",
      "https://store.steampowered.com/search/?term=Paddle Derby\n",
      "-----------------------------------------------\n",
      "not same game\n",
      "STEAM: Fenix Rage\n",
      "Google: Fenix\n",
      "https://store.steampowered.com/search/?term=Fenix\n",
      "-----------------------------------------------\n"
     ]
    },
    {
     "name": "stdout",
     "output_type": "stream",
     "text": [
      "not same game\n",
      "STEAM: Masks Of Deception\n",
      "Google: Demon's Deception\n",
      "https://store.steampowered.com/search/?term=Demon's Deception\n",
      "-----------------------------------------------\n",
      "No Game Found\n",
      "STEAM: Lovely Plains\n",
      "Google: Lovely Plains\n",
      "https://store.steampowered.com/search/?term=Lovely Plains\n",
      "-----------------------------------------------\n",
      "Same Year\n",
      "Steam: 2018\n",
      "Google: 2018\n",
      "STEAM: POSTWORLD\n",
      "Google: Postworld\n",
      "https://store.steampowered.com/search/?term=Postworld\n",
      "-----------------------------------------------\n",
      "No Game Found\n",
      "STEAM: POSTWORLD\n",
      "Google: Tri-City RP\n",
      "https://store.steampowered.com/search/?term=Tri-City RP\n",
      "-----------------------------------------------\n",
      "No Game Found\n",
      "STEAM: POSTWORLD\n",
      "Google: Wuchang: Fallen Feathers\n",
      "https://store.steampowered.com/search/?term=Wuchang: Fallen Feathers\n",
      "-----------------------------------------------\n",
      "No Game Found\n",
      "STEAM: POSTWORLD\n",
      "Google: Age of Aincrad\n",
      "https://store.steampowered.com/search/?term=Age of Aincrad\n",
      "-----------------------------------------------\n",
      "No Game Found\n",
      "STEAM: POSTWORLD\n",
      "Google: NSM Poker\n",
      "https://store.steampowered.com/search/?term=NSM Poker\n",
      "-----------------------------------------------\n",
      "not same game\n",
      "STEAM: Geometry Boxer\n",
      "Google: Fighting Boxer\n",
      "https://store.steampowered.com/search/?term=Fighting Boxer\n",
      "-----------------------------------------------\n",
      "No Game Found\n",
      "STEAM: Geometry Boxer\n",
      "Google: WorldAlpha\n",
      "https://store.steampowered.com/search/?term=WorldAlpha\n",
      "-----------------------------------------------\n",
      "not same game\n",
      "STEAM: Orb The Ball\n",
      "Google: The Orb\n",
      "https://store.steampowered.com/search/?term=The Orb\n",
      "-----------------------------------------------\n",
      "Changed Date successfully\n",
      "Steam: 2017\n",
      "Google: 2023\n",
      "STEAM: Resurgence\n",
      "Google: Resurgence\n",
      "https://store.steampowered.com/search/?term=Resurgence\n",
      "-----------------------------------------------\n",
      "No Game Found\n",
      "STEAM: Resurgence\n",
      "Google: Apophis (Corrupt Yourself)\n",
      "https://store.steampowered.com/search/?term=Apophis (Corrupt Yourself)\n",
      "-----------------------------------------------\n",
      "not same game\n",
      "STEAM: Horizon Zero Dawn Complete Edition\n",
      "Google: Skill Stop\n",
      "https://store.steampowered.com/search/?term=Skill Stop\n",
      "-----------------------------------------------\n",
      "not same game\n",
      "STEAM: Improbable Soccer\n",
      "Google: Improbable\n",
      "https://store.steampowered.com/search/?term=Improbable\n",
      "-----------------------------------------------\n",
      "not same game\n",
      "STEAM: The Last of Us Part I\n",
      "Google: The Yakyuuken Part 3\n",
      "https://store.steampowered.com/search/?term=The Yakyuuken Part 3\n",
      "-----------------------------------------------\n",
      "No Game Found\n",
      "STEAM: The Last of Us Part I\n",
      "Google: Foreverse\n",
      "https://store.steampowered.com/search/?term=Foreverse\n",
      "-----------------------------------------------\n",
      "No Game Found\n",
      "STEAM: The Last of Us Part I\n",
      "Google: Eeekk!\n",
      "https://store.steampowered.com/search/?term=Eeekk!\n",
      "-----------------------------------------------\n",
      "not same game\n",
      "STEAM: Dread X Collection 2\n",
      "Google: Coffin Lake 2\n",
      "https://store.steampowered.com/search/?term=Coffin Lake 2\n",
      "-----------------------------------------------\n",
      "not same game\n",
      "STEAM: Super Dangerous Dungeons\n",
      "Google: Super Pit Boss\n",
      "https://store.steampowered.com/search/?term=Super Pit Boss\n",
      "-----------------------------------------------\n",
      "not same game\n",
      "STEAM: ADT Pilot 01\n",
      "Google: 01\n",
      "https://store.steampowered.com/search/?term=01\n",
      "-----------------------------------------------\n",
      "not same game\n",
      "STEAM: Street Fighter V - Champion Edition Upgrade Kit\n",
      "Google: Champion Skill\n",
      "https://store.steampowered.com/search/?term=Champion Skill\n",
      "-----------------------------------------------\n",
      "No Game Found\n",
      "STEAM: Street Fighter V - Champion Edition Upgrade Kit\n",
      "Google: DropCore\n",
      "https://store.steampowered.com/search/?term=DropCore\n",
      "-----------------------------------------------\n",
      "Changed Date successfully\n",
      "Steam: 2014\n",
      "Google: 2022\n",
      "STEAM: Descent\n",
      "Google: Descent\n",
      "https://store.steampowered.com/search/?term=Descent\n",
      "-----------------------------------------------\n",
      "not same game\n",
      "STEAM: The Night The Carsons Disappeared\n",
      "\n",
      "VR Only\n",
      "Google: The Night He Came Home\n",
      "https://store.steampowered.com/search/?term=The Night He Came Home\n",
      "-----------------------------------------------\n",
      "Changed Date successfully\n",
      "Steam: 2023\n",
      "Google: 0\n",
      "STEAM: Once Human\n",
      "Google: Once Human\n",
      "https://store.steampowered.com/search/?term=Once Human\n",
      "-----------------------------------------------\n",
      "not same game\n",
      "STEAM: Mortal Kombat 11 4K Cinematic Pack\n",
      "Google: Mortal Kombat 4\n",
      "https://store.steampowered.com/search/?term=Mortal Kombat 4\n",
      "-----------------------------------------------\n",
      "not same game\n",
      "STEAM: Shape History Bundle\n",
      "Google: U.S. History & Geography\n",
      "https://store.steampowered.com/search/?term=U.S. History & Geography\n",
      "-----------------------------------------------\n",
      "No Game Found\n",
      "STEAM: Shape History Bundle\n",
      "Google: Kot-rybolov\n",
      "https://store.steampowered.com/search/?term=Kot-rybolov\n",
      "-----------------------------------------------\n",
      "not same game\n",
      "STEAM: Lacuna: Prologue\n",
      "Google: Lacuna\n",
      "https://store.steampowered.com/search/?term=Lacuna\n",
      "-----------------------------------------------\n",
      "No Game Found\n",
      "STEAM: Katyusha\n",
      "Google: Katyusha\n",
      "https://store.steampowered.com/search/?term=Katyusha\n",
      "-----------------------------------------------\n",
      "not same game\n",
      "STEAM: Neverending True Romance Bundle\n",
      "Google: True Messiah\n",
      "https://store.steampowered.com/search/?term=True Messiah\n",
      "-----------------------------------------------\n",
      "No Game Found\n",
      "STEAM: Neverending True Romance Bundle\n",
      "Google: Farhangeirani\n",
      "https://store.steampowered.com/search/?term=Farhangeirani\n",
      "-----------------------------------------------\n",
      "not same game\n",
      "STEAM: Lunar Flight\n",
      "\n",
      "VR Supported\n",
      "Google: Lunar Module\n",
      "https://store.steampowered.com/search/?term=Lunar Module\n",
      "-----------------------------------------------\n",
      "not same game\n",
      "STEAM: Assassin's Vol.\n",
      "Google: Ombudsman\n",
      "https://store.steampowered.com/search/?term=Ombudsman\n",
      "-----------------------------------------------\n",
      "No Game Found\n",
      "STEAM: Assassin's Vol.\n",
      "Google: Fruity Pebbles Spy Caper\n",
      "https://store.steampowered.com/search/?term=Fruity Pebbles Spy Caper\n",
      "-----------------------------------------------\n",
      "not same game\n",
      "STEAM: Crystal Story: Dawn of Dusk\n",
      "Google: Dusk of D.A.W.N.\n",
      "https://store.steampowered.com/search/?term=Dusk of D.A.W.N.\n",
      "-----------------------------------------------\n",
      "not same game\n",
      "STEAM: Assetto Corsa - Porsche Pack II\n",
      "Google: Sebring\n",
      "https://store.steampowered.com/search/?term=Sebring\n",
      "-----------------------------------------------\n",
      "Same Year\n",
      "Steam: 2023\n",
      "Google: 2023\n",
      "STEAM: Mask of the Rose\n",
      "Google: Mask of the Rose\n",
      "https://store.steampowered.com/search/?term=Mask of the Rose\n",
      "-----------------------------------------------\n",
      "No Game Found\n",
      "STEAM: Starship Simulator\n",
      "Google: Starship Simulator\n",
      "https://store.steampowered.com/search/?term=Starship Simulator\n",
      "-----------------------------------------------\n",
      "not same game\n",
      "STEAM: RimWorld - Ideology\n",
      "Google: S.T.A.R.S. Delta Lift Off\n",
      "https://store.steampowered.com/search/?term=S.T.A.R.S. Delta Lift Off\n",
      "-----------------------------------------------\n",
      "not same game\n",
      "STEAM: Eyes of Darkness\n",
      "Google: Dream of Darkness\n",
      "https://store.steampowered.com/search/?term=Dream of Darkness\n",
      "-----------------------------------------------\n",
      "not same game\n",
      "STEAM: Worms W.M.D\n",
      "Google: M\n",
      "https://store.steampowered.com/search/?term=M\n",
      "-----------------------------------------------\n",
      "not same game\n",
      "STEAM: Contraband Police\n",
      "Google: Contraband\n",
      "https://store.steampowered.com/search/?term=Contraband\n",
      "-----------------------------------------------\n",
      "not same game\n",
      "STEAM: Katana-Ra: Shinobi Rising\n",
      "Google: Katana-Ra\n",
      "https://store.steampowered.com/search/?term=Katana-Ra\n",
      "-----------------------------------------------\n",
      "No Game Found\n",
      "STEAM: Miegakure\n",
      "Google: Miegakure\n",
      "https://store.steampowered.com/search/?term=Miegakure\n",
      "-----------------------------------------------\n",
      "not same game\n",
      "STEAM: Super Star Path\n",
      "Google: Super Star\n",
      "https://store.steampowered.com/search/?term=Super Star\n",
      "-----------------------------------------------\n",
      "not same game\n",
      "STEAM: Alien Robot Monsters\n",
      "Google: Robot: Colony 25\n",
      "https://store.steampowered.com/search/?term=Robot: Colony 25\n",
      "-----------------------------------------------\n",
      "not same game\n",
      "STEAM: Stories from Sol: The Gun-Dog\n",
      "Google: Talking Dogs New Horizons\n",
      "https://store.steampowered.com/search/?term=Talking Dogs New Horizons\n",
      "-----------------------------------------------\n"
     ]
    },
    {
     "name": "stdout",
     "output_type": "stream",
     "text": [
      "No Game Found\n",
      "STEAM: The Store is Closed\n",
      "Google: The Store Is Closed\n",
      "https://store.steampowered.com/search/?term=The Store Is Closed\n",
      "-----------------------------------------------\n",
      "No Game Found\n",
      "STEAM: Desolation Seed\n",
      "Google: Desolation Seed\n",
      "https://store.steampowered.com/search/?term=Desolation Seed\n",
      "-----------------------------------------------\n",
      "not same game\n",
      "STEAM: Maggie's Movies - Camera, Action!\n",
      "Google: Camera 6\n",
      "https://store.steampowered.com/search/?term=Camera 6\n",
      "-----------------------------------------------\n",
      "No Game Found\n",
      "STEAM: Maggie's Movies - Camera, Action!\n",
      "Google: EverQuest Next\n",
      "https://store.steampowered.com/search/?term=EverQuest Next\n",
      "-----------------------------------------------\n",
      "Same Year\n",
      "Steam: 2023\n",
      "Google: 2023\n",
      "STEAM: The Orphanage\n",
      "Google: The Orphanage\n",
      "https://store.steampowered.com/search/?term=The Orphanage\n",
      "-----------------------------------------------\n",
      "No Game Found\n",
      "STEAM: The Orphanage\n",
      "Google: Pithon\n",
      "https://store.steampowered.com/search/?term=Pithon\n",
      "-----------------------------------------------\n",
      "not same game\n",
      "STEAM: Infinite Gateway\n",
      "Google: Gateway\n",
      "https://store.steampowered.com/search/?term=Gateway\n",
      "-----------------------------------------------\n",
      "not same game\n",
      "STEAM: Miracle Fly\n",
      "Google: Magic Fly\n",
      "https://store.steampowered.com/search/?term=Magic Fly\n",
      "-----------------------------------------------\n",
      "not same game\n",
      "STEAM: Panzer Corps 2: Axis Operations - 1942\n",
      "Google: Recovered Operations\n",
      "https://store.steampowered.com/search/?term=Recovered Operations\n",
      "-----------------------------------------------\n",
      "not same game\n",
      "STEAM: Three Twenty One\n",
      "Google: Challenger Twenty One\n",
      "https://store.steampowered.com/search/?term=Challenger Twenty One\n",
      "-----------------------------------------------\n",
      "not same game\n",
      "STEAM: ARK: Survival Evolved\n",
      "Google: Without Memory\n",
      "https://store.steampowered.com/search/?term=Without Memory\n",
      "-----------------------------------------------\n",
      "not same game\n",
      "STEAM: Addition Edition\n",
      "Google: Addition & Subtraction\n",
      "https://store.steampowered.com/search/?term=Addition & Subtraction\n",
      "-----------------------------------------------\n",
      "not same game\n",
      "STEAM: Loren The Amazon Princess\n",
      "Google: Planet Michael\n",
      "https://store.steampowered.com/search/?term=Planet Michael\n",
      "-----------------------------------------------\n",
      "No Game Found\n",
      "STEAM: Loren The Amazon Princess\n",
      "Google: Sensiz Olamam\n",
      "https://store.steampowered.com/search/?term=Sensiz Olamam\n",
      "-----------------------------------------------\n",
      "No Game Found\n",
      "STEAM: Loren The Amazon Princess\n",
      "Google: Picalette\n",
      "https://store.steampowered.com/search/?term=Picalette\n",
      "-----------------------------------------------\n",
      "not same game\n",
      "STEAM: RRRR3\n",
      "Google: Pisces\n",
      "https://store.steampowered.com/search/?term=Pisces\n",
      "-----------------------------------------------\n",
      "not same game\n",
      "STEAM: WWE 2K23\n",
      "Google: Wild Double Up II\n",
      "https://store.steampowered.com/search/?term=Wild Double Up II\n",
      "-----------------------------------------------\n",
      "not same game\n",
      "STEAM: The Events at Unity Farm\n",
      "\n",
      "VR Only\n",
      "Google: The Events at Unity Farm\n",
      "https://store.steampowered.com/search/?term=The Events at Unity Farm\n",
      "-----------------------------------------------\n",
      "not same game\n",
      "STEAM: Puppet Master: The Game\n",
      "Google: Flipped - The Game\n",
      "https://store.steampowered.com/search/?term=Flipped - The Game\n",
      "-----------------------------------------------\n",
      "not same game\n",
      "STEAM: Poker Squadrons\n",
      "Google: Challenger Draw Poker\n",
      "https://store.steampowered.com/search/?term=Challenger Draw Poker\n",
      "-----------------------------------------------\n",
      "not same game\n",
      "STEAM: Taya's Alphabet\n",
      "Google: Alphabet\n",
      "https://store.steampowered.com/search/?term=Alphabet\n",
      "-----------------------------------------------\n",
      "not same game\n",
      "STEAM: Cult of the Lamb\n",
      "Google: The Lands Pt.1: Destroyer of Worlds\n",
      "https://store.steampowered.com/search/?term=The Lands Pt.1: Destroyer of Worlds\n",
      "-----------------------------------------------\n",
      "No Game Found\n",
      "STEAM: Cult of the Lamb\n",
      "Google: Kotigoroshko\n",
      "https://store.steampowered.com/search/?term=Kotigoroshko\n",
      "-----------------------------------------------\n",
      "No Game Found\n",
      "STEAM: Cult of the Lamb\n",
      "Google: Fun-Joke\n",
      "https://store.steampowered.com/search/?term=Fun-Joke\n",
      "-----------------------------------------------\n",
      "not same game\n",
      "STEAM: Gin Rummy 3D Premium\n",
      "Google: Gin Rummy\n",
      "https://store.steampowered.com/search/?term=Gin Rummy\n",
      "-----------------------------------------------\n",
      "Changed Date successfully\n",
      "Steam: 2021\n",
      "Google: 0\n",
      "STEAM: Marooned\n",
      "Google: Marooned\n",
      "https://store.steampowered.com/search/?term=Marooned\n",
      "-----------------------------------------------\n",
      "not same game\n",
      "STEAM: STARLITE: Defender of Justice Ultimate HD Edition\n",
      "Google: Starlite: Defender of Justice\n",
      "https://store.steampowered.com/search/?term=Starlite: Defender of Justice\n",
      "-----------------------------------------------\n",
      "not same game\n",
      "STEAM: Royal Casino: Video Poker\n",
      "Google: Major Poker\n",
      "https://store.steampowered.com/search/?term=Major Poker\n",
      "-----------------------------------------------\n",
      "No Game Found\n",
      "STEAM: Royal Casino: Video Poker\n",
      "Google: Little Magic Books: Knock, Knock! Who's on My Block?\n",
      "https://store.steampowered.com/search/?term=Little Magic Books: Knock, Knock! Who's on My Block?\n",
      "-----------------------------------------------\n",
      "not same game\n",
      "STEAM: It Takes Two\n",
      "Google: Spell It 3\n",
      "https://store.steampowered.com/search/?term=Spell It 3\n",
      "-----------------------------------------------\n",
      "No Game Found\n",
      "STEAM: It Takes Two\n",
      "Google: T.V. 5-Card Poker\n",
      "https://store.steampowered.com/search/?term=T.V. 5-Card Poker\n",
      "-----------------------------------------------\n",
      "not same game\n",
      "STEAM: A look into...\n",
      "Google: Into Sominia: A Project\n",
      "https://store.steampowered.com/search/?term=Into Sominia: A Project\n",
      "-----------------------------------------------\n",
      "No Game Found\n",
      "STEAM: A look into...\n",
      "Google: AceSpeeder3\n",
      "https://store.steampowered.com/search/?term=AceSpeeder3\n",
      "-----------------------------------------------\n",
      "No Game Found\n",
      "STEAM: A look into...\n",
      "Google: Ostrov drakona\n",
      "https://store.steampowered.com/search/?term=Ostrov drakona\n",
      "-----------------------------------------------\n",
      "not same game\n",
      "STEAM: Project Zomboid\n",
      "Google: The Projects\n",
      "https://store.steampowered.com/search/?term=The Projects\n",
      "-----------------------------------------------\n",
      "not same game\n",
      "STEAM: Monster Prom 3: Monster Roadtrip\n",
      "Google: Monster Zero\n",
      "https://store.steampowered.com/search/?term=Monster Zero\n",
      "-----------------------------------------------\n",
      "No Game Found\n",
      "STEAM: Fish Cymophis\n",
      "Google: Fish Cymophis\n",
      "https://store.steampowered.com/search/?term=Fish Cymophis\n",
      "-----------------------------------------------\n",
      "No Game Found\n",
      "STEAM: Fish Cymophis\n",
      "Google: Exava\n",
      "https://store.steampowered.com/search/?term=Exava\n",
      "-----------------------------------------------\n",
      "No Game Found\n",
      "STEAM: Reknum Fantasy of Dreams\n",
      "Google: Reknum Fantasy of Dreams\n",
      "https://store.steampowered.com/search/?term=Reknum Fantasy of Dreams\n",
      "-----------------------------------------------\n",
      "No Game Found\n",
      "STEAM: Reknum Fantasy of Dreams\n",
      "Google: Dynamic-Dice\n",
      "https://store.steampowered.com/search/?term=Dynamic-Dice\n",
      "-----------------------------------------------\n",
      "not same game\n",
      "STEAM: Missile Command: Recharged\n",
      "Google: Missile Command\n",
      "https://store.steampowered.com/search/?term=Missile Command\n",
      "-----------------------------------------------\n",
      "not same game\n",
      "STEAM: Castle of no Escape\n",
      "Google: Fruity Pebbles Fruity Pool\n",
      "https://store.steampowered.com/search/?term=Fruity Pebbles Fruity Pool\n",
      "-----------------------------------------------\n",
      "No Game Found\n",
      "STEAM: Castle of no Escape\n",
      "Google: VHi Draw Poker\n",
      "https://store.steampowered.com/search/?term=VHi Draw Poker\n",
      "-----------------------------------------------\n",
      "Same Year\n",
      "Steam: 2010\n",
      "Google: 2010\n",
      "STEAM: Prince of Persia: The Forgotten Sands\n",
      "Google: Prince of Persia: The Forgotten Sands\n",
      "https://store.steampowered.com/search/?term=Prince of Persia: The Forgotten Sands\n",
      "-----------------------------------------------\n",
      "not same game\n",
      "STEAM: Classic Card Game Poker Pack\n",
      "Google: Computer-Poker\n",
      "https://store.steampowered.com/search/?term=Computer-Poker\n",
      "-----------------------------------------------\n",
      "not same game\n",
      "STEAM: RPG Maker MZ - Fantasy Generator - Armor Parts Set\n",
      "Google: RPG Maker 95\n",
      "https://store.steampowered.com/search/?term=RPG Maker 95\n",
      "-----------------------------------------------\n"
     ]
    },
    {
     "name": "stdout",
     "output_type": "stream",
     "text": [
      "not same game\n",
      "STEAM: Reversed Front\n",
      "Google: Operation Stabilization: Revived\n",
      "https://store.steampowered.com/search/?term=Operation Stabilization: Revived\n",
      "-----------------------------------------------\n",
      "not same game\n",
      "STEAM: Sekiro: Shadows Die Twice - GOTY Edition\n",
      "Google: Softwar\n",
      "https://store.steampowered.com/search/?term=Softwar\n",
      "-----------------------------------------------\n",
      "No Game Found\n",
      "STEAM: Sekiro: Shadows Die Twice - GOTY Edition\n",
      "Google: FNAF World DX\n",
      "https://store.steampowered.com/search/?term=FNAF World DX\n",
      "-----------------------------------------------\n",
      "No Game Found\n",
      "STEAM: Sekiro: Shadows Die Twice - GOTY Edition\n",
      "Google: Astropal\n",
      "https://store.steampowered.com/search/?term=Astropal\n",
      "-----------------------------------------------\n",
      "not same game\n",
      "STEAM: Vidar\n",
      "Google: Vidar: The RPG Where Everyone Dies\n",
      "https://store.steampowered.com/search/?term=Vidar: The RPG Where Everyone Dies\n",
      "-----------------------------------------------\n",
      "not same game\n",
      "STEAM: The Quarry – Deluxe Bonus Content Pack\n",
      "Google: Super Bonus Deluxe\n",
      "https://store.steampowered.com/search/?term=Super Bonus Deluxe\n",
      "-----------------------------------------------\n",
      "No Game Found\n",
      "STEAM: The Tideshell Keeper\n",
      "Google: The Tideshell Keeper\n",
      "https://store.steampowered.com/search/?term=The Tideshell Keeper\n",
      "-----------------------------------------------\n",
      "not same game\n",
      "STEAM: Penny RPG: Shadows of the Lost - A Blood City Tale\n",
      "Google: Penny Blood\n",
      "https://store.steampowered.com/search/?term=Penny Blood\n",
      "-----------------------------------------------\n",
      "not same game\n",
      "STEAM: Rocket Bot Royale\n",
      "Google: Blast Royale\n",
      "https://store.steampowered.com/search/?term=Blast Royale\n",
      "-----------------------------------------------\n",
      "not same game\n",
      "STEAM: Tennis Fighters\n",
      "Google: Tennis\n",
      "https://store.steampowered.com/search/?term=Tennis\n",
      "-----------------------------------------------\n",
      "No Game Found\n",
      "STEAM: Tennis Fighters\n",
      "Google: Romar Triv\n",
      "https://store.steampowered.com/search/?term=Romar Triv\n",
      "-----------------------------------------------\n",
      "not same game\n",
      "STEAM: ARK: Survival Evolved\n",
      "Google: Snapped\n",
      "https://store.steampowered.com/search/?term=Snapped\n",
      "-----------------------------------------------\n",
      "not same game\n",
      "STEAM: Lucky Player\n",
      "Google: Lucky 8\n",
      "https://store.steampowered.com/search/?term=Lucky 8\n",
      "-----------------------------------------------\n",
      "No Game Found\n",
      "STEAM: Asterion\n",
      "Google: Asterion\n",
      "https://store.steampowered.com/search/?term=Asterion\n",
      "-----------------------------------------------\n",
      "No Game Found\n",
      "STEAM: Asterion\n",
      "Google: Telekick\n",
      "https://store.steampowered.com/search/?term=Telekick\n",
      "-----------------------------------------------\n",
      "not same game\n",
      "STEAM: TankYou! Soundtrack\n",
      "Google: Wham Bam + 2\n",
      "https://store.steampowered.com/search/?term=Wham Bam + 2\n",
      "-----------------------------------------------\n",
      "not same game\n",
      "STEAM: SnowRunner - High Roller Pack\n",
      "Google: High Roller\n",
      "https://store.steampowered.com/search/?term=High Roller\n",
      "-----------------------------------------------\n",
      "No Game Found\n",
      "STEAM: SnowRunner - High Roller Pack\n",
      "Google: 5-aces Poker\n",
      "https://store.steampowered.com/search/?term=5-aces Poker\n",
      "-----------------------------------------------\n",
      "No Game Found\n",
      "STEAM: SnowRunner - High Roller Pack\n",
      "Google: AceSpeeder2\n",
      "https://store.steampowered.com/search/?term=AceSpeeder2\n",
      "-----------------------------------------------\n",
      "not same game\n",
      "STEAM: Reading Simulator\n",
      "Google: Reading\n",
      "https://store.steampowered.com/search/?term=Reading\n",
      "-----------------------------------------------\n",
      "not same game\n",
      "STEAM: Blackbeard the Cursed Jungle\n",
      "Google: Squidy and Em Roblox Adventures\n",
      "https://store.steampowered.com/search/?term=Squidy and Em Roblox Adventures\n",
      "-----------------------------------------------\n",
      "not same game\n",
      "STEAM: Space Viking Raiders VR\n",
      "\n",
      "VR Only\n",
      "Google: Viking HIIT VR Experience\n",
      "https://store.steampowered.com/search/?term=Viking HIIT VR Experience\n",
      "-----------------------------------------------\n",
      "No Game Found\n",
      "STEAM: Space Viking Raiders VR\n",
      "\n",
      "VR Only\n",
      "Google: Ostrov sokrovishch\n",
      "https://store.steampowered.com/search/?term=Ostrov sokrovishch\n",
      "-----------------------------------------------\n",
      "not same game\n",
      "STEAM: Flip-Out!\n",
      "Google: Flip-Out\n",
      "https://store.steampowered.com/search/?term=Flip-Out\n",
      "-----------------------------------------------\n",
      "not same game\n",
      "STEAM: Sackboy: A Big Adventure\n",
      "Google: A Little Less Desperation\n",
      "https://store.steampowered.com/search/?term=A Little Less Desperation\n",
      "-----------------------------------------------\n",
      "Changed Date successfully\n",
      "Steam: 2023\n",
      "Google: 2020\n",
      "STEAM: Space Mechanic Simulator\n",
      "Google: Space Mechanic Simulator\n",
      "https://store.steampowered.com/search/?term=Space Mechanic Simulator\n",
      "-----------------------------------------------\n",
      "not same game\n",
      "STEAM: Total War: WARHAMMER III - Forge of the Chaos Dwarfs\n",
      "Google: Special Break\n",
      "https://store.steampowered.com/search/?term=Special Break\n",
      "-----------------------------------------------\n",
      "No Game Found\n",
      "STEAM: Total War: WARHAMMER III - Forge of the Chaos Dwarfs\n",
      "Google: Zvezdnyi rytsar\n",
      "https://store.steampowered.com/search/?term=Zvezdnyi rytsar\n",
      "-----------------------------------------------\n",
      "No Game Found\n",
      "STEAM: Total War: WARHAMMER III - Forge of the Chaos Dwarfs\n",
      "Google: Natsu Shojo\n",
      "https://store.steampowered.com/search/?term=Natsu Shojo\n",
      "-----------------------------------------------\n",
      "not same game\n",
      "STEAM: Pixel Heroes: Byte & Magic - Soundtrack\n",
      "Google: The Pharao\n",
      "https://store.steampowered.com/search/?term=The Pharao\n",
      "-----------------------------------------------\n",
      "not same game\n",
      "STEAM: The Last of Us Part I\n",
      "Google: The Yakyuuken Part 2\n",
      "https://store.steampowered.com/search/?term=The Yakyuuken Part 2\n",
      "-----------------------------------------------\n",
      "No Game Found\n",
      "STEAM: The Last of Us Part I\n",
      "Google: Exanimate Sea\n",
      "https://store.steampowered.com/search/?term=Exanimate Sea\n",
      "-----------------------------------------------\n",
      "not same game\n",
      "STEAM: Rosenkreuzstilette\n",
      "Google: Iris Burning\n",
      "https://store.steampowered.com/search/?term=Iris Burning\n",
      "-----------------------------------------------\n",
      "No Game Found\n",
      "STEAM: Rosenkreuzstilette\n",
      "Google: Bank Robbers by Impostered Legends\n",
      "https://store.steampowered.com/search/?term=Bank Robbers by Impostered Legends\n",
      "-----------------------------------------------\n",
      "not same game\n",
      "STEAM: Mask of the Rose\n",
      "Google: Death of Rose\n",
      "https://store.steampowered.com/search/?term=Death of Rose\n",
      "-----------------------------------------------\n",
      "not same game\n",
      "STEAM: Royal Casino: Video Poker\n",
      "Google: Royal Poker\n",
      "https://store.steampowered.com/search/?term=Royal Poker\n",
      "-----------------------------------------------\n",
      "not same game\n",
      "STEAM: Poker Squadrons\n",
      "Google: Draw Poker\n",
      "https://store.steampowered.com/search/?term=Draw Poker\n",
      "-----------------------------------------------\n",
      "No Game Found\n",
      "STEAM: Poker Squadrons\n",
      "Google: Le Grand Champs\n",
      "https://store.steampowered.com/search/?term=Le Grand Champs\n",
      "-----------------------------------------------\n",
      "not same game\n",
      "STEAM: It Takes Two\n",
      "Google: Spell It 2\n",
      "https://store.steampowered.com/search/?term=Spell It 2\n",
      "-----------------------------------------------\n",
      "not same game\n",
      "STEAM: Murder Miners\n",
      "Google: Murder Miners X\n",
      "https://store.steampowered.com/search/?term=Murder Miners X\n",
      "-----------------------------------------------\n",
      "not same game\n",
      "STEAM: Martian Invaders\n",
      "Google: Mars Invaders\n",
      "https://store.steampowered.com/search/?term=Mars Invaders\n",
      "-----------------------------------------------\n",
      "not same game\n",
      "STEAM: A Museum of Self & Space\n",
      "Google: Jacks a Pair\n",
      "https://store.steampowered.com/search/?term=Jacks a Pair\n",
      "-----------------------------------------------\n",
      "No Game Found\n",
      "STEAM: A Museum of Self & Space\n",
      "Google: Avtogonki\n",
      "https://store.steampowered.com/search/?term=Avtogonki\n",
      "-----------------------------------------------\n",
      "No Game Found\n",
      "STEAM: A Museum of Self & Space\n",
      "Google: Bao-Diversity\n",
      "https://store.steampowered.com/search/?term=Bao-Diversity\n",
      "-----------------------------------------------\n",
      "not same game\n",
      "STEAM: End of the Line\n",
      "Google: U55: End of the Line\n",
      "https://store.steampowered.com/search/?term=U55: End of the Line\n",
      "-----------------------------------------------\n",
      "not same game\n",
      "STEAM: Fishing Planet: Golden Dragon Pack\n",
      "Google: Lucky 8 Lines\n",
      "https://store.steampowered.com/search/?term=Lucky 8 Lines\n",
      "-----------------------------------------------\n"
     ]
    },
    {
     "name": "stdout",
     "output_type": "stream",
     "text": [
      "not same game\n",
      "STEAM: Hoser Hockey\n",
      "Google: Hockey\n",
      "https://store.steampowered.com/search/?term=Hockey\n",
      "-----------------------------------------------\n",
      "No Game Found\n",
      "STEAM: Hoser Hockey\n",
      "Google: Dead Life Necrodevils\n",
      "https://store.steampowered.com/search/?term=Dead Life Necrodevils\n",
      "-----------------------------------------------\n",
      "not same game\n",
      "STEAM: Falcon Gold\n",
      "Google: Video Gold\n",
      "https://store.steampowered.com/search/?term=Video Gold\n",
      "-----------------------------------------------\n",
      "No Game Found\n",
      "STEAM: Falcon Gold\n",
      "Google: Kyle Rittenhouse's Turkey Shoot\n",
      "https://store.steampowered.com/search/?term=Kyle Rittenhouse's Turkey Shoot\n",
      "-----------------------------------------------\n",
      "not same game\n",
      "STEAM: Knights of the Sky\n",
      "Google: Bust My Balloons\n",
      "https://store.steampowered.com/search/?term=Bust My Balloons\n",
      "-----------------------------------------------\n",
      "not same game\n",
      "STEAM: Lost in Play\n",
      "Google: Challenger in Between\n",
      "https://store.steampowered.com/search/?term=Challenger in Between\n",
      "-----------------------------------------------\n",
      "not same game\n",
      "STEAM: Forever Home\n",
      "Google: Xero\n",
      "https://store.steampowered.com/search/?term=Xero\n",
      "-----------------------------------------------\n",
      "not same game\n",
      "STEAM: LEGO Star Wars: The Skywalker Saga\n",
      "Google: Star Attack\n",
      "https://store.steampowered.com/search/?term=Star Attack\n",
      "-----------------------------------------------\n",
      "No Game Found\n",
      "STEAM: Coreborn: Nations of the Ultracore\n",
      "Google: Coreborn: Nations of the Ultracore\n",
      "https://store.steampowered.com/search/?term=Coreborn: Nations of the Ultracore\n",
      "-----------------------------------------------\n",
      "not same game\n",
      "STEAM: 8-Bit Adventures 2\n",
      "Google: 3 Super 8\n",
      "https://store.steampowered.com/search/?term=3 Super 8\n",
      "-----------------------------------------------\n",
      "not same game\n",
      "STEAM: Neon White\n",
      "Google: White Heaven\n",
      "https://store.steampowered.com/search/?term=White Heaven\n",
      "-----------------------------------------------\n",
      "not same game\n",
      "STEAM: ALTAIR BREAKER\n",
      "\n",
      "VR Only\n",
      "Google: Altair II\n",
      "https://store.steampowered.com/search/?term=Altair II\n",
      "-----------------------------------------------\n",
      "not same game\n",
      "STEAM: Disney The Princess and the Frog\n",
      "Google: The Princess and the Paintbrush\n",
      "https://store.steampowered.com/search/?term=The Princess and the Paintbrush\n",
      "-----------------------------------------------\n",
      "not same game\n",
      "STEAM: Table Tennis Pro\n",
      "Google: Table Tennis II\n",
      "https://store.steampowered.com/search/?term=Table Tennis II\n",
      "-----------------------------------------------\n",
      "not same game\n",
      "STEAM: Neolithic Dawn\n",
      "\n",
      "VR Only\n",
      "Google: Neolithic\n",
      "https://store.steampowered.com/search/?term=Neolithic\n",
      "-----------------------------------------------\n",
      "not same game\n",
      "STEAM: The Treehouse Man\n",
      "Google: The Baptized\n",
      "https://store.steampowered.com/search/?term=The Baptized\n",
      "-----------------------------------------------\n",
      "No Game Found\n",
      "STEAM: The Treehouse Man\n",
      "Google: Young Johnathon\n",
      "https://store.steampowered.com/search/?term=Young Johnathon\n",
      "-----------------------------------------------\n",
      "not same game\n",
      "STEAM: Dread X Collection: The Hunt\n",
      "Google: Wayward Rose\n",
      "https://store.steampowered.com/search/?term=Wayward Rose\n",
      "-----------------------------------------------\n",
      "not same game\n",
      "STEAM: Bump Bump Bump\n",
      "Google: Bump\n",
      "https://store.steampowered.com/search/?term=Bump\n",
      "-----------------------------------------------\n",
      "No Game Found\n",
      "STEAM: Bump Bump Bump\n",
      "Google: Triagat\n",
      "https://store.steampowered.com/search/?term=Triagat\n",
      "-----------------------------------------------\n",
      "not same game\n",
      "STEAM: Miniland Adventure\n",
      "Google: Adventure\n",
      "https://store.steampowered.com/search/?term=Adventure\n",
      "-----------------------------------------------\n",
      "not same game\n",
      "STEAM: Pathfinder: Kingmaker - The Wildcards\n",
      "Google: The Conduit\n",
      "https://store.steampowered.com/search/?term=The Conduit\n",
      "-----------------------------------------------\n",
      "not same game\n",
      "STEAM: Destiny 2\n",
      "Google: Variety\n",
      "https://store.steampowered.com/search/?term=Variety\n",
      "-----------------------------------------------\n",
      "No Game Found\n",
      "STEAM: Destiny 2\n",
      "Google: Peblo's Pixel Paradise\n",
      "https://store.steampowered.com/search/?term=Peblo's Pixel Paradise\n",
      "-----------------------------------------------\n",
      "not same game\n",
      "STEAM: FOR HONOR\n",
      "Google: Connect 4\n",
      "https://store.steampowered.com/search/?term=Connect 4\n",
      "-----------------------------------------------\n",
      "No Game Found\n",
      "STEAM: FOR HONOR\n",
      "Google: Cairo: Building Humanity\n",
      "https://store.steampowered.com/search/?term=Cairo: Building Humanity\n",
      "-----------------------------------------------\n",
      "not same game\n",
      "STEAM: Crash Bandicoot N. Sane Trilogy\n",
      "Google: Crash\n",
      "https://store.steampowered.com/search/?term=Crash\n",
      "-----------------------------------------------\n",
      "No Game Found\n",
      "STEAM: Shadow Dreams: The Last Thought of Hope\n",
      "Google: Shadow Dreams: The Last Thought of Hope\n",
      "https://store.steampowered.com/search/?term=Shadow Dreams: The Last Thought of Hope\n",
      "-----------------------------------------------\n",
      "not same game\n",
      "STEAM: Scarlet and Blank\n",
      "Google: Blink and Die\n",
      "https://store.steampowered.com/search/?term=Blink and Die\n",
      "-----------------------------------------------\n",
      "not same game\n",
      "STEAM: Swapette Showdown\n",
      "Google: Swapette\n",
      "https://store.steampowered.com/search/?term=Swapette\n",
      "-----------------------------------------------\n",
      "not same game\n",
      "STEAM: ARC Raiders\n",
      "Google: Raiders\n",
      "https://store.steampowered.com/search/?term=Raiders\n",
      "-----------------------------------------------\n",
      "No Game Found\n",
      "STEAM: ARC Raiders\n",
      "Google: Uta no purinsusama: Dolce Vita\n",
      "https://store.steampowered.com/search/?term=Uta no purinsusama: Dolce Vita\n",
      "-----------------------------------------------\n",
      "No Game Found\n",
      "STEAM: Mina the Hollower\n",
      "Google: Mina the Hollower\n",
      "https://store.steampowered.com/search/?term=Mina the Hollower\n",
      "-----------------------------------------------\n",
      "No Game Found\n",
      "STEAM: Neon Sword\n",
      "Google: Neon Sword\n",
      "https://store.steampowered.com/search/?term=Neon Sword\n",
      "-----------------------------------------------\n",
      "not same game\n",
      "STEAM: BlackJack Math\n",
      "Google: Black 21 Jack\n",
      "https://store.steampowered.com/search/?term=Black 21 Jack\n",
      "-----------------------------------------------\n",
      "Same Year\n",
      "Steam: 2023\n",
      "Google: 2023\n",
      "STEAM: One Way Road\n",
      "Google: One Way Road\n",
      "https://store.steampowered.com/search/?term=One Way Road\n",
      "-----------------------------------------------\n",
      "not same game\n",
      "STEAM: Salsa-Virtual\n",
      "\n",
      "VR Only\n",
      "Google: Androcks: Virtual Start Back\n",
      "https://store.steampowered.com/search/?term=Androcks: Virtual Start Back\n",
      "-----------------------------------------------\n",
      "not same game\n",
      "STEAM: STAR WARS: Squadrons\n",
      "\n",
      "VR Supported\n",
      "Google: Moon Wars\n",
      "https://store.steampowered.com/search/?term=Moon Wars\n",
      "-----------------------------------------------\n",
      "not same game\n",
      "STEAM: Wraiths of SENTINEL\n",
      "Google: Agents of S.H.E.L.L.\n",
      "https://store.steampowered.com/search/?term=Agents of S.H.E.L.L.\n",
      "-----------------------------------------------\n",
      "not same game\n",
      "STEAM: Summum Aeterna\n",
      "Google: Speak Easy Draw Poker\n",
      "https://store.steampowered.com/search/?term=Speak Easy Draw Poker\n",
      "-----------------------------------------------\n",
      "not same game\n",
      "STEAM: Stellaris\n",
      "Google: Engine Defender\n",
      "https://store.steampowered.com/search/?term=Engine Defender\n",
      "-----------------------------------------------\n",
      "No Game Found\n",
      "STEAM: The Alters\n",
      "Google: The Alters\n",
      "https://store.steampowered.com/search/?term=The Alters\n",
      "-----------------------------------------------\n",
      "Changed Date successfully\n",
      "Steam: 2020\n",
      "Google: 1962\n",
      "STEAM: Space Wars\n",
      "Google: Space Wars\n",
      "https://store.steampowered.com/search/?term=Space Wars\n",
      "-----------------------------------------------\n",
      "No Game Found\n",
      "STEAM: Space Wars\n",
      "Google: June Funkin\n",
      "https://store.steampowered.com/search/?term=June Funkin\n",
      "-----------------------------------------------\n",
      "not same game\n",
      "STEAM: #SelfieTennis\n",
      "\n",
      "VR Only\n",
      "Google: Knock-Ball\n",
      "https://store.steampowered.com/search/?term=Knock-Ball\n",
      "-----------------------------------------------\n",
      "not same game\n",
      "STEAM: Anxious Suffering in the Forest\n",
      "Google: Anxious\n",
      "https://store.steampowered.com/search/?term=Anxious\n",
      "-----------------------------------------------\n",
      "No Game Found\n",
      "STEAM: Anxious Suffering in the Forest\n",
      "Google: Jayanta Ghadei\n",
      "https://store.steampowered.com/search/?term=Jayanta Ghadei\n",
      "-----------------------------------------------\n",
      "Same Year\n",
      "Steam: 2023\n",
      "Google: 2023\n",
      "STEAM: Dirty Wars: September 11\n",
      "Google: Dirty Wars: September 11\n",
      "https://store.steampowered.com/search/?term=Dirty Wars: September 11\n",
      "-----------------------------------------------\n"
     ]
    },
    {
     "name": "stdout",
     "output_type": "stream",
     "text": [
      "not same game\n",
      "STEAM: The Ditzy Demons Are in Love With Me\n",
      "Google: In Lukewarm Blood\n",
      "https://store.steampowered.com/search/?term=In Lukewarm Blood\n",
      "-----------------------------------------------\n",
      "No Game Found\n",
      "STEAM: The Ditzy Demons Are in Love With Me\n",
      "Google: The Louisa Williamson Hutchison Collection: ULV Cultural & Natural History Collections\n",
      "https://store.steampowered.com/search/?term=The Louisa Williamson Hutchison Collection: ULV Cultural & Natural History Collections\n",
      "-----------------------------------------------\n",
      "No Game Found\n",
      "STEAM: The Ditzy Demons Are in Love With Me\n",
      "Google: Prisionero de Oubliette (Realidad Virtual)\n",
      "https://store.steampowered.com/search/?term=Prisionero de Oubliette (Realidad Virtual)\n",
      "-----------------------------------------------\n",
      "No Game Found\n",
      "STEAM: The Ditzy Demons Are in Love With Me\n",
      "Google: SimpliZoo\n",
      "https://store.steampowered.com/search/?term=SimpliZoo\n",
      "-----------------------------------------------\n",
      "not same game\n",
      "STEAM: DOA\n",
      "Google: Dead on Arrival\n",
      "https://store.steampowered.com/search/?term=Dead on Arrival\n",
      "-----------------------------------------------\n",
      "not same game\n",
      "STEAM: Jacks or Better - Video Poker\n",
      "Google: Jacks or Better\n",
      "https://store.steampowered.com/search/?term=Jacks or Better\n",
      "-----------------------------------------------\n",
      "not same game\n",
      "STEAM: Vampire: The Masquerade - Shadows of New York\n",
      "Google: The Crimes of New York City\n",
      "https://store.steampowered.com/search/?term=The Crimes of New York City\n",
      "-----------------------------------------------\n",
      "No Game Found\n",
      "STEAM: The Chase\n",
      "Google: The Chase\n",
      "https://store.steampowered.com/search/?term=The Chase\n",
      "-----------------------------------------------\n",
      "not same game\n",
      "STEAM: Ion Fury\n",
      "Google: Ion\n",
      "https://store.steampowered.com/search/?term=Ion\n",
      "-----------------------------------------------\n",
      "not same game\n",
      "STEAM: Dead by Daylight - The Saw Chapter\n",
      "Google: Never Say Die\n",
      "https://store.steampowered.com/search/?term=Never Say Die\n",
      "-----------------------------------------------\n",
      "Same Year\n",
      "Steam: 2023\n",
      "Google: 2023\n",
      "STEAM: DEVIL'S LIMINAL\n",
      "Google: Devil's Liminal\n",
      "https://store.steampowered.com/search/?term=Devil's Liminal\n",
      "-----------------------------------------------\n"
     ]
    }
   ],
   "source": [
    "d = {}\n",
    "\n",
    "for i in range(len(df1[\"title\"].loc[df1[\"release_date\"] == 0])):\n",
    "    game_name = wrong_data_combined[i][1]\n",
    "    searchterm = game_name # edit me\n",
    "\n",
    "    url = r\"https://store.steampowered.com/search/?term=\" + searchterm #will put what I want to search after q=\n",
    "    driver = webdriver.Chrome()\n",
    "    driver.get(url)\n",
    "    content = driver.page_source.encode('utf-8').strip()\n",
    "    soup = BeautifulSoup(content,\"html.parser\")\n",
    "    \n",
    "    #will be used downwards to find if the year that steam  souped is equal to year found by google\n",
    "    int_index = int(wrong_data_combined[i][0])\n",
    "    \n",
    "    \n",
    "    try:\n",
    "        #special characters that need to be removed from the game title\n",
    "        special_characters = [\"™\", \"®\"]\n",
    "        \n",
    "        #going to soup the name of the first title that pops to see if the souped game is the same game from the dataframe or not\n",
    "        game_souped_name = soup.find(\"div\", class_=\"col search_name ellipsis\").text.strip()\n",
    "        \n",
    "        #removes any special characters if needed\n",
    "        for character in special_characters:\n",
    "            game_souped_name = game_souped_name.replace(character, \"\")\n",
    "        \n",
    "        if game_souped_name.lower() == (wrong_date_title[i]).lower():\n",
    "            unfiltered_game_year = soup.find(\"div\", class_=\"search_released\").text.strip()\n",
    "            unfiltered_years_list = re.findall('\\d+', unfiltered_game_year)\n",
    "\n",
    "            #changes the values inside list into integers\n",
    "            for i in range(len(unfiltered_years_list)):\n",
    "                unfiltered_years_list[i] = int(unfiltered_years_list[i])\n",
    "\n",
    "            #filters numbers between 1930\n",
    "            for k in range(10):\n",
    "                for j in unfiltered_years_list:\n",
    "                    if j < 1930:\n",
    "                        unfiltered_years_list.remove(j)\n",
    "            game_year = unfiltered_years_list\n",
    "\n",
    "            #if year found by steam is equal to year found by google, do nothing\n",
    "            if game_year[0] == googled_df[\"release_date\"][int_index]:\n",
    "                print(\"Same Year\")\n",
    "\n",
    "            #if year found by steam isnt the same found by google, replace the google one with the \n",
    "            else:\n",
    "                print(\"Changed Date successfully\")\n",
    "                final_df[\"release_date\"].iloc[int_index] = game_year[0]\n",
    "\n",
    "            print(f\"Steam: {game_year[0]}\")\n",
    "            print(f\"Google: {googled_df['release_date'][int_index]}\")\n",
    "\n",
    "        #if it does not share the same title, it isnt the same game\n",
    "        else:\n",
    "            print(\"not same game\")\n",
    "\n",
    "        print(f\"STEAM: {game_souped_name}\")\n",
    "        print(f\"Google: {googled_df['title'][int_index]}\")\n",
    "        print(url)\n",
    "    \n",
    "    except:\n",
    "        print(\"No Game Found\")\n",
    "        print(f\"STEAM: {game_souped_name}\")\n",
    "        print(f\"Google: {googled_df['title'][int_index]}\")\n",
    "        print(url)\n",
    "\n",
    "        \n",
    "        \n",
    "    print(\"-----------------------------------------------\")"
   ]
  },
  {
   "cell_type": "code",
   "execution_count": null,
   "id": "7c7d0407",
   "metadata": {},
   "outputs": [],
   "source": [
    "# Save CSV after using Steam for cleaning the release_date\n",
    "final_df.to_csv('CSVs/4) finalReleaseDateCleaned.csv', index=False)"
   ]
  },
  {
   "cell_type": "code",
   "execution_count": 7,
   "id": "c7590220",
   "metadata": {},
   "outputs": [],
   "source": [
    "final_df = pd.read_csv(\"CSVs/4) finalReleaseDateCleaned.csv\")"
   ]
  },
  {
   "cell_type": "code",
   "execution_count": 8,
   "id": "53509cf7",
   "metadata": {},
   "outputs": [
    {
     "name": "stdout",
     "output_type": "stream",
     "text": [
      "Length: 269\n",
      "\n",
      "[['14427' 'Beyond Good & Evil 2']\n",
      " ['14466' 'Hellraid']\n",
      " ['14483' 'Prince of Persia: The Sands of Time Remake']\n",
      " ['14504' 'Judas']\n",
      " ['14511' 'Ascension Chronicles: Spheres of Influence']\n",
      " ['14533' 'MegaRace: DeathMatch']\n",
      " ['14748' 'I Married a Monster on a Hill']\n",
      " ['14756' \"Assassin's Creed: Codename Red\"]\n",
      " ['14783' 'EXP: War Trauma']\n",
      " ['14826' \"Camp's Not Dead\"]\n",
      " ['14848' 'The Witcher Remake']\n",
      " ['14939' 'Little Devil Inside']\n",
      " ['15176' 'EyesOnly - TopSecret']\n",
      " ['15380' 'Doragonbôru Z: Sparking! 4']\n",
      " ['15414' 'Avowed']\n",
      " ['15488' 'Text Me Back']\n",
      " ['15519' 'Echoes of the End']\n",
      " ['15635' 'Fiona Frightening and the Wicked Wardrobe']\n",
      " ['15763' 'Fuzzy Gets a House']\n",
      " ['15787' 'Enenra']\n",
      " ['15820' 'Where Winds Meet']\n",
      " ['15853' 'PixelWave Island']\n",
      " ['15874' 'Quest Failed - Chapter Two']\n",
      " ['15933' 'My Eyes on You']\n",
      " ['15945' 'Rat Race']\n",
      " ['15953' 'Last Days of Snow']\n",
      " ['16256' 'Brassheart']\n",
      " ['16348'\n",
      "  \"Jamjam'n Jelly - The nonsensical, high tactical, 110% cute em up.\"]\n",
      " ['16515' 'Liquidation - Echoes of the Past']\n",
      " ['16518' 'LunHour']\n",
      " ['16584' 'Off the Grid: Bad Dream']\n",
      " ['16618' 'Faceless']\n",
      " ['16627' 'Synduality']\n",
      " ['16816' 'Crimson Sunrise']\n",
      " ['16875' 'Thirsty Suitors']\n",
      " ['17125' 'Atrocity: Field of Hands']\n",
      " ['17159' \"Norse Noir: Loki's Exile, Chapter I\"]\n",
      " ['17267' 'Fable Hills: Guardian Adventures']\n",
      " ['17336' 'WinterOver']\n",
      " ['17500' 'Spring Breeze']\n",
      " ['17529' 'Different Galaxy']\n",
      " ['17593' 'Midli']\n",
      " ['17911' 'Danger Track']\n",
      " ['18348' 'Word Builder']\n",
      " ['18460' 'Half-Life: Remnants']\n",
      " ['18513' 'Skullstone']\n",
      " ['18523' 'Pigeon Simulator']\n",
      " ['18525' 'Bingo Time']\n",
      " ['18578' 'Hearts of Violet']\n",
      " ['18629' 'Fear Interactive: Deadwood']\n",
      " ['18822' 'Where Winter Crows Go']\n",
      " ['18874' 'Blight: The Stillman Legacy']\n",
      " ['18968' 'Meister High']\n",
      " ['19141' 'Ivy Likes Stories']\n",
      " ['19370' 'Astral Hound']\n",
      " ['19482' 'Adventure Thru 8-Bit Land']\n",
      " ['19501' 'Tangible Utopias']\n",
      " ['19536' 'Super Quadruple Dominos']\n",
      " ['19545' 'Wheetago War VR']\n",
      " ['19920' 'Death Cycle: Xbox 360']\n",
      " ['19935' 'PsychoDive']\n",
      " ['20116' 'My Dear Delirium']\n",
      " ['20235' 'Scuffle Royale']\n",
      " ['20277' 'Ondadaad']\n",
      " ['20333' 'Project Tingler']\n",
      " ['20386' 'Wayholm']\n",
      " ['20423' \"An Otaku's Guide to Santa's Reindeer\"]\n",
      " ['20453' 'The Silver Lining: Episode 5 - A Thousand Times Goodnight']\n",
      " ['20634' 'Microcandy']\n",
      " ['20711' 'Tornuktu']\n",
      " ['20723' 'Live on: The Astray Message']\n",
      " ['20736' 'Noraut Deluxe Poker']\n",
      " ['20796' 'The Trillium Horrors: Frostbitten']\n",
      " ['20818' 'Malzak']\n",
      " ['20825' 'Aeryn: Nightmares of Fau']\n",
      " ['20833' 'Deception of My Mind']\n",
      " ['20978' 'Billy Saves the World']\n",
      " ['20991' 'The Vortex Adventures']\n",
      " ['21009' 'The Alone']\n",
      " ['21052' 'Death Cycle: Xbox 360']\n",
      " ['21055' 'Samurai Unicorn']\n",
      " ['21061' 'Draw Poker Superstar']\n",
      " ['21072' 'Glory']\n",
      " ['21095' 'Atmorria: The Book of Dev']\n",
      " ['21100' 'Sinister Within']\n",
      " ['21112' 'Masternever and the Flow of Death']\n",
      " ['21129' 'WordTrap Dungeon']\n",
      " ['21259' 'Umboo']\n",
      " ['21349' 'Justice in Unity: Redux']\n",
      " ['21415' 'Renovatio']\n",
      " ['21429' 'Bearwood Park']\n",
      " ['21434' 'Kingdom Kitty']\n",
      " ['21600' 'Orbisia']\n",
      " ['21710' '3-4-5 Bingo']\n",
      " ['21754' 'Cherry Bonus II']\n",
      " ['22007' 'UBI Cocktail Table']\n",
      " ['22031' 'Double Joker Poker']\n",
      " ['22039' 'Nasal & Co.']\n",
      " ['22050' 'Hi-Lo 8 Lines']\n",
      " ['22167' 'Badge']\n",
      " ['22304' 'High Score']\n",
      " ['22474' 'Fruity Pebbles Beach Break']\n",
      " ['22508' 'Hank Drowning on Dry Land']\n",
      " ['22565' 'Planetaria Concursus']\n",
      " ['22596' 'Math Flashcards']\n",
      " ['22714' 'Cherry Chance']\n",
      " ['23101' 'Joker Poker']\n",
      " ['23129' 'Fun World Quiz']\n",
      " ['23158' '7 e mezzo']\n",
      " ['23191' 'Pro Soccer - Pro Tennis']\n",
      " ['23202' 'The Great Outdoors']\n",
      " ['23209' 'Gates of Mirnah']\n",
      " ['23404' 'NarKarma EngineA']\n",
      " ['23523' 'The Shadow Clubs']\n",
      " ['23561' 'Pilgrimage-Shinshin Dojo']\n",
      " ['23722' 'Treasurenauts']\n",
      " ['23799' 'Fourcourt - TV Halgame']\n",
      " ['23874' 'Truco-Tron']\n",
      " ['23875' 'Frozen Colony']\n",
      " ['23888' 'Brink Universe Unlimited: Supernovaman']\n",
      " ['24016' 'Ready to Run']\n",
      " ['24031' 'Istrebiteli']\n",
      " ['24155' 'Hexian X']\n",
      " ['24167' 'Brain Quest: Multimedia - Grades 2 & 3']\n",
      " ['24219' 'Draw Poker Hi-Lo']\n",
      " ['24294' 'Perxor']\n",
      " ['24309' 'Dillingham']\n",
      " ['24337' 'Sacred Earth - Reverie']\n",
      " ['24417' 'Crosscraft and the Overcraft']\n",
      " ['24499' 'Eclipse: Both Sides of the Moon']\n",
      " ['24510' 'Koisuru ryuuousama']\n",
      " ['24619' 'Fun Casino II']\n",
      " ['24666' \"Mira's Tale\"]\n",
      " ['24740' 'Mamma VR']\n",
      " ['24744' 'Project Roo']\n",
      " ['24788' \"Waluigi's Warehouse\"]\n",
      " ['24830' 'Odonis Orphane']\n",
      " ['25172' 'Quiz Me on Drugs']\n",
      " ['25321' 'Gorebreaker']\n",
      " ['25358' 'Hiboka']\n",
      " ['25484' \"A Rocket's Intensity\"]\n",
      " ['25633' \"Drew's Deuces Wild\"]\n",
      " ['25894' 'Samer Hills']\n",
      " ['26192' 'Glowood']\n",
      " ['26217' 'Powerful the Game Episode 1']\n",
      " ['26279' 'Theme Park & Resorts Inspiration Series']\n",
      " ['26384' 'Vex-Ward (Mod)']\n",
      " ['26403' 'Amnesia: Fear in Hands']\n",
      " ['26440' 'Nasal']\n",
      " ['26513' 'Royal Derby']\n",
      " ['26519' \"She's (Kuntilanak)\"]\n",
      " ['26638' 'A Piano Tale']\n",
      " ['26659' 'AceSpeeder!']\n",
      " ['26688' 'Love, Ghostie']\n",
      " ['26701' 'Long Ago in the Near Future']\n",
      " ['26771' 'Joker Poker 54']\n",
      " ['26804' 'The Black Wedding']\n",
      " ['26941' 'Paddle Derby']\n",
      " ['27019' 'Tri-City RP']\n",
      " ['27077' 'Age of Aincrad']\n",
      " ['27099' 'Fighting Boxer']\n",
      " ['27189' 'Apophis (Corrupt Yourself)']\n",
      " ['27229' 'Skill Stop']\n",
      " ['27314' 'The Yakyuuken Part 3']\n",
      " ['27362' 'Eeekk!']\n",
      " ['27492' 'DropCore']\n",
      " ['27524' 'The Night He Came Home']\n",
      " ['27608' 'Kot-rybolov']\n",
      " ['27625' 'Katyusha']\n",
      " ['27686' 'Farhangeirani']\n",
      " ['27718' 'Ombudsman']\n",
      " ['27736' 'Fruity Pebbles Spy Caper']\n",
      " ['27804' 'Sebring']\n",
      " ['27883' 'Starship Simulator']\n",
      " ['27890' 'S.T.A.R.S. Delta Lift Off']\n",
      " ['27978' 'M']\n",
      " ['28004' 'Contraband']\n",
      " ['28165' 'Robot: Colony 25']\n",
      " ['28298' 'Camera 6']\n",
      " ['28356' 'EverQuest Next']\n",
      " ['28442' 'Recovered Operations']\n",
      " ['28472' 'Without Memory']\n",
      " ['28549' 'Planet Michael']\n",
      " ['28597' 'Sensiz Olamam']\n",
      " ['28621' 'Picalette']\n",
      " ['28721' 'Wild Double Up II']\n",
      " ['28794' 'Flipped - The Game']\n",
      " ['28965' 'Kotigoroshko']\n",
      " ['28976' 'Fun-Joke']\n",
      " ['29109' 'Starlite: Defender of Justice']\n",
      " ['29138' 'Major Poker']\n",
      " ['29159' \"Little Magic Books: Knock, Knock! Who's on My Block?\"]\n",
      " ['29215' 'T.V. 5-Card Poker']\n",
      " ['29217' 'Into Sominia: A Project']\n",
      " ['29228' 'AceSpeeder3']\n",
      " ['29246' 'Ostrov drakona']\n",
      " ['29269' 'The Projects']\n",
      " ['29423' 'Fish Cymophis']\n",
      " ['29439' 'Exava']\n",
      " ['29539' 'Dynamic-Dice']\n",
      " ['29583' 'VHi Draw Poker']\n",
      " ['29767' 'Operation Stabilization: Revived']\n",
      " ['30022' 'Astropal']\n",
      " ['30054' 'Vidar: The RPG Where Everyone Dies']\n",
      " ['30101' 'Super Bonus Deluxe']\n",
      " ['30205' 'Penny Blood']\n",
      " ['30248' 'Tennis']\n",
      " ['30284' 'Romar Triv']\n",
      " ['30306' 'Snapped']\n",
      " ['30312' 'Lucky 8']\n",
      " ['30315' 'Asterion']\n",
      " ['30337' 'Telekick']\n",
      " ['30342' 'Wham Bam + 2']\n",
      " ['30389' 'AceSpeeder2']\n",
      " ['30457' 'Reading']\n",
      " ['30539' 'Squidy and Em Roblox Adventures']\n",
      " ['30542' 'Viking HIIT VR Experience']\n",
      " ['30608' 'A Little Less Desperation']\n",
      " ['30690' 'Special Break']\n",
      " ['30744' 'Zvezdnyi rytsar']\n",
      " ['30800' 'Natsu Shojo']\n",
      " ['30906' 'Exanimate Sea']\n",
      " ['30934' 'Iris Burning']\n",
      " ['31134' 'Bank Robbers by Impostered Legends']\n",
      " ['31277' 'Death of Rose']\n",
      " ['31283' 'Royal Poker']\n",
      " ['31338' 'Le Grand Champs']\n",
      " ['31347' 'Spell It 2']\n",
      " ['31406' 'Jacks a Pair']\n",
      " ['31428' 'Avtogonki']\n",
      " ['31505' 'Bao-Diversity']\n",
      " ['31512' 'U55: End of the Line']\n",
      " ['31516' 'Lucky 8 Lines']\n",
      " ['31584' 'Dead Life Necrodevils']\n",
      " ['31633' 'Video Gold']\n",
      " ['31648' \"Kyle Rittenhouse's Turkey Shoot\"]\n",
      " ['31683' 'Bust My Balloons']\n",
      " ['31910' 'Coreborn: Nations of the Ultracore']\n",
      " ['31935' 'White Heaven']\n",
      " ['31967' 'The Princess and the Paintbrush']\n",
      " ['32012' 'Table Tennis II']\n",
      " ['32015' 'Neolithic']\n",
      " ['32036' 'The Baptized']\n",
      " ['32049' 'Young Johnathon']\n",
      " ['32088' 'Wayward Rose']\n",
      " ['32128' 'Bump']\n",
      " ['32155' 'Triagat']\n",
      " ['32222' 'Adventure']\n",
      " ['32355' \"Peblo's Pixel Paradise\"]\n",
      " ['32383' 'Cairo: Building Humanity']\n",
      " ['32509' 'Shadow Dreams: The Last Thought of Hope']\n",
      " ['32555' 'Swapette']\n",
      " ['32588' 'Uta no purinsusama: Dolce Vita']\n",
      " ['32672' 'Neon Sword']\n",
      " ['32696' 'Black 21 Jack']\n",
      " ['32757' 'Androcks: Virtual Start Back']\n",
      " ['32774' 'Agents of S.H.E.L.L.']\n",
      " ['32860' 'Speak Easy Draw Poker']\n",
      " ['32928' 'The Alters']\n",
      " ['32951' 'June Funkin']\n",
      " ['33004' 'Knock-Ball']\n",
      " ['33055' 'Jayanta Ghadei']\n",
      " ['33086' 'In Lukewarm Blood']\n",
      " ['33170'\n",
      "  'The Louisa Williamson Hutchison Collection: ULV Cultural & Natural History Collections']\n",
      " ['33203' 'Prisionero de Oubliette (Realidad Virtual)']\n",
      " ['33330' 'Dead on Arrival']\n",
      " ['33332' 'Jacks or Better']\n",
      " ['33364' 'The Chase']\n",
      " ['33437' 'Never Say Die']]\n"
     ]
    }
   ],
   "source": [
    "#Check what data is still wrong\n",
    "wrong_date_index = np.array(list(final_df.index[final_df[\"release_date\"] == 0]))\n",
    "#gets title of wrong date data\n",
    "wrong_date_title = np.array(list(final_df[\"title\"].loc[final_df[\"release_date\"] == 0]))\n",
    "\n",
    "#puts index besides the name of game\n",
    "wrong_data_combined = np.stack((wrong_date_index, wrong_date_title), axis=1)\n",
    "\n",
    "print(f\"Length: {len(wrong_data_combined)}\")\n",
    "print()\n",
    "print(wrong_data_combined)"
   ]
  },
  {
   "cell_type": "markdown",
   "id": "1c7adefe",
   "metadata": {},
   "source": [
    "<b> Just going to Delete the rest of the incorrect data as most of them are unreleased games or games I cant scrap from Google or Steam"
   ]
  },
  {
   "cell_type": "code",
   "execution_count": 21,
   "id": "fc325d15",
   "metadata": {},
   "outputs": [
    {
     "name": "stdout",
     "output_type": "stream",
     "text": [
      "done\n"
     ]
    }
   ],
   "source": [
    "for i in range(len(wrong_date_index)):\n",
    "    final_df = final_df.drop(wrong_date_index[i])\n",
    "print(\"done\")"
   ]
  },
  {
   "cell_type": "code",
   "execution_count": 23,
   "id": "27d631d7",
   "metadata": {},
   "outputs": [
    {
     "name": "stdout",
     "output_type": "stream",
     "text": [
      "Length: 0\n",
      "\n",
      "[]\n"
     ]
    }
   ],
   "source": [
    "#check if the data is still there\n",
    "wrong_date_index = np.array(list(final_df.index[final_df[\"release_date\"] == 0]))\n",
    "#gets title of wrong date data\n",
    "wrong_date_title = np.array(list(final_df[\"title\"].loc[final_df[\"release_date\"] == 0]))\n",
    "\n",
    "#puts index besides the name of game\n",
    "wrong_data_combined = np.stack((wrong_date_index, wrong_date_title), axis=1)\n",
    "\n",
    "print(f\"Length: {len(wrong_data_combined)}\")\n",
    "print()\n",
    "print(wrong_data_combined)"
   ]
  },
  {
   "cell_type": "code",
   "execution_count": 24,
   "id": "e480f87d",
   "metadata": {},
   "outputs": [],
   "source": [
    "#replace old finalReleaseDateCleaned.csv with wrong data to the new one\n",
    "final_df.to_csv('CSVs/4) finalReleaseDateCleaned.csv', index=False)"
   ]
  },
  {
   "cell_type": "markdown",
   "id": "ac2588df",
   "metadata": {},
   "source": [
    "<b> a again: forgot to check for duplicated titles so I will do it now"
   ]
  },
  {
   "cell_type": "code",
   "execution_count": 70,
   "id": "bdae7c81",
   "metadata": {},
   "outputs": [],
   "source": [
    "df = pd.read_csv(\"CSVs/4) finalReleaseDateCleaned.csv\")"
   ]
  },
  {
   "cell_type": "code",
   "execution_count": 71,
   "id": "2be1921e",
   "metadata": {},
   "outputs": [
    {
     "data": {
      "text/html": [
       "<div>\n",
       "<style scoped>\n",
       "    .dataframe tbody tr th:only-of-type {\n",
       "        vertical-align: middle;\n",
       "    }\n",
       "\n",
       "    .dataframe tbody tr th {\n",
       "        vertical-align: top;\n",
       "    }\n",
       "\n",
       "    .dataframe thead th {\n",
       "        text-align: right;\n",
       "    }\n",
       "</style>\n",
       "<table border=\"1\" class=\"dataframe\">\n",
       "  <thead>\n",
       "    <tr style=\"text-align: right;\">\n",
       "      <th></th>\n",
       "      <th>title</th>\n",
       "      <th>release_date</th>\n",
       "      <th>maturity_rating</th>\n",
       "      <th>genre</th>\n",
       "      <th>rating</th>\n",
       "      <th>directors</th>\n",
       "      <th>stars</th>\n",
       "      <th>votes</th>\n",
       "    </tr>\n",
       "  </thead>\n",
       "  <tbody>\n",
       "    <tr>\n",
       "      <th>16554</th>\n",
       "      <td>Basketball Legends</td>\n",
       "      <td>2021</td>\n",
       "      <td>NaN</td>\n",
       "      <td>['Action' ' Adventure' ' Game-Show']</td>\n",
       "      <td>0.0</td>\n",
       "      <td>['Jordan Wilson']</td>\n",
       "      <td>['Jords Iii' ' Jordan Wilson']</td>\n",
       "      <td>0</td>\n",
       "    </tr>\n",
       "    <tr>\n",
       "      <th>19826</th>\n",
       "      <td>Tele-Sports</td>\n",
       "      <td>1977</td>\n",
       "      <td>NaN</td>\n",
       "      <td>Sport</td>\n",
       "      <td>0.0</td>\n",
       "      <td>NaN</td>\n",
       "      <td>NaN</td>\n",
       "      <td>0</td>\n",
       "    </tr>\n",
       "    <tr>\n",
       "      <th>21810</th>\n",
       "      <td>TV Game</td>\n",
       "      <td>1976</td>\n",
       "      <td>NaN</td>\n",
       "      <td>Sport</td>\n",
       "      <td>0.0</td>\n",
       "      <td>NaN</td>\n",
       "      <td>NaN</td>\n",
       "      <td>0</td>\n",
       "    </tr>\n",
       "    <tr>\n",
       "      <th>22197</th>\n",
       "      <td>Mahjong: The Ladyhunter - Kaitô Kuroneko Renme...</td>\n",
       "      <td>1990</td>\n",
       "      <td>NaN</td>\n",
       "      <td>NaN</td>\n",
       "      <td>0.0</td>\n",
       "      <td>NaN</td>\n",
       "      <td>NaN</td>\n",
       "      <td>0</td>\n",
       "    </tr>\n",
       "    <tr>\n",
       "      <th>22937</th>\n",
       "      <td>Draw Poker</td>\n",
       "      <td>1982</td>\n",
       "      <td>NaN</td>\n",
       "      <td>NaN</td>\n",
       "      <td>0.0</td>\n",
       "      <td>NaN</td>\n",
       "      <td>NaN</td>\n",
       "      <td>0</td>\n",
       "    </tr>\n",
       "    <tr>\n",
       "      <th>24210</th>\n",
       "      <td>Last Action Hero</td>\n",
       "      <td>1994</td>\n",
       "      <td>NaN</td>\n",
       "      <td>Action</td>\n",
       "      <td>0.0</td>\n",
       "      <td>NaN</td>\n",
       "      <td>NaN</td>\n",
       "      <td>0</td>\n",
       "    </tr>\n",
       "    <tr>\n",
       "      <th>25038</th>\n",
       "      <td>Draw Poker</td>\n",
       "      <td>1982</td>\n",
       "      <td>NaN</td>\n",
       "      <td>NaN</td>\n",
       "      <td>0.0</td>\n",
       "      <td>NaN</td>\n",
       "      <td>NaN</td>\n",
       "      <td>0</td>\n",
       "    </tr>\n",
       "    <tr>\n",
       "      <th>25464</th>\n",
       "      <td>Strike Mission</td>\n",
       "      <td>1984</td>\n",
       "      <td>NaN</td>\n",
       "      <td>Action</td>\n",
       "      <td>0.0</td>\n",
       "      <td>NaN</td>\n",
       "      <td>NaN</td>\n",
       "      <td>0</td>\n",
       "    </tr>\n",
       "    <tr>\n",
       "      <th>26167</th>\n",
       "      <td>Draw Poker</td>\n",
       "      <td>1982</td>\n",
       "      <td>NaN</td>\n",
       "      <td>NaN</td>\n",
       "      <td>0.0</td>\n",
       "      <td>NaN</td>\n",
       "      <td>NaN</td>\n",
       "      <td>0</td>\n",
       "    </tr>\n",
       "    <tr>\n",
       "      <th>26240</th>\n",
       "      <td>Video Sports</td>\n",
       "      <td>1976</td>\n",
       "      <td>NaN</td>\n",
       "      <td>Sport</td>\n",
       "      <td>0.0</td>\n",
       "      <td>NaN</td>\n",
       "      <td>NaN</td>\n",
       "      <td>0</td>\n",
       "    </tr>\n",
       "    <tr>\n",
       "      <th>26452</th>\n",
       "      <td>Draw Poker</td>\n",
       "      <td>1983</td>\n",
       "      <td>NaN</td>\n",
       "      <td>NaN</td>\n",
       "      <td>0.0</td>\n",
       "      <td>NaN</td>\n",
       "      <td>NaN</td>\n",
       "      <td>0</td>\n",
       "    </tr>\n",
       "    <tr>\n",
       "      <th>26490</th>\n",
       "      <td>Video Sports</td>\n",
       "      <td>1977</td>\n",
       "      <td>NaN</td>\n",
       "      <td>Sport</td>\n",
       "      <td>0.0</td>\n",
       "      <td>NaN</td>\n",
       "      <td>NaN</td>\n",
       "      <td>0</td>\n",
       "    </tr>\n",
       "    <tr>\n",
       "      <th>28679</th>\n",
       "      <td>Black Jack</td>\n",
       "      <td>1985</td>\n",
       "      <td>NaN</td>\n",
       "      <td>NaN</td>\n",
       "      <td>0.0</td>\n",
       "      <td>NaN</td>\n",
       "      <td>NaN</td>\n",
       "      <td>0</td>\n",
       "    </tr>\n",
       "    <tr>\n",
       "      <th>28863</th>\n",
       "      <td>Pool Live Tour</td>\n",
       "      <td>2009</td>\n",
       "      <td>NaN</td>\n",
       "      <td>Sport</td>\n",
       "      <td>0.0</td>\n",
       "      <td>NaN</td>\n",
       "      <td>NaN</td>\n",
       "      <td>0</td>\n",
       "    </tr>\n",
       "    <tr>\n",
       "      <th>29330</th>\n",
       "      <td>Slap Shooter</td>\n",
       "      <td>1986</td>\n",
       "      <td>NaN</td>\n",
       "      <td>Sport</td>\n",
       "      <td>0.0</td>\n",
       "      <td>NaN</td>\n",
       "      <td>NaN</td>\n",
       "      <td>0</td>\n",
       "    </tr>\n",
       "    <tr>\n",
       "      <th>29528</th>\n",
       "      <td>TV Ping Pong</td>\n",
       "      <td>1973</td>\n",
       "      <td>NaN</td>\n",
       "      <td>Sport</td>\n",
       "      <td>0.0</td>\n",
       "      <td>NaN</td>\n",
       "      <td>NaN</td>\n",
       "      <td>0</td>\n",
       "    </tr>\n",
       "    <tr>\n",
       "      <th>30148</th>\n",
       "      <td>Game of Life</td>\n",
       "      <td>1977</td>\n",
       "      <td>NaN</td>\n",
       "      <td>Family</td>\n",
       "      <td>0.0</td>\n",
       "      <td>NaN</td>\n",
       "      <td>NaN</td>\n",
       "      <td>0</td>\n",
       "    </tr>\n",
       "    <tr>\n",
       "      <th>31094</th>\n",
       "      <td>Draw Poker</td>\n",
       "      <td>1982</td>\n",
       "      <td>NaN</td>\n",
       "      <td>NaN</td>\n",
       "      <td>0.0</td>\n",
       "      <td>NaN</td>\n",
       "      <td>NaN</td>\n",
       "      <td>0</td>\n",
       "    </tr>\n",
       "    <tr>\n",
       "      <th>31142</th>\n",
       "      <td>Mahjong: Triple Wars</td>\n",
       "      <td>1990</td>\n",
       "      <td>NaN</td>\n",
       "      <td>NaN</td>\n",
       "      <td>0.0</td>\n",
       "      <td>NaN</td>\n",
       "      <td>NaN</td>\n",
       "      <td>0</td>\n",
       "    </tr>\n",
       "    <tr>\n",
       "      <th>31789</th>\n",
       "      <td>Space Ship</td>\n",
       "      <td>1978</td>\n",
       "      <td>NaN</td>\n",
       "      <td>['Action' ' Sci-Fi']</td>\n",
       "      <td>0.0</td>\n",
       "      <td>NaN</td>\n",
       "      <td>NaN</td>\n",
       "      <td>0</td>\n",
       "    </tr>\n",
       "    <tr>\n",
       "      <th>31876</th>\n",
       "      <td>Baku Baku Animal</td>\n",
       "      <td>1995</td>\n",
       "      <td>NaN</td>\n",
       "      <td>Adventure</td>\n",
       "      <td>0.0</td>\n",
       "      <td>NaN</td>\n",
       "      <td>NaN</td>\n",
       "      <td>0</td>\n",
       "    </tr>\n",
       "    <tr>\n",
       "      <th>31913</th>\n",
       "      <td>Pachi to Monster</td>\n",
       "      <td>2016</td>\n",
       "      <td>NaN</td>\n",
       "      <td>Action</td>\n",
       "      <td>0.0</td>\n",
       "      <td>NaN</td>\n",
       "      <td>NaN</td>\n",
       "      <td>0</td>\n",
       "    </tr>\n",
       "    <tr>\n",
       "      <th>32019</th>\n",
       "      <td>Arsiz: Plan Degisti</td>\n",
       "      <td>2020</td>\n",
       "      <td>NaN</td>\n",
       "      <td>Music</td>\n",
       "      <td>0.0</td>\n",
       "      <td>NaN</td>\n",
       "      <td>['Taygun Sungar']</td>\n",
       "      <td>0</td>\n",
       "    </tr>\n",
       "    <tr>\n",
       "      <th>32071</th>\n",
       "      <td>Black Jack</td>\n",
       "      <td>1983</td>\n",
       "      <td>NaN</td>\n",
       "      <td>NaN</td>\n",
       "      <td>0.0</td>\n",
       "      <td>NaN</td>\n",
       "      <td>NaN</td>\n",
       "      <td>0</td>\n",
       "    </tr>\n",
       "    <tr>\n",
       "      <th>32397</th>\n",
       "      <td>3 Days</td>\n",
       "      <td>2014</td>\n",
       "      <td>NaN</td>\n",
       "      <td>Action</td>\n",
       "      <td>0.0</td>\n",
       "      <td>NaN</td>\n",
       "      <td>NaN</td>\n",
       "      <td>0</td>\n",
       "    </tr>\n",
       "    <tr>\n",
       "      <th>32460</th>\n",
       "      <td>Blackjack</td>\n",
       "      <td>1975</td>\n",
       "      <td>NaN</td>\n",
       "      <td>NaN</td>\n",
       "      <td>0.0</td>\n",
       "      <td>NaN</td>\n",
       "      <td>NaN</td>\n",
       "      <td>0</td>\n",
       "    </tr>\n",
       "    <tr>\n",
       "      <th>32685</th>\n",
       "      <td>Electronic TV Game</td>\n",
       "      <td>1977</td>\n",
       "      <td>NaN</td>\n",
       "      <td>Sport</td>\n",
       "      <td>0.0</td>\n",
       "      <td>NaN</td>\n",
       "      <td>NaN</td>\n",
       "      <td>0</td>\n",
       "    </tr>\n",
       "  </tbody>\n",
       "</table>\n",
       "</div>"
      ],
      "text/plain": [
       "                                                   title  release_date  \\\n",
       "16554                                 Basketball Legends          2021   \n",
       "19826                                        Tele-Sports          1977   \n",
       "21810                                            TV Game          1976   \n",
       "22197  Mahjong: The Ladyhunter - Kaitô Kuroneko Renme...          1990   \n",
       "22937                                         Draw Poker          1982   \n",
       "24210                                   Last Action Hero          1994   \n",
       "25038                                         Draw Poker          1982   \n",
       "25464                                     Strike Mission          1984   \n",
       "26167                                         Draw Poker          1982   \n",
       "26240                                       Video Sports          1976   \n",
       "26452                                         Draw Poker          1983   \n",
       "26490                                       Video Sports          1977   \n",
       "28679                                         Black Jack          1985   \n",
       "28863                                     Pool Live Tour          2009   \n",
       "29330                                       Slap Shooter          1986   \n",
       "29528                                       TV Ping Pong          1973   \n",
       "30148                                       Game of Life          1977   \n",
       "31094                                         Draw Poker          1982   \n",
       "31142                               Mahjong: Triple Wars          1990   \n",
       "31789                                         Space Ship          1978   \n",
       "31876                                   Baku Baku Animal          1995   \n",
       "31913                                   Pachi to Monster          2016   \n",
       "32019                                Arsiz: Plan Degisti          2020   \n",
       "32071                                         Black Jack          1983   \n",
       "32397                                             3 Days          2014   \n",
       "32460                                          Blackjack          1975   \n",
       "32685                                 Electronic TV Game          1977   \n",
       "\n",
       "      maturity_rating                                 genre  rating  \\\n",
       "16554             NaN  ['Action' ' Adventure' ' Game-Show']     0.0   \n",
       "19826             NaN                                 Sport     0.0   \n",
       "21810             NaN                                 Sport     0.0   \n",
       "22197             NaN                                   NaN     0.0   \n",
       "22937             NaN                                   NaN     0.0   \n",
       "24210             NaN                                Action     0.0   \n",
       "25038             NaN                                   NaN     0.0   \n",
       "25464             NaN                                Action     0.0   \n",
       "26167             NaN                                   NaN     0.0   \n",
       "26240             NaN                                 Sport     0.0   \n",
       "26452             NaN                                   NaN     0.0   \n",
       "26490             NaN                                 Sport     0.0   \n",
       "28679             NaN                                   NaN     0.0   \n",
       "28863             NaN                                 Sport     0.0   \n",
       "29330             NaN                                 Sport     0.0   \n",
       "29528             NaN                                 Sport     0.0   \n",
       "30148             NaN                                Family     0.0   \n",
       "31094             NaN                                   NaN     0.0   \n",
       "31142             NaN                                   NaN     0.0   \n",
       "31789             NaN                  ['Action' ' Sci-Fi']     0.0   \n",
       "31876             NaN                             Adventure     0.0   \n",
       "31913             NaN                                Action     0.0   \n",
       "32019             NaN                                 Music     0.0   \n",
       "32071             NaN                                   NaN     0.0   \n",
       "32397             NaN                                Action     0.0   \n",
       "32460             NaN                                   NaN     0.0   \n",
       "32685             NaN                                 Sport     0.0   \n",
       "\n",
       "               directors                           stars  votes  \n",
       "16554  ['Jordan Wilson']  ['Jords Iii' ' Jordan Wilson']      0  \n",
       "19826                NaN                             NaN      0  \n",
       "21810                NaN                             NaN      0  \n",
       "22197                NaN                             NaN      0  \n",
       "22937                NaN                             NaN      0  \n",
       "24210                NaN                             NaN      0  \n",
       "25038                NaN                             NaN      0  \n",
       "25464                NaN                             NaN      0  \n",
       "26167                NaN                             NaN      0  \n",
       "26240                NaN                             NaN      0  \n",
       "26452                NaN                             NaN      0  \n",
       "26490                NaN                             NaN      0  \n",
       "28679                NaN                             NaN      0  \n",
       "28863                NaN                             NaN      0  \n",
       "29330                NaN                             NaN      0  \n",
       "29528                NaN                             NaN      0  \n",
       "30148                NaN                             NaN      0  \n",
       "31094                NaN                             NaN      0  \n",
       "31142                NaN                             NaN      0  \n",
       "31789                NaN                             NaN      0  \n",
       "31876                NaN                             NaN      0  \n",
       "31913                NaN                             NaN      0  \n",
       "32019                NaN               ['Taygun Sungar']      0  \n",
       "32071                NaN                             NaN      0  \n",
       "32397                NaN                             NaN      0  \n",
       "32460                NaN                             NaN      0  \n",
       "32685                NaN                             NaN      0  "
      ]
     },
     "execution_count": 71,
     "metadata": {},
     "output_type": "execute_result"
    }
   ],
   "source": [
    "df.loc[df.duplicated(), :]"
   ]
  },
  {
   "cell_type": "code",
   "execution_count": 72,
   "id": "d83af32d",
   "metadata": {},
   "outputs": [],
   "source": [
    "df = df.drop_duplicates()"
   ]
  },
  {
   "cell_type": "code",
   "execution_count": 73,
   "id": "109147a6",
   "metadata": {},
   "outputs": [
    {
     "data": {
      "text/html": [
       "<div>\n",
       "<style scoped>\n",
       "    .dataframe tbody tr th:only-of-type {\n",
       "        vertical-align: middle;\n",
       "    }\n",
       "\n",
       "    .dataframe tbody tr th {\n",
       "        vertical-align: top;\n",
       "    }\n",
       "\n",
       "    .dataframe thead th {\n",
       "        text-align: right;\n",
       "    }\n",
       "</style>\n",
       "<table border=\"1\" class=\"dataframe\">\n",
       "  <thead>\n",
       "    <tr style=\"text-align: right;\">\n",
       "      <th></th>\n",
       "      <th>title</th>\n",
       "      <th>release_date</th>\n",
       "      <th>maturity_rating</th>\n",
       "      <th>genre</th>\n",
       "      <th>rating</th>\n",
       "      <th>directors</th>\n",
       "      <th>stars</th>\n",
       "      <th>votes</th>\n",
       "    </tr>\n",
       "  </thead>\n",
       "  <tbody>\n",
       "  </tbody>\n",
       "</table>\n",
       "</div>"
      ],
      "text/plain": [
       "Empty DataFrame\n",
       "Columns: [title, release_date, maturity_rating, genre, rating, directors, stars, votes]\n",
       "Index: []"
      ]
     },
     "execution_count": 73,
     "metadata": {},
     "output_type": "execute_result"
    }
   ],
   "source": [
    "#check if there is any duplication again\n",
    "df.loc[df.duplicated(), :]"
   ]
  },
  {
   "cell_type": "code",
   "execution_count": 77,
   "id": "0c6b83ef",
   "metadata": {},
   "outputs": [
    {
     "data": {
      "text/html": [
       "<div>\n",
       "<style scoped>\n",
       "    .dataframe tbody tr th:only-of-type {\n",
       "        vertical-align: middle;\n",
       "    }\n",
       "\n",
       "    .dataframe tbody tr th {\n",
       "        vertical-align: top;\n",
       "    }\n",
       "\n",
       "    .dataframe thead th {\n",
       "        text-align: right;\n",
       "    }\n",
       "</style>\n",
       "<table border=\"1\" class=\"dataframe\">\n",
       "  <thead>\n",
       "    <tr style=\"text-align: right;\">\n",
       "      <th></th>\n",
       "      <th>title</th>\n",
       "      <th>release_date</th>\n",
       "      <th>maturity_rating</th>\n",
       "      <th>genre</th>\n",
       "      <th>rating</th>\n",
       "      <th>directors</th>\n",
       "      <th>stars</th>\n",
       "      <th>votes</th>\n",
       "    </tr>\n",
       "  </thead>\n",
       "  <tbody>\n",
       "    <tr>\n",
       "      <th>15550</th>\n",
       "      <td>Basketball Legends</td>\n",
       "      <td>2021</td>\n",
       "      <td>NaN</td>\n",
       "      <td>['Action' ' Adventure' ' Game-Show']</td>\n",
       "      <td>0.0</td>\n",
       "      <td>['Jordan Wilson']</td>\n",
       "      <td>['Jords Iii' ' Jordan Wilson']</td>\n",
       "      <td>0</td>\n",
       "    </tr>\n",
       "  </tbody>\n",
       "</table>\n",
       "</div>"
      ],
      "text/plain": [
       "                    title  release_date maturity_rating  \\\n",
       "15550  Basketball Legends          2021             NaN   \n",
       "\n",
       "                                      genre  rating          directors  \\\n",
       "15550  ['Action' ' Adventure' ' Game-Show']     0.0  ['Jordan Wilson']   \n",
       "\n",
       "                                stars  votes  \n",
       "15550  ['Jords Iii' ' Jordan Wilson']      0  "
      ]
     },
     "execution_count": 77,
     "metadata": {},
     "output_type": "execute_result"
    }
   ],
   "source": [
    "df.loc[df['title'] == 'Basketball Legends']"
   ]
  },
  {
   "cell_type": "code",
   "execution_count": null,
   "id": "e01f469d",
   "metadata": {},
   "outputs": [],
   "source": []
  },
  {
   "cell_type": "code",
   "execution_count": null,
   "id": "d9bdaa49",
   "metadata": {},
   "outputs": [],
   "source": []
  },
  {
   "cell_type": "code",
   "execution_count": null,
   "id": "4c259481",
   "metadata": {},
   "outputs": [],
   "source": []
  },
  {
   "cell_type": "code",
   "execution_count": null,
   "id": "fafee8a4",
   "metadata": {},
   "outputs": [],
   "source": []
  },
  {
   "cell_type": "code",
   "execution_count": null,
   "id": "f4169c81",
   "metadata": {},
   "outputs": [],
   "source": []
  }
 ],
 "metadata": {
  "kernelspec": {
   "display_name": "Python 3 (ipykernel)",
   "language": "python",
   "name": "python3"
  },
  "language_info": {
   "codemirror_mode": {
    "name": "ipython",
    "version": 3
   },
   "file_extension": ".py",
   "mimetype": "text/x-python",
   "name": "python",
   "nbconvert_exporter": "python",
   "pygments_lexer": "ipython3",
   "version": "3.9.7"
  }
 },
 "nbformat": 4,
 "nbformat_minor": 5
}
